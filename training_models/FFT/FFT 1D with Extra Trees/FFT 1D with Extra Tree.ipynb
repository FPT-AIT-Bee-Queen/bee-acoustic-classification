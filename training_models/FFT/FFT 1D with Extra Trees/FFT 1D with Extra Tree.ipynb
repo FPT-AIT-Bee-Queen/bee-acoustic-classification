{
 "cells": [
  {
   "cell_type": "code",
   "execution_count": 1,
   "id": "30cf1ccf-0465-49be-a729-8999b8976408",
   "metadata": {
    "tags": []
   },
   "outputs": [],
   "source": [
    "import os\n",
    "import numpy as np\n",
    "from sklearn.ensemble import ExtraTreesClassifier\n",
    "import time\n",
    "from sklearn.metrics import accuracy_score, classification_report, confusion_matrix\n",
    "from sklearn.preprocessing import LabelEncoder, StandardScaler\n",
    "import seaborn as sns\n",
    "import matplotlib.pyplot as plt\n",
    "import pickle\n",
    "from sklearn.metrics import roc_curve, auc\n",
    "import pandas as pd"
   ]
  },
  {
   "cell_type": "code",
   "execution_count": 2,
   "id": "ffc29166-b8fd-4ddd-bbcb-70d41eb296e5",
   "metadata": {
    "tags": []
   },
   "outputs": [
    {
     "data": {
      "text/plain": [
       "'C:\\\\Users\\\\traan\\\\AIL Beesound Code\\\\15_8_23/new_fft_npa11/'"
      ]
     },
     "execution_count": 2,
     "metadata": {},
     "output_type": "execute_result"
    }
   ],
   "source": [
    "path = os.getcwd() + \"/new_fft_npa11/\"\n",
    "path"
   ]
  },
  {
   "cell_type": "code",
   "execution_count": 3,
   "id": "16cb8394-c472-4d04-ac47-1ea66edae5c5",
   "metadata": {
    "tags": []
   },
   "outputs": [],
   "source": [
    "TRAINING_DIR = path+\"/train\"\n",
    "VALIDATION_DIR = path + \"/val\"\n",
    "TEST_DIR = path + \"/test\""
   ]
  },
  {
   "cell_type": "code",
   "execution_count": 4,
   "id": "12cd3ec5-f48a-4076-9c38-fa2f21871f28",
   "metadata": {
    "tags": []
   },
   "outputs": [],
   "source": [
    "def data_loader(path):\n",
    "    X = []\n",
    "    y = []\n",
    "    for folder in os.listdir(path):\n",
    "        for file in os.listdir(os.path.join(path, folder)):\n",
    "            feature = np.load(os.path.join(path, folder, file))\n",
    "            label = folder\n",
    "            X += feature.tolist()\n",
    "            y += [label]*feature.shape[0]\n",
    "    return X, y"
   ]
  },
  {
   "cell_type": "code",
   "execution_count": 5,
   "id": "afa23d16-253b-44c0-b07a-1871fc18db9e",
   "metadata": {
    "tags": []
   },
   "outputs": [],
   "source": [
    "X_train, y_train = data_loader(TRAINING_DIR)\n",
    "X_val, y_val = data_loader(VALIDATION_DIR)\n",
    "X_test, y_test = data_loader(TEST_DIR)"
   ]
  },
  {
   "cell_type": "code",
   "execution_count": 6,
   "id": "b78a01b1-036a-49e6-a5c2-117086514238",
   "metadata": {
    "tags": []
   },
   "outputs": [
    {
     "name": "stdout",
     "output_type": "stream",
     "text": [
      "Shape of X_train: (14000, 128)\n",
      "Shape of X_val: (2000, 128)\n",
      "Shape of X_test: (4000, 128)\n",
      "Shape of y_train: (14000,)\n",
      "Shape of y_val: (2000,)\n",
      "Shape of y_test: (4000,)\n"
     ]
    }
   ],
   "source": [
    "X_train = np.array(X_train)\n",
    "X_train = X_train.reshape(X_train.shape[0], -1)\n",
    "\n",
    "X_val = np.array(X_val)\n",
    "X_val = X_val.reshape(X_val.shape[0], -1)\n",
    "\n",
    "X_test = np.array(X_test)\n",
    "X_test = X_test.reshape(X_test.shape[0], -1)\n",
    "\n",
    "y_train = np.array(y_train)\n",
    "y_val = np.array(y_val)\n",
    "y_test = np.array(y_test)\n",
    "\n",
    "print(\"Shape of X_train: {}\".format(X_train.shape))\n",
    "print(\"Shape of X_val: {}\".format(X_val.shape))\n",
    "print(\"Shape of X_test: {}\".format(X_test.shape))\n",
    "print(\"Shape of y_train: {}\".format(y_train.shape))\n",
    "print(\"Shape of y_val: {}\".format(y_val.shape))\n",
    "print(\"Shape of y_test: {}\".format(y_test.shape))"
   ]
  },
  {
   "cell_type": "code",
   "execution_count": 7,
   "id": "c00b114e-b78e-44c3-84ff-fae213ed0c68",
   "metadata": {
    "tags": []
   },
   "outputs": [
    {
     "name": "stdout",
     "output_type": "stream",
     "text": [
      "Shape of X_train: (14000, 128)\n",
      "Shape of X_test: (6000, 128)\n",
      "Shape of y_train: (14000, 1)\n",
      "Shape of y_test: (6000, 1)\n"
     ]
    }
   ],
   "source": [
    "X_test = np.vstack((X_test, X_val))\n",
    "y_test = np.hstack((y_test, y_val))\n",
    "y_train = y_train.reshape((y_train.shape[0], 1))\n",
    "y_test = y_test.reshape((y_test.shape[0], 1))\n",
    "\n",
    "print(\"Shape of X_train: {}\".format(X_train.shape))\n",
    "print(\"Shape of X_test: {}\".format(X_test.shape))\n",
    "print(\"Shape of y_train: {}\".format(y_train.shape))\n",
    "print(\"Shape of y_test: {}\".format(y_test.shape))"
   ]
  },
  {
   "cell_type": "code",
   "execution_count": 8,
   "id": "4d8c0357-52ed-40af-b02d-db4b17800b6e",
   "metadata": {
    "tags": []
   },
   "outputs": [],
   "source": [
    "X_train = X_train.astype('float')\n",
    "X_test = X_test.astype('float')"
   ]
  },
  {
   "cell_type": "code",
   "execution_count": 9,
   "id": "54432c3f-8278-4140-a69a-c1cff459e770",
   "metadata": {
    "tags": []
   },
   "outputs": [
    {
     "name": "stderr",
     "output_type": "stream",
     "text": [
      "C:\\Users\\traan\\anaconda3\\lib\\site-packages\\sklearn\\preprocessing\\_label.py:114: DataConversionWarning: A column-vector y was passed when a 1d array was expected. Please change the shape of y to (n_samples, ), for example using ravel().\n",
      "  y = column_or_1d(y, warn=True)\n",
      "C:\\Users\\traan\\anaconda3\\lib\\site-packages\\sklearn\\preprocessing\\_label.py:132: DataConversionWarning: A column-vector y was passed when a 1d array was expected. Please change the shape of y to (n_samples, ), for example using ravel().\n",
      "  y = column_or_1d(y, dtype=self.classes_.dtype, warn=True)\n"
     ]
    },
    {
     "data": {
      "text/plain": [
       "array([0, 1])"
      ]
     },
     "execution_count": 9,
     "metadata": {},
     "output_type": "execute_result"
    }
   ],
   "source": [
    "label_encoder = LabelEncoder()\n",
    "y_train = label_encoder.fit_transform(y_train)\n",
    "y_test = label_encoder.transform(y_test)\n",
    "np.unique(y_test)"
   ]
  },
  {
   "cell_type": "code",
   "execution_count": 10,
   "id": "bc58d527-4507-4c8a-9954-ddb54e79def6",
   "metadata": {
    "tags": []
   },
   "outputs": [
    {
     "name": "stdout",
     "output_type": "stream",
     "text": [
      "(14000, 128)\n"
     ]
    }
   ],
   "source": [
    "std_scaler = StandardScaler()\n",
    "X_train = std_scaler.fit_transform(X_train)\n",
    "X_test = std_scaler.transform(X_test)\n",
    "print(X_train.shape)"
   ]
  },
  {
   "cell_type": "code",
   "execution_count": 11,
   "id": "5a118a95-c314-4984-9545-5ef791a8ce39",
   "metadata": {
    "tags": []
   },
   "outputs": [],
   "source": [
    "model = ExtraTreesClassifier(random_state = 1337)"
   ]
  },
  {
   "cell_type": "code",
   "execution_count": 12,
   "id": "1bd81f2a-2bb2-44a8-ac1b-95d23c7ccfd4",
   "metadata": {
    "tags": []
   },
   "outputs": [],
   "source": [
    "np.random.seed(1337)\n",
    "start_time = time.time()\n",
    "model.fit(X_train, y_train)\n",
    "end_time = time.time()"
   ]
  },
  {
   "cell_type": "code",
   "execution_count": 13,
   "id": "8fcce92f-e48f-4c0c-b6ae-0d16eac98f22",
   "metadata": {
    "tags": []
   },
   "outputs": [],
   "source": [
    "training_time = end_time - start_time\n",
    "y_pred = model.predict(X_test)\n",
    "accuracy = accuracy_score(y_test, y_pred)\n",
    "cm = confusion_matrix(y_test, y_pred)\n",
    "classification_report = classification_report(y_test, y_pred)"
   ]
  },
  {
   "cell_type": "code",
   "execution_count": 14,
   "id": "5a11e5f0-bb87-42ca-b627-0b0b2669c0e5",
   "metadata": {
    "tags": []
   },
   "outputs": [
    {
     "name": "stdout",
     "output_type": "stream",
     "text": [
      "Accuracy: 0.9145\n",
      "Confusion Matrix:\n",
      "[[2791  209]\n",
      " [ 304 2696]]\n",
      "Classification Report:\n",
      "              precision    recall  f1-score   support\n",
      "\n",
      "           0       0.90      0.93      0.92      3000\n",
      "           1       0.93      0.90      0.91      3000\n",
      "\n",
      "    accuracy                           0.91      6000\n",
      "   macro avg       0.91      0.91      0.91      6000\n",
      "weighted avg       0.91      0.91      0.91      6000\n",
      "\n",
      "Training time: 3.21 seconds\n"
     ]
    }
   ],
   "source": [
    "print(\"Accuracy:\", accuracy)\n",
    "print(\"Confusion Matrix:\")\n",
    "print(cm)\n",
    "print(\"Classification Report:\")\n",
    "print(classification_report)\n",
    "print(\"Training time: {:.2f} seconds\".format(training_time))"
   ]
  },
  {
   "cell_type": "code",
   "execution_count": 16,
   "id": "3c6c2cfe-7351-4114-9dc3-dbc5fea9182b",
   "metadata": {
    "tags": []
   },
   "outputs": [],
   "source": [
    "def plot_confusion_matrix(cm, title='FFT 1D with Extra Trees Confusion Matrix'):\n",
    "    df_cm = pd.DataFrame(cm, index = [i for i in ['Queen', 'Queenless']],\n",
    "                    columns = [i for i in ['Queen', 'Queenless']])\n",
    "    df_cm_normed = df_cm/df_cm.sum()\n",
    "    plt.figure(figsize = (10,7))\n",
    "    sns.heatmap(df_cm, annot=True, fmt=\"\", )\n",
    "    plt.title(title)\n",
    "    plt.savefig(\"FFT 1D with Extra Trees Confusion Matrix.png\")\n",
    "    plt.show()"
   ]
  },
  {
   "cell_type": "code",
   "execution_count": 17,
   "id": "7c19ebf3-ba3b-4bcb-a2ef-2c2e85c27f27",
   "metadata": {
    "tags": []
   },
   "outputs": [
    {
     "data": {
      "image/png": "[encoded data removed]",
      "text/plain": [
       "<Figure size 1000x700 with 2 Axes>"
      ]
     },
     "metadata": {},
     "output_type": "display_data"
    }
   ],
   "source": [
    "plot_confusion_matrix(cm)"
   ]
  },
  {
   "cell_type": "code",
   "execution_count": 18,
   "id": "1e46a764-edd0-4822-9113-8e8939bd329c",
   "metadata": {
    "tags": []
   },
   "outputs": [
    {
     "data": {
      "image/png": "[encoded data removed]",
      "text/plain": [
       "<Figure size 640x480 with 1 Axes>"
      ]
     },
     "metadata": {},
     "output_type": "display_data"
    }
   ],
   "source": [
    "fpr, tpr, thresholds = roc_curve(y_test, model.predict_proba(X_test)[:, 1])\n",
    "\n",
    "auc = auc(fpr, tpr)\n",
    "\n",
    "plt.plot(fpr, tpr, label=\"ROC curve (area = {0:.2f})\".format(auc))\n",
    "plt.plot([0, 1], [0, 1], linestyle=\"dashed\")\n",
    "plt.title(\"FFT 1D with Extra Trees roc_curve\")\n",
    "plt.xlabel(\"False Positive Rate\")\n",
    "plt.ylabel(\"True Positive Rate\")\n",
    "plt.legend()\n",
    "plt.savefig(\"FFT 1D with Extra Trees roc_curve.png\")\n",
    "plt.show()"
   ]
  },
  {
   "cell_type": "code",
   "execution_count": 20,
   "id": "1604d005-f0e1-4204-b51c-dbdbcc079b0f",
   "metadata": {},
   "outputs": [],
   "source": [
    "with open(\"fft_1D_ExtraTreemodel.pkl\", \"wb\") as f:\n",
    "    pickle.dump(model, f)"
   ]
  },
  {
   "cell_type": "code",
   "execution_count": null,
   "id": "3a7e8722-2830-4519-a548-ef792e168f87",
   "metadata": {},
   "outputs": [],
   "source": []
  }
 ],
 "metadata": {
  "kernelspec": {
   "display_name": "Python 3 (ipykernel)",
   "language": "python",
   "name": "python3"
  },
  "language_info": {
   "codemirror_mode": {
    "name": "ipython",
    "version": 3
   },
   "file_extension": ".py",
   "mimetype": "text/x-python",
   "name": "python",
   "nbconvert_exporter": "python",
   "pygments_lexer": "ipython3",
   "version": "3.10.9"
  }
 },
 "nbformat": 4,
 "nbformat_minor": 5
}
