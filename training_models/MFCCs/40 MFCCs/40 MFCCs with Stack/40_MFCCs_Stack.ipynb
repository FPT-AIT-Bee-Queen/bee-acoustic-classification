{
  "nbformat": 4,
  "nbformat_minor": 0,
  "metadata": {
    "colab": {
      "provenance": []
    },
    "kernelspec": {
      "name": "python3",
      "display_name": "Python 3"
    },
    "language_info": {
      "name": "python"
    }
  },
  "cells": [
    {
      "cell_type": "code",
      "source": [
        "from google.colab import drive\n",
        "drive.mount('/content/drive')"
      ],
      "metadata": {
        "colab": {
          "base_uri": "https://localhost:8080/"
        },
        "id": "ozPkODhiwltv",
        "outputId": "ea19f0e9-25e1-4cd1-a785-8e0aa1184be2"
      },
      "execution_count": 1,
      "outputs": [
        {
          "output_type": "stream",
          "name": "stdout",
          "text": [
            "Mounted at /content/drive\n"
          ]
        }
      ]
    },
    {
      "cell_type": "code",
      "source": [
        "import zipfile\n",
        "\n",
        "local_zip = '/content/drive/MyDrive/MFCC numpy 20k bee dataset.zip'\n",
        "zip_ref   = zipfile.ZipFile(local_zip, 'r')\n",
        "zip_ref.extractall('/tmp')\n",
        "zip_ref.close()\n"
      ],
      "metadata": {
        "id": "BmJ9unT1wnJ9"
      },
      "execution_count": 4,
      "outputs": []
    },
    {
      "cell_type": "code",
      "execution_count": 16,
      "metadata": {
        "id": "2_9NKEbctihF"
      },
      "outputs": [],
      "source": [
        "import os\n",
        "import numpy as np\n",
        "from sklearn.ensemble import RandomForestClassifier, ExtraTreesClassifier, StackingClassifier\n",
        "from sklearn.model_selection import RepeatedStratifiedKFold, cross_val_score\n",
        "from sklearn.preprocessing import LabelEncoder, StandardScaler\n",
        "from sklearn.metrics import confusion_matrix, classification_report\n",
        "import xgboost as xgb\n",
        "\n",
        "TRAINING_DIR = \"/tmp/MFCC numpy 20k bee dataset/train\"\n",
        "VALIDATION_DIR = \"/tmp/MFCC numpy 20k bee dataset/val\"\n",
        "TEST_DIR = \"/tmp/MFCC numpy 20k bee dataset/test\"\n",
        "\n",
        "def load_data(directory):\n",
        "    sc_features = []\n",
        "    labels = []\n",
        "    for label in os.listdir(directory):\n",
        "        label_dir = os.path.join(directory, label)\n",
        "        if not os.path.isdir(label_dir):\n",
        "            continue\n",
        "        for filename in os.listdir(label_dir):\n",
        "            file_path = os.path.join(label_dir, filename)\n",
        "            if not os.path.isfile(file_path):\n",
        "                continue\n",
        "            sc = np.load(file_path)\n",
        "            sc_features.append(sc)\n",
        "            labels.append(label)\n",
        "    return sc_features, labels\n",
        "\n",
        "train_sc_features, train_labels = load_data(TRAINING_DIR)\n",
        "val_sc_features, val_labels = load_data(VALIDATION_DIR)\n",
        "test_sc_features, test_labels = load_data(TEST_DIR)"
      ]
    },
    {
      "cell_type": "code",
      "source": [
        "label_encoder = LabelEncoder()\n",
        "encoded_train_labels = label_encoder.fit_transform(train_labels)\n",
        "encoded_val_labels = label_encoder.transform(val_labels)\n",
        "encoded_test_labels = label_encoder.transform(test_labels)\n",
        "\n",
        "X_train = np.array(train_sc_features)\n",
        "y_train = np.array(encoded_train_labels)\n",
        "\n",
        "X_val = np.array(val_sc_features)\n",
        "y_val = np.array(encoded_val_labels)\n",
        "\n",
        "X_test = np.array(test_sc_features)\n",
        "y_test = np.array(encoded_test_labels)\n"
      ],
      "metadata": {
        "id": "kfTKIE6LyOiQ"
      },
      "execution_count": 9,
      "outputs": []
    },
    {
      "cell_type": "code",
      "source": [
        "scaler = StandardScaler()\n",
        "X_train_normalized = scaler.fit_transform(X_train)\n",
        "X_val_normalized = scaler.transform(X_val)\n",
        "X_test_normalized = scaler.transform(X_test)"
      ],
      "metadata": {
        "id": "d6YeegX3yTIQ"
      },
      "execution_count": 10,
      "outputs": []
    },
    {
      "cell_type": "code",
      "source": [
        "def get_stacking():\n",
        "    level0 = list()\n",
        "    level0.append(('rf', RandomForestClassifier(random_state=1337)))\n",
        "    level0.append(('et', ExtraTreesClassifier(random_state=1337)))\n",
        "    level0.append(('xgb', xgb.XGBClassifier(random_state=1337)))\n",
        "    level1 = RandomForestClassifier(random_state=1337)\n",
        "\n",
        "    model = StackingClassifier(estimators=level0, final_estimator=level1, cv=5)\n",
        "    return model\n",
        "\n",
        "def evaluate_model(model, X, y):\n",
        "    cv = RepeatedStratifiedKFold(n_splits=10, n_repeats=3, random_state=1)\n",
        "    scores = cross_val_score(model, X, y, scoring='accuracy', cv=cv, n_jobs=-1, error_score='raise')\n",
        "    return scores"
      ],
      "metadata": {
        "id": "Dp2y7ZVLybVh"
      },
      "execution_count": 11,
      "outputs": []
    },
    {
      "cell_type": "code",
      "source": [
        "import time\n",
        "\n",
        "t1=time.time()\n",
        "\n",
        "model = get_stacking()\n",
        "score = evaluate_model(model, X_train_normalized, y_train)\n",
        "\n",
        "t2=time.time()\n",
        "print(t2-t1,'s')\n",
        "print(score)"
      ],
      "metadata": {
        "colab": {
          "base_uri": "https://localhost:8080/"
        },
        "id": "Ci3BedLTy_SJ",
        "outputId": "a6e23338-0dc8-489e-8f2d-2408345fc824"
      },
      "execution_count": 13,
      "outputs": [
        {
          "output_type": "stream",
          "name": "stdout",
          "text": [
            "2027.867371559143 s\n",
            "[0.94357143 0.94071429 0.935      0.94142857 0.94071429 0.94428571\n",
            " 0.94214286 0.94071429 0.94428571 0.93857143 0.93928571 0.93785714\n",
            " 0.92642857 0.92928571 0.94642857 0.93142857 0.935      0.94214286\n",
            " 0.94428571 0.94       0.93142857 0.94785714 0.94428571 0.93357143\n",
            " 0.93714286 0.93785714 0.94285714 0.93571429 0.93857143 0.93285714]\n"
          ]
        }
      ]
    },
    {
      "cell_type": "code",
      "source": [
        "model = get_stacking()\n",
        "\n",
        "t3=time.time()\n",
        "model.fit(X_train_normalized, y_train)\n",
        "t4=time.time()\n",
        "print(t4-t3,'s')\n",
        "\n",
        "y_pred = model.predict(X_test_normalized)\n",
        "accuracy = model.score(X_test_normalized, y_test)\n",
        "print(\"Test Accuracy:\", accuracy)\n",
        "\n",
        "report = classification_report(y_test, y_pred, target_names=label_encoder.classes_)\n",
        "print(\"Classification Report:\\n\", report)"
      ],
      "metadata": {
        "colab": {
          "base_uri": "https://localhost:8080/"
        },
        "id": "i-lSLi_3yrO9",
        "outputId": "3c09f2c3-6bba-48af-b4ae-9446b9da6b76"
      },
      "execution_count": 14,
      "outputs": [
        {
          "output_type": "stream",
          "name": "stdout",
          "text": [
            "90.66400837898254 s\n",
            "Test Accuracy: 0.93975\n",
            "Classification Report:\n",
            "               precision    recall  f1-score   support\n",
            "\n",
            "       Queen       0.94      0.94      0.94      2000\n",
            "   Queenless       0.94      0.94      0.94      2000\n",
            "\n",
            "    accuracy                           0.94      4000\n",
            "   macro avg       0.94      0.94      0.94      4000\n",
            "weighted avg       0.94      0.94      0.94      4000\n",
            "\n"
          ]
        }
      ]
    },
    {
      "cell_type": "code",
      "source": [
        "import matplotlib.pyplot as plt\n",
        "import seaborn as sns\n",
        "\n",
        "class_labels = label_encoder.classes_\n",
        "confusion_mat = confusion_matrix(y_test, y_pred)\n",
        "\n",
        "plt.figure(figsize=(10, 7))\n",
        "sns.heatmap(confusion_mat, annot=True, fmt=\"\", xticklabels=class_labels, yticklabels=class_labels)\n",
        "plt.xlabel('Predicted Labels')\n",
        "plt.ylabel('True Labels')\n",
        "plt.title('Confusion Matrix - Stack Classifier Model')\n",
        "plt.show()"
      ],
      "metadata": {
        "colab": {
          "base_uri": "https://localhost:8080/",
          "height": 641
        },
        "id": "Fia4RaoRzWjk",
        "outputId": "0dcf1dee-14f8-4e3a-e78d-1ec2741b68aa"
      },
      "execution_count": 21,
      "outputs": [
        {
          "output_type": "display_data",
          "data": {
            "text/plain": [
              "<Figure size 1000x700 with 2 Axes>"
            ],
            "image/png": "[encoded data removed]"
          },
          "metadata": {}
        }
      ]
    },
    {
      "cell_type": "code",
      "source": [
        "import pickle\n",
        "\n",
        "with open('40_mfccs_stack.pkl', 'wb') as f:\n",
        "    pickle.dump(model, f)"
      ],
      "metadata": {
        "id": "HF9zRuNMQzFw"
      },
      "execution_count": 22,
      "outputs": []
    },
    {
      "cell_type": "code",
      "source": [],
      "metadata": {
        "id": "6-brqeDIRbcx"
      },
      "execution_count": null,
      "outputs": []
    }
  ]
}