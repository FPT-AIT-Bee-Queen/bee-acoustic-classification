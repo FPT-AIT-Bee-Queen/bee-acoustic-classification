{
  "nbformat": 4,
  "nbformat_minor": 0,
  "metadata": {
    "colab": {
      "provenance": []
    },
    "kernelspec": {
      "name": "python3",
      "display_name": "Python 3"
    },
    "language_info": {
      "name": "python"
    }
  },
  "cells": [
    {
      "cell_type": "code",
      "execution_count": 1,
      "metadata": {
        "id": "nlTtQsRNq7J9"
      },
      "outputs": [],
      "source": [
        "import os\n",
        "import zipfile\n",
        "import random\n",
        "import shutil\n",
        "import tensorflow as tf\n",
        "from shutil import copyfile\n",
        "import matplotlib.pyplot as plt"
      ]
    },
    {
      "cell_type": "code",
      "source": [
        "from google.colab import drive\n",
        "drive.mount('/content/drive')"
      ],
      "metadata": {
        "colab": {
          "base_uri": "https://localhost:8080/"
        },
        "id": "qd3PRLcZrL5C",
        "outputId": "0349974b-7f62-47b2-8dba-2137178e57bc"
      },
      "execution_count": 2,
      "outputs": [
        {
          "output_type": "stream",
          "name": "stdout",
          "text": [
            "Mounted at /content/drive\n"
          ]
        }
      ]
    },
    {
      "cell_type": "code",
      "source": [
        "local_zip = '/content/drive/MyDrive/MFCC numpy 20k bee dataset.zip'\n",
        "zip_ref   = zipfile.ZipFile(local_zip, 'r')\n",
        "zip_ref.extractall('/tmp')\n",
        "zip_ref.close()"
      ],
      "metadata": {
        "id": "2MR1r8HmrhVu"
      },
      "execution_count": 3,
      "outputs": []
    },
    {
      "cell_type": "code",
      "source": [
        "import numpy as np\n",
        "import os\n",
        "import matplotlib.pyplot as plt\n",
        "from sklearn.linear_model import LogisticRegression\n",
        "from sklearn.preprocessing import LabelEncoder, StandardScaler\n",
        "from sklearn.metrics import confusion_matrix, classification_report\n",
        "import seaborn as sns\n",
        "\n",
        "TRAINING_DIR = \"/tmp/MFCC numpy 20k bee dataset/train\"\n",
        "VALIDATION_DIR = \"/tmp/MFCC numpy 20k bee dataset/val\"\n",
        "TEST_DIR = \"/tmp/MFCC numpy 20k bee dataset/test\""
      ],
      "metadata": {
        "id": "DAgkgUBYyOVZ"
      },
      "execution_count": 4,
      "outputs": []
    },
    {
      "cell_type": "code",
      "source": [
        "def load_data(directory):\n",
        "    mfcc_features = []\n",
        "    labels = []\n",
        "    for label in os.listdir(directory):\n",
        "        label_dir = os.path.join(directory, label)\n",
        "        if not os.path.isdir(label_dir):\n",
        "            continue\n",
        "        for filename in os.listdir(label_dir):\n",
        "            file_path = os.path.join(label_dir, filename)\n",
        "            if not os.path.isfile(file_path):\n",
        "                continue\n",
        "            mfcc = np.load(file_path)\n",
        "            mfcc_features.append(mfcc)\n",
        "            labels.append(label)\n",
        "    return mfcc_features, labels\n",
        "\n",
        "train_mfcc_features, train_labels = load_data(TRAINING_DIR)\n",
        "val_mfcc_features, val_labels = load_data(VALIDATION_DIR)\n",
        "test_mfcc_features, test_labels = load_data(TEST_DIR)"
      ],
      "metadata": {
        "id": "uQTfUwEVri9c"
      },
      "execution_count": 5,
      "outputs": []
    },
    {
      "cell_type": "code",
      "source": [
        "label_encoder = LabelEncoder()\n",
        "encoded_train_labels = label_encoder.fit_transform(train_labels)\n",
        "encoded_val_labels = label_encoder.transform(val_labels)\n",
        "encoded_test_labels = label_encoder.transform(test_labels)"
      ],
      "metadata": {
        "id": "gC1d39VZsR80"
      },
      "execution_count": 6,
      "outputs": []
    },
    {
      "cell_type": "code",
      "source": [
        "X_train = np.array(train_mfcc_features)\n",
        "y_train = np.array(encoded_train_labels)\n",
        "\n",
        "X_val = np.array(val_mfcc_features)\n",
        "y_val = np.array(encoded_val_labels)\n",
        "\n",
        "X_test = np.array(test_mfcc_features)\n",
        "y_test = np.array(encoded_test_labels)"
      ],
      "metadata": {
        "id": "8L6O3rfdyY7s"
      },
      "execution_count": 7,
      "outputs": []
    },
    {
      "cell_type": "code",
      "source": [
        "scaler = StandardScaler()\n",
        "X_train_normalized = scaler.fit_transform(X_train)\n",
        "X_val_normalized = scaler.transform(X_val)\n",
        "X_test_normalized = scaler.transform(X_test)"
      ],
      "metadata": {
        "id": "jC103BD4yv5e"
      },
      "execution_count": 8,
      "outputs": []
    },
    {
      "cell_type": "code",
      "source": [
        "model = LogisticRegression(max_iter=1000,random_state=1337)\n",
        "model.fit(X_train_normalized, y_train)\n",
        "\n",
        "y_pred = model.predict(X_test_normalized)\n",
        "\n",
        "accuracy = model.score(X_test_normalized, y_test)\n",
        "print(\"Test Accuracy:\", accuracy)\n",
        "\n",
        "report = classification_report(y_test, y_pred, target_names=label_encoder.classes_)\n",
        "print(\"Classification Report:\\n\", report)"
      ],
      "metadata": {
        "colab": {
          "base_uri": "https://localhost:8080/"
        },
        "id": "jtH1WjDIyzN2",
        "outputId": "3213f234-b424-4264-83fd-4ecef7fd13bc"
      },
      "execution_count": 9,
      "outputs": [
        {
          "output_type": "stream",
          "name": "stdout",
          "text": [
            "Test Accuracy: 0.78325\n",
            "Classification Report:\n",
            "               precision    recall  f1-score   support\n",
            "\n",
            "       Queen       0.77      0.82      0.79      2000\n",
            "   Queenless       0.80      0.75      0.78      2000\n",
            "\n",
            "    accuracy                           0.78      4000\n",
            "   macro avg       0.78      0.78      0.78      4000\n",
            "weighted avg       0.78      0.78      0.78      4000\n",
            "\n"
          ]
        }
      ]
    },
    {
      "cell_type": "code",
      "source": [
        "class_labels = label_encoder.classes_\n",
        "confusion_mat_test = confusion_matrix(y_test, y_pred)\n",
        "\n",
        "plt.figure(figsize=(10, 7))\n",
        "sns.heatmap(confusion_mat_test, annot=True, fmt=\"\", xticklabels=class_labels, yticklabels=class_labels)\n",
        "plt.xlabel('Predicted Labels')\n",
        "plt.ylabel('True Labels')\n",
        "plt.title('Confusion Matrix - Logistic Regression Model')\n",
        "plt.show()"
      ],
      "metadata": {
        "colab": {
          "base_uri": "https://localhost:8080/",
          "height": 641
        },
        "id": "73E90nBPy95b",
        "outputId": "1f2b00f6-705a-475c-e7c9-063eea96dd83"
      },
      "execution_count": 10,
      "outputs": [
        {
          "output_type": "display_data",
          "data": {
            "text/plain": [
              "<Figure size 1000x700 with 2 Axes>"
            ],
            "image/png": "[encoded data removed]"
          },
          "metadata": {}
        }
      ]
    },
    {
      "cell_type": "code",
      "source": [
        "import pickle\n",
        "\n",
        "with open('40_mfccs_Logistic.pkl', 'wb') as f:\n",
        "    pickle.dump(model, f)"
      ],
      "metadata": {
        "id": "fgh-RAqB2sW9"
      },
      "execution_count": 11,
      "outputs": []
    }
  ]
}