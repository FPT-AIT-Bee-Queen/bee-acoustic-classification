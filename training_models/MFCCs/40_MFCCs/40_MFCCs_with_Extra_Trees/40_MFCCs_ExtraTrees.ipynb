{
  "nbformat": 4,
  "nbformat_minor": 0,
  "metadata": {
    "colab": {
      "provenance": []
    },
    "kernelspec": {
      "name": "python3",
      "display_name": "Python 3"
    },
    "language_info": {
      "name": "python"
    }
  },
  "cells": [
    {
      "cell_type": "code",
      "execution_count": 1,
      "metadata": {
        "id": "St7JvtAp8OwL"
      },
      "outputs": [],
      "source": [
        "import os\n",
        "import zipfile\n",
        "import random\n",
        "import shutil\n",
        "import tensorflow as tf\n",
        "from shutil import copyfile\n",
        "import matplotlib.pyplot as plt"
      ]
    },
    {
      "cell_type": "code",
      "source": [
        "from google.colab import drive\n",
        "drive.mount('/content/drive')"
      ],
      "metadata": {
        "colab": {
          "base_uri": "https://localhost:8080/"
        },
        "id": "lOSJFf_s8SDw",
        "outputId": "f78777ff-beec-4b6b-d1b2-b2709cb32da4"
      },
      "execution_count": 2,
      "outputs": [
        {
          "output_type": "stream",
          "name": "stdout",
          "text": [
            "Mounted at /content/drive\n"
          ]
        }
      ]
    },
    {
      "cell_type": "code",
      "source": [
        "local_zip = '/content/drive/MyDrive/MFCC numpy 20k bee dataset.zip'\n",
        "zip_ref   = zipfile.ZipFile(local_zip, 'r')\n",
        "zip_ref.extractall('/tmp')\n",
        "zip_ref.close()"
      ],
      "metadata": {
        "id": "2AuQP7GP8e26"
      },
      "execution_count": 3,
      "outputs": []
    },
    {
      "cell_type": "code",
      "source": [
        "import numpy as np\n",
        "from sklearn.ensemble import ExtraTreesClassifier\n",
        "from sklearn.preprocessing import LabelEncoder, StandardScaler\n",
        "from sklearn.metrics import confusion_matrix, classification_report\n",
        "import seaborn as sns\n",
        "\n",
        "TRAINING_DIR = \"/tmp/MFCC numpy 20k bee dataset/train\"\n",
        "VALIDATION_DIR = \"/tmp/MFCC numpy 20k bee dataset/val\"\n",
        "TEST_DIR = \"/tmp/MFCC numpy 20k bee dataset/test\""
      ],
      "metadata": {
        "id": "oUrzTyka8glE"
      },
      "execution_count": 4,
      "outputs": []
    },
    {
      "cell_type": "code",
      "source": [
        "def load_data(directory):\n",
        "    mfcc_features = []\n",
        "    labels = []\n",
        "    for label in os.listdir(directory):\n",
        "        label_dir = os.path.join(directory, label)\n",
        "        if not os.path.isdir(label_dir):\n",
        "            continue\n",
        "        for filename in os.listdir(label_dir):\n",
        "            file_path = os.path.join(label_dir, filename)\n",
        "            if not os.path.isfile(file_path):\n",
        "                continue\n",
        "            mfcc = np.load(file_path)\n",
        "            mfcc_features.append(mfcc)\n",
        "            labels.append(label)\n",
        "    return mfcc_features, labels\n",
        "\n",
        "train_mfcc_features, train_labels = load_data(TRAINING_DIR)\n",
        "val_mfcc_features, val_labels = load_data(VALIDATION_DIR)\n",
        "test_mfcc_features, test_labels = load_data(TEST_DIR)"
      ],
      "metadata": {
        "id": "mFPeEj_Y8q9M"
      },
      "execution_count": 5,
      "outputs": []
    },
    {
      "cell_type": "code",
      "source": [
        "label_encoder = LabelEncoder()\n",
        "encoded_train_labels = label_encoder.fit_transform(train_labels)\n",
        "encoded_val_labels = label_encoder.transform(val_labels)\n",
        "encoded_test_labels = label_encoder.transform(test_labels)"
      ],
      "metadata": {
        "id": "vLG6YjXb8vzS"
      },
      "execution_count": 6,
      "outputs": []
    },
    {
      "cell_type": "code",
      "source": [
        "X_train = np.array(train_mfcc_features)\n",
        "y_train = np.array(encoded_train_labels)\n",
        "\n",
        "X_val = np.array(val_mfcc_features)\n",
        "y_val = np.array(encoded_val_labels)\n",
        "\n",
        "X_test = np.array(test_mfcc_features)\n",
        "y_test = np.array(encoded_test_labels)"
      ],
      "metadata": {
        "id": "TKsooSYJ8xrz"
      },
      "execution_count": 7,
      "outputs": []
    },
    {
      "cell_type": "code",
      "source": [
        "scaler = StandardScaler()\n",
        "X_train_normalized = scaler.fit_transform(X_train)\n",
        "X_val_normalized = scaler.transform(X_val)\n",
        "X_test_normalized = scaler.transform(X_test)"
      ],
      "metadata": {
        "id": "doCMnpYR8zcj"
      },
      "execution_count": 8,
      "outputs": []
    },
    {
      "cell_type": "code",
      "source": [
        "model = ExtraTreesClassifier(n_estimators=100, random_state=1337)\n",
        "model.fit(X_train_normalized, y_train)\n",
        "\n",
        "y_pred = model.predict(X_test_normalized)\n",
        "\n",
        "accuracy = model.score(X_test_normalized, y_test)\n",
        "print(\"Test Accuracy:\", accuracy)\n",
        "\n",
        "report = classification_report(y_test, y_pred, target_names=label_encoder.classes_)\n",
        "print(\"Classification Report:\\n\", report)"
      ],
      "metadata": {
        "colab": {
          "base_uri": "https://localhost:8080/"
        },
        "id": "agCW0eLK9fJ-",
        "outputId": "76324751-eda1-48ba-f2bf-25c2475aff4c"
      },
      "execution_count": 9,
      "outputs": [
        {
          "output_type": "stream",
          "name": "stdout",
          "text": [
            "Test Accuracy: 0.9355\n",
            "Classification Report:\n",
            "               precision    recall  f1-score   support\n",
            "\n",
            "       Queen       0.93      0.94      0.94      2000\n",
            "   Queenless       0.94      0.93      0.93      2000\n",
            "\n",
            "    accuracy                           0.94      4000\n",
            "   macro avg       0.94      0.94      0.94      4000\n",
            "weighted avg       0.94      0.94      0.94      4000\n",
            "\n"
          ]
        }
      ]
    },
    {
      "cell_type": "code",
      "source": [
        "class_labels = label_encoder.classes_\n",
        "confusion_mat_test = confusion_matrix(y_test, y_pred)\n",
        "\n",
        "plt.figure(figsize=(10, 7))\n",
        "sns.heatmap(confusion_mat_test, annot=True, fmt=\"\", xticklabels=class_labels, yticklabels=class_labels)\n",
        "plt.xlabel('Predicted Labels')\n",
        "plt.ylabel('True Labels')\n",
        "plt.title('Confusion Matrix - Extra Trees Classifier Model')\n",
        "plt.show()"
      ],
      "metadata": {
        "colab": {
          "base_uri": "https://localhost:8080/",
          "height": 641
        },
        "id": "zFjGh7Tl9o3p",
        "outputId": "8507d0d1-8ceb-4f90-f7ed-e1253e716ac1"
      },
      "execution_count": 10,
      "outputs": [
        {
          "output_type": "display_data",
          "data": {
            "text/plain": [
              "<Figure size 1000x700 with 2 Axes>"
            ],
            "image/png": "[encoded data removed]"
          },
          "metadata": {}
        }
      ]
    },
    {
      "cell_type": "code",
      "source": [
        "import pickle\n",
        "\n",
        "with open('40_extra_trees_model.pkl', 'wb') as f:\n",
        "    pickle.dump(model, f)\n"
      ],
      "metadata": {
        "id": "LzqMe4r49xkc"
      },
      "execution_count": 11,
      "outputs": []
    }
  ]
}