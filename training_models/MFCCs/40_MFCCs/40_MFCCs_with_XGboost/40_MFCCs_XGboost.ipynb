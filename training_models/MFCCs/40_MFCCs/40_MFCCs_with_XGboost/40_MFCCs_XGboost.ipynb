{
  "nbformat": 4,
  "nbformat_minor": 0,
  "metadata": {
    "colab": {
      "provenance": []
    },
    "kernelspec": {
      "name": "python3",
      "display_name": "Python 3"
    },
    "language_info": {
      "name": "python"
    }
  },
  "cells": [
    {
      "cell_type": "code",
      "execution_count": 1,
      "metadata": {
        "id": "X7B1E-Ekspss"
      },
      "outputs": [],
      "source": [
        "import os\n",
        "import zipfile\n",
        "import random\n",
        "import shutil\n",
        "import tensorflow as tf\n",
        "from shutil import copyfile\n",
        "import matplotlib.pyplot as plt"
      ]
    },
    {
      "cell_type": "code",
      "source": [
        "from google.colab import drive\n",
        "drive.mount('/content/drive')"
      ],
      "metadata": {
        "colab": {
          "base_uri": "https://localhost:8080/"
        },
        "id": "qri9jz8XtAKd",
        "outputId": "81148df4-7ce8-4d1c-ec7b-4459e633367b"
      },
      "execution_count": 2,
      "outputs": [
        {
          "output_type": "stream",
          "name": "stdout",
          "text": [
            "Mounted at /content/drive\n"
          ]
        }
      ]
    },
    {
      "cell_type": "code",
      "source": [
        "local_zip = '/content/drive/MyDrive/MFCC numpy 20k bee dataset.zip'\n",
        "zip_ref   = zipfile.ZipFile(local_zip, 'r')\n",
        "zip_ref.extractall('/tmp')\n",
        "zip_ref.close()"
      ],
      "metadata": {
        "id": "zSYDIdhHtCsI"
      },
      "execution_count": 3,
      "outputs": []
    },
    {
      "cell_type": "code",
      "source": [
        "import numpy as np\n",
        "import os\n",
        "from sklearn.preprocessing import LabelEncoder\n",
        "from sklearn.metrics import confusion_matrix, classification_report, accuracy_score\n",
        "import xgboost as xgb\n",
        "\n",
        "TRAINING_DIR = \"/tmp/MFCC numpy 20k bee dataset/train\"\n",
        "VALIDATION_DIR = \"/tmp/MFCC numpy 20k bee dataset/val\"\n",
        "TEST_DIR = \"/tmp/MFCC numpy 20k bee dataset/test\""
      ],
      "metadata": {
        "id": "s-63lZOOtHAm"
      },
      "execution_count": 4,
      "outputs": []
    },
    {
      "cell_type": "code",
      "source": [
        "def load_data(directory):\n",
        "    mfcc_features = []\n",
        "    labels = []\n",
        "    for label in os.listdir(directory):\n",
        "        label_dir = os.path.join(directory, label)\n",
        "        if not os.path.isdir(label_dir):\n",
        "            continue\n",
        "        for filename in os.listdir(label_dir):\n",
        "            file_path = os.path.join(label_dir, filename)\n",
        "            if not os.path.isfile(file_path):\n",
        "                continue\n",
        "            mfcc = np.load(file_path)\n",
        "            mfcc_features.append(mfcc)\n",
        "            labels.append(label)\n",
        "    return mfcc_features, labels\n",
        "\n",
        "train_mfcc_features, train_labels = load_data(TRAINING_DIR)\n",
        "val_mfcc_features, val_labels = load_data(VALIDATION_DIR)\n",
        "test_mfcc_features, test_labels = load_data(TEST_DIR)"
      ],
      "metadata": {
        "id": "dHmCLAR2tK4Z"
      },
      "execution_count": 5,
      "outputs": []
    },
    {
      "cell_type": "code",
      "source": [
        "label_encoder = LabelEncoder()\n",
        "encoded_train_labels = label_encoder.fit_transform(train_labels)\n",
        "encoded_val_labels = label_encoder.transform(val_labels)\n",
        "encoded_test_labels = label_encoder.transform(test_labels)"
      ],
      "metadata": {
        "id": "_D9siLwDtNzz"
      },
      "execution_count": 6,
      "outputs": []
    },
    {
      "cell_type": "code",
      "source": [
        "X_train = np.array(train_mfcc_features)\n",
        "y_train = np.array(encoded_train_labels)\n",
        "\n",
        "X_val = np.array(val_mfcc_features)\n",
        "y_val = np.array(encoded_val_labels)\n",
        "\n",
        "X_test = np.array(test_mfcc_features)\n",
        "y_test = np.array(encoded_test_labels)"
      ],
      "metadata": {
        "id": "Z9IVcZnGtwub"
      },
      "execution_count": 7,
      "outputs": []
    },
    {
      "cell_type": "code",
      "source": [
        "X_train = np.reshape(X_train, (X_train.shape[0], -1))\n",
        "X_val = np.reshape(X_val, (X_val.shape[0], -1))\n",
        "X_test = np.reshape(X_test, (X_test.shape[0], -1))"
      ],
      "metadata": {
        "id": "Pff9kZ5GtxN8"
      },
      "execution_count": 8,
      "outputs": []
    },
    {
      "cell_type": "code",
      "source": [
        "model = xgb.XGBClassifier(random_state=1337)\n",
        "model.fit(X_train, y_train)\n",
        "\n",
        "y_test_pred = model.predict(X_test)\n",
        "accuracy = accuracy_score(y_test, y_test_pred)\n",
        "print(\"Test Accuracy:\", accuracy)\n",
        "\n",
        "report = classification_report(y_test, y_test_pred)\n",
        "print(\"Classification Report:\")\n",
        "print(report)"
      ],
      "metadata": {
        "colab": {
          "base_uri": "https://localhost:8080/"
        },
        "id": "ZsxjK6yjt67K",
        "outputId": "545b19b0-2c94-4f67-cfbe-9a1f94b32bcb"
      },
      "execution_count": 12,
      "outputs": [
        {
          "output_type": "stream",
          "name": "stdout",
          "text": [
            "Test Accuracy: 0.9465\n",
            "Classification Report:\n",
            "              precision    recall  f1-score   support\n",
            "\n",
            "           0       0.94      0.95      0.95      2000\n",
            "           1       0.95      0.94      0.95      2000\n",
            "\n",
            "    accuracy                           0.95      4000\n",
            "   macro avg       0.95      0.95      0.95      4000\n",
            "weighted avg       0.95      0.95      0.95      4000\n",
            "\n"
          ]
        }
      ]
    },
    {
      "cell_type": "code",
      "source": [
        "import seaborn as sns\n",
        "import matplotlib.pyplot as plt\n",
        "\n",
        "class_labels = label_encoder.classes_\n",
        "confusion_mat_test = confusion_matrix(y_test, y_test_pred)\n",
        "\n",
        "plt.figure(figsize=(10, 7))\n",
        "sns.heatmap(confusion_mat_test, annot=True, fmt=\"\", xticklabels=class_labels, yticklabels=class_labels)\n",
        "plt.xlabel('Predicted Labels')\n",
        "plt.ylabel('True Labels')\n",
        "plt.title('XGboost Confusion Matrix - Test Set')\n",
        "plt.show()"
      ],
      "metadata": {
        "colab": {
          "base_uri": "https://localhost:8080/",
          "height": 641
        },
        "id": "LTpmRK1eum69",
        "outputId": "fb63a2fb-5096-477a-a3a9-71ed465856e7"
      },
      "execution_count": 10,
      "outputs": [
        {
          "output_type": "display_data",
          "data": {
            "text/plain": [
              "<Figure size 1000x700 with 2 Axes>"
            ],
            "image/png": "[encoded data removed]"
          },
          "metadata": {}
        }
      ]
    },
    {
      "cell_type": "code",
      "source": [
        "import pickle\n",
        "\n",
        "with open('40_mfccs_xgboost.pkl', 'wb') as f:\n",
        "    pickle.dump(model, f)"
      ],
      "metadata": {
        "id": "dR2UlHeNvJpV"
      },
      "execution_count": 11,
      "outputs": []
    }
  ]
}