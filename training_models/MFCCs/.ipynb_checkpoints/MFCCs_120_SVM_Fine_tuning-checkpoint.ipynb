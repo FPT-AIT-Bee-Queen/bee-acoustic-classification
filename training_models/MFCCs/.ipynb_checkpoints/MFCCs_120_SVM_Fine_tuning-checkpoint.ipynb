{
 "cells": [
  {
   "cell_type": "code",
   "execution_count": 1,
   "id": "b7a50109-48e0-42c8-83ef-25f7b4c31ff2",
   "metadata": {
    "canvas": {
     "comments": [],
     "componentType": "CodeCell",
     "copiedOriginId": null,
     "diskcache": false,
     "headerColor": "transparent",
     "id": "b39281b6-de09-4760-83b0-e259489f1cfa",
     "isComponent": false,
     "name": "",
     "parents": []
    }
   },
   "outputs": [
    {
     "name": "stderr",
     "output_type": "stream",
     "text": [
      "C:\\Users\\tunne\\anaconda3\\envs\\tf\\lib\\site-packages\\numpy\\_distributor_init.py:30: UserWarning: loaded more than 1 DLL from .libs:\n",
      "C:\\Users\\tunne\\anaconda3\\envs\\tf\\lib\\site-packages\\numpy\\.libs\\libopenblas64__v0.3.21-gcc_10_3_0.dll\n",
      "C:\\Users\\tunne\\anaconda3\\envs\\tf\\lib\\site-packages\\numpy\\.libs\\libopenblas64__v0.3.23-246-g3d31191b-gcc_10_3_0.dll\n",
      "  warnings.warn(\"loaded more than 1 DLL from .libs:\"\n"
     ]
    }
   ],
   "source": [
    "import numpy as np\n",
    "import pandas as pd"
   ]
  },
  {
   "cell_type": "code",
   "execution_count": 2,
   "id": "47f88d70-00f6-4267-af22-7c981f92b907",
   "metadata": {
    "canvas": {
     "comments": [],
     "componentType": "CodeCell",
     "copiedOriginId": null,
     "diskcache": false,
     "headerColor": "transparent",
     "id": "f0211514-6dca-4fd8-bed5-6734f30cb477",
     "isComponent": false,
     "name": "",
     "parents": []
    },
    "tags": []
   },
   "outputs": [],
   "source": [
    "queen_train_path = \"../../feature_extraction/MFCCs_80_features/train/train_queen.npy\"\n",
    "queenless_train_path = \"../../feature_extraction/MFCCs_80_features/train/train_queenless.npy\"\n",
    "queen_test_path = \"../../feature_extraction/MFCCs_80_features/test/train_queen.npy\"\n",
    "queenless_test_path = \"../../feature_extraction/MFCCs_80_features/test/train_queenless.npy\"\n",
    "queen_val_path = \"../../feature_extraction/MFCCs_80_features/val/train_queen.npy\"\n",
    "queenless_val_path = \"../../feature_extraction/MFCCs_80_features/val/train_queenless.npy\""
   ]
  },
  {
   "cell_type": "code",
   "execution_count": 3,
   "id": "25b5e590-01cd-4db1-86ad-eb81e506ef0c",
   "metadata": {
    "canvas": {
     "comments": [],
     "componentType": "CodeCell",
     "copiedOriginId": null,
     "diskcache": false,
     "headerColor": "transparent",
     "id": "9177bcb2-6816-4f3f-96e1-392893e0018d",
     "isComponent": false,
     "name": "",
     "parents": []
    }
   },
   "outputs": [],
   "source": [
    "queen_train = np.load(queen_train_path)\n",
    "queenless_train = np.load(queenless_train_path)\n",
    "queen_test = np.load(queen_test_path)\n",
    "queenless_test = np.load(queenless_test_path)\n",
    "queen_val = np.load(queen_val_path)\n",
    "queenless_val = np.load(queenless_val_path)\n"
   ]
  },
  {
   "cell_type": "code",
   "execution_count": 4,
   "id": "c8d8ed60-4ba3-41d8-a0e4-b686852df323",
   "metadata": {
    "canvas": {
     "comments": [],
     "componentType": "CodeCell",
     "copiedOriginId": null,
     "diskcache": false,
     "headerColor": "transparent",
     "id": "d5d71e5e-ccf3-44ae-8972-f3adc8639b00",
     "isComponent": false,
     "name": "",
     "parents": []
    }
   },
   "outputs": [],
   "source": [
    "train_label = pd.DataFrame(np.hstack([[0]*7000, [1]*7000]).T, columns=['labels'])\n"
   ]
  },
  {
   "cell_type": "code",
   "execution_count": 5,
   "id": "43c98c5e-6db7-46ed-bb2b-a09a40067f24",
   "metadata": {
    "canvas": {
     "comments": [],
     "componentType": "CodeCell",
     "copiedOriginId": null,
     "diskcache": false,
     "headerColor": "transparent",
     "id": "524202be-40d7-47ac-87bd-e091782c1235",
     "isComponent": false,
     "name": "",
     "parents": []
    }
   },
   "outputs": [],
   "source": [
    "train_data = pd.DataFrame(np.vstack([queen_train, queenless_train]))\n",
    "\n"
   ]
  },
  {
   "cell_type": "code",
   "execution_count": 6,
   "id": "28a07f90-f683-46ef-84cd-dcccce953a9f",
   "metadata": {
    "canvas": {
     "comments": [],
     "componentType": "CodeCell",
     "copiedOriginId": null,
     "diskcache": false,
     "headerColor": "transparent",
     "id": "3ee7406c-8bfd-4fda-8abc-d0d8213e5762",
     "isComponent": false,
     "name": "",
     "parents": []
    }
   },
   "outputs": [
    {
     "data": {
      "text/html": [
       "<div>\n",
       "<style scoped>\n",
       "    .dataframe tbody tr th:only-of-type {\n",
       "        vertical-align: middle;\n",
       "    }\n",
       "\n",
       "    .dataframe tbody tr th {\n",
       "        vertical-align: top;\n",
       "    }\n",
       "\n",
       "    .dataframe thead th {\n",
       "        text-align: right;\n",
       "    }\n",
       "</style>\n",
       "<table border=\"1\" class=\"dataframe\">\n",
       "  <thead>\n",
       "    <tr style=\"text-align: right;\">\n",
       "      <th></th>\n",
       "      <th>0</th>\n",
       "      <th>1</th>\n",
       "      <th>2</th>\n",
       "      <th>3</th>\n",
       "      <th>4</th>\n",
       "      <th>5</th>\n",
       "      <th>6</th>\n",
       "      <th>7</th>\n",
       "      <th>8</th>\n",
       "      <th>9</th>\n",
       "      <th>...</th>\n",
       "      <th>70</th>\n",
       "      <th>71</th>\n",
       "      <th>72</th>\n",
       "      <th>73</th>\n",
       "      <th>74</th>\n",
       "      <th>75</th>\n",
       "      <th>76</th>\n",
       "      <th>77</th>\n",
       "      <th>78</th>\n",
       "      <th>79</th>\n",
       "    </tr>\n",
       "  </thead>\n",
       "  <tbody>\n",
       "    <tr>\n",
       "      <th>0</th>\n",
       "      <td>-531.931335</td>\n",
       "      <td>136.621933</td>\n",
       "      <td>45.603500</td>\n",
       "      <td>19.686640</td>\n",
       "      <td>6.475194</td>\n",
       "      <td>6.768497</td>\n",
       "      <td>-0.932306</td>\n",
       "      <td>6.658151</td>\n",
       "      <td>3.660365</td>\n",
       "      <td>2.098238</td>\n",
       "      <td>...</td>\n",
       "      <td>3.410441</td>\n",
       "      <td>3.068254</td>\n",
       "      <td>3.461446</td>\n",
       "      <td>2.733752</td>\n",
       "      <td>2.617498</td>\n",
       "      <td>2.545141</td>\n",
       "      <td>3.265490</td>\n",
       "      <td>2.939814</td>\n",
       "      <td>3.251054</td>\n",
       "      <td>2.363111</td>\n",
       "    </tr>\n",
       "    <tr>\n",
       "      <th>1</th>\n",
       "      <td>-536.993347</td>\n",
       "      <td>138.456238</td>\n",
       "      <td>34.898472</td>\n",
       "      <td>20.860229</td>\n",
       "      <td>4.066461</td>\n",
       "      <td>3.119111</td>\n",
       "      <td>-2.870780</td>\n",
       "      <td>0.477826</td>\n",
       "      <td>3.070781</td>\n",
       "      <td>0.220865</td>\n",
       "      <td>...</td>\n",
       "      <td>3.271066</td>\n",
       "      <td>3.057924</td>\n",
       "      <td>2.934288</td>\n",
       "      <td>2.283246</td>\n",
       "      <td>2.528649</td>\n",
       "      <td>3.761013</td>\n",
       "      <td>3.405852</td>\n",
       "      <td>3.222660</td>\n",
       "      <td>2.804340</td>\n",
       "      <td>2.501446</td>\n",
       "    </tr>\n",
       "    <tr>\n",
       "      <th>2</th>\n",
       "      <td>-525.730591</td>\n",
       "      <td>136.192719</td>\n",
       "      <td>36.625347</td>\n",
       "      <td>23.067327</td>\n",
       "      <td>0.258045</td>\n",
       "      <td>4.746896</td>\n",
       "      <td>-0.178224</td>\n",
       "      <td>2.476325</td>\n",
       "      <td>7.398917</td>\n",
       "      <td>3.634185</td>\n",
       "      <td>...</td>\n",
       "      <td>2.569722</td>\n",
       "      <td>2.521067</td>\n",
       "      <td>2.660564</td>\n",
       "      <td>3.227906</td>\n",
       "      <td>2.621328</td>\n",
       "      <td>2.251341</td>\n",
       "      <td>2.990477</td>\n",
       "      <td>3.052036</td>\n",
       "      <td>2.337557</td>\n",
       "      <td>3.078192</td>\n",
       "    </tr>\n",
       "    <tr>\n",
       "      <th>3</th>\n",
       "      <td>-540.449829</td>\n",
       "      <td>139.705780</td>\n",
       "      <td>29.665409</td>\n",
       "      <td>21.128056</td>\n",
       "      <td>3.132750</td>\n",
       "      <td>0.994988</td>\n",
       "      <td>0.255035</td>\n",
       "      <td>-0.820775</td>\n",
       "      <td>1.864982</td>\n",
       "      <td>0.350622</td>\n",
       "      <td>...</td>\n",
       "      <td>3.424932</td>\n",
       "      <td>2.889518</td>\n",
       "      <td>2.459073</td>\n",
       "      <td>2.296302</td>\n",
       "      <td>2.437574</td>\n",
       "      <td>3.083648</td>\n",
       "      <td>2.754676</td>\n",
       "      <td>2.309684</td>\n",
       "      <td>2.791369</td>\n",
       "      <td>2.983374</td>\n",
       "    </tr>\n",
       "    <tr>\n",
       "      <th>4</th>\n",
       "      <td>-543.696594</td>\n",
       "      <td>144.002136</td>\n",
       "      <td>36.112610</td>\n",
       "      <td>24.168007</td>\n",
       "      <td>2.962288</td>\n",
       "      <td>3.031038</td>\n",
       "      <td>-5.003596</td>\n",
       "      <td>1.735093</td>\n",
       "      <td>2.667939</td>\n",
       "      <td>1.482007</td>\n",
       "      <td>...</td>\n",
       "      <td>2.344167</td>\n",
       "      <td>3.222942</td>\n",
       "      <td>2.953240</td>\n",
       "      <td>2.791287</td>\n",
       "      <td>2.718980</td>\n",
       "      <td>2.942434</td>\n",
       "      <td>2.700898</td>\n",
       "      <td>2.942176</td>\n",
       "      <td>2.915053</td>\n",
       "      <td>2.179448</td>\n",
       "    </tr>\n",
       "    <tr>\n",
       "      <th>...</th>\n",
       "      <td>...</td>\n",
       "      <td>...</td>\n",
       "      <td>...</td>\n",
       "      <td>...</td>\n",
       "      <td>...</td>\n",
       "      <td>...</td>\n",
       "      <td>...</td>\n",
       "      <td>...</td>\n",
       "      <td>...</td>\n",
       "      <td>...</td>\n",
       "      <td>...</td>\n",
       "      <td>...</td>\n",
       "      <td>...</td>\n",
       "      <td>...</td>\n",
       "      <td>...</td>\n",
       "      <td>...</td>\n",
       "      <td>...</td>\n",
       "      <td>...</td>\n",
       "      <td>...</td>\n",
       "      <td>...</td>\n",
       "      <td>...</td>\n",
       "    </tr>\n",
       "    <tr>\n",
       "      <th>13995</th>\n",
       "      <td>-586.455139</td>\n",
       "      <td>137.282516</td>\n",
       "      <td>34.373566</td>\n",
       "      <td>17.421253</td>\n",
       "      <td>10.941988</td>\n",
       "      <td>4.078198</td>\n",
       "      <td>11.242457</td>\n",
       "      <td>5.941251</td>\n",
       "      <td>6.012725</td>\n",
       "      <td>8.022065</td>\n",
       "      <td>...</td>\n",
       "      <td>2.428052</td>\n",
       "      <td>2.559160</td>\n",
       "      <td>2.407419</td>\n",
       "      <td>3.277859</td>\n",
       "      <td>2.843850</td>\n",
       "      <td>2.667268</td>\n",
       "      <td>2.398551</td>\n",
       "      <td>2.329866</td>\n",
       "      <td>2.560516</td>\n",
       "      <td>2.335296</td>\n",
       "    </tr>\n",
       "    <tr>\n",
       "      <th>13996</th>\n",
       "      <td>-572.707092</td>\n",
       "      <td>143.127991</td>\n",
       "      <td>32.171494</td>\n",
       "      <td>18.097290</td>\n",
       "      <td>9.731588</td>\n",
       "      <td>5.532512</td>\n",
       "      <td>8.742662</td>\n",
       "      <td>3.005665</td>\n",
       "      <td>5.201865</td>\n",
       "      <td>7.527236</td>\n",
       "      <td>...</td>\n",
       "      <td>2.768167</td>\n",
       "      <td>2.137187</td>\n",
       "      <td>3.072467</td>\n",
       "      <td>2.713317</td>\n",
       "      <td>2.586028</td>\n",
       "      <td>3.205523</td>\n",
       "      <td>3.542013</td>\n",
       "      <td>2.731712</td>\n",
       "      <td>2.763573</td>\n",
       "      <td>2.462618</td>\n",
       "    </tr>\n",
       "    <tr>\n",
       "      <th>13997</th>\n",
       "      <td>-579.057922</td>\n",
       "      <td>134.726349</td>\n",
       "      <td>32.156475</td>\n",
       "      <td>19.218019</td>\n",
       "      <td>5.755665</td>\n",
       "      <td>3.477601</td>\n",
       "      <td>12.935046</td>\n",
       "      <td>6.404186</td>\n",
       "      <td>5.639282</td>\n",
       "      <td>6.843115</td>\n",
       "      <td>...</td>\n",
       "      <td>2.286288</td>\n",
       "      <td>3.401324</td>\n",
       "      <td>2.976722</td>\n",
       "      <td>2.437173</td>\n",
       "      <td>2.736468</td>\n",
       "      <td>2.637976</td>\n",
       "      <td>2.689160</td>\n",
       "      <td>2.406368</td>\n",
       "      <td>2.608299</td>\n",
       "      <td>2.571860</td>\n",
       "    </tr>\n",
       "    <tr>\n",
       "      <th>13998</th>\n",
       "      <td>-578.548889</td>\n",
       "      <td>141.396133</td>\n",
       "      <td>31.506187</td>\n",
       "      <td>20.068113</td>\n",
       "      <td>6.832242</td>\n",
       "      <td>3.192559</td>\n",
       "      <td>11.349093</td>\n",
       "      <td>4.352320</td>\n",
       "      <td>4.009240</td>\n",
       "      <td>5.281808</td>\n",
       "      <td>...</td>\n",
       "      <td>2.726443</td>\n",
       "      <td>2.538073</td>\n",
       "      <td>2.842417</td>\n",
       "      <td>2.398781</td>\n",
       "      <td>3.491852</td>\n",
       "      <td>2.933051</td>\n",
       "      <td>2.796699</td>\n",
       "      <td>2.359412</td>\n",
       "      <td>2.553164</td>\n",
       "      <td>2.986884</td>\n",
       "    </tr>\n",
       "    <tr>\n",
       "      <th>13999</th>\n",
       "      <td>-584.915710</td>\n",
       "      <td>136.170990</td>\n",
       "      <td>31.396416</td>\n",
       "      <td>13.880579</td>\n",
       "      <td>5.610675</td>\n",
       "      <td>1.289348</td>\n",
       "      <td>10.359846</td>\n",
       "      <td>7.912798</td>\n",
       "      <td>7.798289</td>\n",
       "      <td>7.257982</td>\n",
       "      <td>...</td>\n",
       "      <td>2.800722</td>\n",
       "      <td>2.659052</td>\n",
       "      <td>2.569515</td>\n",
       "      <td>2.672035</td>\n",
       "      <td>2.247468</td>\n",
       "      <td>2.508451</td>\n",
       "      <td>2.338107</td>\n",
       "      <td>3.018700</td>\n",
       "      <td>2.884820</td>\n",
       "      <td>2.603256</td>\n",
       "    </tr>\n",
       "  </tbody>\n",
       "</table>\n",
       "<p>14000 rows × 80 columns</p>\n",
       "</div>"
      ],
      "text/plain": [
       "               0           1          2          3          4         5   \\\n",
       "0     -531.931335  136.621933  45.603500  19.686640   6.475194  6.768497   \n",
       "1     -536.993347  138.456238  34.898472  20.860229   4.066461  3.119111   \n",
       "2     -525.730591  136.192719  36.625347  23.067327   0.258045  4.746896   \n",
       "3     -540.449829  139.705780  29.665409  21.128056   3.132750  0.994988   \n",
       "4     -543.696594  144.002136  36.112610  24.168007   2.962288  3.031038   \n",
       "...           ...         ...        ...        ...        ...       ...   \n",
       "13995 -586.455139  137.282516  34.373566  17.421253  10.941988  4.078198   \n",
       "13996 -572.707092  143.127991  32.171494  18.097290   9.731588  5.532512   \n",
       "13997 -579.057922  134.726349  32.156475  19.218019   5.755665  3.477601   \n",
       "13998 -578.548889  141.396133  31.506187  20.068113   6.832242  3.192559   \n",
       "13999 -584.915710  136.170990  31.396416  13.880579   5.610675  1.289348   \n",
       "\n",
       "              6         7         8         9   ...        70        71  \\\n",
       "0      -0.932306  6.658151  3.660365  2.098238  ...  3.410441  3.068254   \n",
       "1      -2.870780  0.477826  3.070781  0.220865  ...  3.271066  3.057924   \n",
       "2      -0.178224  2.476325  7.398917  3.634185  ...  2.569722  2.521067   \n",
       "3       0.255035 -0.820775  1.864982  0.350622  ...  3.424932  2.889518   \n",
       "4      -5.003596  1.735093  2.667939  1.482007  ...  2.344167  3.222942   \n",
       "...          ...       ...       ...       ...  ...       ...       ...   \n",
       "13995  11.242457  5.941251  6.012725  8.022065  ...  2.428052  2.559160   \n",
       "13996   8.742662  3.005665  5.201865  7.527236  ...  2.768167  2.137187   \n",
       "13997  12.935046  6.404186  5.639282  6.843115  ...  2.286288  3.401324   \n",
       "13998  11.349093  4.352320  4.009240  5.281808  ...  2.726443  2.538073   \n",
       "13999  10.359846  7.912798  7.798289  7.257982  ...  2.800722  2.659052   \n",
       "\n",
       "             72        73        74        75        76        77        78  \\\n",
       "0      3.461446  2.733752  2.617498  2.545141  3.265490  2.939814  3.251054   \n",
       "1      2.934288  2.283246  2.528649  3.761013  3.405852  3.222660  2.804340   \n",
       "2      2.660564  3.227906  2.621328  2.251341  2.990477  3.052036  2.337557   \n",
       "3      2.459073  2.296302  2.437574  3.083648  2.754676  2.309684  2.791369   \n",
       "4      2.953240  2.791287  2.718980  2.942434  2.700898  2.942176  2.915053   \n",
       "...         ...       ...       ...       ...       ...       ...       ...   \n",
       "13995  2.407419  3.277859  2.843850  2.667268  2.398551  2.329866  2.560516   \n",
       "13996  3.072467  2.713317  2.586028  3.205523  3.542013  2.731712  2.763573   \n",
       "13997  2.976722  2.437173  2.736468  2.637976  2.689160  2.406368  2.608299   \n",
       "13998  2.842417  2.398781  3.491852  2.933051  2.796699  2.359412  2.553164   \n",
       "13999  2.569515  2.672035  2.247468  2.508451  2.338107  3.018700  2.884820   \n",
       "\n",
       "             79  \n",
       "0      2.363111  \n",
       "1      2.501446  \n",
       "2      3.078192  \n",
       "3      2.983374  \n",
       "4      2.179448  \n",
       "...         ...  \n",
       "13995  2.335296  \n",
       "13996  2.462618  \n",
       "13997  2.571860  \n",
       "13998  2.986884  \n",
       "13999  2.603256  \n",
       "\n",
       "[14000 rows x 80 columns]"
      ]
     },
     "execution_count": 6,
     "metadata": {},
     "output_type": "execute_result"
    }
   ],
   "source": [
    "train_data"
   ]
  },
  {
   "cell_type": "code",
   "execution_count": 7,
   "id": "ab6c4e63-0d5d-45d1-8cdf-4a27081c0a1a",
   "metadata": {
    "canvas": {
     "comments": [],
     "componentType": "CodeCell",
     "copiedOriginId": null,
     "diskcache": false,
     "headerColor": "transparent",
     "id": "751673ba-abb1-4364-b640-62e8ef4ed30f",
     "isComponent": false,
     "name": "",
     "parents": []
    }
   },
   "outputs": [
    {
     "data": {
      "text/plain": [
       "(2000, 80)"
      ]
     },
     "execution_count": 7,
     "metadata": {},
     "output_type": "execute_result"
    }
   ],
   "source": [
    "queenless_test.shape"
   ]
  },
  {
   "cell_type": "code",
   "execution_count": 8,
   "id": "8038e59a-6911-4b1d-97b1-43ede2a97de1",
   "metadata": {
    "canvas": {
     "comments": [],
     "componentType": "CodeCell",
     "copiedOriginId": null,
     "diskcache": false,
     "headerColor": "transparent",
     "id": "74ed5712-3cc6-41c1-9895-ba94173732a2",
     "isComponent": false,
     "name": "",
     "parents": []
    }
   },
   "outputs": [],
   "source": [
    "test_label = pd.DataFrame(np.hstack([[0]*3000, [1]*3000]).T, columns=['labels'])\n",
    "test_data = pd.DataFrame(np.vstack([queen_test, queen_val, queenless_test, queenless_val]))\n",
    "\n"
   ]
  },
  {
   "cell_type": "code",
   "execution_count": 9,
   "id": "5472ecde-6917-425c-8551-0f4768a547f2",
   "metadata": {
    "canvas": {
     "comments": [],
     "componentType": "CodeCell",
     "copiedOriginId": null,
     "diskcache": false,
     "headerColor": "transparent",
     "id": "7fbc908f-c439-4da1-a6e0-44640890d618",
     "isComponent": false,
     "name": "",
     "parents": []
    }
   },
   "outputs": [],
   "source": [
    "from sklearn.metrics import accuracy_score\n",
    "from sklearn.preprocessing import StandardScaler\n",
    "from sklearn.svm import SVC"
   ]
  },
  {
   "cell_type": "code",
   "execution_count": 10,
   "id": "6baa3e64-f6a1-4cb5-b7df-36bbffd9a4bb",
   "metadata": {
    "canvas": {
     "comments": [],
     "componentType": "CodeCell",
     "copiedOriginId": null,
     "diskcache": false,
     "headerColor": "transparent",
     "id": "7419c5cf-a135-4788-a4e8-188a854f1115",
     "isComponent": false,
     "name": "",
     "parents": []
    }
   },
   "outputs": [],
   "source": [
    "scaler = StandardScaler()\n",
    "X_scaled = scaler.fit_transform(train_data)"
   ]
  },
  {
   "cell_type": "code",
   "execution_count": 11,
   "id": "8b352031-29e0-42c2-a7ba-2f83516efa5c",
   "metadata": {
    "canvas": {
     "comments": [],
     "componentType": "CodeCell",
     "copiedOriginId": null,
     "diskcache": false,
     "headerColor": "transparent",
     "id": "8fcc1841-f611-44fc-9fbe-bfb114aaf90e",
     "isComponent": false,
     "name": "",
     "parents": []
    }
   },
   "outputs": [],
   "source": [
    "X_test_scaled = scaler.transform(test_data)"
   ]
  },
  {
   "cell_type": "code",
   "execution_count": 12,
   "id": "07b7d9c6-9dbe-4e6f-952d-83d05e99be7b",
   "metadata": {
    "canvas": {
     "comments": [],
     "componentType": "CodeCell",
     "copiedOriginId": null,
     "diskcache": false,
     "headerColor": "transparent",
     "id": "a66c1b5a-0e1f-43a8-b09a-ddb83a6a215b",
     "isComponent": false,
     "name": "",
     "parents": []
    }
   },
   "outputs": [
    {
     "data": {
      "text/plain": [
       "array([[-0.20656753, -1.05254159,  1.80653149, ...,  0.70874456,\n",
       "         1.59604135, -0.75493088],\n",
       "       [-0.28666657, -0.89583887,  0.62970205, ...,  1.44871751,\n",
       "         0.40047672, -0.38207314],\n",
       "       [-0.10844967, -1.08920894,  0.81954159, ...,  1.00233595,\n",
       "        -0.84879803,  1.17243335],\n",
       "       ...,\n",
       "       [-0.95227791, -1.21447935,  0.32826777, ..., -0.686837  ,\n",
       "        -0.12419878, -0.19228823],\n",
       "       [-0.94422319, -0.64468669,  0.25678009, ..., -0.80968377,\n",
       "        -0.27175752,  0.92632872],\n",
       "       [-1.04496897, -1.09106518,  0.24471263, ...,  0.9151236 ,\n",
       "         0.61586909, -0.1076647 ]])"
      ]
     },
     "execution_count": 12,
     "metadata": {},
     "output_type": "execute_result"
    }
   ],
   "source": [
    "X_scaled"
   ]
  },
  {
   "cell_type": "code",
   "execution_count": 17,
   "id": "1a1bba8a-2cc0-448e-9cbf-f17a78595899",
   "metadata": {},
   "outputs": [],
   "source": [
    "import scipy\n",
    "svm_params = {\n",
    "              'C': scipy.stats.expon(scale=1.),\n",
    "              'gamma': scipy.stats.expon(scale=.1),\n",
    "              'kernel': ['linear', 'poly', 'rbf', 'sigmoid'],\n",
    "              }"
   ]
  },
  {
   "cell_type": "code",
   "execution_count": 18,
   "id": "2e0677fa-837d-4211-beea-aa56809b508b",
   "metadata": {
    "canvas": {
     "comments": [],
     "componentType": "CodeCell",
     "copiedOriginId": null,
     "diskcache": false,
     "headerColor": "transparent",
     "id": "69e803ed-8fad-4233-8804-e92bbae42f9f",
     "isComponent": false,
     "name": "",
     "parents": []
    }
   },
   "outputs": [
    {
     "name": "stdout",
     "output_type": "stream",
     "text": [
      "Fitting 5 folds for each of 50 candidates, totalling 250 fits\n",
      "[CV 1/5] END C=0.303844889921089, gamma=0.01727879133224798, kernel=sigmoid;, score=0.646 total time=   4.0s\n",
      "[CV 2/5] END C=0.303844889921089, gamma=0.01727879133224798, kernel=sigmoid;, score=0.611 total time=   4.5s\n",
      "[CV 3/5] END C=0.303844889921089, gamma=0.01727879133224798, kernel=sigmoid;, score=0.612 total time=   4.0s\n",
      "[CV 4/5] END C=0.303844889921089, gamma=0.01727879133224798, kernel=sigmoid;, score=0.616 total time=   3.2s\n",
      "[CV 5/5] END C=0.303844889921089, gamma=0.01727879133224798, kernel=sigmoid;, score=0.544 total time=   3.4s\n",
      "[CV 1/5] END C=0.7832484376848152, gamma=0.0034561824669283587, kernel=rbf;, score=0.630 total time=   3.0s\n",
      "[CV 2/5] END C=0.7832484376848152, gamma=0.0034561824669283587, kernel=rbf;, score=0.880 total time=   3.9s\n",
      "[CV 3/5] END C=0.7832484376848152, gamma=0.0034561824669283587, kernel=rbf;, score=0.723 total time=   3.4s\n",
      "[CV 4/5] END C=0.7832484376848152, gamma=0.0034561824669283587, kernel=rbf;, score=0.759 total time=   3.8s\n",
      "[CV 5/5] END C=0.7832484376848152, gamma=0.0034561824669283587, kernel=rbf;, score=0.699 total time=   3.2s\n",
      "[CV 1/5] END C=0.7306264777014994, gamma=0.030373412073939246, kernel=rbf;, score=0.698 total time=   4.4s\n",
      "[CV 2/5] END C=0.7306264777014994, gamma=0.030373412073939246, kernel=rbf;, score=0.904 total time=   5.4s\n",
      "[CV 3/5] END C=0.7306264777014994, gamma=0.030373412073939246, kernel=rbf;, score=0.750 total time=   5.5s\n",
      "[CV 4/5] END C=0.7306264777014994, gamma=0.030373412073939246, kernel=rbf;, score=0.870 total time=   5.7s\n",
      "[CV 5/5] END C=0.7306264777014994, gamma=0.030373412073939246, kernel=rbf;, score=0.733 total time=   5.4s\n",
      "[CV 1/5] END C=0.3153711064476698, gamma=0.03673789256245021, kernel=sigmoid;, score=0.630 total time=   4.7s\n",
      "[CV 2/5] END C=0.3153711064476698, gamma=0.03673789256245021, kernel=sigmoid;, score=0.554 total time=   5.0s\n",
      "[CV 3/5] END C=0.3153711064476698, gamma=0.03673789256245021, kernel=sigmoid;, score=0.586 total time=   4.4s\n",
      "[CV 4/5] END C=0.3153711064476698, gamma=0.03673789256245021, kernel=sigmoid;, score=0.537 total time=   5.9s\n",
      "[CV 5/5] END C=0.3153711064476698, gamma=0.03673789256245021, kernel=sigmoid;, score=0.514 total time=   3.5s\n",
      "[CV 1/5] END C=0.4882084457330204, gamma=0.09902095899026118, kernel=rbf;, score=0.641 total time=   8.8s\n",
      "[CV 2/5] END C=0.4882084457330204, gamma=0.09902095899026118, kernel=rbf;, score=0.698 total time=   9.1s\n",
      "[CV 3/5] END C=0.4882084457330204, gamma=0.09902095899026118, kernel=rbf;, score=0.669 total time=   8.8s\n",
      "[CV 4/5] END C=0.4882084457330204, gamma=0.09902095899026118, kernel=rbf;, score=0.627 total time=   9.1s\n",
      "[CV 5/5] END C=0.4882084457330204, gamma=0.09902095899026118, kernel=rbf;, score=0.671 total time=   8.9s\n",
      "[CV 1/5] END C=1.3515279183627729, gamma=0.01742922407087457, kernel=linear;, score=0.600 total time=   8.9s\n",
      "[CV 2/5] END C=1.3515279183627729, gamma=0.01742922407087457, kernel=linear;, score=0.855 total time=  13.0s\n",
      "[CV 3/5] END C=1.3515279183627729, gamma=0.01742922407087457, kernel=linear;, score=0.702 total time=  12.2s\n",
      "[CV 4/5] END C=1.3515279183627729, gamma=0.01742922407087457, kernel=linear;, score=0.669 total time=  14.4s\n",
      "[CV 5/5] END C=1.3515279183627729, gamma=0.01742922407087457, kernel=linear;, score=0.573 total time=  10.7s\n",
      "[CV 1/5] END C=1.558546823533874, gamma=0.15804548865587292, kernel=sigmoid;, score=0.627 total time=   6.2s\n",
      "[CV 2/5] END C=1.558546823533874, gamma=0.15804548865587292, kernel=sigmoid;, score=0.533 total time=   5.7s\n",
      "[CV 3/5] END C=1.558546823533874, gamma=0.15804548865587292, kernel=sigmoid;, score=0.539 total time=   6.1s\n",
      "[CV 4/5] END C=1.558546823533874, gamma=0.15804548865587292, kernel=sigmoid;, score=0.480 total time=   6.0s\n",
      "[CV 5/5] END C=1.558546823533874, gamma=0.15804548865587292, kernel=sigmoid;, score=0.464 total time=   5.1s\n",
      "[CV 1/5] END C=0.6228285655204775, gamma=0.04797609312078808, kernel=linear;, score=0.601 total time=   5.9s\n",
      "[CV 2/5] END C=0.6228285655204775, gamma=0.04797609312078808, kernel=linear;, score=0.856 total time=   9.2s\n",
      "[CV 3/5] END C=0.6228285655204775, gamma=0.04797609312078808, kernel=linear;, score=0.702 total time=   7.2s\n",
      "[CV 4/5] END C=0.6228285655204775, gamma=0.04797609312078808, kernel=linear;, score=0.669 total time=   8.4s\n",
      "[CV 5/5] END C=0.6228285655204775, gamma=0.04797609312078808, kernel=linear;, score=0.575 total time=   6.5s\n",
      "[CV 1/5] END C=1.4278323360840555, gamma=0.020801901274484932, kernel=rbf;, score=0.717 total time=   3.4s\n",
      "[CV 2/5] END C=1.4278323360840555, gamma=0.020801901274484932, kernel=rbf;, score=0.917 total time=   4.3s\n",
      "[CV 3/5] END C=1.4278323360840555, gamma=0.020801901274484932, kernel=rbf;, score=0.747 total time=   4.0s\n",
      "[CV 4/5] END C=1.4278323360840555, gamma=0.020801901274484932, kernel=rbf;, score=0.847 total time=   4.3s\n",
      "[CV 5/5] END C=1.4278323360840555, gamma=0.020801901274484932, kernel=rbf;, score=0.750 total time=   4.0s\n",
      "[CV 1/5] END C=1.9919553742964715, gamma=0.051922896891217, kernel=poly;, score=0.695 total time=   2.5s\n",
      "[CV 2/5] END C=1.9919553742964715, gamma=0.051922896891217, kernel=poly;, score=0.894 total time=   3.4s\n",
      "[CV 3/5] END C=1.9919553742964715, gamma=0.051922896891217, kernel=poly;, score=0.738 total time=   3.2s\n",
      "[CV 4/5] END C=1.9919553742964715, gamma=0.051922896891217, kernel=poly;, score=0.869 total time=   3.3s\n",
      "[CV 5/5] END C=1.9919553742964715, gamma=0.051922896891217, kernel=poly;, score=0.751 total time=   2.7s\n",
      "[CV 1/5] END C=0.19670694471160996, gamma=0.053297120606082396, kernel=rbf;, score=0.696 total time=   6.9s\n",
      "[CV 2/5] END C=0.19670694471160996, gamma=0.053297120606082396, kernel=rbf;, score=0.774 total time=   7.1s\n",
      "[CV 3/5] END C=0.19670694471160996, gamma=0.053297120606082396, kernel=rbf;, score=0.715 total time=   7.2s\n",
      "[CV 4/5] END C=0.19670694471160996, gamma=0.053297120606082396, kernel=rbf;, score=0.830 total time=   8.3s\n",
      "[CV 5/5] END C=0.19670694471160996, gamma=0.053297120606082396, kernel=rbf;, score=0.689 total time=   7.3s\n",
      "[CV 1/5] END C=2.2793954028911796, gamma=0.26367598102084305, kernel=rbf;, score=0.560 total time=  24.8s\n",
      "[CV 2/5] END C=2.2793954028911796, gamma=0.26367598102084305, kernel=rbf;, score=0.548 total time=  23.3s\n",
      "[CV 3/5] END C=2.2793954028911796, gamma=0.26367598102084305, kernel=rbf;, score=0.566 total time=  28.1s\n",
      "[CV 4/5] END C=2.2793954028911796, gamma=0.26367598102084305, kernel=rbf;, score=0.516 total time=  25.4s\n",
      "[CV 5/5] END C=2.2793954028911796, gamma=0.26367598102084305, kernel=rbf;, score=0.510 total time=  24.4s\n",
      "[CV 1/5] END C=0.20487512121855386, gamma=0.31549442927063437, kernel=rbf;, score=0.559 total time=   8.4s\n",
      "[CV 2/5] END C=0.20487512121855386, gamma=0.31549442927063437, kernel=rbf;, score=0.547 total time=   8.3s\n",
      "[CV 3/5] END C=0.20487512121855386, gamma=0.31549442927063437, kernel=rbf;, score=0.565 total time=   8.4s\n",
      "[CV 4/5] END C=0.20487512121855386, gamma=0.31549442927063437, kernel=rbf;, score=0.516 total time=   8.4s\n",
      "[CV 5/5] END C=0.20487512121855386, gamma=0.31549442927063437, kernel=rbf;, score=0.510 total time=   9.5s\n",
      "[CV 1/5] END C=1.6797413904914267, gamma=0.11784842261748381, kernel=rbf;, score=0.665 total time=  19.5s\n",
      "[CV 2/5] END C=1.6797413904914267, gamma=0.11784842261748381, kernel=rbf;, score=0.828 total time=  18.8s\n",
      "[CV 3/5] END C=1.6797413904914267, gamma=0.11784842261748381, kernel=rbf;, score=0.715 total time=  19.6s\n",
      "[CV 4/5] END C=1.6797413904914267, gamma=0.11784842261748381, kernel=rbf;, score=0.672 total time=  19.9s\n",
      "[CV 5/5] END C=1.6797413904914267, gamma=0.11784842261748381, kernel=rbf;, score=0.679 total time=  19.9s\n",
      "[CV 1/5] END C=0.01591746557660858, gamma=0.13156125064608368, kernel=sigmoid;, score=0.625 total time=   6.7s\n",
      "[CV 2/5] END C=0.01591746557660858, gamma=0.13156125064608368, kernel=sigmoid;, score=0.541 total time=   7.0s\n",
      "[CV 3/5] END C=0.01591746557660858, gamma=0.13156125064608368, kernel=sigmoid;, score=0.541 total time=   7.0s\n",
      "[CV 4/5] END C=0.01591746557660858, gamma=0.13156125064608368, kernel=sigmoid;, score=0.497 total time=   7.7s\n",
      "[CV 5/5] END C=0.01591746557660858, gamma=0.13156125064608368, kernel=sigmoid;, score=0.468 total time=   6.0s\n",
      "[CV 1/5] END C=1.0939127823295829, gamma=0.06119591306179935, kernel=poly;, score=0.695 total time=   2.3s\n",
      "[CV 2/5] END C=1.0939127823295829, gamma=0.06119591306179935, kernel=poly;, score=0.894 total time=   3.0s\n",
      "[CV 3/5] END C=1.0939127823295829, gamma=0.06119591306179935, kernel=poly;, score=0.738 total time=   3.0s\n",
      "[CV 4/5] END C=1.0939127823295829, gamma=0.06119591306179935, kernel=poly;, score=0.869 total time=   3.4s\n",
      "[CV 5/5] END C=1.0939127823295829, gamma=0.06119591306179935, kernel=poly;, score=0.751 total time=   2.8s\n",
      "[CV 1/5] END C=0.4697383597609102, gamma=0.1181622588945746, kernel=rbf;, score=0.647 total time=   8.4s\n",
      "[CV 2/5] END C=0.4697383597609102, gamma=0.1181622588945746, kernel=rbf;, score=0.655 total time=   8.5s\n",
      "[CV 3/5] END C=0.4697383597609102, gamma=0.1181622588945746, kernel=rbf;, score=0.625 total time=   8.4s\n",
      "[CV 4/5] END C=0.4697383597609102, gamma=0.1181622588945746, kernel=rbf;, score=0.591 total time=   8.3s\n",
      "[CV 5/5] END C=0.4697383597609102, gamma=0.1181622588945746, kernel=rbf;, score=0.743 total time=   8.4s\n",
      "[CV 1/5] END C=1.1335258444128815, gamma=0.18841296649198558, kernel=linear;, score=0.600 total time=   7.8s\n",
      "[CV 2/5] END C=1.1335258444128815, gamma=0.18841296649198558, kernel=linear;, score=0.855 total time=  11.5s\n",
      "[CV 3/5] END C=1.1335258444128815, gamma=0.18841296649198558, kernel=linear;, score=0.702 total time=   9.5s\n",
      "[CV 4/5] END C=1.1335258444128815, gamma=0.18841296649198558, kernel=linear;, score=0.669 total time=  12.3s\n",
      "[CV 5/5] END C=1.1335258444128815, gamma=0.18841296649198558, kernel=linear;, score=0.574 total time=   8.7s\n",
      "[CV 1/5] END C=1.5574912354120123, gamma=0.043042792172576796, kernel=poly;, score=0.695 total time=   2.3s\n",
      "[CV 2/5] END C=1.5574912354120123, gamma=0.043042792172576796, kernel=poly;, score=0.894 total time=   3.1s\n",
      "[CV 3/5] END C=1.5574912354120123, gamma=0.043042792172576796, kernel=poly;, score=0.738 total time=   2.9s\n",
      "[CV 4/5] END C=1.5574912354120123, gamma=0.043042792172576796, kernel=poly;, score=0.869 total time=   3.2s\n",
      "[CV 5/5] END C=1.5574912354120123, gamma=0.043042792172576796, kernel=poly;, score=0.751 total time=   2.6s\n",
      "[CV 1/5] END C=0.7467366848343291, gamma=0.11337091212962108, kernel=rbf;, score=0.643 total time=   8.6s\n",
      "[CV 2/5] END C=0.7467366848343291, gamma=0.11337091212962108, kernel=rbf;, score=0.820 total time=   8.6s\n",
      "[CV 3/5] END C=0.7467366848343291, gamma=0.11337091212962108, kernel=rbf;, score=0.709 total time=   8.5s\n",
      "[CV 4/5] END C=0.7467366848343291, gamma=0.11337091212962108, kernel=rbf;, score=0.575 total time=   9.1s\n",
      "[CV 5/5] END C=0.7467366848343291, gamma=0.11337091212962108, kernel=rbf;, score=0.592 total time=   8.7s\n",
      "[CV 1/5] END C=1.8076930168746517, gamma=0.09422172691303696, kernel=sigmoid;, score=0.627 total time=   5.2s\n",
      "[CV 2/5] END C=1.8076930168746517, gamma=0.09422172691303696, kernel=sigmoid;, score=0.538 total time=   5.7s\n",
      "[CV 3/5] END C=1.8076930168746517, gamma=0.09422172691303696, kernel=sigmoid;, score=0.553 total time=   5.4s\n",
      "[CV 4/5] END C=1.8076930168746517, gamma=0.09422172691303696, kernel=sigmoid;, score=0.508 total time=   7.0s\n",
      "[CV 5/5] END C=1.8076930168746517, gamma=0.09422172691303696, kernel=sigmoid;, score=0.466 total time=   4.8s\n",
      "[CV 1/5] END C=1.81985774344105, gamma=0.13279275367694016, kernel=rbf;, score=0.655 total time=  19.6s\n",
      "[CV 2/5] END C=1.81985774344105, gamma=0.13279275367694016, kernel=rbf;, score=0.805 total time=  19.5s\n",
      "[CV 3/5] END C=1.81985774344105, gamma=0.13279275367694016, kernel=rbf;, score=0.715 total time=  19.7s\n",
      "[CV 4/5] END C=1.81985774344105, gamma=0.13279275367694016, kernel=rbf;, score=0.613 total time=  23.3s\n",
      "[CV 5/5] END C=1.81985774344105, gamma=0.13279275367694016, kernel=rbf;, score=0.630 total time=  23.2s\n",
      "[CV 1/5] END C=0.014482219965116136, gamma=0.009326185298152961, kernel=linear;, score=0.600 total time=   2.2s\n",
      "[CV 2/5] END C=0.014482219965116136, gamma=0.009326185298152961, kernel=linear;, score=0.852 total time=   3.1s\n",
      "[CV 3/5] END C=0.014482219965116136, gamma=0.009326185298152961, kernel=linear;, score=0.703 total time=   2.9s\n",
      "[CV 4/5] END C=0.014482219965116136, gamma=0.009326185298152961, kernel=linear;, score=0.660 total time=   3.1s\n",
      "[CV 5/5] END C=0.014482219965116136, gamma=0.009326185298152961, kernel=linear;, score=0.596 total time=   2.9s\n",
      "[CV 1/5] END C=0.3240826142391112, gamma=0.21488027370997706, kernel=linear;, score=0.600 total time=   4.5s\n",
      "[CV 2/5] END C=0.3240826142391112, gamma=0.21488027370997706, kernel=linear;, score=0.856 total time=   6.0s\n",
      "[CV 3/5] END C=0.3240826142391112, gamma=0.21488027370997706, kernel=linear;, score=0.703 total time=   5.5s\n",
      "[CV 4/5] END C=0.3240826142391112, gamma=0.21488027370997706, kernel=linear;, score=0.669 total time=   6.4s\n",
      "[CV 5/5] END C=0.3240826142391112, gamma=0.21488027370997706, kernel=linear;, score=0.582 total time=   4.6s\n",
      "[CV 1/5] END C=0.4169345893408434, gamma=0.12832238901790374, kernel=sigmoid;, score=0.629 total time=   6.2s\n",
      "[CV 2/5] END C=0.4169345893408434, gamma=0.12832238901790374, kernel=sigmoid;, score=0.537 total time=   6.3s\n",
      "[CV 3/5] END C=0.4169345893408434, gamma=0.12832238901790374, kernel=sigmoid;, score=0.545 total time=   6.0s\n",
      "[CV 4/5] END C=0.4169345893408434, gamma=0.12832238901790374, kernel=sigmoid;, score=0.499 total time=   6.7s\n",
      "[CV 5/5] END C=0.4169345893408434, gamma=0.12832238901790374, kernel=sigmoid;, score=0.459 total time=   5.6s\n",
      "[CV 1/5] END C=1.1643590045497965, gamma=0.22062300582124245, kernel=rbf;, score=0.564 total time=  26.7s\n",
      "[CV 2/5] END C=1.1643590045497965, gamma=0.22062300582124245, kernel=rbf;, score=0.552 total time=  21.1s\n",
      "[CV 3/5] END C=1.1643590045497965, gamma=0.22062300582124245, kernel=rbf;, score=0.573 total time=  26.7s\n",
      "[CV 4/5] END C=1.1643590045497965, gamma=0.22062300582124245, kernel=rbf;, score=0.519 total time=  24.3s\n",
      "[CV 5/5] END C=1.1643590045497965, gamma=0.22062300582124245, kernel=rbf;, score=0.510 total time=  24.4s\n",
      "[CV 1/5] END C=0.2112712143624465, gamma=0.10980064299470263, kernel=sigmoid;, score=0.629 total time=   5.7s\n",
      "[CV 2/5] END C=0.2112712143624465, gamma=0.10980064299470263, kernel=sigmoid;, score=0.536 total time=   5.9s\n",
      "[CV 3/5] END C=0.2112712143624465, gamma=0.10980064299470263, kernel=sigmoid;, score=0.547 total time=   5.4s\n",
      "[CV 4/5] END C=0.2112712143624465, gamma=0.10980064299470263, kernel=sigmoid;, score=0.505 total time=   6.3s\n",
      "[CV 5/5] END C=0.2112712143624465, gamma=0.10980064299470263, kernel=sigmoid;, score=0.463 total time=   4.7s\n",
      "[CV 1/5] END C=1.1006010403700466, gamma=0.08090355474017868, kernel=poly;, score=0.695 total time=   2.7s\n",
      "[CV 2/5] END C=1.1006010403700466, gamma=0.08090355474017868, kernel=poly;, score=0.894 total time=   3.2s\n",
      "[CV 3/5] END C=1.1006010403700466, gamma=0.08090355474017868, kernel=poly;, score=0.738 total time=   2.9s\n",
      "[CV 4/5] END C=1.1006010403700466, gamma=0.08090355474017868, kernel=poly;, score=0.869 total time=   3.3s\n",
      "[CV 5/5] END C=1.1006010403700466, gamma=0.08090355474017868, kernel=poly;, score=0.751 total time=   2.7s\n",
      "[CV 1/5] END C=0.392091786280601, gamma=0.1204968032899795, kernel=sigmoid;, score=0.629 total time=   6.0s\n",
      "[CV 2/5] END C=0.392091786280601, gamma=0.1204968032899795, kernel=sigmoid;, score=0.536 total time=   5.9s\n",
      "[CV 3/5] END C=0.392091786280601, gamma=0.1204968032899795, kernel=sigmoid;, score=0.545 total time=   6.0s\n",
      "[CV 4/5] END C=0.392091786280601, gamma=0.1204968032899795, kernel=sigmoid;, score=0.501 total time=   6.1s\n",
      "[CV 5/5] END C=0.392091786280601, gamma=0.1204968032899795, kernel=sigmoid;, score=0.460 total time=   5.2s\n",
      "[CV 1/5] END C=0.36552509167472647, gamma=0.3949336024337214, kernel=linear;, score=0.600 total time=   4.1s\n",
      "[CV 2/5] END C=0.36552509167472647, gamma=0.3949336024337214, kernel=linear;, score=0.856 total time=   6.8s\n",
      "[CV 3/5] END C=0.36552509167472647, gamma=0.3949336024337214, kernel=linear;, score=0.703 total time=   5.3s\n",
      "[CV 4/5] END C=0.36552509167472647, gamma=0.3949336024337214, kernel=linear;, score=0.669 total time=   6.1s\n",
      "[CV 5/5] END C=0.36552509167472647, gamma=0.3949336024337214, kernel=linear;, score=0.581 total time=   4.7s\n",
      "[CV 1/5] END C=0.6308223058390395, gamma=0.05959560777916554, kernel=poly;, score=0.695 total time=   2.5s\n",
      "[CV 2/5] END C=0.6308223058390395, gamma=0.05959560777916554, kernel=poly;, score=0.894 total time=   3.2s\n",
      "[CV 3/5] END C=0.6308223058390395, gamma=0.05959560777916554, kernel=poly;, score=0.738 total time=   3.3s\n",
      "[CV 4/5] END C=0.6308223058390395, gamma=0.05959560777916554, kernel=poly;, score=0.869 total time=   3.2s\n",
      "[CV 5/5] END C=0.6308223058390395, gamma=0.05959560777916554, kernel=poly;, score=0.751 total time=   2.7s\n",
      "[CV 1/5] END C=2.164451780873936, gamma=0.06599455306166684, kernel=sigmoid;, score=0.628 total time=   4.5s\n",
      "[CV 2/5] END C=2.164451780873936, gamma=0.06599455306166684, kernel=sigmoid;, score=0.538 total time=   4.7s\n",
      "[CV 3/5] END C=2.164451780873936, gamma=0.06599455306166684, kernel=sigmoid;, score=0.568 total time=   4.4s\n",
      "[CV 4/5] END C=2.164451780873936, gamma=0.06599455306166684, kernel=sigmoid;, score=0.525 total time=   5.4s\n",
      "[CV 5/5] END C=2.164451780873936, gamma=0.06599455306166684, kernel=sigmoid;, score=0.477 total time=   4.1s\n",
      "[CV 1/5] END C=1.2871656556693407, gamma=0.1575147760647656, kernel=rbf;, score=0.635 total time=  20.0s\n",
      "[CV 2/5] END C=1.2871656556693407, gamma=0.1575147760647656, kernel=rbf;, score=0.704 total time=  19.5s\n",
      "[CV 3/5] END C=1.2871656556693407, gamma=0.1575147760647656, kernel=rbf;, score=0.682 total time=  20.1s\n",
      "[CV 4/5] END C=1.2871656556693407, gamma=0.1575147760647656, kernel=rbf;, score=0.552 total time=  22.2s\n",
      "[CV 5/5] END C=1.2871656556693407, gamma=0.1575147760647656, kernel=rbf;, score=0.549 total time=  21.2s\n",
      "[CV 1/5] END C=0.012275201549990854, gamma=0.046146603494943386, kernel=rbf;, score=0.609 total time=   9.3s\n",
      "[CV 2/5] END C=0.012275201549990854, gamma=0.046146603494943386, kernel=rbf;, score=0.672 total time=   9.3s\n",
      "[CV 3/5] END C=0.012275201549990854, gamma=0.046146603494943386, kernel=rbf;, score=0.679 total time=   9.1s\n",
      "[CV 4/5] END C=0.012275201549990854, gamma=0.046146603494943386, kernel=rbf;, score=0.719 total time=   9.2s\n",
      "[CV 5/5] END C=0.012275201549990854, gamma=0.046146603494943386, kernel=rbf;, score=0.551 total time=   9.7s\n",
      "[CV 1/5] END C=2.2754333694905635, gamma=0.05450864278704275, kernel=linear;, score=0.600 total time=  12.8s\n",
      "[CV 2/5] END C=2.2754333694905635, gamma=0.05450864278704275, kernel=linear;, score=0.855 total time=  18.8s\n",
      "[CV 3/5] END C=2.2754333694905635, gamma=0.05450864278704275, kernel=linear;, score=0.702 total time=  14.8s\n",
      "[CV 4/5] END C=2.2754333694905635, gamma=0.05450864278704275, kernel=linear;, score=0.669 total time=  18.2s\n",
      "[CV 5/5] END C=2.2754333694905635, gamma=0.05450864278704275, kernel=linear;, score=0.573 total time=  14.8s\n",
      "[CV 1/5] END C=1.0876030018244225, gamma=0.35586577171434786, kernel=rbf;, score=0.559 total time=  23.6s\n",
      "[CV 2/5] END C=1.0876030018244225, gamma=0.35586577171434786, kernel=rbf;, score=0.547 total time=  23.0s\n",
      "[CV 3/5] END C=1.0876030018244225, gamma=0.35586577171434786, kernel=rbf;, score=0.565 total time=  28.9s\n",
      "[CV 4/5] END C=1.0876030018244225, gamma=0.35586577171434786, kernel=rbf;, score=0.516 total time=  24.9s\n",
      "[CV 5/5] END C=1.0876030018244225, gamma=0.35586577171434786, kernel=rbf;, score=0.510 total time=  24.2s\n",
      "[CV 1/5] END C=0.7610609137236036, gamma=0.027116688874041218, kernel=poly;, score=0.688 total time=   2.8s\n",
      "[CV 2/5] END C=0.7610609137236036, gamma=0.027116688874041218, kernel=poly;, score=0.893 total time=   3.2s\n",
      "[CV 3/5] END C=0.7610609137236036, gamma=0.027116688874041218, kernel=poly;, score=0.739 total time=   2.9s\n",
      "[CV 4/5] END C=0.7610609137236036, gamma=0.027116688874041218, kernel=poly;, score=0.867 total time=   3.3s\n",
      "[CV 5/5] END C=0.7610609137236036, gamma=0.027116688874041218, kernel=poly;, score=0.755 total time=   2.7s\n",
      "[CV 1/5] END C=0.7525517251144095, gamma=0.015962999832808047, kernel=linear;, score=0.601 total time=   6.3s\n",
      "[CV 2/5] END C=0.7525517251144095, gamma=0.015962999832808047, kernel=linear;, score=0.856 total time=   9.3s\n",
      "[CV 3/5] END C=0.7525517251144095, gamma=0.015962999832808047, kernel=linear;, score=0.702 total time=   7.6s\n",
      "[CV 4/5] END C=0.7525517251144095, gamma=0.015962999832808047, kernel=linear;, score=0.670 total time=   8.8s\n",
      "[CV 5/5] END C=0.7525517251144095, gamma=0.015962999832808047, kernel=linear;, score=0.574 total time=   7.5s\n",
      "[CV 1/5] END C=0.2693828086299579, gamma=0.05616957276527967, kernel=poly;, score=0.694 total time=   3.0s\n",
      "[CV 2/5] END C=0.2693828086299579, gamma=0.05616957276527967, kernel=poly;, score=0.895 total time=   3.3s\n",
      "[CV 3/5] END C=0.2693828086299579, gamma=0.05616957276527967, kernel=poly;, score=0.736 total time=   3.3s\n",
      "[CV 4/5] END C=0.2693828086299579, gamma=0.05616957276527967, kernel=poly;, score=0.868 total time=   3.7s\n",
      "[CV 5/5] END C=0.2693828086299579, gamma=0.05616957276527967, kernel=poly;, score=0.751 total time=   2.9s\n",
      "[CV 1/5] END C=4.6985191678462375, gamma=0.1583960656940559, kernel=poly;, score=0.695 total time=   2.4s\n",
      "[CV 2/5] END C=4.6985191678462375, gamma=0.1583960656940559, kernel=poly;, score=0.894 total time=   3.1s\n",
      "[CV 3/5] END C=4.6985191678462375, gamma=0.1583960656940559, kernel=poly;, score=0.738 total time=   3.1s\n",
      "[CV 4/5] END C=4.6985191678462375, gamma=0.1583960656940559, kernel=poly;, score=0.869 total time=   3.5s\n",
      "[CV 5/5] END C=4.6985191678462375, gamma=0.1583960656940559, kernel=poly;, score=0.751 total time=   2.8s\n",
      "[CV 1/5] END C=1.1509159001207487, gamma=0.0028080302366394107, kernel=rbf;, score=0.627 total time=   2.9s\n",
      "[CV 2/5] END C=1.1509159001207487, gamma=0.0028080302366394107, kernel=rbf;, score=0.883 total time=   4.0s\n",
      "[CV 3/5] END C=1.1509159001207487, gamma=0.0028080302366394107, kernel=rbf;, score=0.723 total time=   3.4s\n",
      "[CV 4/5] END C=1.1509159001207487, gamma=0.0028080302366394107, kernel=rbf;, score=0.764 total time=   3.7s\n",
      "[CV 5/5] END C=1.1509159001207487, gamma=0.0028080302366394107, kernel=rbf;, score=0.690 total time=   3.2s\n",
      "[CV 1/5] END C=1.2365210611773927, gamma=0.07414250895567491, kernel=sigmoid;, score=0.632 total time=   5.1s\n",
      "[CV 2/5] END C=1.2365210611773927, gamma=0.07414250895567491, kernel=sigmoid;, score=0.540 total time=   5.1s\n",
      "[CV 3/5] END C=1.2365210611773927, gamma=0.07414250895567491, kernel=sigmoid;, score=0.569 total time=   4.8s\n",
      "[CV 4/5] END C=1.2365210611773927, gamma=0.07414250895567491, kernel=sigmoid;, score=0.525 total time=   5.4s\n",
      "[CV 5/5] END C=1.2365210611773927, gamma=0.07414250895567491, kernel=sigmoid;, score=0.473 total time=   4.3s\n",
      "[CV 1/5] END C=0.950892283927424, gamma=0.0523367665641311, kernel=sigmoid;, score=0.627 total time=   4.8s\n",
      "[CV 2/5] END C=0.950892283927424, gamma=0.0523367665641311, kernel=sigmoid;, score=0.540 total time=   4.8s\n",
      "[CV 3/5] END C=0.950892283927424, gamma=0.0523367665641311, kernel=sigmoid;, score=0.573 total time=   4.6s\n",
      "[CV 4/5] END C=0.950892283927424, gamma=0.0523367665641311, kernel=sigmoid;, score=0.531 total time=   5.3s\n",
      "[CV 5/5] END C=0.950892283927424, gamma=0.0523367665641311, kernel=sigmoid;, score=0.496 total time=   4.7s\n",
      "[CV 1/5] END C=0.01294914949011914, gamma=0.09951035251938066, kernel=linear;, score=0.600 total time=   2.4s\n",
      "[CV 2/5] END C=0.01294914949011914, gamma=0.09951035251938066, kernel=linear;, score=0.853 total time=   3.0s\n",
      "[CV 3/5] END C=0.01294914949011914, gamma=0.09951035251938066, kernel=linear;, score=0.704 total time=   2.6s\n",
      "[CV 4/5] END C=0.01294914949011914, gamma=0.09951035251938066, kernel=linear;, score=0.659 total time=   3.1s\n",
      "[CV 5/5] END C=0.01294914949011914, gamma=0.09951035251938066, kernel=linear;, score=0.595 total time=   2.4s\n",
      "[CV 1/5] END C=0.4945709663121865, gamma=0.12005014672038171, kernel=poly;, score=0.695 total time=   2.4s\n",
      "[CV 2/5] END C=0.4945709663121865, gamma=0.12005014672038171, kernel=poly;, score=0.894 total time=   3.5s\n",
      "[CV 3/5] END C=0.4945709663121865, gamma=0.12005014672038171, kernel=poly;, score=0.738 total time=   3.2s\n",
      "[CV 4/5] END C=0.4945709663121865, gamma=0.12005014672038171, kernel=poly;, score=0.869 total time=   4.9s\n",
      "[CV 5/5] END C=0.4945709663121865, gamma=0.12005014672038171, kernel=poly;, score=0.751 total time=   3.8s\n",
      "[CV 1/5] END C=0.2503237782850184, gamma=0.049424689795038605, kernel=linear;, score=0.600 total time=   3.8s\n",
      "[CV 2/5] END C=0.2503237782850184, gamma=0.049424689795038605, kernel=linear;, score=0.857 total time=   6.2s\n",
      "[CV 3/5] END C=0.2503237782850184, gamma=0.049424689795038605, kernel=linear;, score=0.703 total time=   4.5s\n",
      "[CV 4/5] END C=0.2503237782850184, gamma=0.049424689795038605, kernel=linear;, score=0.669 total time=   5.0s\n",
      "[CV 5/5] END C=0.2503237782850184, gamma=0.049424689795038605, kernel=linear;, score=0.581 total time=   4.1s\n",
      "[CV 1/5] END C=0.6631202315104145, gamma=0.004943722695896254, kernel=rbf;, score=0.637 total time=   2.8s\n",
      "[CV 2/5] END C=0.6631202315104145, gamma=0.004943722695896254, kernel=rbf;, score=0.884 total time=   3.8s\n",
      "[CV 3/5] END C=0.6631202315104145, gamma=0.004943722695896254, kernel=rbf;, score=0.726 total time=   3.6s\n",
      "[CV 4/5] END C=0.6631202315104145, gamma=0.004943722695896254, kernel=rbf;, score=0.800 total time=   4.0s\n",
      "[CV 5/5] END C=0.6631202315104145, gamma=0.004943722695896254, kernel=rbf;, score=0.710 total time=   3.1s\n",
      "[CV 1/5] END C=2.0403451672793604, gamma=0.06399932165362045, kernel=linear;, score=0.600 total time=  12.5s\n",
      "[CV 2/5] END C=2.0403451672793604, gamma=0.06399932165362045, kernel=linear;, score=0.855 total time=  18.0s\n",
      "[CV 3/5] END C=2.0403451672793604, gamma=0.06399932165362045, kernel=linear;, score=0.702 total time=  15.6s\n",
      "[CV 4/5] END C=2.0403451672793604, gamma=0.06399932165362045, kernel=linear;, score=0.669 total time=  18.5s\n",
      "[CV 5/5] END C=2.0403451672793604, gamma=0.06399932165362045, kernel=linear;, score=0.574 total time=  14.6s\n",
      "[CV 1/5] END C=0.10142381433624093, gamma=0.0037940598893044667, kernel=poly;, score=0.547 total time=   7.5s\n",
      "[CV 2/5] END C=0.10142381433624093, gamma=0.0037940598893044667, kernel=poly;, score=0.554 total time=   6.8s\n",
      "[CV 3/5] END C=0.10142381433624093, gamma=0.0037940598893044667, kernel=poly;, score=0.565 total time=   6.7s\n",
      "[CV 4/5] END C=0.10142381433624093, gamma=0.0037940598893044667, kernel=poly;, score=0.580 total time=   7.2s\n",
      "[CV 5/5] END C=0.10142381433624093, gamma=0.0037940598893044667, kernel=poly;, score=0.551 total time=   6.0s\n",
      "[CV 1/5] END C=0.3458205595452244, gamma=0.0002427327023772479, kernel=rbf;, score=0.640 total time=   6.1s\n",
      "[CV 2/5] END C=0.3458205595452244, gamma=0.0002427327023772479, kernel=rbf;, score=0.738 total time=   6.6s\n",
      "[CV 3/5] END C=0.3458205595452244, gamma=0.0002427327023772479, kernel=rbf;, score=0.698 total time=   6.1s\n",
      "[CV 4/5] END C=0.3458205595452244, gamma=0.0002427327023772479, kernel=rbf;, score=0.632 total time=   6.5s\n",
      "[CV 5/5] END C=0.3458205595452244, gamma=0.0002427327023772479, kernel=rbf;, score=0.563 total time=   5.7s\n"
     ]
    }
   ],
   "source": [
    "from sklearn.model_selection import RandomizedSearchCV\n",
    "\n",
    "import time\n",
    "t1 = time.time()\n",
    "base_model = SVC()\n",
    "clf = RandomizedSearchCV(base_model, svm_params, scoring='accuracy', n_iter=50, random_state=1337, verbose=3)\n",
    "clf.fit(X_scaled, np.array(train_label).ravel())\n",
    "t2 = time.time()"
   ]
  },
  {
   "cell_type": "code",
   "execution_count": 29,
   "id": "296c2719-dc8a-492d-94f6-daed6536a55f",
   "metadata": {},
   "outputs": [
    {
     "data": {
      "text/plain": [
       "{'C': 1.4278323360840555, 'gamma': 0.020801901274484932, 'kernel': 'rbf'}"
      ]
     },
     "execution_count": 29,
     "metadata": {},
     "output_type": "execute_result"
    }
   ],
   "source": [
    "clf.best_params_"
   ]
  },
  {
   "cell_type": "code",
   "execution_count": 19,
   "id": "10b7b693-d696-4ecf-b674-763f11ae95ed",
   "metadata": {
    "canvas": {
     "comments": [],
     "componentType": "CodeCell",
     "copiedOriginId": "c3e0c5b6-fdc6-4877-bd53-559ce66d2823",
     "diskcache": false,
     "headerColor": "transparent",
     "id": "4d4626cf-b231-4347-b7f9-653065ff7d2f",
     "isComponent": false,
     "name": "",
     "parents": []
    }
   },
   "outputs": [
    {
     "name": "stdout",
     "output_type": "stream",
     "text": [
      "time elapsed: 2016.5791597366333 seconds or 33 minutes and 36 seconds\n"
     ]
    }
   ],
   "source": [
    "print(f\"time elapsed: {t2-t1} seconds or {int((t2-t1)//60)} minutes and {int((t2-t1)-(t2-t1)//60*60)} seconds\")"
   ]
  },
  {
   "cell_type": "code",
   "execution_count": 20,
   "id": "8f455bad-58bd-4a6e-b1c0-d365be2e6941",
   "metadata": {
    "canvas": {
     "comments": [],
     "componentType": "CodeCell",
     "copiedOriginId": "24559929-7881-42cf-b82e-bb2bb8a46825",
     "diskcache": false,
     "headerColor": "transparent",
     "id": "a53f0bd3-513c-4fb5-9d26-0952abd3e7e3",
     "isComponent": false,
     "name": "",
     "parents": []
    }
   },
   "outputs": [
    {
     "name": "stdout",
     "output_type": "stream",
     "text": [
      "0.9588333333333333\n"
     ]
    }
   ],
   "source": [
    "print(accuracy_score(test_label,clf.predict(X_test_scaled)))"
   ]
  },
  {
   "cell_type": "code",
   "execution_count": 21,
   "id": "e776ebea-2f44-41ab-a3b0-62f9a8bb17a5",
   "metadata": {
    "canvas": {
     "comments": [],
     "componentType": "CodeCell",
     "copiedOriginId": null,
     "diskcache": false,
     "headerColor": "transparent",
     "id": "46193df3-8e7c-4062-910e-47cf49f0dd55",
     "isComponent": false,
     "name": "",
     "parents": []
    }
   },
   "outputs": [],
   "source": [
    "from sklearn.metrics import classification_report, roc_curve, RocCurveDisplay\n"
   ]
  },
  {
   "cell_type": "code",
   "execution_count": 22,
   "id": "6ca8584a-e13f-4fb4-b929-994a2e67d881",
   "metadata": {
    "canvas": {
     "comments": [],
     "componentType": "CodeCell",
     "copiedOriginId": null,
     "diskcache": false,
     "headerColor": "transparent",
     "id": "7036d46a-bfd0-4538-a840-733029bc4c80",
     "isComponent": false,
     "name": "",
     "parents": []
    }
   },
   "outputs": [
    {
     "name": "stdout",
     "output_type": "stream",
     "text": [
      "              precision    recall  f1-score   support\n",
      "\n",
      "       Queen       0.95      0.97      0.96      3000\n",
      "   Queenless       0.97      0.95      0.96      3000\n",
      "\n",
      "    accuracy                           0.96      6000\n",
      "   macro avg       0.96      0.96      0.96      6000\n",
      "weighted avg       0.96      0.96      0.96      6000\n",
      "\n"
     ]
    }
   ],
   "source": [
    "print(classification_report(test_label,clf.predict(X_test_scaled), target_names=[\"Queen\", \"Queenless\"]))"
   ]
  },
  {
   "cell_type": "code",
   "execution_count": 23,
   "id": "d8c7928e-1005-4633-b57f-5aaf125dae2c",
   "metadata": {
    "canvas": {
     "comments": [],
     "componentType": "CodeCell",
     "copiedOriginId": null,
     "diskcache": false,
     "headerColor": "transparent",
     "id": "fc3b5388-8eab-4178-8e4c-642eb06cca58",
     "isComponent": false,
     "name": "",
     "parents": []
    },
    "scrolled": true
   },
   "outputs": [
    {
     "ename": "AttributeError",
     "evalue": "predict_proba is not available when  probability=False",
     "output_type": "error",
     "traceback": [
      "\u001b[1;31m---------------------------------------------------------------------------\u001b[0m",
      "\u001b[1;31mAttributeError\u001b[0m                            Traceback (most recent call last)",
      "Cell \u001b[1;32mIn[23], line 3\u001b[0m\n\u001b[0;32m      1\u001b[0m \u001b[38;5;28;01mfrom\u001b[39;00m \u001b[38;5;21;01msklearn\u001b[39;00m\u001b[38;5;21;01m.\u001b[39;00m\u001b[38;5;21;01mmetrics\u001b[39;00m \u001b[38;5;28;01mimport\u001b[39;00m classification_report, roc_curve, RocCurveDisplay, roc_auc_score, auc\n\u001b[1;32m----> 3\u001b[0m fpr, tpr, thresholds \u001b[38;5;241m=\u001b[39m roc_curve(test_label, \u001b[43mclf\u001b[49m\u001b[38;5;241;43m.\u001b[39;49m\u001b[43mpredict_proba\u001b[49m(X_test_scaled)[:, \u001b[38;5;241m1\u001b[39m])\n\u001b[0;32m      5\u001b[0m auc \u001b[38;5;241m=\u001b[39m auc(fpr, tpr)\n\u001b[0;32m      7\u001b[0m plt\u001b[38;5;241m.\u001b[39mplot(fpr, tpr, label\u001b[38;5;241m=\u001b[39m\u001b[38;5;124m\"\u001b[39m\u001b[38;5;124mROC curve (area = \u001b[39m\u001b[38;5;132;01m{0:.2f}\u001b[39;00m\u001b[38;5;124m)\u001b[39m\u001b[38;5;124m\"\u001b[39m\u001b[38;5;241m.\u001b[39mformat(auc))\n",
      "File \u001b[1;32m~\\anaconda3\\envs\\tf\\lib\\site-packages\\sklearn\\utils\\_available_if.py:31\u001b[0m, in \u001b[0;36m_AvailableIfDescriptor.__get__\u001b[1;34m(self, obj, owner)\u001b[0m\n\u001b[0;32m     25\u001b[0m attr_err \u001b[38;5;241m=\u001b[39m \u001b[38;5;167;01mAttributeError\u001b[39;00m(\n\u001b[0;32m     26\u001b[0m     \u001b[38;5;124mf\u001b[39m\u001b[38;5;124m\"\u001b[39m\u001b[38;5;124mThis \u001b[39m\u001b[38;5;132;01m{\u001b[39;00m\u001b[38;5;28mrepr\u001b[39m(owner\u001b[38;5;241m.\u001b[39m\u001b[38;5;18m__name__\u001b[39m)\u001b[38;5;132;01m}\u001b[39;00m\u001b[38;5;124m has no attribute \u001b[39m\u001b[38;5;132;01m{\u001b[39;00m\u001b[38;5;28mrepr\u001b[39m(\u001b[38;5;28mself\u001b[39m\u001b[38;5;241m.\u001b[39mattribute_name)\u001b[38;5;132;01m}\u001b[39;00m\u001b[38;5;124m\"\u001b[39m\n\u001b[0;32m     27\u001b[0m )\n\u001b[0;32m     28\u001b[0m \u001b[38;5;28;01mif\u001b[39;00m obj \u001b[38;5;129;01mis\u001b[39;00m \u001b[38;5;129;01mnot\u001b[39;00m \u001b[38;5;28;01mNone\u001b[39;00m:\n\u001b[0;32m     29\u001b[0m     \u001b[38;5;66;03m# delegate only on instances, not the classes.\u001b[39;00m\n\u001b[0;32m     30\u001b[0m     \u001b[38;5;66;03m# this is to allow access to the docstrings.\u001b[39;00m\n\u001b[1;32m---> 31\u001b[0m     \u001b[38;5;28;01mif\u001b[39;00m \u001b[38;5;129;01mnot\u001b[39;00m \u001b[38;5;28;43mself\u001b[39;49m\u001b[38;5;241;43m.\u001b[39;49m\u001b[43mcheck\u001b[49m\u001b[43m(\u001b[49m\u001b[43mobj\u001b[49m\u001b[43m)\u001b[49m:\n\u001b[0;32m     32\u001b[0m         \u001b[38;5;28;01mraise\u001b[39;00m attr_err\n\u001b[0;32m     33\u001b[0m     out \u001b[38;5;241m=\u001b[39m MethodType(\u001b[38;5;28mself\u001b[39m\u001b[38;5;241m.\u001b[39mfn, obj)\n",
      "File \u001b[1;32m~\\anaconda3\\envs\\tf\\lib\\site-packages\\sklearn\\model_selection\\_search.py:364\u001b[0m, in \u001b[0;36m_estimator_has.<locals>.check\u001b[1;34m(self)\u001b[0m\n\u001b[0;32m    361\u001b[0m _check_refit(\u001b[38;5;28mself\u001b[39m, attr)\n\u001b[0;32m    362\u001b[0m \u001b[38;5;28;01mif\u001b[39;00m \u001b[38;5;28mhasattr\u001b[39m(\u001b[38;5;28mself\u001b[39m, \u001b[38;5;124m\"\u001b[39m\u001b[38;5;124mbest_estimator_\u001b[39m\u001b[38;5;124m\"\u001b[39m):\n\u001b[0;32m    363\u001b[0m     \u001b[38;5;66;03m# raise an AttributeError if `attr` does not exist\u001b[39;00m\n\u001b[1;32m--> 364\u001b[0m     \u001b[38;5;28;43mgetattr\u001b[39;49m\u001b[43m(\u001b[49m\u001b[38;5;28;43mself\u001b[39;49m\u001b[38;5;241;43m.\u001b[39;49m\u001b[43mbest_estimator_\u001b[49m\u001b[43m,\u001b[49m\u001b[43m \u001b[49m\u001b[43mattr\u001b[49m\u001b[43m)\u001b[49m\n\u001b[0;32m    365\u001b[0m     \u001b[38;5;28;01mreturn\u001b[39;00m \u001b[38;5;28;01mTrue\u001b[39;00m\n\u001b[0;32m    366\u001b[0m \u001b[38;5;66;03m# raise an AttributeError if `attr` does not exist\u001b[39;00m\n",
      "File \u001b[1;32m~\\anaconda3\\envs\\tf\\lib\\site-packages\\sklearn\\utils\\_available_if.py:31\u001b[0m, in \u001b[0;36m_AvailableIfDescriptor.__get__\u001b[1;34m(self, obj, owner)\u001b[0m\n\u001b[0;32m     25\u001b[0m attr_err \u001b[38;5;241m=\u001b[39m \u001b[38;5;167;01mAttributeError\u001b[39;00m(\n\u001b[0;32m     26\u001b[0m     \u001b[38;5;124mf\u001b[39m\u001b[38;5;124m\"\u001b[39m\u001b[38;5;124mThis \u001b[39m\u001b[38;5;132;01m{\u001b[39;00m\u001b[38;5;28mrepr\u001b[39m(owner\u001b[38;5;241m.\u001b[39m\u001b[38;5;18m__name__\u001b[39m)\u001b[38;5;132;01m}\u001b[39;00m\u001b[38;5;124m has no attribute \u001b[39m\u001b[38;5;132;01m{\u001b[39;00m\u001b[38;5;28mrepr\u001b[39m(\u001b[38;5;28mself\u001b[39m\u001b[38;5;241m.\u001b[39mattribute_name)\u001b[38;5;132;01m}\u001b[39;00m\u001b[38;5;124m\"\u001b[39m\n\u001b[0;32m     27\u001b[0m )\n\u001b[0;32m     28\u001b[0m \u001b[38;5;28;01mif\u001b[39;00m obj \u001b[38;5;129;01mis\u001b[39;00m \u001b[38;5;129;01mnot\u001b[39;00m \u001b[38;5;28;01mNone\u001b[39;00m:\n\u001b[0;32m     29\u001b[0m     \u001b[38;5;66;03m# delegate only on instances, not the classes.\u001b[39;00m\n\u001b[0;32m     30\u001b[0m     \u001b[38;5;66;03m# this is to allow access to the docstrings.\u001b[39;00m\n\u001b[1;32m---> 31\u001b[0m     \u001b[38;5;28;01mif\u001b[39;00m \u001b[38;5;129;01mnot\u001b[39;00m \u001b[38;5;28;43mself\u001b[39;49m\u001b[38;5;241;43m.\u001b[39;49m\u001b[43mcheck\u001b[49m\u001b[43m(\u001b[49m\u001b[43mobj\u001b[49m\u001b[43m)\u001b[49m:\n\u001b[0;32m     32\u001b[0m         \u001b[38;5;28;01mraise\u001b[39;00m attr_err\n\u001b[0;32m     33\u001b[0m     out \u001b[38;5;241m=\u001b[39m MethodType(\u001b[38;5;28mself\u001b[39m\u001b[38;5;241m.\u001b[39mfn, obj)\n",
      "File \u001b[1;32m~\\anaconda3\\envs\\tf\\lib\\site-packages\\sklearn\\svm\\_base.py:827\u001b[0m, in \u001b[0;36mBaseSVC._check_proba\u001b[1;34m(self)\u001b[0m\n\u001b[0;32m    825\u001b[0m \u001b[38;5;28;01mdef\u001b[39;00m \u001b[38;5;21m_check_proba\u001b[39m(\u001b[38;5;28mself\u001b[39m):\n\u001b[0;32m    826\u001b[0m     \u001b[38;5;28;01mif\u001b[39;00m \u001b[38;5;129;01mnot\u001b[39;00m \u001b[38;5;28mself\u001b[39m\u001b[38;5;241m.\u001b[39mprobability:\n\u001b[1;32m--> 827\u001b[0m         \u001b[38;5;28;01mraise\u001b[39;00m \u001b[38;5;167;01mAttributeError\u001b[39;00m(\n\u001b[0;32m    828\u001b[0m             \u001b[38;5;124m\"\u001b[39m\u001b[38;5;124mpredict_proba is not available when  probability=False\u001b[39m\u001b[38;5;124m\"\u001b[39m\n\u001b[0;32m    829\u001b[0m         )\n\u001b[0;32m    830\u001b[0m     \u001b[38;5;28;01mif\u001b[39;00m \u001b[38;5;28mself\u001b[39m\u001b[38;5;241m.\u001b[39m_impl \u001b[38;5;129;01mnot\u001b[39;00m \u001b[38;5;129;01min\u001b[39;00m (\u001b[38;5;124m\"\u001b[39m\u001b[38;5;124mc_svc\u001b[39m\u001b[38;5;124m\"\u001b[39m, \u001b[38;5;124m\"\u001b[39m\u001b[38;5;124mnu_svc\u001b[39m\u001b[38;5;124m\"\u001b[39m):\n\u001b[0;32m    831\u001b[0m         \u001b[38;5;28;01mraise\u001b[39;00m \u001b[38;5;167;01mAttributeError\u001b[39;00m(\u001b[38;5;124m\"\u001b[39m\u001b[38;5;124mpredict_proba only implemented for SVC and NuSVC\u001b[39m\u001b[38;5;124m\"\u001b[39m)\n",
      "\u001b[1;31mAttributeError\u001b[0m: predict_proba is not available when  probability=False"
     ]
    }
   ],
   "source": [
    "from sklearn.metrics import classification_report, roc_curve, RocCurveDisplay, roc_auc_score, auc\n",
    "\n",
    "fpr, tpr, thresholds = roc_curve(test_label, clf.predict_proba(X_test_scaled)[:, 1])\n",
    "\n",
    "auc = auc(fpr, tpr)\n",
    "\n",
    "plt.plot(fpr, tpr, label=\"ROC curve (area = {0:.2f})\".format(auc))\n",
    "plt.plot([0, 1], [0, 1], linestyle=\"dashed\")\n",
    "# plt.title(\"FFT 1D with XGBoost roc_curve\")\n",
    "plt.xlabel(\"False Positive Rate\")\n",
    "plt.ylabel(\"True Positive Rate\")\n",
    "plt.legend()\n",
    "plt.show()"
   ]
  },
  {
   "cell_type": "code",
   "execution_count": 24,
   "id": "d169468e-9bf4-4c59-929f-2afa1dd8de0d",
   "metadata": {
    "canvas": {
     "comments": [],
     "componentType": "CodeCell",
     "copiedOriginId": null,
     "diskcache": false,
     "headerColor": "transparent",
     "id": "50e89a97-dbfa-40dc-8abc-0bb30e2736d7",
     "isComponent": false,
     "name": "",
     "parents": []
    }
   },
   "outputs": [],
   "source": [
    "import matplotlib.pyplot as plt"
   ]
  },
  {
   "cell_type": "code",
   "execution_count": 25,
   "id": "7afe34b7-ccad-4e7d-937e-2d2ad60ef759",
   "metadata": {
    "canvas": {
     "comments": [],
     "componentType": "CodeCell",
     "copiedOriginId": null,
     "diskcache": false,
     "headerColor": "transparent",
     "id": "76430505-a478-40f7-827b-abab71d8bf92",
     "isComponent": false,
     "name": "",
     "parents": []
    }
   },
   "outputs": [
    {
     "data": {
      "image/png": "[encoded data removed]",
      "text/plain": [
       "<Figure size 640x480 with 1 Axes>"
      ]
     },
     "metadata": {},
     "output_type": "display_data"
    }
   ],
   "source": [
    "RocCurveDisplay.from_predictions(\n",
    "    np.array(test_label.values).ravel(),\n",
    "    np.array(clf.predict(X_test_scaled)).ravel(),\n",
    "    name=\"micro-average OvR\",\n",
    "    color=\"darkorange\",\n",
    "\n",
    ")\n",
    "plt.axis(\"square\")\n",
    "plt.xlabel(\"False Positive Rate\")\n",
    "plt.ylabel(\"True Positive Rate\")\n",
    "plt.title(\"Micro-averaged One-vs-Rest\\nReceiver Operating Characteristic\")\n",
    "plt.legend()\n",
    "plt.show()"
   ]
  },
  {
   "cell_type": "code",
   "execution_count": 26,
   "id": "6596f477-3688-4330-9518-191160aaa739",
   "metadata": {
    "canvas": {
     "comments": [],
     "componentType": "CodeCell",
     "copiedOriginId": null,
     "diskcache": false,
     "headerColor": "transparent",
     "id": "716253d1-448e-4e23-8217-4112f38a9342",
     "isComponent": false,
     "name": "",
     "parents": []
    }
   },
   "outputs": [],
   "source": [
    "from sklearn.metrics import confusion_matrix"
   ]
  },
  {
   "cell_type": "code",
   "execution_count": 27,
   "id": "761bcdd6-36f8-4cc9-942b-71bf26ffc7a5",
   "metadata": {
    "canvas": {
     "comments": [],
     "componentType": "CodeCell",
     "copiedOriginId": null,
     "diskcache": false,
     "headerColor": "transparent",
     "id": "369575c1-babe-4f6a-a5e6-59346f8b6504",
     "isComponent": false,
     "name": "",
     "parents": []
    }
   },
   "outputs": [
    {
     "data": {
      "text/plain": [
       "<Axes: >"
      ]
     },
     "execution_count": 27,
     "metadata": {},
     "output_type": "execute_result"
    },
    {
     "data": {
      "image/png": "[encoded data removed]",
      "text/plain": [
       "<Figure size 1000x700 with 2 Axes>"
      ]
     },
     "metadata": {},
     "output_type": "display_data"
    }
   ],
   "source": [
    "import seaborn as sns\n",
    "\n",
    "cf_mat = confusion_matrix(test_label, clf.predict(X_test_scaled))\n",
    "df_cm = pd.DataFrame(cf_mat, index = [i for i in ['Queen', 'Queenless']],\n",
    "                  columns = [i for i in ['Queen', 'Queenless']])\n",
    "df_cm_normed = df_cm/df_cm.sum()\n",
    "plt.figure(figsize = (10,7))\n",
    "sns.heatmap(df_cm, annot=True, fmt=\"\", )\n"
   ]
  },
  {
   "cell_type": "code",
   "execution_count": 28,
   "id": "bdfaf4c5-20ea-4b5a-8de5-672f67005012",
   "metadata": {
    "canvas": {
     "comments": [],
     "componentType": "CodeCell",
     "copiedOriginId": null,
     "diskcache": false,
     "headerColor": "transparent",
     "id": "ba760705-4ef2-4da9-be3a-a46974b17722",
     "isComponent": false,
     "name": "",
     "parents": []
    }
   },
   "outputs": [
    {
     "data": {
      "text/plain": [
       "<Axes: >"
      ]
     },
     "execution_count": 28,
     "metadata": {},
     "output_type": "execute_result"
    },
    {
     "data": {
      "image/png": "[encoded data removed]",
      "text/plain": [
       "<Figure size 1000x700 with 2 Axes>"
      ]
     },
     "metadata": {},
     "output_type": "display_data"
    }
   ],
   "source": [
    "df_cm_normed = df_cm/df_cm.sum()\n",
    "plt.figure(figsize = (10,7))\n",
    "sns.heatmap(df_cm_normed, annot=True, fmt=\".3f\", )"
   ]
  },
  {
   "cell_type": "code",
   "execution_count": null,
   "id": "e5e8945a-56a9-4486-8611-7f6d33a391a1",
   "metadata": {
    "canvas": {
     "comments": [],
     "componentType": "CodeCell",
     "copiedOriginId": null,
     "diskcache": false,
     "headerColor": "transparent",
     "id": "2a6d160a-1fb3-4508-a82d-153dd18a6c71",
     "isComponent": false,
     "name": "",
     "parents": []
    }
   },
   "outputs": [],
   "source": []
  }
 ],
 "metadata": {
  "canvas": {
   "colorPalette": [
    "inherit",
    "inherit",
    "inherit",
    "inherit",
    "inherit",
    "inherit",
    "inherit",
    "inherit",
    "inherit",
    "inherit"
   ],
   "parameters": [],
   "version": "1.0"
  },
  "kernelspec": {
   "display_name": "Python 3 (ipykernel)",
   "language": "python",
   "name": "python3"
  },
  "language_info": {
   "codemirror_mode": {
    "name": "ipython",
    "version": 3
   },
   "file_extension": ".py",
   "mimetype": "text/x-python",
   "name": "python",
   "nbconvert_exporter": "python",
   "pygments_lexer": "ipython3",
   "version": "3.9.0"
  }
 },
 "nbformat": 4,
 "nbformat_minor": 5
}
