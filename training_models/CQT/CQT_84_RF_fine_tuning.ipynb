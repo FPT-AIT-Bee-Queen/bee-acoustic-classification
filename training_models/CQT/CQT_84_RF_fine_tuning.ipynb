{
 "cells": [
  {
   "cell_type": "code",
   "execution_count": 1,
   "id": "b7a50109-48e0-42c8-83ef-25f7b4c31ff2",
   "metadata": {
    "canvas": {
     "comments": [],
     "componentType": "CodeCell",
     "copiedOriginId": null,
     "diskcache": false,
     "headerColor": "transparent",
     "id": "b39281b6-de09-4760-83b0-e259489f1cfa",
     "isComponent": false,
     "name": "",
     "parents": []
    }
   },
   "outputs": [
    {
     "name": "stderr",
     "output_type": "stream",
     "text": [
      "C:\\Users\\tunne\\anaconda3\\envs\\tf\\lib\\site-packages\\numpy\\_distributor_init.py:30: UserWarning: loaded more than 1 DLL from .libs:\n",
      "C:\\Users\\tunne\\anaconda3\\envs\\tf\\lib\\site-packages\\numpy\\.libs\\libopenblas64__v0.3.21-gcc_10_3_0.dll\n",
      "C:\\Users\\tunne\\anaconda3\\envs\\tf\\lib\\site-packages\\numpy\\.libs\\libopenblas64__v0.3.23-246-g3d31191b-gcc_10_3_0.dll\n",
      "  warnings.warn(\"loaded more than 1 DLL from .libs:\"\n"
     ]
    }
   ],
   "source": [
    "import numpy as np\n",
    "import pandas as pd"
   ]
  },
  {
   "cell_type": "code",
   "execution_count": 2,
   "id": "47f88d70-00f6-4267-af22-7c981f92b907",
   "metadata": {
    "canvas": {
     "comments": [],
     "componentType": "CodeCell",
     "copiedOriginId": null,
     "diskcache": false,
     "headerColor": "transparent",
     "id": "f0211514-6dca-4fd8-bed5-6734f30cb477",
     "isComponent": false,
     "name": "",
     "parents": []
    },
    "tags": []
   },
   "outputs": [],
   "source": [
    "queen_train_path = \"../../feature_extraction/CQT_84_features/train/train_queen.npy\"\n",
    "queenless_train_path = \"../../feature_extraction/CQT_84_features/train/train_queenless.npy\"\n",
    "queen_test_path = \"../../feature_extraction/CQT_84_features/test/train_queen.npy\"\n",
    "queenless_test_path = \"../../feature_extraction/CQT_84_features/test/train_queenless.npy\"\n",
    "queen_val_path = \"../../feature_extraction/CQT_84_features/val/train_queen.npy\"\n",
    "queenless_val_path = \"../../feature_extraction/CQT_84_features/val/train_queenless.npy\""
   ]
  },
  {
   "cell_type": "code",
   "execution_count": 3,
   "id": "25b5e590-01cd-4db1-86ad-eb81e506ef0c",
   "metadata": {
    "canvas": {
     "comments": [],
     "componentType": "CodeCell",
     "copiedOriginId": null,
     "diskcache": false,
     "headerColor": "transparent",
     "id": "9177bcb2-6816-4f3f-96e1-392893e0018d",
     "isComponent": false,
     "name": "",
     "parents": []
    }
   },
   "outputs": [],
   "source": [
    "queen_train = np.load(queen_train_path)\n",
    "queenless_train = np.load(queenless_train_path)\n",
    "queen_test = np.load(queen_test_path)\n",
    "queenless_test = np.load(queenless_test_path)\n",
    "queen_val = np.load(queen_val_path)\n",
    "queenless_val = np.load(queenless_val_path)\n"
   ]
  },
  {
   "cell_type": "code",
   "execution_count": 4,
   "id": "c8d8ed60-4ba3-41d8-a0e4-b686852df323",
   "metadata": {
    "canvas": {
     "comments": [],
     "componentType": "CodeCell",
     "copiedOriginId": null,
     "diskcache": false,
     "headerColor": "transparent",
     "id": "d5d71e5e-ccf3-44ae-8972-f3adc8639b00",
     "isComponent": false,
     "name": "",
     "parents": []
    }
   },
   "outputs": [],
   "source": [
    "train_label = pd.DataFrame(np.hstack([[0]*7000, [1]*7000]).T, columns=['labels'])\n"
   ]
  },
  {
   "cell_type": "code",
   "execution_count": 5,
   "id": "43c98c5e-6db7-46ed-bb2b-a09a40067f24",
   "metadata": {
    "canvas": {
     "comments": [],
     "componentType": "CodeCell",
     "copiedOriginId": null,
     "diskcache": false,
     "headerColor": "transparent",
     "id": "524202be-40d7-47ac-87bd-e091782c1235",
     "isComponent": false,
     "name": "",
     "parents": []
    }
   },
   "outputs": [],
   "source": [
    "train_data = pd.DataFrame(np.vstack([queen_train, queenless_train]))\n",
    "\n"
   ]
  },
  {
   "cell_type": "code",
   "execution_count": 6,
   "id": "28a07f90-f683-46ef-84cd-dcccce953a9f",
   "metadata": {
    "canvas": {
     "comments": [],
     "componentType": "CodeCell",
     "copiedOriginId": null,
     "diskcache": false,
     "headerColor": "transparent",
     "id": "3ee7406c-8bfd-4fda-8abc-d0d8213e5762",
     "isComponent": false,
     "name": "",
     "parents": []
    }
   },
   "outputs": [
    {
     "data": {
      "text/html": [
       "<div>\n",
       "<style scoped>\n",
       "    .dataframe tbody tr th:only-of-type {\n",
       "        vertical-align: middle;\n",
       "    }\n",
       "\n",
       "    .dataframe tbody tr th {\n",
       "        vertical-align: top;\n",
       "    }\n",
       "\n",
       "    .dataframe thead th {\n",
       "        text-align: right;\n",
       "    }\n",
       "</style>\n",
       "<table border=\"1\" class=\"dataframe\">\n",
       "  <thead>\n",
       "    <tr style=\"text-align: right;\">\n",
       "      <th></th>\n",
       "      <th>0</th>\n",
       "      <th>1</th>\n",
       "      <th>2</th>\n",
       "      <th>3</th>\n",
       "      <th>4</th>\n",
       "      <th>5</th>\n",
       "      <th>6</th>\n",
       "      <th>7</th>\n",
       "      <th>8</th>\n",
       "      <th>9</th>\n",
       "      <th>...</th>\n",
       "      <th>74</th>\n",
       "      <th>75</th>\n",
       "      <th>76</th>\n",
       "      <th>77</th>\n",
       "      <th>78</th>\n",
       "      <th>79</th>\n",
       "      <th>80</th>\n",
       "      <th>81</th>\n",
       "      <th>82</th>\n",
       "      <th>83</th>\n",
       "    </tr>\n",
       "  </thead>\n",
       "  <tbody>\n",
       "    <tr>\n",
       "      <th>0</th>\n",
       "      <td>-0.001204</td>\n",
       "      <td>-0.000792</td>\n",
       "      <td>-0.000935</td>\n",
       "      <td>-0.000434</td>\n",
       "      <td>-0.000146</td>\n",
       "      <td>-0.000013</td>\n",
       "      <td>-0.000022</td>\n",
       "      <td>-0.000113</td>\n",
       "      <td>-0.000206</td>\n",
       "      <td>0.000025</td>\n",
       "      <td>...</td>\n",
       "      <td>-0.000008</td>\n",
       "      <td>0.000005</td>\n",
       "      <td>-1.174746e-07</td>\n",
       "      <td>3.251283e-06</td>\n",
       "      <td>-3.051831e-06</td>\n",
       "      <td>-2.405906e-05</td>\n",
       "      <td>-3.670746e-05</td>\n",
       "      <td>-0.000021</td>\n",
       "      <td>-0.000025</td>\n",
       "      <td>-0.000032</td>\n",
       "    </tr>\n",
       "    <tr>\n",
       "      <th>1</th>\n",
       "      <td>-0.002073</td>\n",
       "      <td>-0.000457</td>\n",
       "      <td>-0.000002</td>\n",
       "      <td>-0.000048</td>\n",
       "      <td>-0.000007</td>\n",
       "      <td>0.000081</td>\n",
       "      <td>0.000103</td>\n",
       "      <td>0.000013</td>\n",
       "      <td>-0.000222</td>\n",
       "      <td>-0.000004</td>\n",
       "      <td>...</td>\n",
       "      <td>0.000040</td>\n",
       "      <td>0.000031</td>\n",
       "      <td>-2.476602e-06</td>\n",
       "      <td>-3.152541e-05</td>\n",
       "      <td>-2.344341e-05</td>\n",
       "      <td>9.456571e-06</td>\n",
       "      <td>2.261663e-05</td>\n",
       "      <td>0.000005</td>\n",
       "      <td>-0.000013</td>\n",
       "      <td>-0.000011</td>\n",
       "    </tr>\n",
       "    <tr>\n",
       "      <th>2</th>\n",
       "      <td>0.002389</td>\n",
       "      <td>-0.000011</td>\n",
       "      <td>-0.000418</td>\n",
       "      <td>0.000246</td>\n",
       "      <td>0.000913</td>\n",
       "      <td>0.000521</td>\n",
       "      <td>0.000279</td>\n",
       "      <td>0.000220</td>\n",
       "      <td>0.000039</td>\n",
       "      <td>-0.000509</td>\n",
       "      <td>...</td>\n",
       "      <td>-0.000009</td>\n",
       "      <td>0.000013</td>\n",
       "      <td>-5.576080e-06</td>\n",
       "      <td>-1.326914e-05</td>\n",
       "      <td>-3.053109e-06</td>\n",
       "      <td>-6.341786e-06</td>\n",
       "      <td>-1.648098e-05</td>\n",
       "      <td>0.000021</td>\n",
       "      <td>0.000061</td>\n",
       "      <td>0.000047</td>\n",
       "    </tr>\n",
       "    <tr>\n",
       "      <th>3</th>\n",
       "      <td>0.002736</td>\n",
       "      <td>0.000186</td>\n",
       "      <td>0.000200</td>\n",
       "      <td>0.000239</td>\n",
       "      <td>-0.000083</td>\n",
       "      <td>-0.000013</td>\n",
       "      <td>0.000017</td>\n",
       "      <td>-0.000129</td>\n",
       "      <td>-0.000024</td>\n",
       "      <td>0.000076</td>\n",
       "      <td>...</td>\n",
       "      <td>0.000015</td>\n",
       "      <td>0.000020</td>\n",
       "      <td>1.813715e-05</td>\n",
       "      <td>-1.258978e-05</td>\n",
       "      <td>-1.550202e-05</td>\n",
       "      <td>9.128090e-06</td>\n",
       "      <td>1.816277e-05</td>\n",
       "      <td>0.000011</td>\n",
       "      <td>0.000001</td>\n",
       "      <td>0.000004</td>\n",
       "    </tr>\n",
       "    <tr>\n",
       "      <th>4</th>\n",
       "      <td>0.000580</td>\n",
       "      <td>-0.000183</td>\n",
       "      <td>-0.000545</td>\n",
       "      <td>-0.000174</td>\n",
       "      <td>-0.000004</td>\n",
       "      <td>-0.000035</td>\n",
       "      <td>-0.000057</td>\n",
       "      <td>-0.000021</td>\n",
       "      <td>0.000051</td>\n",
       "      <td>0.000071</td>\n",
       "      <td>...</td>\n",
       "      <td>0.000013</td>\n",
       "      <td>-0.000001</td>\n",
       "      <td>-1.848221e-05</td>\n",
       "      <td>-1.575383e-05</td>\n",
       "      <td>1.217193e-05</td>\n",
       "      <td>1.016226e-05</td>\n",
       "      <td>-1.216090e-05</td>\n",
       "      <td>-0.000013</td>\n",
       "      <td>-0.000012</td>\n",
       "      <td>-0.000009</td>\n",
       "    </tr>\n",
       "    <tr>\n",
       "      <th>...</th>\n",
       "      <td>...</td>\n",
       "      <td>...</td>\n",
       "      <td>...</td>\n",
       "      <td>...</td>\n",
       "      <td>...</td>\n",
       "      <td>...</td>\n",
       "      <td>...</td>\n",
       "      <td>...</td>\n",
       "      <td>...</td>\n",
       "      <td>...</td>\n",
       "      <td>...</td>\n",
       "      <td>...</td>\n",
       "      <td>...</td>\n",
       "      <td>...</td>\n",
       "      <td>...</td>\n",
       "      <td>...</td>\n",
       "      <td>...</td>\n",
       "      <td>...</td>\n",
       "      <td>...</td>\n",
       "      <td>...</td>\n",
       "      <td>...</td>\n",
       "    </tr>\n",
       "    <tr>\n",
       "      <th>13995</th>\n",
       "      <td>0.002093</td>\n",
       "      <td>0.000245</td>\n",
       "      <td>0.000134</td>\n",
       "      <td>0.000243</td>\n",
       "      <td>-0.000030</td>\n",
       "      <td>-0.000015</td>\n",
       "      <td>0.000094</td>\n",
       "      <td>-0.000098</td>\n",
       "      <td>-0.000179</td>\n",
       "      <td>-0.000160</td>\n",
       "      <td>...</td>\n",
       "      <td>-0.000010</td>\n",
       "      <td>-0.000007</td>\n",
       "      <td>4.911932e-06</td>\n",
       "      <td>1.718515e-05</td>\n",
       "      <td>1.672925e-05</td>\n",
       "      <td>6.985905e-06</td>\n",
       "      <td>1.023745e-05</td>\n",
       "      <td>0.000009</td>\n",
       "      <td>0.000002</td>\n",
       "      <td>0.000004</td>\n",
       "    </tr>\n",
       "    <tr>\n",
       "      <th>13996</th>\n",
       "      <td>-0.000034</td>\n",
       "      <td>0.000458</td>\n",
       "      <td>0.000223</td>\n",
       "      <td>0.000028</td>\n",
       "      <td>-0.000006</td>\n",
       "      <td>0.000008</td>\n",
       "      <td>-0.000028</td>\n",
       "      <td>0.000002</td>\n",
       "      <td>-0.000025</td>\n",
       "      <td>0.000038</td>\n",
       "      <td>...</td>\n",
       "      <td>0.000007</td>\n",
       "      <td>0.000012</td>\n",
       "      <td>1.932491e-06</td>\n",
       "      <td>-9.327288e-07</td>\n",
       "      <td>-7.349870e-06</td>\n",
       "      <td>-1.781671e-05</td>\n",
       "      <td>-1.110080e-05</td>\n",
       "      <td>-0.000005</td>\n",
       "      <td>-0.000010</td>\n",
       "      <td>-0.000009</td>\n",
       "    </tr>\n",
       "    <tr>\n",
       "      <th>13997</th>\n",
       "      <td>-0.001484</td>\n",
       "      <td>-0.000840</td>\n",
       "      <td>0.000233</td>\n",
       "      <td>0.000157</td>\n",
       "      <td>-0.000078</td>\n",
       "      <td>0.000068</td>\n",
       "      <td>0.000171</td>\n",
       "      <td>0.000155</td>\n",
       "      <td>0.000065</td>\n",
       "      <td>-0.000045</td>\n",
       "      <td>...</td>\n",
       "      <td>-0.000020</td>\n",
       "      <td>-0.000026</td>\n",
       "      <td>-2.701439e-05</td>\n",
       "      <td>-3.392101e-05</td>\n",
       "      <td>-2.369162e-05</td>\n",
       "      <td>-5.125855e-07</td>\n",
       "      <td>1.243143e-05</td>\n",
       "      <td>0.000002</td>\n",
       "      <td>-0.000004</td>\n",
       "      <td>0.000002</td>\n",
       "    </tr>\n",
       "    <tr>\n",
       "      <th>13998</th>\n",
       "      <td>-0.000702</td>\n",
       "      <td>0.000691</td>\n",
       "      <td>0.000308</td>\n",
       "      <td>-0.000119</td>\n",
       "      <td>-0.000262</td>\n",
       "      <td>-0.000349</td>\n",
       "      <td>-0.000279</td>\n",
       "      <td>-0.000161</td>\n",
       "      <td>-0.000165</td>\n",
       "      <td>-0.000225</td>\n",
       "      <td>...</td>\n",
       "      <td>-0.000029</td>\n",
       "      <td>-0.000018</td>\n",
       "      <td>-7.324896e-06</td>\n",
       "      <td>4.844513e-06</td>\n",
       "      <td>4.875770e-07</td>\n",
       "      <td>-1.780046e-05</td>\n",
       "      <td>-1.741323e-05</td>\n",
       "      <td>-0.000009</td>\n",
       "      <td>-0.000006</td>\n",
       "      <td>0.000006</td>\n",
       "    </tr>\n",
       "    <tr>\n",
       "      <th>13999</th>\n",
       "      <td>-0.000385</td>\n",
       "      <td>-0.000379</td>\n",
       "      <td>-0.000184</td>\n",
       "      <td>-0.000109</td>\n",
       "      <td>-0.000139</td>\n",
       "      <td>-0.000144</td>\n",
       "      <td>-0.000143</td>\n",
       "      <td>-0.000014</td>\n",
       "      <td>0.000052</td>\n",
       "      <td>-0.000111</td>\n",
       "      <td>...</td>\n",
       "      <td>0.000011</td>\n",
       "      <td>0.000005</td>\n",
       "      <td>4.985434e-06</td>\n",
       "      <td>1.083944e-05</td>\n",
       "      <td>1.288383e-05</td>\n",
       "      <td>8.519365e-06</td>\n",
       "      <td>2.520621e-07</td>\n",
       "      <td>-0.000004</td>\n",
       "      <td>0.000004</td>\n",
       "      <td>0.000009</td>\n",
       "    </tr>\n",
       "  </tbody>\n",
       "</table>\n",
       "<p>14000 rows × 84 columns</p>\n",
       "</div>"
      ],
      "text/plain": [
       "             0         1         2         3         4         5         6   \\\n",
       "0     -0.001204 -0.000792 -0.000935 -0.000434 -0.000146 -0.000013 -0.000022   \n",
       "1     -0.002073 -0.000457 -0.000002 -0.000048 -0.000007  0.000081  0.000103   \n",
       "2      0.002389 -0.000011 -0.000418  0.000246  0.000913  0.000521  0.000279   \n",
       "3      0.002736  0.000186  0.000200  0.000239 -0.000083 -0.000013  0.000017   \n",
       "4      0.000580 -0.000183 -0.000545 -0.000174 -0.000004 -0.000035 -0.000057   \n",
       "...         ...       ...       ...       ...       ...       ...       ...   \n",
       "13995  0.002093  0.000245  0.000134  0.000243 -0.000030 -0.000015  0.000094   \n",
       "13996 -0.000034  0.000458  0.000223  0.000028 -0.000006  0.000008 -0.000028   \n",
       "13997 -0.001484 -0.000840  0.000233  0.000157 -0.000078  0.000068  0.000171   \n",
       "13998 -0.000702  0.000691  0.000308 -0.000119 -0.000262 -0.000349 -0.000279   \n",
       "13999 -0.000385 -0.000379 -0.000184 -0.000109 -0.000139 -0.000144 -0.000143   \n",
       "\n",
       "             7         8         9   ...        74        75            76  \\\n",
       "0     -0.000113 -0.000206  0.000025  ... -0.000008  0.000005 -1.174746e-07   \n",
       "1      0.000013 -0.000222 -0.000004  ...  0.000040  0.000031 -2.476602e-06   \n",
       "2      0.000220  0.000039 -0.000509  ... -0.000009  0.000013 -5.576080e-06   \n",
       "3     -0.000129 -0.000024  0.000076  ...  0.000015  0.000020  1.813715e-05   \n",
       "4     -0.000021  0.000051  0.000071  ...  0.000013 -0.000001 -1.848221e-05   \n",
       "...         ...       ...       ...  ...       ...       ...           ...   \n",
       "13995 -0.000098 -0.000179 -0.000160  ... -0.000010 -0.000007  4.911932e-06   \n",
       "13996  0.000002 -0.000025  0.000038  ...  0.000007  0.000012  1.932491e-06   \n",
       "13997  0.000155  0.000065 -0.000045  ... -0.000020 -0.000026 -2.701439e-05   \n",
       "13998 -0.000161 -0.000165 -0.000225  ... -0.000029 -0.000018 -7.324896e-06   \n",
       "13999 -0.000014  0.000052 -0.000111  ...  0.000011  0.000005  4.985434e-06   \n",
       "\n",
       "                 77            78            79            80        81  \\\n",
       "0      3.251283e-06 -3.051831e-06 -2.405906e-05 -3.670746e-05 -0.000021   \n",
       "1     -3.152541e-05 -2.344341e-05  9.456571e-06  2.261663e-05  0.000005   \n",
       "2     -1.326914e-05 -3.053109e-06 -6.341786e-06 -1.648098e-05  0.000021   \n",
       "3     -1.258978e-05 -1.550202e-05  9.128090e-06  1.816277e-05  0.000011   \n",
       "4     -1.575383e-05  1.217193e-05  1.016226e-05 -1.216090e-05 -0.000013   \n",
       "...             ...           ...           ...           ...       ...   \n",
       "13995  1.718515e-05  1.672925e-05  6.985905e-06  1.023745e-05  0.000009   \n",
       "13996 -9.327288e-07 -7.349870e-06 -1.781671e-05 -1.110080e-05 -0.000005   \n",
       "13997 -3.392101e-05 -2.369162e-05 -5.125855e-07  1.243143e-05  0.000002   \n",
       "13998  4.844513e-06  4.875770e-07 -1.780046e-05 -1.741323e-05 -0.000009   \n",
       "13999  1.083944e-05  1.288383e-05  8.519365e-06  2.520621e-07 -0.000004   \n",
       "\n",
       "             82        83  \n",
       "0     -0.000025 -0.000032  \n",
       "1     -0.000013 -0.000011  \n",
       "2      0.000061  0.000047  \n",
       "3      0.000001  0.000004  \n",
       "4     -0.000012 -0.000009  \n",
       "...         ...       ...  \n",
       "13995  0.000002  0.000004  \n",
       "13996 -0.000010 -0.000009  \n",
       "13997 -0.000004  0.000002  \n",
       "13998 -0.000006  0.000006  \n",
       "13999  0.000004  0.000009  \n",
       "\n",
       "[14000 rows x 84 columns]"
      ]
     },
     "execution_count": 6,
     "metadata": {},
     "output_type": "execute_result"
    }
   ],
   "source": [
    "train_data"
   ]
  },
  {
   "cell_type": "code",
   "execution_count": 7,
   "id": "ab6c4e63-0d5d-45d1-8cdf-4a27081c0a1a",
   "metadata": {
    "canvas": {
     "comments": [],
     "componentType": "CodeCell",
     "copiedOriginId": null,
     "diskcache": false,
     "headerColor": "transparent",
     "id": "751673ba-abb1-4364-b640-62e8ef4ed30f",
     "isComponent": false,
     "name": "",
     "parents": []
    }
   },
   "outputs": [
    {
     "data": {
      "text/plain": [
       "(2000, 84)"
      ]
     },
     "execution_count": 7,
     "metadata": {},
     "output_type": "execute_result"
    }
   ],
   "source": [
    "queenless_test.shape"
   ]
  },
  {
   "cell_type": "code",
   "execution_count": 8,
   "id": "8038e59a-6911-4b1d-97b1-43ede2a97de1",
   "metadata": {
    "canvas": {
     "comments": [],
     "componentType": "CodeCell",
     "copiedOriginId": null,
     "diskcache": false,
     "headerColor": "transparent",
     "id": "74ed5712-3cc6-41c1-9895-ba94173732a2",
     "isComponent": false,
     "name": "",
     "parents": []
    }
   },
   "outputs": [],
   "source": [
    "test_label = pd.DataFrame(np.hstack([[0]*3000, [1]*3000]).T, columns=['labels'])\n",
    "test_data = pd.DataFrame(np.vstack([queen_test, queen_val, queenless_test, queenless_val]))\n",
    "\n"
   ]
  },
  {
   "cell_type": "code",
   "execution_count": 9,
   "id": "5472ecde-6917-425c-8551-0f4768a547f2",
   "metadata": {
    "canvas": {
     "comments": [],
     "componentType": "CodeCell",
     "copiedOriginId": null,
     "diskcache": false,
     "headerColor": "transparent",
     "id": "7fbc908f-c439-4da1-a6e0-44640890d618",
     "isComponent": false,
     "name": "",
     "parents": []
    }
   },
   "outputs": [],
   "source": [
    "from sklearn.metrics import accuracy_score\n",
    "from sklearn.preprocessing import StandardScaler\n",
    "from sklearn.neighbors import KNeighborsClassifier"
   ]
  },
  {
   "cell_type": "code",
   "execution_count": 10,
   "id": "6baa3e64-f6a1-4cb5-b7df-36bbffd9a4bb",
   "metadata": {
    "canvas": {
     "comments": [],
     "componentType": "CodeCell",
     "copiedOriginId": null,
     "diskcache": false,
     "headerColor": "transparent",
     "id": "7419c5cf-a135-4788-a4e8-188a854f1115",
     "isComponent": false,
     "name": "",
     "parents": []
    }
   },
   "outputs": [],
   "source": [
    "scaler = StandardScaler()\n",
    "X_scaled = scaler.fit_transform(train_data)"
   ]
  },
  {
   "cell_type": "code",
   "execution_count": 11,
   "id": "8b352031-29e0-42c2-a7ba-2f83516efa5c",
   "metadata": {
    "canvas": {
     "comments": [],
     "componentType": "CodeCell",
     "copiedOriginId": null,
     "diskcache": false,
     "headerColor": "transparent",
     "id": "8fcc1841-f611-44fc-9fbe-bfb114aaf90e",
     "isComponent": false,
     "name": "",
     "parents": []
    }
   },
   "outputs": [],
   "source": [
    "X_test_scaled = scaler.transform(test_data)"
   ]
  },
  {
   "cell_type": "code",
   "execution_count": 12,
   "id": "07b7d9c6-9dbe-4e6f-952d-83d05e99be7b",
   "metadata": {
    "canvas": {
     "comments": [],
     "componentType": "CodeCell",
     "copiedOriginId": null,
     "diskcache": false,
     "headerColor": "transparent",
     "id": "a66c1b5a-0e1f-43a8-b09a-ddb83a6a215b",
     "isComponent": false,
     "name": "",
     "parents": []
    }
   },
   "outputs": [
    {
     "data": {
      "text/plain": [
       "array([[-0.20662722, -0.73645841, -2.09800674, ..., -0.48444916,\n",
       "        -0.66520587, -0.94696819],\n",
       "       [-0.35557238, -0.42674533, -0.01300731, ...,  0.11672177,\n",
       "        -0.33401111, -0.32655239],\n",
       "       [ 0.40949854, -0.01400246, -0.94300971, ...,  0.47946283,\n",
       "         1.5682728 ,  1.37783281],\n",
       "       ...,\n",
       "       [-0.2546584 , -0.7801804 ,  0.51151426, ...,  0.04045114,\n",
       "        -0.11254925,  0.06562207],\n",
       "       [-0.12059098,  0.63574075,  0.68079501, ..., -0.20786555,\n",
       "        -0.15423466,  0.16893878],\n",
       "       [-0.06614687, -0.35411998, -0.41962934, ..., -0.10646781,\n",
       "         0.10650069,  0.25248951]])"
      ]
     },
     "execution_count": 12,
     "metadata": {},
     "output_type": "execute_result"
    }
   ],
   "source": [
    "X_scaled"
   ]
  },
  {
   "cell_type": "code",
   "execution_count": 13,
   "id": "90425830-214e-4c57-b8a2-41dcacaf05ca",
   "metadata": {},
   "outputs": [],
   "source": [
    "from sklearn.model_selection import RandomizedSearchCV"
   ]
  },
  {
   "cell_type": "code",
   "execution_count": 14,
   "id": "243d9f8c-01e2-4210-a93e-8650a9f0f062",
   "metadata": {},
   "outputs": [
    {
     "name": "stdout",
     "output_type": "stream",
     "text": [
      "{'n_estimators': [100, 200, 500, 1000, 2000], 'max_features': [2, 4, 5, 9, 10, 15, 18], 'max_depth': [2, 5, 8, 10, None], 'min_samples_split': [2, 5, 11], 'min_samples_leaf': [1, 2, 4], 'bootstrap': [True, False], 'criterion': ['gini', 'entropy', 'log_loss']}\n"
     ]
    }
   ],
   "source": [
    "# n_estimators = [int(x) for x in np.linspace(start = 100, stop = 1000, num = 10)] # Nhiều quá -> 100, 200, 500, 1000, 2000\n",
    "n_estimators = [100, 200, 500, 1000, 2000]\n",
    "max_features = [2, 4, 5 ,9, 10, 15, 18] #Trong bai cua co la 2, 4, 5 ,9, 10, 15, 18\n",
    "min_samples_split = [2, 5, 11] # Trong bai la 5, 11 #Nên lấy số lẻ\n",
    "\n",
    "# max_depth = [int(x) for x in np.linspace(5, 110, num = 22)] -> 2, 5, 8, 10, None\n",
    "max_depth = [2, 5, 8, 10,] #-> 2, 5, 8, 10, None\n",
    "max_depth.append(None)\n",
    "criterion = ['gini', 'entropy', 'log_loss']\n",
    "min_samples_leaf = [1, 2, 4]\n",
    "bootstrap = [True, False]\n",
    "Random_forest_search = {'n_estimators': n_estimators,\n",
    "                       'max_features': max_features,\n",
    "                       'max_depth': max_depth,\n",
    "                       'min_samples_split': min_samples_split,\n",
    "                       'min_samples_leaf': min_samples_leaf,\n",
    "                       'bootstrap': bootstrap,\n",
    "                       'criterion': criterion}\n",
    "print(Random_forest_search)"
   ]
  },
  {
   "cell_type": "code",
   "execution_count": 15,
   "id": "2e0677fa-837d-4211-beea-aa56809b508b",
   "metadata": {
    "canvas": {
     "comments": [],
     "componentType": "CodeCell",
     "copiedOriginId": null,
     "diskcache": false,
     "headerColor": "transparent",
     "id": "69e803ed-8fad-4233-8804-e92bbae42f9f",
     "isComponent": false,
     "name": "",
     "parents": []
    }
   },
   "outputs": [
    {
     "name": "stdout",
     "output_type": "stream",
     "text": [
      "Fitting 5 folds for each of 10 candidates, totalling 50 fits\n",
      "[CV 1/5] END bootstrap=True, criterion=log_loss, max_depth=2, max_features=4, min_samples_leaf=2, min_samples_split=11, n_estimators=1000;, score=0.552 total time=  18.5s\n",
      "[CV 2/5] END bootstrap=True, criterion=log_loss, max_depth=2, max_features=4, min_samples_leaf=2, min_samples_split=11, n_estimators=1000;, score=0.552 total time=  19.5s\n",
      "[CV 3/5] END bootstrap=True, criterion=log_loss, max_depth=2, max_features=4, min_samples_leaf=2, min_samples_split=11, n_estimators=1000;, score=0.558 total time=  18.8s\n",
      "[CV 4/5] END bootstrap=True, criterion=log_loss, max_depth=2, max_features=4, min_samples_leaf=2, min_samples_split=11, n_estimators=1000;, score=0.557 total time=  20.0s\n",
      "[CV 5/5] END bootstrap=True, criterion=log_loss, max_depth=2, max_features=4, min_samples_leaf=2, min_samples_split=11, n_estimators=1000;, score=0.353 total time=  20.7s\n",
      "[CV 1/5] END bootstrap=False, criterion=log_loss, max_depth=5, max_features=10, min_samples_leaf=1, min_samples_split=11, n_estimators=200;, score=0.541 total time=  31.5s\n",
      "[CV 2/5] END bootstrap=False, criterion=log_loss, max_depth=5, max_features=10, min_samples_leaf=1, min_samples_split=11, n_estimators=200;, score=0.569 total time=  30.8s\n",
      "[CV 3/5] END bootstrap=False, criterion=log_loss, max_depth=5, max_features=10, min_samples_leaf=1, min_samples_split=11, n_estimators=200;, score=0.584 total time=  30.5s\n",
      "[CV 4/5] END bootstrap=False, criterion=log_loss, max_depth=5, max_features=10, min_samples_leaf=1, min_samples_split=11, n_estimators=200;, score=0.583 total time=  30.2s\n",
      "[CV 5/5] END bootstrap=False, criterion=log_loss, max_depth=5, max_features=10, min_samples_leaf=1, min_samples_split=11, n_estimators=200;, score=0.386 total time=  29.5s\n",
      "[CV 1/5] END bootstrap=True, criterion=gini, max_depth=8, max_features=15, min_samples_leaf=1, min_samples_split=5, n_estimators=100;, score=0.577 total time=  20.5s\n",
      "[CV 2/5] END bootstrap=True, criterion=gini, max_depth=8, max_features=15, min_samples_leaf=1, min_samples_split=5, n_estimators=100;, score=0.607 total time=  21.1s\n",
      "[CV 3/5] END bootstrap=True, criterion=gini, max_depth=8, max_features=15, min_samples_leaf=1, min_samples_split=5, n_estimators=100;, score=0.629 total time=  22.0s\n",
      "[CV 4/5] END bootstrap=True, criterion=gini, max_depth=8, max_features=15, min_samples_leaf=1, min_samples_split=5, n_estimators=100;, score=0.584 total time=  21.6s\n",
      "[CV 5/5] END bootstrap=True, criterion=gini, max_depth=8, max_features=15, min_samples_leaf=1, min_samples_split=5, n_estimators=100;, score=0.420 total time=  21.1s\n",
      "[CV 1/5] END bootstrap=False, criterion=log_loss, max_depth=None, max_features=18, min_samples_leaf=4, min_samples_split=11, n_estimators=1000;, score=0.617 total time=17.8min\n",
      "[CV 2/5] END bootstrap=False, criterion=log_loss, max_depth=None, max_features=18, min_samples_leaf=4, min_samples_split=11, n_estimators=1000;, score=0.653 total time=17.7min\n",
      "[CV 3/5] END bootstrap=False, criterion=log_loss, max_depth=None, max_features=18, min_samples_leaf=4, min_samples_split=11, n_estimators=1000;, score=0.699 total time=18.7min\n",
      "[CV 4/5] END bootstrap=False, criterion=log_loss, max_depth=None, max_features=18, min_samples_leaf=4, min_samples_split=11, n_estimators=1000;, score=0.647 total time=17.8min\n",
      "[CV 5/5] END bootstrap=False, criterion=log_loss, max_depth=None, max_features=18, min_samples_leaf=4, min_samples_split=11, n_estimators=1000;, score=0.493 total time=16.4min\n",
      "[CV 1/5] END bootstrap=True, criterion=log_loss, max_depth=2, max_features=4, min_samples_leaf=4, min_samples_split=11, n_estimators=2000;, score=0.552 total time=  40.2s\n",
      "[CV 2/5] END bootstrap=True, criterion=log_loss, max_depth=2, max_features=4, min_samples_leaf=4, min_samples_split=11, n_estimators=2000;, score=0.552 total time=  40.3s\n",
      "[CV 3/5] END bootstrap=True, criterion=log_loss, max_depth=2, max_features=4, min_samples_leaf=4, min_samples_split=11, n_estimators=2000;, score=0.557 total time=  40.8s\n",
      "[CV 4/5] END bootstrap=True, criterion=log_loss, max_depth=2, max_features=4, min_samples_leaf=4, min_samples_split=11, n_estimators=2000;, score=0.557 total time=  38.8s\n",
      "[CV 5/5] END bootstrap=True, criterion=log_loss, max_depth=2, max_features=4, min_samples_leaf=4, min_samples_split=11, n_estimators=2000;, score=0.355 total time=  38.1s\n",
      "[CV 1/5] END bootstrap=False, criterion=gini, max_depth=8, max_features=15, min_samples_leaf=1, min_samples_split=11, n_estimators=1000;, score=0.556 total time= 4.6min\n",
      "[CV 2/5] END bootstrap=False, criterion=gini, max_depth=8, max_features=15, min_samples_leaf=1, min_samples_split=11, n_estimators=1000;, score=0.596 total time= 4.6min\n",
      "[CV 3/5] END bootstrap=False, criterion=gini, max_depth=8, max_features=15, min_samples_leaf=1, min_samples_split=11, n_estimators=1000;, score=0.631 total time= 4.5min\n",
      "[CV 4/5] END bootstrap=False, criterion=gini, max_depth=8, max_features=15, min_samples_leaf=1, min_samples_split=11, n_estimators=1000;, score=0.582 total time= 4.2min\n",
      "[CV 5/5] END bootstrap=False, criterion=gini, max_depth=8, max_features=15, min_samples_leaf=1, min_samples_split=11, n_estimators=1000;, score=0.417 total time= 4.1min\n",
      "[CV 1/5] END bootstrap=True, criterion=entropy, max_depth=10, max_features=10, min_samples_leaf=2, min_samples_split=11, n_estimators=500;, score=0.593 total time= 1.7min\n",
      "[CV 2/5] END bootstrap=True, criterion=entropy, max_depth=10, max_features=10, min_samples_leaf=2, min_samples_split=11, n_estimators=500;, score=0.606 total time= 1.7min\n",
      "[CV 3/5] END bootstrap=True, criterion=entropy, max_depth=10, max_features=10, min_samples_leaf=2, min_samples_split=11, n_estimators=500;, score=0.659 total time= 1.7min\n",
      "[CV 4/5] END bootstrap=True, criterion=entropy, max_depth=10, max_features=10, min_samples_leaf=2, min_samples_split=11, n_estimators=500;, score=0.585 total time= 1.7min\n",
      "[CV 5/5] END bootstrap=True, criterion=entropy, max_depth=10, max_features=10, min_samples_leaf=2, min_samples_split=11, n_estimators=500;, score=0.414 total time= 1.7min\n",
      "[CV 1/5] END bootstrap=False, criterion=entropy, max_depth=2, max_features=10, min_samples_leaf=1, min_samples_split=11, n_estimators=100;, score=0.552 total time=   5.7s\n",
      "[CV 2/5] END bootstrap=False, criterion=entropy, max_depth=2, max_features=10, min_samples_leaf=1, min_samples_split=11, n_estimators=100;, score=0.552 total time=   5.9s\n",
      "[CV 3/5] END bootstrap=False, criterion=entropy, max_depth=2, max_features=10, min_samples_leaf=1, min_samples_split=11, n_estimators=100;, score=0.557 total time=   5.8s\n",
      "[CV 4/5] END bootstrap=False, criterion=entropy, max_depth=2, max_features=10, min_samples_leaf=1, min_samples_split=11, n_estimators=100;, score=0.557 total time=   5.5s\n",
      "[CV 5/5] END bootstrap=False, criterion=entropy, max_depth=2, max_features=10, min_samples_leaf=1, min_samples_split=11, n_estimators=100;, score=0.376 total time=   5.8s\n",
      "[CV 1/5] END bootstrap=False, criterion=gini, max_depth=None, max_features=2, min_samples_leaf=2, min_samples_split=2, n_estimators=500;, score=0.620 total time=  53.0s\n",
      "[CV 2/5] END bootstrap=False, criterion=gini, max_depth=None, max_features=2, min_samples_leaf=2, min_samples_split=2, n_estimators=500;, score=0.655 total time=  54.8s\n",
      "[CV 3/5] END bootstrap=False, criterion=gini, max_depth=None, max_features=2, min_samples_leaf=2, min_samples_split=2, n_estimators=500;, score=0.689 total time=  54.5s\n",
      "[CV 4/5] END bootstrap=False, criterion=gini, max_depth=None, max_features=2, min_samples_leaf=2, min_samples_split=2, n_estimators=500;, score=0.632 total time=  56.6s\n",
      "[CV 5/5] END bootstrap=False, criterion=gini, max_depth=None, max_features=2, min_samples_leaf=2, min_samples_split=2, n_estimators=500;, score=0.466 total time=  50.0s\n",
      "[CV 1/5] END bootstrap=False, criterion=log_loss, max_depth=None, max_features=9, min_samples_leaf=4, min_samples_split=2, n_estimators=100;, score=0.612 total time=  55.2s\n",
      "[CV 2/5] END bootstrap=False, criterion=log_loss, max_depth=None, max_features=9, min_samples_leaf=4, min_samples_split=2, n_estimators=100;, score=0.655 total time=  56.4s\n",
      "[CV 3/5] END bootstrap=False, criterion=log_loss, max_depth=None, max_features=9, min_samples_leaf=4, min_samples_split=2, n_estimators=100;, score=0.701 total time=  59.0s\n",
      "[CV 4/5] END bootstrap=False, criterion=log_loss, max_depth=None, max_features=9, min_samples_leaf=4, min_samples_split=2, n_estimators=100;, score=0.647 total time=  52.7s\n",
      "[CV 5/5] END bootstrap=False, criterion=log_loss, max_depth=None, max_features=9, min_samples_leaf=4, min_samples_split=2, n_estimators=100;, score=0.484 total time=  51.3s\n"
     ]
    }
   ],
   "source": [
    "import time\n",
    "from sklearn.ensemble import RandomForestClassifier\n",
    "\n",
    "t1 = time.time()\n",
    "base_model = RandomForestClassifier(random_state = 1337)\n",
    "\n",
    "clf = RandomizedSearchCV(base_model, Random_forest_search, scoring='accuracy', n_iter=10, random_state=1337, verbose=3)\n",
    "clf.fit(X_scaled, np.array(train_label).ravel())\n",
    "# clf.grid_scores_\n",
    "t2 = time.time()"
   ]
  },
  {
   "cell_type": "code",
   "execution_count": 16,
   "id": "a3d57cf2-97fd-4255-b8b3-e39a601cc359",
   "metadata": {},
   "outputs": [
    {
     "data": {
      "text/plain": [
       "{'n_estimators': 1000,\n",
       " 'min_samples_split': 11,\n",
       " 'min_samples_leaf': 4,\n",
       " 'max_features': 18,\n",
       " 'max_depth': None,\n",
       " 'criterion': 'log_loss',\n",
       " 'bootstrap': False}"
      ]
     },
     "execution_count": 16,
     "metadata": {},
     "output_type": "execute_result"
    }
   ],
   "source": [
    "clf.best_params_\n"
   ]
  },
  {
   "cell_type": "code",
   "execution_count": 17,
   "id": "10b7b693-d696-4ecf-b674-763f11ae95ed",
   "metadata": {
    "canvas": {
     "comments": [],
     "componentType": "CodeCell",
     "copiedOriginId": "c3e0c5b6-fdc6-4877-bd53-559ce66d2823",
     "diskcache": false,
     "headerColor": "transparent",
     "id": "4d4626cf-b231-4347-b7f9-653065ff7d2f",
     "isComponent": false,
     "name": "",
     "parents": []
    }
   },
   "outputs": [
    {
     "name": "stdout",
     "output_type": "stream",
     "text": [
      "time elapsed: 9609.339831113815 seconds or 160 minutes and 9 seconds\n"
     ]
    }
   ],
   "source": [
    "print(f\"time elapsed: {t2-t1} seconds or {int((t2-t1)//60)} minutes and {int((t2-t1)-(t2-t1)//60*60)} seconds\")"
   ]
  },
  {
   "cell_type": "code",
   "execution_count": 18,
   "id": "8f455bad-58bd-4a6e-b1c0-d365be2e6941",
   "metadata": {
    "canvas": {
     "comments": [],
     "componentType": "CodeCell",
     "copiedOriginId": "24559929-7881-42cf-b82e-bb2bb8a46825",
     "diskcache": false,
     "headerColor": "transparent",
     "id": "a53f0bd3-513c-4fb5-9d26-0952abd3e7e3",
     "isComponent": false,
     "name": "",
     "parents": []
    }
   },
   "outputs": [
    {
     "name": "stdout",
     "output_type": "stream",
     "text": [
      "0.7078333333333333\n"
     ]
    }
   ],
   "source": [
    "print(accuracy_score(test_label,clf.predict(X_test_scaled)))"
   ]
  },
  {
   "cell_type": "code",
   "execution_count": 19,
   "id": "e776ebea-2f44-41ab-a3b0-62f9a8bb17a5",
   "metadata": {
    "canvas": {
     "comments": [],
     "componentType": "CodeCell",
     "copiedOriginId": null,
     "diskcache": false,
     "headerColor": "transparent",
     "id": "46193df3-8e7c-4062-910e-47cf49f0dd55",
     "isComponent": false,
     "name": "",
     "parents": []
    }
   },
   "outputs": [],
   "source": [
    "from sklearn.metrics import classification_report, roc_curve, RocCurveDisplay\n"
   ]
  },
  {
   "cell_type": "code",
   "execution_count": 20,
   "id": "6ca8584a-e13f-4fb4-b929-994a2e67d881",
   "metadata": {
    "canvas": {
     "comments": [],
     "componentType": "CodeCell",
     "copiedOriginId": null,
     "diskcache": false,
     "headerColor": "transparent",
     "id": "7036d46a-bfd0-4538-a840-733029bc4c80",
     "isComponent": false,
     "name": "",
     "parents": []
    }
   },
   "outputs": [
    {
     "name": "stdout",
     "output_type": "stream",
     "text": [
      "              precision    recall  f1-score   support\n",
      "\n",
      "       Queen       0.71      0.71      0.71      3000\n",
      "   Queenless       0.71      0.70      0.71      3000\n",
      "\n",
      "    accuracy                           0.71      6000\n",
      "   macro avg       0.71      0.71      0.71      6000\n",
      "weighted avg       0.71      0.71      0.71      6000\n",
      "\n"
     ]
    }
   ],
   "source": [
    "print(classification_report(test_label,clf.predict(X_test_scaled), target_names=[\"Queen\", \"Queenless\"]))"
   ]
  },
  {
   "cell_type": "code",
   "execution_count": 21,
   "id": "d8c7928e-1005-4633-b57f-5aaf125dae2c",
   "metadata": {
    "canvas": {
     "comments": [],
     "componentType": "CodeCell",
     "copiedOriginId": null,
     "diskcache": false,
     "headerColor": "transparent",
     "id": "fc3b5388-8eab-4178-8e4c-642eb06cca58",
     "isComponent": false,
     "name": "",
     "parents": []
    }
   },
   "outputs": [
    {
     "data": {
      "text/plain": [
       "(array([0.        , 0.28833333, 1.        ]),\n",
       " array([0.   , 0.704, 1.   ]),\n",
       " array([inf,  1.,  0.]))"
      ]
     },
     "execution_count": 21,
     "metadata": {},
     "output_type": "execute_result"
    }
   ],
   "source": [
    "roc_curve(test_label,clf.predict(X_test_scaled))"
   ]
  },
  {
   "cell_type": "code",
   "execution_count": 22,
   "id": "d169468e-9bf4-4c59-929f-2afa1dd8de0d",
   "metadata": {
    "canvas": {
     "comments": [],
     "componentType": "CodeCell",
     "copiedOriginId": null,
     "diskcache": false,
     "headerColor": "transparent",
     "id": "50e89a97-dbfa-40dc-8abc-0bb30e2736d7",
     "isComponent": false,
     "name": "",
     "parents": []
    }
   },
   "outputs": [],
   "source": [
    "import matplotlib.pyplot as plt"
   ]
  },
  {
   "cell_type": "code",
   "execution_count": 23,
   "id": "7afe34b7-ccad-4e7d-937e-2d2ad60ef759",
   "metadata": {
    "canvas": {
     "comments": [],
     "componentType": "CodeCell",
     "copiedOriginId": null,
     "diskcache": false,
     "headerColor": "transparent",
     "id": "76430505-a478-40f7-827b-abab71d8bf92",
     "isComponent": false,
     "name": "",
     "parents": []
    }
   },
   "outputs": [
    {
     "data": {
      "image/png": "[encoded data removed]",
      "text/plain": [
       "<Figure size 640x480 with 1 Axes>"
      ]
     },
     "metadata": {},
     "output_type": "display_data"
    }
   ],
   "source": [
    "RocCurveDisplay.from_predictions(\n",
    "    np.array(test_label.values).ravel(),\n",
    "    np.array(clf.predict(X_test_scaled)).ravel(),\n",
    "    name=\"micro-average OvR\",\n",
    "    color=\"darkorange\",\n",
    "\n",
    ")\n",
    "plt.axis(\"square\")\n",
    "plt.xlabel(\"False Positive Rate\")\n",
    "plt.ylabel(\"True Positive Rate\")\n",
    "plt.title(\"Micro-averaged One-vs-Rest\\nReceiver Operating Characteristic\")\n",
    "plt.legend()\n",
    "plt.show()"
   ]
  },
  {
   "cell_type": "code",
   "execution_count": 24,
   "id": "e3dfe7d0-619e-4a0d-b313-e7549908c0ef",
   "metadata": {},
   "outputs": [
    {
     "data": {
      "image/png": "[encoded data removed]",
      "text/plain": [
       "<Figure size 640x480 with 1 Axes>"
      ]
     },
     "metadata": {},
     "output_type": "display_data"
    }
   ],
   "source": [
    "from sklearn.metrics import classification_report, roc_curve, RocCurveDisplay, roc_auc_score, auc\n",
    "\n",
    "fpr, tpr, thresholds = roc_curve(test_label, clf.predict_proba(X_test_scaled)[:, 1])\n",
    "\n",
    "auc = auc(fpr, tpr)\n",
    "\n",
    "plt.plot(fpr, tpr, label=\"ROC curve (area = {0:.2f})\".format(auc))\n",
    "plt.plot([0, 1], [0, 1], linestyle=\"dashed\")\n",
    "# plt.title(\"FFT 1D with XGBoost roc_curve\")\n",
    "plt.xlabel(\"False Positive Rate\")\n",
    "plt.ylabel(\"True Positive Rate\")\n",
    "plt.legend()\n",
    "plt.show()"
   ]
  },
  {
   "cell_type": "code",
   "execution_count": 25,
   "id": "6596f477-3688-4330-9518-191160aaa739",
   "metadata": {
    "canvas": {
     "comments": [],
     "componentType": "CodeCell",
     "copiedOriginId": null,
     "diskcache": false,
     "headerColor": "transparent",
     "id": "716253d1-448e-4e23-8217-4112f38a9342",
     "isComponent": false,
     "name": "",
     "parents": []
    }
   },
   "outputs": [],
   "source": [
    "from sklearn.metrics import confusion_matrix"
   ]
  },
  {
   "cell_type": "code",
   "execution_count": 26,
   "id": "761bcdd6-36f8-4cc9-942b-71bf26ffc7a5",
   "metadata": {
    "canvas": {
     "comments": [],
     "componentType": "CodeCell",
     "copiedOriginId": null,
     "diskcache": false,
     "headerColor": "transparent",
     "id": "369575c1-babe-4f6a-a5e6-59346f8b6504",
     "isComponent": false,
     "name": "",
     "parents": []
    }
   },
   "outputs": [
    {
     "data": {
      "text/plain": [
       "<Axes: >"
      ]
     },
     "execution_count": 26,
     "metadata": {},
     "output_type": "execute_result"
    },
    {
     "data": {
      "image/png": "[encoded data removed]",
      "text/plain": [
       "<Figure size 1000x700 with 2 Axes>"
      ]
     },
     "metadata": {},
     "output_type": "display_data"
    }
   ],
   "source": [
    "import seaborn as sns\n",
    "\n",
    "cf_mat = confusion_matrix(test_label, clf.predict(X_test_scaled))\n",
    "df_cm = pd.DataFrame(cf_mat, index = [i for i in ['Queen', 'Queenless']],\n",
    "                  columns = [i for i in ['Queen', 'Queenless']])\n",
    "df_cm_normed = df_cm/df_cm.sum()\n",
    "plt.figure(figsize = (10,7))\n",
    "sns.heatmap(df_cm, annot=True, fmt=\"\", )\n"
   ]
  },
  {
   "cell_type": "code",
   "execution_count": 27,
   "id": "bdfaf4c5-20ea-4b5a-8de5-672f67005012",
   "metadata": {
    "canvas": {
     "comments": [],
     "componentType": "CodeCell",
     "copiedOriginId": null,
     "diskcache": false,
     "headerColor": "transparent",
     "id": "ba760705-4ef2-4da9-be3a-a46974b17722",
     "isComponent": false,
     "name": "",
     "parents": []
    }
   },
   "outputs": [
    {
     "data": {
      "text/plain": [
       "<Axes: >"
      ]
     },
     "execution_count": 27,
     "metadata": {},
     "output_type": "execute_result"
    },
    {
     "data": {
      "image/png": "[encoded data removed]",
      "text/plain": [
       "<Figure size 1000x700 with 2 Axes>"
      ]
     },
     "metadata": {},
     "output_type": "display_data"
    }
   ],
   "source": [
    "df_cm_normed = df_cm/df_cm.sum()\n",
    "plt.figure(figsize = (10,7))\n",
    "sns.heatmap(df_cm_normed, annot=True, fmt=\".3f\", )"
   ]
  },
  {
   "cell_type": "code",
   "execution_count": null,
   "id": "aa801152-f69d-48ff-8d27-66dd586c0979",
   "metadata": {},
   "outputs": [],
   "source": [
    "                                                                                    "
   ]
  },
  {
   "cell_type": "code",
   "execution_count": null,
   "id": "7379c2ef-bfa1-4075-aab3-dc9d6b032b22",
   "metadata": {},
   "outputs": [],
   "source": []
  }
 ],
 "metadata": {
  "canvas": {
   "colorPalette": [
    "inherit",
    "inherit",
    "inherit",
    "inherit",
    "inherit",
    "inherit",
    "inherit",
    "inherit",
    "inherit",
    "inherit"
   ],
   "parameters": [],
   "version": "1.0"
  },
  "kernelspec": {
   "display_name": "Python 3 (ipykernel)",
   "language": "python",
   "name": "python3"
  },
  "language_info": {
   "codemirror_mode": {
    "name": "ipython",
    "version": 3
   },
   "file_extension": ".py",
   "mimetype": "text/x-python",
   "name": "python",
   "nbconvert_exporter": "python",
   "pygments_lexer": "ipython3",
   "version": "3.9.0"
  }
 },
 "nbformat": 4,
 "nbformat_minor": 5
}
