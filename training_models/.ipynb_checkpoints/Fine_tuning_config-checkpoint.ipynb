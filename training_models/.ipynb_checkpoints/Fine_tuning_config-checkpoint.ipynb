{
 "cells": [
  {
   "cell_type": "code",
   "execution_count": 1,
   "id": "30a9dbf4-21df-4c11-b7b7-1d51b3268612",
   "metadata": {
    "canvas": {
     "comments": [],
     "componentType": "CodeCell",
     "copiedOriginId": null,
     "diskcache": false,
     "headerColor": "transparent",
     "id": "c6f70149-f252-4cd2-b911-84631fec8b2a",
     "isComponent": false,
     "name": "",
     "parents": []
    }
   },
   "outputs": [],
   "source": [
    "import numpy as np"
   ]
  },
  {
   "cell_type": "code",
   "execution_count": 12,
   "id": "542fa62e-1ada-40bf-9d49-9dda855ecb7d",
   "metadata": {
    "canvas": {
     "comments": [],
     "componentType": "CodeCell",
     "copiedOriginId": null,
     "diskcache": false,
     "headerColor": "transparent",
     "id": "3a9c200d-8546-4a2d-ad23-c923cd911166",
     "isComponent": false,
     "name": "",
     "parents": []
    }
   },
   "outputs": [
    {
     "name": "stdout",
     "output_type": "stream",
     "text": [
      "{'n_estimators': [100, 200, 300, 400, 500, 600, 700, 800, 900, 1000], 'max_features': ['sqrt', 'log2', None], 'max_depth': [5, 10, 15, 20, 25, 30, 35, 40, 45, 50, 55, 60, 65, 70, 75, 80, 85, 90, 95, 100, 105, 110, None], 'min_samples_split': [2, 5, 10], 'min_samples_leaf': [1, 2, 4], 'bootstrap': [True, False], 'criterion': ['gini', 'entropy', 'log_loss']}\n"
     ]
    }
   ],
   "source": [
    "n_estimators = [int(x) for x in np.linspace(start = 100, stop = 1000, num = 10)] # Nhiều quá -> 100, 200, 500, 1000, 2000\n",
    "max_features = ['sqrt', 'log2', None] #Trong bai cua co la 2, 4, 5 ,9, 10, 15, 18\n",
    "min_samples_split = [2, 5, 10] # Trong bai la 5, 11 #Nên lấy số lẻ\n",
    "\n",
    "max_depth = [int(x) for x in np.linspace(5, 110, num = 22)] -> 2, 5, 8, 10, None\n",
    "max_depth.append(None)\n",
    "criterion = ['gini', 'entropy', 'log_loss']\n",
    "\n",
    "min_samples_leaf = [1, 2, 4]\n",
    "\n",
    "bootstrap = [True, False]\n",
    "\n",
    "\n",
    "Random_forest_search = {'n_estimators': n_estimators,\n",
    "                       'max_features': max_features,\n",
    "                       'max_depth': max_depth,\n",
    "                       'min_samples_split': min_samples_split,\n",
    "                       'min_samples_leaf': min_samples_leaf,\n",
    "                       'bootstrap': bootstrap,\n",
    "                       'criterion': criterion}\n",
    "print(Random_forest_search)"
   ]
  },
  {
   "cell_type": "code",
   "execution_count": null,
   "id": "356b0827-e18e-444c-b919-d390d1943e3e",
   "metadata": {},
   "outputs": [],
   "source": [
    "import scipy\n",
    "svm_params = {\n",
    "              'C': scipy.stats.expon(scale=1.),\n",
    "              'gamma': scipy.stats.expon(scale=.1),\n",
    "              'kernel': ['linear', 'poly', 'rbf', 'sigmoid'],\n",
    "              }\n",
    "optimal_params, _ = search_for_best_models(SVC(),\n",
    "                                           params=svm_params,\n",
    "                                           X_train=X_train,\n",
    "                                           y_train=y_train,\n",
    "                                           X_test=X_test,\n",
    "                                           y_test=y_test)\n",
    "\n",
    "# model_svm = SVC()"
   ]
  },
  {
   "cell_type": "code",
   "execution_count": 17,
   "id": "3b0b07b5-2e16-4372-9339-568be915db2c",
   "metadata": {
    "canvas": {
     "comments": [],
     "componentType": "CodeCell",
     "copiedOriginId": null,
     "diskcache": false,
     "headerColor": "transparent",
     "id": "3a78bb6a-8c0f-499a-b301-a19322fdc496",
     "isComponent": false,
     "name": "",
     "parents": []
    }
   },
   "outputs": [
    {
     "data": {
      "text/plain": [
       "{'n_neighbors': [5, 6, 7, 8, 9, 10, 11, 12, 13, 14, 15, 16, 17, 18, 19, 20],\n",
       " 'algorithm': ['ball_tree', 'kd_tree', 'brute'],\n",
       " 'weights': ['uniform', 'distance'],\n",
       " 'metric': ['minkowski', 'euclidean', 'manhattan']}"
      ]
     },
     "execution_count": 17,
     "metadata": {},
     "output_type": "execute_result"
    }
   ],
   "source": [
    "n_neighbors = [int(x) for x in np.arange(5, 21)]\n",
    "\n",
    "KNN_search = { 'n_neighbors' : n_neighbors,\n",
    "              'algorithm' : ['ball_tree', 'kd_tree', 'brute'],\n",
    "               'weights' : ['uniform','distance'],\n",
    "               'metric' : ['minkowski','euclidean','manhattan']}\n",
    "KNN_search"
   ]
  },
  {
   "cell_type": "code",
   "execution_count": 18,
   "id": "8d904623-bf51-41a6-aa9b-94e79477b757",
   "metadata": {
    "canvas": {
     "comments": [],
     "componentType": "CodeCell",
     "copiedOriginId": null,
     "diskcache": false,
     "headerColor": "transparent",
     "id": "1e334ef4-ca05-41b2-b51e-e53d0cdec737",
     "isComponent": false,
     "name": "",
     "parents": []
    }
   },
   "outputs": [],
   "source": [
    "logistic_search = {'penalty' : ['l1', 'l2', 'elasticnet', None],\n",
    "                   'C': [0.001, 0.01, 0.1, 1, 10, 100, 1000],\n",
    "                   'solver': ['lbfgs', 'liblinear', 'newton-cg', 'newton-cholesky', 'sag', 'saga']\n",
    "                    }"
   ]
  },
  {
   "cell_type": "code",
   "execution_count": 24,
   "id": "cdc2fada-b591-43f4-b8df-4607ebfd228c",
   "metadata": {
    "canvas": {
     "comments": [],
     "componentType": "CodeCell",
     "copiedOriginId": null,
     "diskcache": false,
     "headerColor": "transparent",
     "id": "42cfb6f2-ef87-4bf4-8ad8-462085f894c6",
     "isComponent": false,
     "name": "",
     "parents": []
    }
   },
   "outputs": [],
   "source": [
    "extra_trees_search={'n_estimators': [int(x) for x in np.arange(50, 126, 5)],\n",
    "                    'max_features': [int(x) for x in np.arange(50, 401, 50)],\n",
    "                    'min_samples_leaf':  [int(x) for x in np.arange(20, 51, 5)],\n",
    "                    'min_samples_split': [int(x) for x in np.arange(15, 36, 5)],\n",
    "                    }"
   ]
  },
  {
   "cell_type": "code",
   "execution_count": 25,
   "id": "45526d19-8099-4b39-9cf1-a73af57151a5",
   "metadata": {
    "canvas": {
     "comments": [],
     "componentType": "CodeCell",
     "copiedOriginId": null,
     "diskcache": false,
     "headerColor": "transparent",
     "id": "abf2298b-8712-4af0-bea7-b7b17956d47c",
     "isComponent": false,
     "name": "",
     "parents": []
    }
   },
   "outputs": [
    {
     "data": {
      "text/plain": [
       "{'n_estimators': [50,\n",
       "  55,\n",
       "  60,\n",
       "  65,\n",
       "  70,\n",
       "  75,\n",
       "  80,\n",
       "  85,\n",
       "  90,\n",
       "  95,\n",
       "  100,\n",
       "  105,\n",
       "  110,\n",
       "  115,\n",
       "  120,\n",
       "  125],\n",
       " 'max_features': [50, 100, 150, 200, 250, 300, 350, 400],\n",
       " 'min_samples_leaf': [20, 25, 30, 35, 40, 45, 50],\n",
       " 'min_samples_split': [15, 20, 25, 30, 35]}"
      ]
     },
     "execution_count": 25,
     "metadata": {},
     "output_type": "execute_result"
    }
   ],
   "source": [
    "extra_trees_search"
   ]
  },
  {
   "cell_type": "code",
   "execution_count": 26,
   "id": "240fea9a-3304-4d7c-a111-d40bdefb51f2",
   "metadata": {
    "canvas": {
     "comments": [],
     "componentType": "CodeCell",
     "copiedOriginId": null,
     "diskcache": false,
     "headerColor": "transparent",
     "id": "378618d9-147e-4f0d-af48-2ebab295aa86",
     "isComponent": false,
     "name": "",
     "parents": []
    }
   },
   "outputs": [],
   "source": [
    "XGBoost_search = {\n",
    "        'min_child_weight': [1, 5, 10],\n",
    "        'gamma': [0.5, 1, 1.5, 2, 5],\n",
    "        'subsample': [0.6, 0.8, 1.0],\n",
    "        'colsample_bytree': [0.6, 0.8, 1.0],\n",
    "        'max_depth': [3, 4, 5]\n",
    "        }"
   ]
  },
  {
   "cell_type": "code",
   "execution_count": null,
   "id": "a6e03fa5-9019-4a2f-81a7-c4ec542df9f3",
   "metadata": {
    "canvas": {
     "comments": [],
     "componentType": "CodeCell",
     "copiedOriginId": null,
     "diskcache": false,
     "headerColor": "transparent",
     "id": "9391568c-c917-4983-8cd1-64f4c28ec9f3",
     "isComponent": false,
     "name": "",
     "parents": []
    }
   },
   "outputs": [],
   "source": []
  }
 ],
 "metadata": {
  "canvas": {
   "colorPalette": [
    "inherit",
    "inherit",
    "inherit",
    "inherit",
    "inherit",
    "inherit",
    "inherit",
    "inherit",
    "inherit",
    "inherit"
   ],
   "parameters": [],
   "version": "1.0"
  },
  "kernelspec": {
   "display_name": "Python 3 (ipykernel)",
   "language": "python",
   "name": "python3"
  },
  "language_info": {
   "codemirror_mode": {
    "name": "ipython",
    "version": 3
   },
   "file_extension": ".py",
   "mimetype": "text/x-python",
   "name": "python",
   "nbconvert_exporter": "python",
   "pygments_lexer": "ipython3",
   "version": "3.9.0"
  }
 },
 "nbformat": 4,
 "nbformat_minor": 5
}
