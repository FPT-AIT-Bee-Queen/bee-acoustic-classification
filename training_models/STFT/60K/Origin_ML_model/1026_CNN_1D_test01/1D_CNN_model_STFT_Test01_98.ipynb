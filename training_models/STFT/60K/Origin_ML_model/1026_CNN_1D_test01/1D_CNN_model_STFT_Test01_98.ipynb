{
 "cells": [
  {
   "cell_type": "code",
   "execution_count": 1,
   "metadata": {
    "tags": []
   },
   "outputs": [],
   "source": [
    "import os\n",
    "import time\n",
    "import librosa\n",
    "import numpy as np\n",
    "import matplotlib.pyplot as plt\n",
    "import seaborn as sns\n",
    "import pandas as pd \n",
    "from sklearn.model_selection import train_test_split\n",
    "from sklearn.preprocessing import LabelEncoder, StandardScaler\n",
    "from sklearn.metrics import *\n",
    "\n",
    "import tensorflow as tf\n",
    "from tensorflow.keras import *\n",
    "from tensorflow.keras.callbacks import *\n",
    "\n",
    "import warnings\n",
    "warnings.filterwarnings('ignore')"
   ]
  },
  {
   "cell_type": "code",
   "execution_count": 2,
   "metadata": {
    "tags": []
   },
   "outputs": [
    {
     "data": {
      "text/plain": [
       "'E:\\\\Data\\\\60k_splitted_1D_STFT_dataset\\\\'"
      ]
     },
     "execution_count": 2,
     "metadata": {},
     "output_type": "execute_result"
    }
   ],
   "source": [
    "path = 'E:\\\\Data\\\\60k_splitted_1D_STFT_dataset\\\\'\n",
    "os.chdir(path)\n",
    "path"
   ]
  },
  {
   "cell_type": "code",
   "execution_count": 3,
   "metadata": {},
   "outputs": [
    {
     "name": "stdout",
     "output_type": "stream",
     "text": [
      "E:\\Data\\60k_splitted_1D_STFT_dataset\\/train\n",
      "E:\\Data\\60k_splitted_1D_STFT_dataset\\/val\n",
      "E:\\Data\\60k_splitted_1D_STFT_dataset\\/test\n"
     ]
    }
   ],
   "source": [
    "TRAINING_DIR = path+\"/train\"\n",
    "VALIDATION_DIR = path + \"/val\"\n",
    "TEST_DIR = path + \"/test\"\n",
    "\n",
    "print(TRAINING_DIR)\n",
    "print(VALIDATION_DIR)\n",
    "print(TEST_DIR)"
   ]
  },
  {
   "cell_type": "code",
   "execution_count": 4,
   "metadata": {},
   "outputs": [],
   "source": [
    "def data_loader(path):\n",
    "    X = []\n",
    "    Y = []\n",
    "    for folder in os.listdir(path):\n",
    "        for file in os.listdir(os.path.join(path, folder)):\n",
    "            feature = np.load(os.path.join(path, folder, file))\n",
    "            label = folder\n",
    "            X += feature.tolist()\n",
    "            Y += [label]*feature.shape[0]\n",
    "    return X, Y"
   ]
  },
  {
   "cell_type": "code",
   "execution_count": 5,
   "metadata": {},
   "outputs": [],
   "source": [
    "X_train, Y_train = data_loader(TRAINING_DIR)\n",
    "X_val, Y_val = data_loader(VALIDATION_DIR)\n",
    "X_test, Y_test = data_loader(TEST_DIR)"
   ]
  },
  {
   "cell_type": "code",
   "execution_count": 6,
   "metadata": {},
   "outputs": [
    {
     "name": "stdout",
     "output_type": "stream",
     "text": [
      "There are 39999 training samples and 39999 training labels\n",
      "There are 10000 validation samples and 10000 validation labels\n",
      "There are 10000 testing samples and 10000 testing labels\n"
     ]
    }
   ],
   "source": [
    "print(\"There are {} training samples and {} training labels\".format(len(X_train), len(Y_train)))\n",
    "print(\"There are {} validation samples and {} validation labels\".format(len(X_val), len(Y_val)))\n",
    "print(\"There are {} testing samples and {} testing labels\".format(len(X_test), len(Y_test)))"
   ]
  },
  {
   "cell_type": "code",
   "execution_count": 7,
   "metadata": {},
   "outputs": [
    {
     "name": "stdout",
     "output_type": "stream",
     "text": [
      "Shape of X_train: (39999, 1026)\n",
      "Shape of X_val: (10000, 1026)\n",
      "Shape of X_test: (10000, 1026)\n",
      "Shape of Y_train: (39999,)\n",
      "Shape of Y_val: (10000,)\n",
      "Shape of Y_test: (10000,)\n"
     ]
    }
   ],
   "source": [
    "X_train = np.array(X_train)\n",
    "X_val = np.array(X_val)\n",
    "X_test = np.array(X_test)\n",
    "Y_train = np.array(Y_train)\n",
    "Y_val = np.array(Y_val)\n",
    "Y_test = np.array(Y_test)\n",
    "\n",
    "print(\"Shape of X_train: {}\".format(X_train.shape))\n",
    "print(\"Shape of X_val: {}\".format(X_val.shape))\n",
    "print(\"Shape of X_test: {}\".format(X_test.shape))\n",
    "print(\"Shape of Y_train: {}\".format(Y_train.shape))\n",
    "print(\"Shape of Y_val: {}\".format(Y_val.shape))\n",
    "print(\"Shape of Y_test: {}\".format(Y_test.shape))"
   ]
  },
  {
   "cell_type": "code",
   "execution_count": 8,
   "metadata": {},
   "outputs": [
    {
     "data": {
      "text/plain": [
       "(1026,)"
      ]
     },
     "execution_count": 8,
     "metadata": {},
     "output_type": "execute_result"
    }
   ],
   "source": [
    "X_train[0].shape"
   ]
  },
  {
   "cell_type": "code",
   "execution_count": 9,
   "metadata": {},
   "outputs": [
    {
     "name": "stdout",
     "output_type": "stream",
     "text": [
      "[0 1]\n",
      "[[ 0.40628541  3.78169554  4.04695586  1.03432937 -0.04790825]\n",
      " [-0.46005958 -0.38086726 -0.36792094 -0.36358415 -0.47579487]\n",
      " [-0.45699692 -0.44642912 -0.43478414 -0.44837834 -0.30542466]\n",
      " [-0.43140387 -0.3899724  -0.41988362 -0.43899126 -0.38878485]\n",
      " [ 0.03303411 -0.07867876 -0.29721826 -0.4269852  -0.44703661]]\n"
     ]
    }
   ],
   "source": [
    "label_encoder = LabelEncoder()\n",
    "Y_train = label_encoder.fit_transform(Y_train)\n",
    "Y_val = label_encoder.fit_transform(Y_val)\n",
    "Y_test = label_encoder.fit_transform(Y_test)\n",
    "print(np.unique(Y_train))\n",
    "\n",
    "std = StandardScaler()\n",
    "std_scaler = StandardScaler()\n",
    "X_train = std_scaler.fit_transform(X_train)\n",
    "X_val = std_scaler.transform(X_val)\n",
    "X_test = std_scaler.transform(X_test)\n",
    "print(X_train[0:5, 0:5])"
   ]
  },
  {
   "cell_type": "code",
   "execution_count": 10,
   "metadata": {},
   "outputs": [],
   "source": [
    "# shuffle the dataset\n",
    "shuffle_index = np.random.permutation(len(X_train))\n",
    "X_train, Y_train = X_train[shuffle_index], Y_train[shuffle_index]\n",
    "shuffle_index = np.random.permutation(len(X_val))\n",
    "X_val, Y_val = X_val[shuffle_index], Y_val[shuffle_index]\n",
    "shuffle_index = np.random.permutation(len(X_test))\n",
    "X_test, Y_test = X_test[shuffle_index], Y_test[shuffle_index]"
   ]
  },
  {
   "cell_type": "code",
   "execution_count": 11,
   "metadata": {},
   "outputs": [
    {
     "name": "stdout",
     "output_type": "stream",
     "text": [
      "Shape of X_train: (39999, 1026, 1)\n",
      "Shape of X_val: (10000, 1026, 1)\n",
      "Shape of X_test: (10000, 1026, 1)\n",
      "Shape of Y_train: (39999, 1)\n",
      "Shape of Y_val: (10000, 1)\n",
      "Shape of Y_test: (10000, 1)\n"
     ]
    }
   ],
   "source": [
    "# Reshape the input data\n",
    "X_train = X_train.reshape( (X_train.shape[0], X_train.shape[1], 1) )\n",
    "X_val = X_val.reshape( (X_val.shape[0], X_val.shape[1], 1) )\n",
    "X_test = X_test.reshape( (X_test.shape[0], X_test.shape[1], 1) )\n",
    "Y_train = Y_train.reshape( (Y_train.shape[0], 1) )\n",
    "Y_val = Y_val.reshape( (Y_val.shape[0], 1) )\n",
    "Y_test = Y_test.reshape( (Y_test.shape[0], 1) )\n",
    "\n",
    "print(\"Shape of X_train: {}\".format(X_train.shape))\n",
    "print(\"Shape of X_val: {}\".format(X_val.shape))\n",
    "print(\"Shape of X_test: {}\".format(X_test.shape))\n",
    "print(\"Shape of Y_train: {}\".format(Y_train.shape))\n",
    "print(\"Shape of Y_val: {}\".format(Y_val.shape))\n",
    "print(\"Shape of Y_test: {}\".format(Y_test.shape))"
   ]
  },
  {
   "cell_type": "markdown",
   "metadata": {},
   "source": [
    "# Model 1:"
   ]
  },
  {
   "cell_type": "code",
   "execution_count": 12,
   "metadata": {},
   "outputs": [],
   "source": [
    "model = Sequential([\n",
    "    layers.Input(shape=(X_train.shape[1:])),\n",
    "    layers.Conv1D(16, 3, activation='relu'),\n",
    "    layers.MaxPooling1D(2),\n",
    "    layers.Conv1D(32, 3, activation='relu'),\n",
    "    layers.MaxPooling1D(2),\n",
    "    layers.Conv1D(64, 3, activation='relu'),\n",
    "    layers.MaxPooling1D(2),\n",
    "    layers.Conv1D(128, 3, activation='relu'),\n",
    "    layers.MaxPooling1D(2),\n",
    "    layers.Conv1D(256, 3, activation='relu'),\n",
    "    layers.MaxPooling1D(2),\n",
    "    layers.Conv1D(512, 3, activation='relu'),\n",
    "    layers.MaxPooling1D(2),\n",
    "    layers.Flatten(),\n",
    "    layers.Dropout(0.2),\n",
    "    layers.Dense(1024, activation='relu'),\n",
    "    layers.Dropout(0.2),\n",
    "    layers.Dense(512, activation='relu'),\n",
    "    layers.Dropout(0.2),\n",
    "    layers.Dense(1, activation='sigmoid')\n",
    "])"
   ]
  },
  {
   "cell_type": "code",
   "execution_count": 13,
   "metadata": {},
   "outputs": [
    {
     "name": "stdout",
     "output_type": "stream",
     "text": [
      "Model: \"sequential\"\n",
      "_________________________________________________________________\n",
      " Layer (type)                Output Shape              Param #   \n",
      "=================================================================\n",
      " conv1d (Conv1D)             (None, 1024, 16)          64        \n",
      "                                                                 \n",
      " max_pooling1d (MaxPooling1D  (None, 512, 16)          0         \n",
      " )                                                               \n",
      "                                                                 \n",
      " conv1d_1 (Conv1D)           (None, 510, 32)           1568      \n",
      "                                                                 \n",
      " max_pooling1d_1 (MaxPooling  (None, 255, 32)          0         \n",
      " 1D)                                                             \n",
      "                                                                 \n",
      " conv1d_2 (Conv1D)           (None, 253, 64)           6208      \n",
      "                                                                 \n",
      " max_pooling1d_2 (MaxPooling  (None, 126, 64)          0         \n",
      " 1D)                                                             \n",
      "                                                                 \n",
      " conv1d_3 (Conv1D)           (None, 124, 128)          24704     \n",
      "                                                                 \n",
      " max_pooling1d_3 (MaxPooling  (None, 62, 128)          0         \n",
      " 1D)                                                             \n",
      "                                                                 \n",
      " conv1d_4 (Conv1D)           (None, 60, 256)           98560     \n",
      "                                                                 \n",
      " max_pooling1d_4 (MaxPooling  (None, 30, 256)          0         \n",
      " 1D)                                                             \n",
      "                                                                 \n",
      " conv1d_5 (Conv1D)           (None, 28, 512)           393728    \n",
      "                                                                 \n",
      " max_pooling1d_5 (MaxPooling  (None, 14, 512)          0         \n",
      " 1D)                                                             \n",
      "                                                                 \n",
      " flatten (Flatten)           (None, 7168)              0         \n",
      "                                                                 \n",
      " dropout (Dropout)           (None, 7168)              0         \n",
      "                                                                 \n",
      " dense (Dense)               (None, 1024)              7341056   \n",
      "                                                                 \n",
      " dropout_1 (Dropout)         (None, 1024)              0         \n",
      "                                                                 \n",
      " dense_1 (Dense)             (None, 512)               524800    \n",
      "                                                                 \n",
      " dropout_2 (Dropout)         (None, 512)               0         \n",
      "                                                                 \n",
      " dense_2 (Dense)             (None, 1)                 513       \n",
      "                                                                 \n",
      "=================================================================\n",
      "Total params: 8,391,201\n",
      "Trainable params: 8,391,201\n",
      "Non-trainable params: 0\n",
      "_________________________________________________________________\n"
     ]
    }
   ],
   "source": [
    "model.compile(optimizer=tf.keras.optimizers.Adam(learning_rate=0.0001),\n",
    "              loss='binary_crossentropy',\n",
    "              metrics=['accuracy'])\n",
    "model.summary()"
   ]
  },
  {
   "cell_type": "code",
   "execution_count": 14,
   "metadata": {},
   "outputs": [],
   "source": [
    "earlystopper = EarlyStopping(\n",
    "    monitor='val_loss',\n",
    "    patience=20,\n",
    "    restore_best_weights=True\n",
    ")"
   ]
  },
  {
   "cell_type": "code",
   "execution_count": 15,
   "metadata": {},
   "outputs": [
    {
     "name": "stdout",
     "output_type": "stream",
     "text": [
      "Epoch 1/300\n",
      "1250/1250 [==============================] - 30s 20ms/step - loss: 0.3958 - accuracy: 0.7995 - val_loss: 0.2325 - val_accuracy: 0.9023\n",
      "Epoch 2/300\n",
      "1250/1250 [==============================] - 25s 20ms/step - loss: 0.1927 - accuracy: 0.9176 - val_loss: 0.1559 - val_accuracy: 0.9380\n",
      "Epoch 3/300\n",
      "1250/1250 [==============================] - 25s 20ms/step - loss: 0.1406 - accuracy: 0.9416 - val_loss: 0.1095 - val_accuracy: 0.9556\n",
      "Epoch 4/300\n",
      "1250/1250 [==============================] - 25s 20ms/step - loss: 0.1093 - accuracy: 0.9561 - val_loss: 0.1096 - val_accuracy: 0.9575\n",
      "Epoch 5/300\n",
      "1250/1250 [==============================] - 25s 20ms/step - loss: 0.0880 - accuracy: 0.9644 - val_loss: 0.0798 - val_accuracy: 0.9688\n",
      "Epoch 6/300\n",
      "1250/1250 [==============================] - 25s 20ms/step - loss: 0.0734 - accuracy: 0.9701 - val_loss: 0.0771 - val_accuracy: 0.9695\n",
      "Epoch 7/300\n",
      "1250/1250 [==============================] - 25s 20ms/step - loss: 0.0616 - accuracy: 0.9764 - val_loss: 0.0770 - val_accuracy: 0.9711\n",
      "Epoch 8/300\n",
      "1250/1250 [==============================] - 25s 20ms/step - loss: 0.0524 - accuracy: 0.9800 - val_loss: 0.0639 - val_accuracy: 0.9754\n",
      "Epoch 9/300\n",
      "1250/1250 [==============================] - 25s 20ms/step - loss: 0.0450 - accuracy: 0.9824 - val_loss: 0.0688 - val_accuracy: 0.9742\n",
      "Epoch 10/300\n",
      "1250/1250 [==============================] - 25s 20ms/step - loss: 0.0397 - accuracy: 0.9839 - val_loss: 0.0744 - val_accuracy: 0.9731\n",
      "Epoch 11/300\n",
      "1250/1250 [==============================] - 25s 20ms/step - loss: 0.0351 - accuracy: 0.9868 - val_loss: 0.0663 - val_accuracy: 0.9760\n",
      "Epoch 12/300\n",
      "1250/1250 [==============================] - 25s 20ms/step - loss: 0.0298 - accuracy: 0.9891 - val_loss: 0.0696 - val_accuracy: 0.9754\n",
      "Epoch 13/300\n",
      "1250/1250 [==============================] - 25s 20ms/step - loss: 0.0289 - accuracy: 0.9888 - val_loss: 0.0734 - val_accuracy: 0.9771\n",
      "Epoch 14/300\n",
      "1250/1250 [==============================] - 25s 20ms/step - loss: 0.0261 - accuracy: 0.9900 - val_loss: 0.0765 - val_accuracy: 0.9764\n",
      "Epoch 15/300\n",
      "1250/1250 [==============================] - 25s 20ms/step - loss: 0.0227 - accuracy: 0.9913 - val_loss: 0.0832 - val_accuracy: 0.9753\n",
      "Epoch 16/300\n",
      "1250/1250 [==============================] - 25s 20ms/step - loss: 0.0215 - accuracy: 0.9915 - val_loss: 0.0849 - val_accuracy: 0.9786\n",
      "Epoch 17/300\n",
      "1250/1250 [==============================] - 25s 20ms/step - loss: 0.0197 - accuracy: 0.9926 - val_loss: 0.0622 - val_accuracy: 0.9800\n",
      "Epoch 18/300\n",
      "1250/1250 [==============================] - 25s 20ms/step - loss: 0.0167 - accuracy: 0.9936 - val_loss: 0.0837 - val_accuracy: 0.9758\n",
      "Epoch 19/300\n",
      "1250/1250 [==============================] - 25s 20ms/step - loss: 0.0196 - accuracy: 0.9925 - val_loss: 0.0676 - val_accuracy: 0.9796\n",
      "Epoch 20/300\n",
      "1250/1250 [==============================] - 25s 20ms/step - loss: 0.0158 - accuracy: 0.9943 - val_loss: 0.0682 - val_accuracy: 0.9785\n",
      "Epoch 21/300\n",
      "1250/1250 [==============================] - 25s 20ms/step - loss: 0.0135 - accuracy: 0.9953 - val_loss: 0.0805 - val_accuracy: 0.9772\n",
      "Epoch 22/300\n",
      "1250/1250 [==============================] - 25s 20ms/step - loss: 0.0143 - accuracy: 0.9949 - val_loss: 0.0696 - val_accuracy: 0.9807\n",
      "Epoch 23/300\n",
      "1250/1250 [==============================] - 25s 20ms/step - loss: 0.0135 - accuracy: 0.9947 - val_loss: 0.0775 - val_accuracy: 0.9784\n",
      "Epoch 24/300\n",
      "1250/1250 [==============================] - 25s 20ms/step - loss: 0.0111 - accuracy: 0.9957 - val_loss: 0.0756 - val_accuracy: 0.9783\n",
      "Epoch 25/300\n",
      "1250/1250 [==============================] - 25s 20ms/step - loss: 0.0111 - accuracy: 0.9964 - val_loss: 0.1143 - val_accuracy: 0.9735\n",
      "Epoch 26/300\n",
      "1250/1250 [==============================] - 25s 20ms/step - loss: 0.0112 - accuracy: 0.9962 - val_loss: 0.0811 - val_accuracy: 0.9801\n",
      "Epoch 27/300\n",
      "1250/1250 [==============================] - 25s 20ms/step - loss: 0.0112 - accuracy: 0.9962 - val_loss: 0.0795 - val_accuracy: 0.9798\n",
      "Epoch 28/300\n",
      "1250/1250 [==============================] - 25s 20ms/step - loss: 0.0110 - accuracy: 0.9960 - val_loss: 0.0774 - val_accuracy: 0.9791\n",
      "Epoch 29/300\n",
      "1250/1250 [==============================] - 25s 20ms/step - loss: 0.0091 - accuracy: 0.9967 - val_loss: 0.0826 - val_accuracy: 0.9790\n",
      "Epoch 30/300\n",
      "1250/1250 [==============================] - 25s 20ms/step - loss: 0.0078 - accuracy: 0.9971 - val_loss: 0.0814 - val_accuracy: 0.9811\n",
      "Epoch 31/300\n",
      "1250/1250 [==============================] - 25s 20ms/step - loss: 0.0101 - accuracy: 0.9963 - val_loss: 0.0764 - val_accuracy: 0.9805\n",
      "Epoch 32/300\n",
      "1250/1250 [==============================] - 25s 20ms/step - loss: 0.0071 - accuracy: 0.9975 - val_loss: 0.0841 - val_accuracy: 0.9810\n",
      "Epoch 33/300\n",
      "1250/1250 [==============================] - 25s 20ms/step - loss: 0.0098 - accuracy: 0.9968 - val_loss: 0.0784 - val_accuracy: 0.9782\n",
      "Epoch 34/300\n",
      "1250/1250 [==============================] - 25s 20ms/step - loss: 0.0067 - accuracy: 0.9976 - val_loss: 0.0751 - val_accuracy: 0.9815\n",
      "Epoch 35/300\n",
      "1250/1250 [==============================] - 25s 20ms/step - loss: 0.0070 - accuracy: 0.9976 - val_loss: 0.0758 - val_accuracy: 0.9824\n",
      "Epoch 36/300\n",
      "1250/1250 [==============================] - 25s 20ms/step - loss: 0.0073 - accuracy: 0.9977 - val_loss: 0.0888 - val_accuracy: 0.9806\n",
      "Epoch 37/300\n",
      "1250/1250 [==============================] - 25s 20ms/step - loss: 0.0062 - accuracy: 0.9980 - val_loss: 0.0812 - val_accuracy: 0.9821\n",
      "Training completed in 922 seconds.\n"
     ]
    }
   ],
   "source": [
    "epochs = 300\n",
    "batch_size = 32\n",
    "current_time = int(time.time())\n",
    "stop_training_callback = earlystopper\n",
    "history = model.fit(X_train, Y_train, \n",
    "                    epochs=epochs, \n",
    "                    batch_size=batch_size,\n",
    "                    validation_data=(X_val, Y_val), \n",
    "                    callbacks=[stop_training_callback])\n",
    "print(\"Training completed in {} seconds.\".format(int(time.time()-current_time)))"
   ]
  },
  {
   "cell_type": "code",
   "execution_count": 16,
   "metadata": {},
   "outputs": [],
   "source": [
    "best_epoch = np.argmin(np.array(history.history['val_loss']))"
   ]
  },
  {
   "cell_type": "code",
   "execution_count": 17,
   "metadata": {},
   "outputs": [],
   "source": [
    "# def plot_history(history, label):\n",
    "#     plt.figure(figsize=(10, 6))\n",
    "#     plt.plot(history.history[label], label=label)\n",
    "#     plt.plot(history.history['val_'+label], label='val_'+label)\n",
    "#     plt.ylim([0, 0.5])\n",
    "#     best_epoch = np.argmin(history.history['val_'+label]) + 1\n",
    "#     plt.axvline(best_epoch, linestyle='dashed')\n",
    "#     plt.xlabel('Epoch')\n",
    "#     plt.ylabel(label.title())\n",
    "#     plt.legend()\n",
    "#     plt.grid(True)\n"
   ]
  },
  {
   "cell_type": "code",
   "execution_count": 18,
   "metadata": {},
   "outputs": [
    {
     "name": "stderr",
     "output_type": "stream",
     "text": [
      "No artists with labels found to put in legend.  Note that artists whose label start with an underscore are ignored when legend() is called with no argument.\n"
     ]
    },
    {
     "data": {
      "image/png": "[encoded data removed]",
      "text/plain": [
       "<Figure size 1000x600 with 1 Axes>"
      ]
     },
     "metadata": {},
     "output_type": "display_data"
    },
    {
     "name": "stderr",
     "output_type": "stream",
     "text": [
      "No artists with labels found to put in legend.  Note that artists whose label start with an underscore are ignored when legend() is called with no argument.\n"
     ]
    },
    {
     "name": "stdout",
     "output_type": "stream",
     "text": [
      "\n"
     ]
    },
    {
     "data": {
      "image/png": "[encoded data removed]",
      "text/plain": [
       "<Figure size 1000x600 with 1 Axes>"
      ]
     },
     "metadata": {},
     "output_type": "display_data"
    }
   ],
   "source": [
    "acc=history.history['accuracy']\n",
    "val_acc=history.history['val_accuracy']\n",
    "loss=history.history['loss']\n",
    "val_loss=history.history['val_loss']\n",
    "\n",
    "epochs=range(len(acc))\n",
    "\n",
    "plt.figure(figsize=(10, 6))\n",
    "plt.plot(epochs, acc, 'r', \"Training Accuracy\")\n",
    "plt.plot(epochs, val_acc, 'b', \"Validation Accuracy\")\n",
    "plt.axvline(best_epoch, linestyle='dashed')\n",
    "plt.title('Training and validation accuracy')\n",
    "plt.legend()\n",
    "plt.grid(True)\n",
    "plt.show()\n",
    "print(\"\")\n",
    "plt.figure(figsize=(10, 6))\n",
    "plt.plot(epochs, loss, 'r', \"Training Loss\")\n",
    "plt.plot(epochs, val_loss, 'b', \"Validation Loss\")\n",
    "plt.axvline(best_epoch, linestyle='dashed')\n",
    "plt.legend()\n",
    "plt.grid(True)\n",
    "plt.show()"
   ]
  },
  {
   "cell_type": "code",
   "execution_count": 19,
   "metadata": {},
   "outputs": [
    {
     "name": "stdout",
     "output_type": "stream",
     "text": [
      "313/313 [==============================] - 1s 3ms/step\n",
      "StackNet AUC on testing set: 0.998\n"
     ]
    }
   ],
   "source": [
    "test_predict = model.predict(X_test)\n",
    "test_score = roc_auc_score(Y_test, test_predict)\n",
    "print(f\"StackNet AUC on testing set: {round(test_score, 4)}\")"
   ]
  },
  {
   "cell_type": "code",
   "execution_count": 20,
   "metadata": {},
   "outputs": [
    {
     "name": "stdout",
     "output_type": "stream",
     "text": [
      "     0\n",
      "0  1.0\n",
      "1  1.0\n",
      "2  0.0\n",
      "3  1.0\n",
      "4  1.0\n",
      "5  1.0\n",
      "6  0.0\n",
      "7  0.0\n",
      "8  0.0\n",
      "9  0.0\n",
      "10000\n"
     ]
    }
   ],
   "source": [
    "show_test_predict = np.round(test_predict, 0)\n",
    "show_test_predict = pd.DataFrame(show_test_predict)\n",
    "print(show_test_predict[0:10])\n",
    "print(len(show_test_predict))"
   ]
  },
  {
   "cell_type": "code",
   "execution_count": 32,
   "metadata": {},
   "outputs": [],
   "source": [
    "def plot_confusion_matrix(cm, title):\n",
    "    df_cm = pd.DataFrame(cm, index = [i for i in ['Queen', 'Queenless']],\n",
    "                    columns = [i for i in ['Queen', 'Queenless']])\n",
    "    df_cm_normed = df_cm/df_cm.sum()\n",
    "    plt.figure(figsize = (10,7))\n",
    "    sns.heatmap(df_cm, annot=True, fmt=\"\", )\n",
    "    plt.title(title)\n",
    "    plt.ylabel('True label')\n",
    "    plt.xlabel('Predicted label')\n",
    "    plt.savefig(title + \".png\")\n",
    "    plt.show()\n",
    "\n",
    "def plot_roc_curve(Y_test, test_predict, title):\n",
    "    fpr, tpr, thresholds = roc_curve(Y_test, test_predict)\n",
    "\n",
    "    aucc = auc(fpr, tpr)\n",
    "\n",
    "    plt.plot(fpr, tpr, label=\"ROC curve (area = {0:.4f})\".format(aucc))\n",
    "    plt.plot([0, 1], [0, 1], linestyle=\"dashed\")\n",
    "    plt.title(title)\n",
    "    plt.xlabel(\"False Positive Rate\")\n",
    "    plt.ylabel(\"True Positive Rate\")\n",
    "    plt.savefig(title + \".png\")\n",
    "    plt.legend()\n",
    "    plt.show()"
   ]
  },
  {
   "cell_type": "code",
   "execution_count": 22,
   "metadata": {},
   "outputs": [],
   "source": [
    "# fpr, tpr, thresholds = roc_curve(Y_test, test_predict)\n",
    "# roc_auc = auc(fpr, tpr)\n",
    "\n",
    "# plt.figure()\n",
    "# plt.plot(fpr, tpr, color='darkorange', lw=2, label='ROC curve (area = %0.2f)'% roc_auc)\n",
    "# plt.plot([0,1],[0,1], color='navy', lw=2, linestyle='--')\n",
    "# plt.xlim([0.0,1.0])\n",
    "# plt.ylim([0.0,1.05])\n",
    "# plt.xlabel(\"False Positive Rate\")\n",
    "# plt.ylabel(\"True Positive Rate\")\n",
    "# plt.title(\"ROC Curve\")\n",
    "# plt.legend(loc=\"lower right\")\n",
    "# plt.show()"
   ]
  },
  {
   "cell_type": "code",
   "execution_count": 33,
   "metadata": {},
   "outputs": [
    {
     "data": {
      "image/png": "[encoded data removed]",
      "text/plain": [
       "<Figure size 1000x700 with 2 Axes>"
      ]
     },
     "metadata": {},
     "output_type": "display_data"
    }
   ],
   "source": [
    "cm = confusion_matrix(Y_test, show_test_predict)\n",
    "plot_confusion_matrix(cm, \"Confusion Matrix\")"
   ]
  },
  {
   "cell_type": "code",
   "execution_count": 34,
   "metadata": {},
   "outputs": [
    {
     "data": {
      "image/png": "[encoded data removed]",
      "text/plain": [
       "<Figure size 640x480 with 1 Axes>"
      ]
     },
     "metadata": {},
     "output_type": "display_data"
    }
   ],
   "source": [
    "plot_roc_curve(Y_test, test_predict, \"ROC Curve\")"
   ]
  },
  {
   "cell_type": "code",
   "execution_count": 25,
   "metadata": {},
   "outputs": [
    {
     "data": {
      "text/plain": [
       "0.9796997789305926"
      ]
     },
     "execution_count": 25,
     "metadata": {},
     "output_type": "execute_result"
    }
   ],
   "source": [
    "from sklearn.metrics import f1_score\n",
    "f1_score(Y_test, show_test_predict, average='macro')"
   ]
  },
  {
   "cell_type": "code",
   "execution_count": 26,
   "metadata": {},
   "outputs": [
    {
     "data": {
      "text/plain": [
       "array([[4915,   85],\n",
       "       [ 118, 4882]], dtype=int64)"
      ]
     },
     "metadata": {},
     "output_type": "display_data"
    }
   ],
   "source": [
    "from sklearn.metrics import confusion_matrix\n",
    "cf = confusion_matrix(Y_test, show_test_predict)\n",
    "display(cf)"
   ]
  },
  {
   "cell_type": "code",
   "execution_count": 27,
   "metadata": {},
   "outputs": [
    {
     "name": "stdout",
     "output_type": "stream",
     "text": [
      "313/313 [==============================] - 1s 4ms/step - loss: 0.0620 - accuracy: 0.9797\n",
      "[0.06202443689107895, 0.9797000288963318]\n"
     ]
    }
   ],
   "source": [
    "stt = model.evaluate(X_test, Y_test)\n",
    "print(stt)"
   ]
  },
  {
   "cell_type": "code",
   "execution_count": 28,
   "metadata": {},
   "outputs": [
    {
     "name": "stdout",
     "output_type": "stream",
     "text": [
      "              precision    recall  f1-score   support\n",
      "\n",
      "           0       0.98      0.98      0.98      5000\n",
      "           1       0.98      0.98      0.98      5000\n",
      "\n",
      "    accuracy                           0.98     10000\n",
      "   macro avg       0.98      0.98      0.98     10000\n",
      "weighted avg       0.98      0.98      0.98     10000\n",
      "\n"
     ]
    }
   ],
   "source": [
    "print(classification_report(Y_test, show_test_predict))"
   ]
  },
  {
   "cell_type": "code",
   "execution_count": 31,
   "metadata": {
    "tags": []
   },
   "outputs": [
    {
     "data": {
      "text/plain": [
       "'E:\\\\Data\\\\60k_splitted_1D_STFT_dataset'"
      ]
     },
     "execution_count": 31,
     "metadata": {},
     "output_type": "execute_result"
    }
   ],
   "source": [
    "os.getcwd()"
   ]
  },
  {
   "cell_type": "code",
   "execution_count": 30,
   "metadata": {},
   "outputs": [],
   "source": [
    "model.save(\"1D_STFT_CNN_model_98.h5\")"
   ]
  },
  {
   "cell_type": "markdown",
   "metadata": {},
   "source": [
    "# Model 2: Reduce learning rate"
   ]
  },
  {
   "cell_type": "code",
   "execution_count": null,
   "metadata": {},
   "outputs": [],
   "source": [
    "model = Sequential([\n",
    "    layers.Input(shape=(X_train.shape[1:])),\n",
    "    layers.Conv1D(16, 3, activation='relu'),\n",
    "    layers.MaxPooling1D(2),\n",
    "    layers.Conv1D(32, 3, activation='relu'),\n",
    "    layers.MaxPooling1D(2),\n",
    "    layers.Conv1D(64, 3, activation='relu'),\n",
    "    layers.MaxPooling1D(2),\n",
    "    layers.Conv1D(128, 3, activation='relu'),\n",
    "    layers.MaxPooling1D(2),\n",
    "    layers.Conv1D(256, 3, activation='relu'),\n",
    "    layers.MaxPooling1D(2),\n",
    "    layers.Conv1D(512, 3, activation='relu'),\n",
    "    layers.MaxPooling1D(2),\n",
    "    layers.Flatten(),\n",
    "    layers.Dropout(0.2),\n",
    "    layers.Dense(1024, activation='relu'),\n",
    "    layers.Dropout(0.2),\n",
    "    layers.Dense(512, activation='relu'),\n",
    "    layers.Dropout(0.2),\n",
    "    layers.Dense(1, activation='sigmoid')\n",
    "])\n",
    "model.compile(optimizer=tf.keras.optimizers.Adam(learning_rate=0.00001),\n",
    "              loss='binary_crossentropy',\n",
    "              metrics=['accuracy'])\n",
    "model.summary()"
   ]
  },
  {
   "cell_type": "code",
   "execution_count": null,
   "metadata": {},
   "outputs": [],
   "source": [
    "earlystopper = EarlyStopping(\n",
    "    monitor='val_loss',\n",
    "    patience=100,\n",
    "    restore_best_weights=True\n",
    ")"
   ]
  },
  {
   "cell_type": "code",
   "execution_count": null,
   "metadata": {},
   "outputs": [],
   "source": [
    "epochs = 1000\n",
    "batch_size = 32\n",
    "current_time = int(time.time())\n",
    "stop_training_callback = earlystopper\n",
    "history = model.fit(X_train, Y_train, \n",
    "                    epochs=epochs, \n",
    "                    batch_size=batch_size,\n",
    "                    validation_data=(X_val, Y_val), \n",
    "                    callbacks=[stop_training_callback])\n",
    "print(\"Training completed in {} seconds.\".format(int(time.time()-current_time)))"
   ]
  },
  {
   "cell_type": "code",
   "execution_count": null,
   "metadata": {},
   "outputs": [],
   "source": [
    "best_epoch = np.argmin(np.array(history.history['val_loss']))"
   ]
  },
  {
   "cell_type": "code",
   "execution_count": null,
   "metadata": {},
   "outputs": [],
   "source": [
    "acc=history.history['accuracy']\n",
    "val_acc=history.history['val_accuracy']\n",
    "loss=history.history['loss']\n",
    "val_loss=history.history['val_loss']\n",
    "\n",
    "epochs=range(len(acc))\n",
    "\n",
    "plt.plot(epochs, acc, 'r', \"Training Accuracy\")\n",
    "plt.plot(epochs, val_acc, 'b', \"Validation Accuracy\")\n",
    "plt.axvline(best_epoch, linestyle='dashed')\n",
    "plt.title('Training and validation accuracy')\n",
    "plt.show()\n",
    "print(\"\")\n",
    "plt.plot(epochs, loss, 'r', \"Training Loss\")\n",
    "plt.plot(epochs, val_loss, 'b', \"Validation Loss\")\n",
    "plt.axvline(best_epoch, linestyle='dashed')\n",
    "plt.legend()\n",
    "plt.grid(True)\n",
    "plt.show()"
   ]
  },
  {
   "cell_type": "code",
   "execution_count": null,
   "metadata": {},
   "outputs": [],
   "source": [
    "test_predict = model.predict(X_test)\n",
    "test_score = roc_auc_score(Y_test, test_predict)\n",
    "print(f\"StackNet AUC on testing set: {round(test_score, 4)}\")"
   ]
  },
  {
   "cell_type": "code",
   "execution_count": null,
   "metadata": {},
   "outputs": [],
   "source": [
    "stt = model.evaluate(X_test, Y_test)\n",
    "print(stt)"
   ]
  },
  {
   "cell_type": "code",
   "execution_count": null,
   "metadata": {},
   "outputs": [],
   "source": [
    "cm = confusion_matrix(Y_test, show_test_predict)\n",
    "plot_confusion_matrix(cm, \"Confusion Matrix\")"
   ]
  },
  {
   "cell_type": "code",
   "execution_count": null,
   "metadata": {},
   "outputs": [],
   "source": [
    "plot_roc_curve(Y_test, test_predict, \"ROC Curve\")"
   ]
  },
  {
   "cell_type": "code",
   "execution_count": null,
   "metadata": {},
   "outputs": [],
   "source": [
    "print(classification_report(Y_test, show_test_predict))"
   ]
  },
  {
   "cell_type": "code",
   "execution_count": null,
   "metadata": {},
   "outputs": [],
   "source": []
  }
 ],
 "metadata": {
  "kernelspec": {
   "display_name": "Python 3 (ipykernel)",
   "language": "python",
   "name": "python3"
  },
  "language_info": {
   "codemirror_mode": {
    "name": "ipython",
    "version": 3
   },
   "file_extension": ".py",
   "mimetype": "text/x-python",
   "name": "python",
   "nbconvert_exporter": "python",
   "pygments_lexer": "ipython3",
   "version": "3.9.16"
  }
 },
 "nbformat": 4,
 "nbformat_minor": 4
}
