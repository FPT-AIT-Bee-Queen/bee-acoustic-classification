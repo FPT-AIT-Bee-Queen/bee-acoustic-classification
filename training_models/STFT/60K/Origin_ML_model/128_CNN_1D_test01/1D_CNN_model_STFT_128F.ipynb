{
 "cells": [
  {
   "cell_type": "code",
   "execution_count": 1,
   "metadata": {},
   "outputs": [],
   "source": [
    "import os\n",
    "import time\n",
    "import librosa\n",
    "import numpy as np\n",
    "import matplotlib.pyplot as plt\n",
    "import seaborn as sns\n",
    "import pandas as pd \n",
    "from sklearn.model_selection import train_test_split\n",
    "from sklearn.preprocessing import LabelEncoder, StandardScaler\n",
    "from sklearn.metrics import *\n",
    "\n",
    "import tensorflow as tf\n",
    "from tensorflow.keras import *\n",
    "from tensorflow.keras.callbacks import *\n",
    "\n",
    "import warnings\n",
    "warnings.filterwarnings('ignore')"
   ]
  },
  {
   "cell_type": "code",
   "execution_count": 2,
   "metadata": {},
   "outputs": [],
   "source": [
    "os.chdir('E:\\Data')"
   ]
  },
  {
   "cell_type": "code",
   "execution_count": 3,
   "metadata": {},
   "outputs": [
    {
     "data": {
      "text/plain": [
       "'E:\\\\Data/mean_60k_128_features/'"
      ]
     },
     "execution_count": 3,
     "metadata": {},
     "output_type": "execute_result"
    }
   ],
   "source": [
    "path = os.getcwd() + '/mean_60k_128_features/'\n",
    "path"
   ]
  },
  {
   "cell_type": "code",
   "execution_count": 4,
   "metadata": {},
   "outputs": [
    {
     "name": "stdout",
     "output_type": "stream",
     "text": [
      "E:\\Data/mean_60k_128_features//train\n",
      "E:\\Data/mean_60k_128_features//val\n",
      "E:\\Data/mean_60k_128_features//test\n"
     ]
    }
   ],
   "source": [
    "TRAINING_DIR = path+\"/train\"\n",
    "VALIDATION_DIR = path + \"/val\"\n",
    "TEST_DIR = path + \"/test\"\n",
    "\n",
    "print(TRAINING_DIR)\n",
    "print(VALIDATION_DIR)\n",
    "print(TEST_DIR)"
   ]
  },
  {
   "cell_type": "code",
   "execution_count": 5,
   "metadata": {},
   "outputs": [],
   "source": [
    "def data_loader(path):\n",
    "    X = []\n",
    "    Y = []\n",
    "    for folder in os.listdir(path):\n",
    "        for file in os.listdir(os.path.join(path, folder)):\n",
    "            feature = np.load(os.path.join(path, folder, file))\n",
    "            label = folder\n",
    "            X += feature.tolist()\n",
    "            Y += [label]*feature.shape[0]\n",
    "    return X, Y"
   ]
  },
  {
   "cell_type": "code",
   "execution_count": 6,
   "metadata": {},
   "outputs": [],
   "source": [
    "X_train, Y_train = data_loader(TRAINING_DIR)\n",
    "X_val, Y_val = data_loader(VALIDATION_DIR)\n",
    "X_test, Y_test = data_loader(TEST_DIR)"
   ]
  },
  {
   "cell_type": "code",
   "execution_count": 7,
   "metadata": {},
   "outputs": [
    {
     "name": "stdout",
     "output_type": "stream",
     "text": [
      "There are 39999 training samples and 39999 training labels\n",
      "There are 10000 validation samples and 10000 validation labels\n",
      "There are 10000 testing samples and 10000 testing labels\n"
     ]
    }
   ],
   "source": [
    "print(\"There are {} training samples and {} training labels\".format(len(X_train), len(Y_train)))\n",
    "print(\"There are {} validation samples and {} validation labels\".format(len(X_val), len(Y_val)))\n",
    "print(\"There are {} testing samples and {} testing labels\".format(len(X_test), len(Y_test)))"
   ]
  },
  {
   "cell_type": "code",
   "execution_count": 8,
   "metadata": {},
   "outputs": [
    {
     "name": "stdout",
     "output_type": "stream",
     "text": [
      "Shape of X_train: (39999, 128)\n",
      "Shape of X_val: (10000, 128)\n",
      "Shape of X_test: (10000, 128)\n",
      "Shape of Y_train: (39999,)\n",
      "Shape of Y_val: (10000,)\n",
      "Shape of Y_test: (10000,)\n"
     ]
    }
   ],
   "source": [
    "X_train = np.array(X_train)\n",
    "X_val = np.array(X_val)\n",
    "X_test = np.array(X_test)\n",
    "Y_train = np.array(Y_train)\n",
    "Y_val = np.array(Y_val)\n",
    "Y_test = np.array(Y_test)\n",
    "\n",
    "print(\"Shape of X_train: {}\".format(X_train.shape))\n",
    "print(\"Shape of X_val: {}\".format(X_val.shape))\n",
    "print(\"Shape of X_test: {}\".format(X_test.shape))\n",
    "print(\"Shape of Y_train: {}\".format(Y_train.shape))\n",
    "print(\"Shape of Y_val: {}\".format(Y_val.shape))\n",
    "print(\"Shape of Y_test: {}\".format(Y_test.shape))"
   ]
  },
  {
   "cell_type": "code",
   "execution_count": 9,
   "metadata": {},
   "outputs": [
    {
     "name": "stdout",
     "output_type": "stream",
     "text": [
      "[0 1]\n",
      "[[ 3.0387421   1.10703328 -0.26579831 -0.31731575 -0.2047964 ]\n",
      " [-0.40839213 -0.33829006 -0.29045444 -0.24476206 -0.22357892]\n",
      " [-0.45129891 -0.39434124 -0.30517152 -0.27279159 -0.130309  ]\n",
      " [-0.44212636 -0.36055984 -0.26126742 -0.18534265 -0.1654841 ]\n",
      " [-0.31978903 -0.42315087 -0.35648306 -0.36680775 -0.28844816]]\n"
     ]
    }
   ],
   "source": [
    "label_encoder = LabelEncoder()\n",
    "Y_train = label_encoder.fit_transform(Y_train)\n",
    "Y_val = label_encoder.fit_transform(Y_val)\n",
    "Y_test = label_encoder.fit_transform(Y_test)\n",
    "print(np.unique(Y_train))\n",
    "\n",
    "std = StandardScaler()\n",
    "std_scaler = StandardScaler()\n",
    "X_train = std_scaler.fit_transform(X_train)\n",
    "X_val = std_scaler.transform(X_val)\n",
    "X_test = std_scaler.transform(X_test)\n",
    "print(X_train[0:5, 0:5])"
   ]
  },
  {
   "cell_type": "code",
   "execution_count": 10,
   "metadata": {},
   "outputs": [],
   "source": [
    "# shuffle the dataset\n",
    "shuffle_index = np.random.permutation(len(X_train))\n",
    "X_train, Y_train = X_train[shuffle_index], Y_train[shuffle_index]\n",
    "shuffle_index = np.random.permutation(len(X_val))\n",
    "X_val, Y_val = X_val[shuffle_index], Y_val[shuffle_index]\n",
    "shuffle_index = np.random.permutation(len(X_test))\n",
    "X_test, Y_test = X_test[shuffle_index], Y_test[shuffle_index]"
   ]
  },
  {
   "cell_type": "code",
   "execution_count": 11,
   "metadata": {
    "tags": []
   },
   "outputs": [
    {
     "name": "stdout",
     "output_type": "stream",
     "text": [
      "Shape of X_train: (39999, 128, 1)\n",
      "Shape of X_val: (10000, 128, 1)\n",
      "Shape of X_test: (10000, 128, 1)\n",
      "Shape of Y_train: (39999, 1)\n",
      "Shape of Y_val: (10000, 1)\n",
      "Shape of Y_test: (10000, 1)\n"
     ]
    }
   ],
   "source": [
    "# Reshape the input data\n",
    "X_train = X_train.reshape( (X_train.shape[0], X_train.shape[1], 1) )\n",
    "X_val = X_val.reshape( (X_val.shape[0], X_val.shape[1], 1) )\n",
    "X_test = X_test.reshape( (X_test.shape[0], X_test.shape[1], 1) )\n",
    "Y_train = Y_train.reshape( (Y_train.shape[0], 1) )\n",
    "Y_val = Y_val.reshape( (Y_val.shape[0], 1) )\n",
    "Y_test = Y_test.reshape( (Y_test.shape[0], 1) )\n",
    "\n",
    "print(\"Shape of X_train: {}\".format(X_train.shape))\n",
    "print(\"Shape of X_val: {}\".format(X_val.shape))\n",
    "print(\"Shape of X_test: {}\".format(X_test.shape))\n",
    "print(\"Shape of Y_train: {}\".format(Y_train.shape))\n",
    "print(\"Shape of Y_val: {}\".format(Y_val.shape))\n",
    "print(\"Shape of Y_test: {}\".format(Y_test.shape))"
   ]
  },
  {
   "cell_type": "code",
   "execution_count": 12,
   "metadata": {},
   "outputs": [],
   "source": [
    "model = Sequential([\n",
    "    layers.Input(shape=(X_train.shape[1:])),\n",
    "    layers.Conv1D(512, 3, activation='relu'),\n",
    "    layers.MaxPooling1D(2),\n",
    "    layers.Conv1D(512, 3, activation='relu'),\n",
    "    layers.MaxPooling1D(2),\n",
    "    layers.Conv1D(1024, 3, activation='relu'),\n",
    "    layers.MaxPooling1D(2),\n",
    "    layers.Conv1D(1024, 3, activation='relu'),\n",
    "    layers.MaxPooling1D(2),\n",
    "    layers.Flatten(),\n",
    "    layers.Dropout(0.2),\n",
    "    layers.Dense(1024, activation='relu'),\n",
    "    layers.Dropout(0.2),\n",
    "    layers.Dense(512, activation='relu'),\n",
    "    layers.Dropout(0.2),\n",
    "    layers.Dense(1, activation='sigmoid')\n",
    "])"
   ]
  },
  {
   "cell_type": "code",
   "execution_count": 13,
   "metadata": {},
   "outputs": [
    {
     "name": "stdout",
     "output_type": "stream",
     "text": [
      "Model: \"sequential\"\n",
      "_________________________________________________________________\n",
      " Layer (type)                Output Shape              Param #   \n",
      "=================================================================\n",
      " conv1d (Conv1D)             (None, 126, 512)          2048      \n",
      "                                                                 \n",
      " max_pooling1d (MaxPooling1D  (None, 63, 512)          0         \n",
      " )                                                               \n",
      "                                                                 \n",
      " conv1d_1 (Conv1D)           (None, 61, 512)           786944    \n",
      "                                                                 \n",
      " max_pooling1d_1 (MaxPooling  (None, 30, 512)          0         \n",
      " 1D)                                                             \n",
      "                                                                 \n",
      " conv1d_2 (Conv1D)           (None, 28, 1024)          1573888   \n",
      "                                                                 \n",
      " max_pooling1d_2 (MaxPooling  (None, 14, 1024)         0         \n",
      " 1D)                                                             \n",
      "                                                                 \n",
      " conv1d_3 (Conv1D)           (None, 12, 1024)          3146752   \n",
      "                                                                 \n",
      " max_pooling1d_3 (MaxPooling  (None, 6, 1024)          0         \n",
      " 1D)                                                             \n",
      "                                                                 \n",
      " flatten (Flatten)           (None, 6144)              0         \n",
      "                                                                 \n",
      " dropout (Dropout)           (None, 6144)              0         \n",
      "                                                                 \n",
      " dense (Dense)               (None, 1024)              6292480   \n",
      "                                                                 \n",
      " dropout_1 (Dropout)         (None, 1024)              0         \n",
      "                                                                 \n",
      " dense_1 (Dense)             (None, 512)               524800    \n",
      "                                                                 \n",
      " dropout_2 (Dropout)         (None, 512)               0         \n",
      "                                                                 \n",
      " dense_2 (Dense)             (None, 1)                 513       \n",
      "                                                                 \n",
      "=================================================================\n",
      "Total params: 12,327,425\n",
      "Trainable params: 12,327,425\n",
      "Non-trainable params: 0\n",
      "_________________________________________________________________\n"
     ]
    }
   ],
   "source": [
    "model.compile(optimizer=tf.keras.optimizers.Adam(learning_rate=0.0001),\n",
    "              loss='binary_crossentropy',\n",
    "              metrics=['accuracy'])\n",
    "model.summary()"
   ]
  },
  {
   "cell_type": "code",
   "execution_count": 14,
   "metadata": {},
   "outputs": [],
   "source": [
    "earlystopper = EarlyStopping(\n",
    "    monitor='val_loss',\n",
    "    patience=20,\n",
    "    restore_best_weights=True\n",
    ")"
   ]
  },
  {
   "cell_type": "code",
   "execution_count": 15,
   "metadata": {},
   "outputs": [
    {
     "name": "stdout",
     "output_type": "stream",
     "text": [
      "Epoch 1/300\n",
      "1250/1250 [==============================] - 48s 25ms/step - loss: 0.3734 - accuracy: 0.8189 - val_loss: 0.2133 - val_accuracy: 0.9146\n",
      "Epoch 2/300\n",
      "1250/1250 [==============================] - 30s 24ms/step - loss: 0.1887 - accuracy: 0.9225 - val_loss: 0.1726 - val_accuracy: 0.9269\n",
      "Epoch 3/300\n",
      "1250/1250 [==============================] - 30s 24ms/step - loss: 0.1374 - accuracy: 0.9447 - val_loss: 0.1078 - val_accuracy: 0.9577\n",
      "Epoch 4/300\n",
      "1250/1250 [==============================] - 30s 24ms/step - loss: 0.1083 - accuracy: 0.9569 - val_loss: 0.1033 - val_accuracy: 0.9576\n",
      "Epoch 5/300\n",
      "1250/1250 [==============================] - 30s 24ms/step - loss: 0.0874 - accuracy: 0.9661 - val_loss: 0.0819 - val_accuracy: 0.9688\n",
      "Epoch 6/300\n",
      "1250/1250 [==============================] - 30s 24ms/step - loss: 0.0753 - accuracy: 0.9706 - val_loss: 0.0917 - val_accuracy: 0.9651\n",
      "Epoch 7/300\n",
      "1250/1250 [==============================] - 31s 24ms/step - loss: 0.0643 - accuracy: 0.9737 - val_loss: 0.0844 - val_accuracy: 0.9660\n",
      "Epoch 8/300\n",
      "1250/1250 [==============================] - 30s 24ms/step - loss: 0.0581 - accuracy: 0.9769 - val_loss: 0.0760 - val_accuracy: 0.9732\n",
      "Epoch 9/300\n",
      "1250/1250 [==============================] - 31s 24ms/step - loss: 0.0512 - accuracy: 0.9801 - val_loss: 0.0705 - val_accuracy: 0.9743\n",
      "Epoch 10/300\n",
      "1250/1250 [==============================] - 31s 24ms/step - loss: 0.0468 - accuracy: 0.9813 - val_loss: 0.0723 - val_accuracy: 0.9746\n",
      "Epoch 11/300\n",
      "1250/1250 [==============================] - 30s 24ms/step - loss: 0.0408 - accuracy: 0.9843 - val_loss: 0.0705 - val_accuracy: 0.9754\n",
      "Epoch 12/300\n",
      "1250/1250 [==============================] - 30s 24ms/step - loss: 0.0379 - accuracy: 0.9852 - val_loss: 0.0668 - val_accuracy: 0.9772\n",
      "Epoch 13/300\n",
      "1250/1250 [==============================] - 30s 24ms/step - loss: 0.0358 - accuracy: 0.9863 - val_loss: 0.0691 - val_accuracy: 0.9748\n",
      "Epoch 14/300\n",
      "1250/1250 [==============================] - 30s 24ms/step - loss: 0.0317 - accuracy: 0.9875 - val_loss: 0.0673 - val_accuracy: 0.9774\n",
      "Epoch 15/300\n",
      "1250/1250 [==============================] - 30s 24ms/step - loss: 0.0290 - accuracy: 0.9885 - val_loss: 0.0692 - val_accuracy: 0.9773\n",
      "Epoch 16/300\n",
      "1250/1250 [==============================] - 30s 24ms/step - loss: 0.0298 - accuracy: 0.9885 - val_loss: 0.0833 - val_accuracy: 0.9756\n",
      "Epoch 17/300\n",
      "1250/1250 [==============================] - 30s 24ms/step - loss: 0.0266 - accuracy: 0.9894 - val_loss: 0.0730 - val_accuracy: 0.9776\n",
      "Epoch 18/300\n",
      "1250/1250 [==============================] - 30s 24ms/step - loss: 0.0255 - accuracy: 0.9900 - val_loss: 0.0709 - val_accuracy: 0.9781\n",
      "Epoch 19/300\n",
      "1250/1250 [==============================] - 30s 24ms/step - loss: 0.0219 - accuracy: 0.9914 - val_loss: 0.0827 - val_accuracy: 0.9770\n",
      "Epoch 20/300\n",
      "1250/1250 [==============================] - 30s 24ms/step - loss: 0.0230 - accuracy: 0.9915 - val_loss: 0.0744 - val_accuracy: 0.9751\n",
      "Epoch 21/300\n",
      "1250/1250 [==============================] - 30s 24ms/step - loss: 0.0205 - accuracy: 0.9921 - val_loss: 0.0781 - val_accuracy: 0.9788\n",
      "Epoch 22/300\n",
      "1250/1250 [==============================] - 30s 24ms/step - loss: 0.0211 - accuracy: 0.9915 - val_loss: 0.0760 - val_accuracy: 0.9786\n",
      "Epoch 23/300\n",
      "1250/1250 [==============================] - 30s 24ms/step - loss: 0.0194 - accuracy: 0.9926 - val_loss: 0.0798 - val_accuracy: 0.9772\n",
      "Epoch 24/300\n",
      "1250/1250 [==============================] - 31s 24ms/step - loss: 0.0174 - accuracy: 0.9933 - val_loss: 0.0899 - val_accuracy: 0.9771\n",
      "Epoch 25/300\n",
      "1250/1250 [==============================] - 30s 24ms/step - loss: 0.0170 - accuracy: 0.9940 - val_loss: 0.0677 - val_accuracy: 0.9806\n",
      "Epoch 26/300\n",
      "1250/1250 [==============================] - 30s 24ms/step - loss: 0.0160 - accuracy: 0.9937 - val_loss: 0.0994 - val_accuracy: 0.9731\n",
      "Epoch 27/300\n",
      "1250/1250 [==============================] - 30s 24ms/step - loss: 0.0142 - accuracy: 0.9946 - val_loss: 0.0746 - val_accuracy: 0.9798\n",
      "Epoch 28/300\n",
      "1250/1250 [==============================] - 30s 24ms/step - loss: 0.0152 - accuracy: 0.9948 - val_loss: 0.0696 - val_accuracy: 0.9822\n",
      "Epoch 29/300\n",
      "1250/1250 [==============================] - 30s 24ms/step - loss: 0.0127 - accuracy: 0.9949 - val_loss: 0.0809 - val_accuracy: 0.9811\n",
      "Epoch 30/300\n",
      "1250/1250 [==============================] - 30s 24ms/step - loss: 0.0148 - accuracy: 0.9945 - val_loss: 0.0731 - val_accuracy: 0.9818\n",
      "Epoch 31/300\n",
      "1250/1250 [==============================] - 30s 24ms/step - loss: 0.0150 - accuracy: 0.9945 - val_loss: 0.0676 - val_accuracy: 0.9816\n",
      "Epoch 32/300\n",
      "1250/1250 [==============================] - 30s 24ms/step - loss: 0.0106 - accuracy: 0.9958 - val_loss: 0.0915 - val_accuracy: 0.9806\n",
      "Training completed in 987 seconds.\n"
     ]
    }
   ],
   "source": [
    "epochs = 300\n",
    "batch_size = 32\n",
    "current_time = int(time.time())\n",
    "stop_training_callback = earlystopper\n",
    "history = model.fit(X_train, Y_train, \n",
    "                    epochs=epochs, \n",
    "                    batch_size=batch_size,\n",
    "                    validation_data=(X_val, Y_val), \n",
    "                    callbacks=[stop_training_callback])\n",
    "print(\"Training completed in {} seconds.\".format(int(time.time()-current_time)))"
   ]
  },
  {
   "cell_type": "code",
   "execution_count": 16,
   "metadata": {},
   "outputs": [
    {
     "data": {
      "image/png": "[encoded data removed]",
      "text/plain": [
       "<Figure size 640x480 with 1 Axes>"
      ]
     },
     "metadata": {},
     "output_type": "display_data"
    },
    {
     "name": "stdout",
     "output_type": "stream",
     "text": [
      "\n"
     ]
    },
    {
     "data": {
      "image/png": "[encoded data removed]",
      "text/plain": [
       "<Figure size 640x480 with 1 Axes>"
      ]
     },
     "metadata": {},
     "output_type": "display_data"
    }
   ],
   "source": [
    "acc=history.history['accuracy']\n",
    "val_acc=history.history['val_accuracy']\n",
    "loss=history.history['loss']\n",
    "val_loss=history.history['val_loss']\n",
    "\n",
    "epochs=range(len(acc))\n",
    "\n",
    "plt.plot(epochs, acc, 'r', \"Training Accuracy\")\n",
    "plt.plot(epochs, val_acc, 'b', \"Validation Accuracy\")\n",
    "plt.title('Training and validation accuracy')\n",
    "plt.show()\n",
    "print(\"\")\n",
    "\n",
    "plt.plot(epochs, loss, 'r', \"Training Loss\")\n",
    "plt.plot(epochs, val_loss, 'b', \"Validation Loss\")\n",
    "plt.show()"
   ]
  },
  {
   "cell_type": "code",
   "execution_count": 17,
   "metadata": {},
   "outputs": [
    {
     "name": "stdout",
     "output_type": "stream",
     "text": [
      "313/313 [==============================] - 2s 6ms/step\n"
     ]
    }
   ],
   "source": [
    "test_predict = model.predict(X_test)"
   ]
  },
  {
   "cell_type": "code",
   "execution_count": 18,
   "metadata": {
    "tags": []
   },
   "outputs": [
    {
     "name": "stdout",
     "output_type": "stream",
     "text": [
      "StackNet AUC on testing set: 0.9978\n"
     ]
    }
   ],
   "source": [
    "test_score = roc_auc_score(Y_test, test_predict)\n",
    "print(f\"StackNet AUC on testing set: {round(test_score, 4)}\")"
   ]
  },
  {
   "cell_type": "code",
   "execution_count": 19,
   "metadata": {},
   "outputs": [
    {
     "name": "stdout",
     "output_type": "stream",
     "text": [
      "        0\n",
      "0     0.0\n",
      "1     0.0\n",
      "2     0.0\n",
      "3     1.0\n",
      "4     0.0\n",
      "...   ...\n",
      "9995  1.0\n",
      "9996  0.0\n",
      "9997  0.0\n",
      "9998  1.0\n",
      "9999  0.0\n",
      "\n",
      "[10000 rows x 1 columns]\n",
      "10000\n"
     ]
    }
   ],
   "source": [
    "show_test_predict = np.round(test_predict, 0)\n",
    "show_test_predict = pd.DataFrame(show_test_predict)\n",
    "print(show_test_predict)\n",
    "print(len(show_test_predict))"
   ]
  },
  {
   "cell_type": "code",
   "execution_count": 20,
   "metadata": {},
   "outputs": [],
   "source": [
    "def plot_confusion_matrix(cm, title):\n",
    "    df_cm = pd.DataFrame(cm, index = [i for i in ['Queen', 'Queenless']],\n",
    "                    columns = [i for i in ['Queen', 'Queenless']])\n",
    "    df_cm_normed = df_cm/df_cm.sum()\n",
    "    plt.figure(figsize = (10,7))\n",
    "    sns.heatmap(df_cm, annot=True, fmt=\"\", )\n",
    "    plt.title(title)\n",
    "    plt.ylabel('True label')\n",
    "    plt.xlabel('Predicted label')\n",
    "    plt.savefig(title + \".png\")\n",
    "    plt.show()\n",
    "\n",
    "def plot_roc_curve(Y_test, test_predict, title):\n",
    "    fpr, tpr, thresholds = roc_curve(Y_test, test_predict)\n",
    "\n",
    "    aucc = auc(fpr, tpr)\n",
    "\n",
    "    plt.plot(fpr, tpr, label=\"ROC curve (area = {0:.4f})\".format(aucc))\n",
    "    plt.plot([0, 1], [0, 1], linestyle=\"dashed\")\n",
    "    plt.title(title)\n",
    "    plt.xlabel(\"False Positive Rate\")\n",
    "    plt.ylabel(\"True Positive Rate\")\n",
    "    plt.savefig(title + \".png\")\n",
    "    plt.legend()\n",
    "    plt.show()"
   ]
  },
  {
   "cell_type": "code",
   "execution_count": 21,
   "metadata": {},
   "outputs": [],
   "source": [
    "os.chdir('E:\\Data')"
   ]
  },
  {
   "cell_type": "code",
   "execution_count": 22,
   "metadata": {},
   "outputs": [
    {
     "data": {
      "image/png": "[encoded data removed]",
      "text/plain": [
       "<Figure size 640x480 with 1 Axes>"
      ]
     },
     "metadata": {},
     "output_type": "display_data"
    }
   ],
   "source": [
    "plot_roc_curve(Y_test, test_predict, \"ROC Curve\")"
   ]
  },
  {
   "cell_type": "code",
   "execution_count": 23,
   "metadata": {},
   "outputs": [
    {
     "data": {
      "text/plain": [
       "0.9764971042082096"
      ]
     },
     "execution_count": 23,
     "metadata": {},
     "output_type": "execute_result"
    }
   ],
   "source": [
    "from sklearn.metrics import f1_score\n",
    "f1_score(Y_test, show_test_predict, average='macro')"
   ]
  },
  {
   "cell_type": "code",
   "execution_count": 24,
   "metadata": {},
   "outputs": [
    {
     "data": {
      "image/png": "[encoded data removed]",
      "text/plain": [
       "<Figure size 1000x700 with 2 Axes>"
      ]
     },
     "metadata": {},
     "output_type": "display_data"
    }
   ],
   "source": [
    "cm = confusion_matrix(Y_test, show_test_predict)\n",
    "plot_confusion_matrix(cm, \"Confusion Matrix\")"
   ]
  },
  {
   "cell_type": "code",
   "execution_count": 25,
   "metadata": {},
   "outputs": [
    {
     "name": "stdout",
     "output_type": "stream",
     "text": [
      "313/313 [==============================] - 2s 7ms/step - loss: 0.0640 - accuracy: 0.9765\n",
      "[0.06401004642248154, 0.9764999747276306]\n"
     ]
    }
   ],
   "source": [
    "stt = model.evaluate(X_test, Y_test)\n",
    "print(stt)"
   ]
  },
  {
   "cell_type": "code",
   "execution_count": 26,
   "metadata": {},
   "outputs": [
    {
     "name": "stdout",
     "output_type": "stream",
     "text": [
      "              precision    recall  f1-score   support\n",
      "\n",
      "           0       0.97      0.99      0.98      5000\n",
      "           1       0.99      0.97      0.98      5000\n",
      "\n",
      "    accuracy                           0.98     10000\n",
      "   macro avg       0.98      0.98      0.98     10000\n",
      "weighted avg       0.98      0.98      0.98     10000\n",
      "\n"
     ]
    }
   ],
   "source": [
    "print(classification_report(Y_test, show_test_predict))"
   ]
  },
  {
   "cell_type": "code",
   "execution_count": 27,
   "metadata": {},
   "outputs": [],
   "source": [
    "model.save(\"128_STFT_CNN_1D_Test01.h5\")"
   ]
  },
  {
   "cell_type": "code",
   "execution_count": null,
   "metadata": {},
   "outputs": [],
   "source": []
  },
  {
   "cell_type": "code",
   "execution_count": null,
   "metadata": {},
   "outputs": [],
   "source": []
  }
 ],
 "metadata": {
  "kernelspec": {
   "display_name": "Python 3 (ipykernel)",
   "language": "python",
   "name": "python3"
  },
  "language_info": {
   "codemirror_mode": {
    "name": "ipython",
    "version": 3
   },
   "file_extension": ".py",
   "mimetype": "text/x-python",
   "name": "python",
   "nbconvert_exporter": "python",
   "pygments_lexer": "ipython3",
   "version": "3.9.16"
  }
 },
 "nbformat": 4,
 "nbformat_minor": 4
}
