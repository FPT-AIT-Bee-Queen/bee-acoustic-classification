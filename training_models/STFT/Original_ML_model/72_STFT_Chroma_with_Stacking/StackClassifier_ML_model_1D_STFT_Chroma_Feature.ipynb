{
 "cells": [
  {
   "cell_type": "code",
   "execution_count": 1,
   "metadata": {},
   "outputs": [],
   "source": [
    "import os\n",
    "import time\n",
    "import librosa\n",
    "import numpy as np\n",
    "import pandas as pd \n",
    "import matplotlib.pyplot as plt\n",
    "import seaborn as sns\n",
    "\n",
    "\n",
    "from sklearn.model_selection import train_test_split\n",
    "from sklearn.preprocessing import LabelEncoder, StandardScaler\n",
    "from sklearn.metrics import *\n",
    "from sklearnex import patch_sklearn, config_context\n",
    "\n",
    "from sklearn.ensemble import RandomForestClassifier\n",
    "from sklearn.neighbors import KNeighborsClassifier\n",
    "from sklearn.svm import SVC\n",
    "from sklearn.neural_network import MLPClassifier\n",
    "from sklearn.linear_model import LogisticRegression\n",
    "from sklearn.naive_bayes import GaussianNB\n",
    "from sklearn.tree import DecisionTreeClassifier\n",
    "from sklearn.ensemble import AdaBoostClassifier, GradientBoostingClassifier, ExtraTreesClassifier, BaggingClassifier\n",
    "from xgboost import XGBClassifier\n",
    "from sklearn.ensemble import StackingClassifier\n",
    "\n",
    "import warnings\n",
    "warnings.filterwarnings('ignore')"
   ]
  },
  {
   "cell_type": "code",
   "execution_count": 2,
   "metadata": {},
   "outputs": [
    {
     "data": {
      "text/plain": [
       "'d:\\\\Study\\\\Code\\\\Python\\\\Sound_Classification_Bee_Qeen_Queenless/Chroma_STFT_npy_dataset/'"
      ]
     },
     "execution_count": 2,
     "metadata": {},
     "output_type": "execute_result"
    }
   ],
   "source": [
    "path = os.getcwd() + \"/Chroma_STFT_npy_dataset/\"\n",
    "path"
   ]
  },
  {
   "cell_type": "code",
   "execution_count": 3,
   "metadata": {},
   "outputs": [
    {
     "name": "stdout",
     "output_type": "stream",
     "text": [
      "d:\\Study\\Code\\Python\\Sound_Classification_Bee_Qeen_Queenless/Chroma_STFT_npy_dataset//train\n",
      "d:\\Study\\Code\\Python\\Sound_Classification_Bee_Qeen_Queenless/Chroma_STFT_npy_dataset//val\n",
      "d:\\Study\\Code\\Python\\Sound_Classification_Bee_Qeen_Queenless/Chroma_STFT_npy_dataset//test\n"
     ]
    }
   ],
   "source": [
    "TRAINING_DIR = path+\"/train\"\n",
    "VALIDATION_DIR = path + \"/val\"\n",
    "TEST_DIR = path + \"/test\"\n",
    "\n",
    "print(TRAINING_DIR)\n",
    "print(VALIDATION_DIR)\n",
    "print(TEST_DIR)"
   ]
  },
  {
   "cell_type": "code",
   "execution_count": 4,
   "metadata": {},
   "outputs": [],
   "source": [
    "def data_loader(path):\n",
    "    X = []\n",
    "    Y = []\n",
    "    for folder in os.listdir(path):\n",
    "        for file in os.listdir(os.path.join(path, folder)):\n",
    "            feature = np.load(os.path.join(path, folder, file))\n",
    "            label = folder\n",
    "            X += feature.tolist()\n",
    "            Y += [label]*feature.shape[0]\n",
    "    return X, Y"
   ]
  },
  {
   "cell_type": "code",
   "execution_count": 5,
   "metadata": {},
   "outputs": [],
   "source": [
    "X_train, Y_train = data_loader(TRAINING_DIR)\n",
    "X_val, Y_val = data_loader(VALIDATION_DIR)\n",
    "X_test, Y_test = data_loader(TEST_DIR)"
   ]
  },
  {
   "cell_type": "code",
   "execution_count": 6,
   "metadata": {},
   "outputs": [
    {
     "name": "stdout",
     "output_type": "stream",
     "text": [
      "There are 14000 training samples and 14000 training labels\n",
      "There are 2000 validation samples and 2000 validation labels\n",
      "There are 4000 testing samples and 4000 testing labels\n"
     ]
    }
   ],
   "source": [
    "print(\"There are {} training samples and {} training labels\".format(len(X_train), len(Y_train)))\n",
    "print(\"There are {} validation samples and {} validation labels\".format(len(X_val), len(Y_val)))\n",
    "print(\"There are {} testing samples and {} testing labels\".format(len(X_test), len(Y_test)))"
   ]
  },
  {
   "cell_type": "code",
   "execution_count": 7,
   "metadata": {},
   "outputs": [
    {
     "name": "stdout",
     "output_type": "stream",
     "text": [
      "Shape of X_train: (14000, 72)\n",
      "Shape of X_val: (2000, 72)\n",
      "Shape of X_test: (4000, 72)\n",
      "Shape of Y_train: (14000,)\n",
      "Shape of Y_val: (2000,)\n",
      "Shape of Y_test: (4000,)\n"
     ]
    }
   ],
   "source": [
    "X_train = np.array(X_train)\n",
    "X_val = np.array(X_val)\n",
    "X_test = np.array(X_test)\n",
    "Y_train = np.array(Y_train)\n",
    "Y_val = np.array(Y_val)\n",
    "Y_test = np.array(Y_test)\n",
    "\n",
    "print(\"Shape of X_train: {}\".format(X_train.shape))\n",
    "print(\"Shape of X_val: {}\".format(X_val.shape))\n",
    "print(\"Shape of X_test: {}\".format(X_test.shape))\n",
    "print(\"Shape of Y_train: {}\".format(Y_train.shape))\n",
    "print(\"Shape of Y_val: {}\".format(Y_val.shape))\n",
    "print(\"Shape of Y_test: {}\".format(Y_test.shape))"
   ]
  },
  {
   "cell_type": "code",
   "execution_count": 8,
   "metadata": {},
   "outputs": [
    {
     "name": "stdout",
     "output_type": "stream",
     "text": [
      "Shape of X_train: (14000, 72)\n",
      "Shape of X_test: (6000, 72)\n",
      "Shape of Y_train: (14000, 1)\n",
      "Shape of Y_test: (6000, 1)\n"
     ]
    }
   ],
   "source": [
    "X_test = np.vstack((X_test, X_val))\n",
    "Y_test = np.hstack((Y_test, Y_val))\n",
    "Y_train = Y_train.reshape((Y_train.shape[0], 1))\n",
    "Y_test = Y_test.reshape((Y_test.shape[0], 1))\n",
    "\n",
    "\n",
    "print(\"Shape of X_train: {}\".format(X_train.shape))\n",
    "print(\"Shape of X_test: {}\".format(X_test.shape))\n",
    "print(\"Shape of Y_train: {}\".format(Y_train.shape))\n",
    "print(\"Shape of Y_test: {}\".format(Y_test.shape))"
   ]
  },
  {
   "cell_type": "code",
   "execution_count": 9,
   "metadata": {},
   "outputs": [],
   "source": [
    "X_train = X_train.astype('float')\n",
    "X_test = X_test.astype('float')"
   ]
  },
  {
   "cell_type": "code",
   "execution_count": 10,
   "metadata": {},
   "outputs": [],
   "source": [
    "shuffle_index = np.random.permutation(len(X_train))\n",
    "X_train, Y_train = X_train[shuffle_index], Y_train[shuffle_index]\n",
    "shuffle_index = np.random.permutation(len(X_test))\n",
    "X_test, Y_test = X_test[shuffle_index], Y_test[shuffle_index]"
   ]
  },
  {
   "cell_type": "code",
   "execution_count": 11,
   "metadata": {},
   "outputs": [
    {
     "data": {
      "text/plain": [
       "array([0, 1])"
      ]
     },
     "execution_count": 11,
     "metadata": {},
     "output_type": "execute_result"
    }
   ],
   "source": [
    "label_encoder = LabelEncoder()\n",
    "Y_train = label_encoder.fit_transform(Y_train)\n",
    "Y_test = label_encoder.transform(Y_test)\n",
    "np.unique(Y_test)"
   ]
  },
  {
   "cell_type": "code",
   "execution_count": 12,
   "metadata": {},
   "outputs": [
    {
     "name": "stdout",
     "output_type": "stream",
     "text": [
      "(14000, 72)\n",
      "[[-0.28425424  0.05861216 -0.4702695  -0.37962276  0.96450199  2.35146121\n",
      "   0.62677045 -0.5566275  -0.74408344 -0.96204952 -0.72194615 -0.4756288\n",
      "   0.96219381  1.57326587  0.53061033  0.40802879  0.70937937  1.48862149\n",
      "   1.02357945 -0.57518433 -0.87889417 -1.15219067 -0.65073631  0.69556861\n",
      "  -0.45355328 -0.67136182 -0.94048592 -0.50530373  0.90238301  0.60305275\n",
      "   0.62461372 -0.29131508 -0.72031543 -0.66525793 -0.13411367 -0.63412423\n",
      "   0.15175007  0.1390661   0.19798163  0.32831678  0.62008723  0.71539404\n",
      "   0.70215026  0.75057795 -0.7925957  -1.00131936  0.28043248  0.14648949\n",
      "   0.29153091  0.16296611  0.56863125  0.56593976 -0.70935982 -2.28276119\n",
      "  -0.41255558  1.57270608  0.34824422  0.93570555  1.21278968  0.6890754\n",
      "  -0.2114485  -0.14024913 -0.46102679 -0.5497345   0.97225046  2.68538189\n",
      "   0.53467062 -0.56689619 -0.68970558 -0.90517681 -0.81111725 -0.6831969 ]\n",
      " [ 0.99072607  0.0619711  -1.09486122 -0.2736379   0.15575079 -0.32323273\n",
      "  -0.50512603 -0.72606234 -1.1135022  -1.09396732 -0.55275411  0.50685946\n",
      "   0.20673828  1.29461156  0.50853142  0.98538569  1.81731147  0.35267805\n",
      "  -0.09902926 -0.40810394 -1.1776043  -1.01753594  0.63925136  0.47167248\n",
      "  -0.26710898 -1.25835014 -0.86736003 -0.12873016 -0.68515066 -0.40193193\n",
      "  -0.5818064  -0.74204082 -0.79155531 -0.45898633 -0.61422335  0.32127609\n",
      "   0.15175007  0.1390661   0.19798163  0.32831678  0.62008723  0.71539404\n",
      "   0.70215026 -0.0620122  -1.74363794 -1.51596965  0.28043248  0.14648949\n",
      "  -0.94784699 -0.06255376  1.03505445  0.3935548   0.02711604  0.39358523\n",
      "   1.05566868  0.87435202  0.97889642  0.96570568  0.7687438  -0.1697008\n",
      "   0.96309456 -0.15096177 -1.10993763 -0.35457622 -0.18168214 -0.4275905\n",
      "  -0.55200369 -0.82915435 -1.15108973 -1.0514694  -0.6980656   0.51785337]\n",
      " [ 0.30670989  0.82822659  0.02062104 -0.90264205 -0.62006781  0.83479168\n",
      "   2.18329005  1.43857614  0.40876336  0.05783426 -0.21104255 -0.39769533\n",
      "  -0.29603787  0.64743149 -0.16726999 -1.42170335 -0.92949728  0.61597483\n",
      "   1.25453436  1.30777019  0.58543645  0.81494223  0.86076266 -0.19878227\n",
      "   0.35785567  0.06236597 -0.44223568 -0.38020606 -0.11841844  0.68163562\n",
      "   2.06012217  0.57948638  0.33484466 -0.13253247 -0.45730996 -0.07045385\n",
      "   0.15175007  0.1390661   0.19798163 -1.49750545 -1.24568955  0.71539404\n",
      "   0.70215026  0.75057795  0.61503473  0.39260627  0.28043248  0.14648949\n",
      "   0.05059488 -0.74458166 -0.11257671  0.48680748 -0.22854338 -0.72133979\n",
      "  -2.00112224 -1.12960318 -0.6271998  -0.03902419  0.32472704  0.49202591\n",
      "   0.16099333  0.96499173  0.02950434 -0.87140316 -0.46625297  0.85324042\n",
      "   2.41306015  1.46392796  0.52783192 -0.09680042 -0.32857242 -0.42536292]\n",
      " [ 1.05282523  0.91323772 -0.0237718  -0.58969462 -0.44550692 -0.49132851\n",
      "  -0.357254   -0.26002083 -0.32252237  0.03750716  0.4073308   0.57397692\n",
      "  -0.19424691 -0.37169621  0.24309348 -0.35606537  0.04504671 -0.33246429\n",
      "  -0.08458275  0.4757569   0.1669203   0.28330018  0.47009413  0.00828043\n",
      "   0.10743835  1.32804409  0.39750207 -0.63864707 -0.45297355 -0.10524202\n",
      "  -0.17508053 -0.41587014 -0.2973427  -0.67606529 -0.24834964  0.15935211\n",
      "   0.15175007  0.1390661   0.19798163  0.32831678  0.62008723  0.28920118\n",
      "   0.70215026  0.75057795  0.61503473  0.39260627  0.28043248  0.14648949\n",
      "  -1.06019551 -0.59954121  0.56362468  0.8527108   0.90781808  0.71200385\n",
      "   0.56502251  0.974691    0.83025246  0.09050014 -0.17425785 -0.60170054\n",
      "   1.23227182  0.81613961 -0.27145845 -0.59994469 -0.47097421 -0.4703277\n",
      "  -0.36321581 -0.41137926 -0.38821973 -0.10040743  0.44088014  0.60539014]\n",
      " [ 0.16896081 -0.20897385 -0.11776331  0.17910115  0.46021351  0.04011944\n",
      "  -0.20870791 -0.14641653 -0.01148316  0.37430331  0.59767616  0.44630792\n",
      "   2.8694553   2.0290891   2.08469002  1.35312011  1.7656564   1.16823087\n",
      "   0.63269397  0.83015497  0.90494101  1.82877564  2.41245705  2.65537671\n",
      "  -1.84135916 -1.91758475 -1.65765894 -1.41161077 -1.3596366  -1.19463291\n",
      "  -0.51813073 -1.04410709 -1.31154096 -1.41736065 -1.48700054 -1.57158651\n",
      "   0.15175007  0.1390661   0.19798163  0.32831678  0.62008723  0.71539404\n",
      "   0.70215026  0.75057795  0.61503473  0.39260627  0.28043248  0.14648949\n",
      "  -1.2004168  -1.10828312 -0.89541133 -0.88585838 -0.524402    0.24131708\n",
      "   0.80652006  0.29670404 -0.66479533 -0.93715887 -1.59516956 -1.26180473\n",
      "   0.55776864  0.19567332  0.19050433  0.28558938  0.24918307 -0.16622985\n",
      "  -0.36166768 -0.19146014  0.04941609  0.34327729  0.84066053  0.92545813]]\n"
     ]
    }
   ],
   "source": [
    "std_scaler = StandardScaler()\n",
    "X_train = std_scaler.fit_transform(X_train)\n",
    "X_test = std_scaler.transform(X_test)\n",
    "print(X_train.shape)\n",
    "print(X_train[0:5,:])"
   ]
  },
  {
   "cell_type": "markdown",
   "metadata": {},
   "source": [
    "ET, RF, and XGB"
   ]
  },
  {
   "cell_type": "code",
   "execution_count": 13,
   "metadata": {},
   "outputs": [
    {
     "name": "stdout",
     "output_type": "stream",
     "text": [
      "Training time:  113.02826189994812 s\n"
     ]
    }
   ],
   "source": [
    "SEED = 1337\n",
    "estimator = [\n",
    "    ('RF', RandomForestClassifier(random_state=SEED)),\n",
    "    ('ET', ExtraTreesClassifier(random_state=SEED)),\n",
    "    ('SVM', SVC(random_state=SEED))\n",
    "]\n",
    "\n",
    "clf = StackingClassifier(estimators=estimator, final_estimator=RandomForestClassifier(random_state=SEED), cv=5)\n",
    "\n",
    "time_start = time.time()\n",
    "clf.fit(X_train, Y_train)\n",
    "time_end = time.time()\n",
    "\n",
    "print('Training time: ', time_end - time_start, 's')"
   ]
  },
  {
   "cell_type": "code",
   "execution_count": 14,
   "metadata": {},
   "outputs": [],
   "source": [
    "Y_pred = clf.predict(X_test)"
   ]
  },
  {
   "cell_type": "code",
   "execution_count": 15,
   "metadata": {},
   "outputs": [
    {
     "data": {
      "text/plain": [
       "(array([0, 0, 0, 0, 1], dtype=int64), array([1, 0, 0, 0, 1]))"
      ]
     },
     "execution_count": 15,
     "metadata": {},
     "output_type": "execute_result"
    }
   ],
   "source": [
    "Y_pred[:5], Y_test[:5]"
   ]
  },
  {
   "cell_type": "code",
   "execution_count": 16,
   "metadata": {},
   "outputs": [
    {
     "name": "stdout",
     "output_type": "stream",
     "text": [
      "Accuracy: 78.52%\n",
      "F1 score: 0.79\n",
      "Precision: 0.79\n",
      "Recall: 0.79\n"
     ]
    }
   ],
   "source": [
    "acc = accuracy_score(Y_test, Y_pred)\n",
    "print(\"Accuracy: {:.2f}%\".format(acc * 100))\n",
    "\n",
    "f1 = f1_score(Y_test, Y_pred, average='macro')\n",
    "print(\"F1 score: {:.2f}\".format(f1))\n",
    "\n",
    "precision = precision_score(Y_test, Y_pred, average='macro')\n",
    "print(\"Precision: {:.2f}\".format(precision))\n",
    "\n",
    "recall = recall_score(Y_test, Y_pred, average='macro')\n",
    "print(\"Recall: {:.2f}\".format(recall))"
   ]
  },
  {
   "cell_type": "code",
   "execution_count": 17,
   "metadata": {},
   "outputs": [
    {
     "name": "stdout",
     "output_type": "stream",
     "text": [
      "[[2423  577]\n",
      " [ 712 2288]]\n",
      "              precision    recall  f1-score   support\n",
      "\n",
      "           0       0.77      0.81      0.79      3000\n",
      "           1       0.80      0.76      0.78      3000\n",
      "\n",
      "    accuracy                           0.79      6000\n",
      "   macro avg       0.79      0.79      0.79      6000\n",
      "weighted avg       0.79      0.79      0.79      6000\n",
      "\n"
     ]
    }
   ],
   "source": [
    "cf_matrix = confusion_matrix(Y_test, Y_pred)\n",
    "print(cf_matrix)\n",
    "\n",
    "cl_report = classification_report(Y_test, Y_pred)\n",
    "print(cl_report)"
   ]
  },
  {
   "cell_type": "code",
   "execution_count": 18,
   "metadata": {},
   "outputs": [],
   "source": [
    "def plot_confusion_matrix(cm, title):\n",
    "    df_cm = pd.DataFrame(cm, index = [i for i in ['Queen', 'Queenless']],\n",
    "                    columns = [i for i in ['Queen', 'Queenless']])\n",
    "    df_cm_normed = df_cm/df_cm.sum()\n",
    "    plt.figure(figsize = (10,7))\n",
    "    sns.heatmap(df_cm, annot=True, fmt=\"\", )\n",
    "    plt.title(title)\n",
    "    plt.ylabel('True label')\n",
    "    plt.xlabel('Predicted label')\n",
    "    plt.savefig(title + '.png')\n",
    "    plt.show()\n"
   ]
  },
  {
   "cell_type": "code",
   "execution_count": 19,
   "metadata": {},
   "outputs": [
    {
     "data": {
      "image/png": "[encoded data removed]",
      "text/plain": [
       "<Figure size 1000x700 with 2 Axes>"
      ]
     },
     "metadata": {},
     "output_type": "display_data"
    }
   ],
   "source": [
    "plot_confusion_matrix(cf_matrix, 'STFT Chroma features with Stacking Confusion matrix')"
   ]
  },
  {
   "cell_type": "code",
   "execution_count": 20,
   "metadata": {},
   "outputs": [],
   "source": [
    "def plot_roc_curve(Y_test, Y_pred, title):\n",
    "    fpr, tpr, thresholds = roc_curve(Y_test, Y_pred)\n",
    "\n",
    "    auc = roc_auc_score(Y_test, Y_pred)\n",
    "\n",
    "    plt.plot(fpr, tpr, label=\"ROC curve (area = {0:.2f})\".format(auc))\n",
    "    plt.plot([0, 1], [0, 1], linestyle=\"dashed\")\n",
    "    plt.title(title)\n",
    "    plt.xlabel(\"False Positive Rate\")\n",
    "    plt.ylabel(\"True Positive Rate\")\n",
    "    plt.legend()\n",
    "    plt.savefig(\"STFT Chroma features with Stacking Roc-Curve.png\")\n",
    "    plt.show()"
   ]
  },
  {
   "cell_type": "code",
   "execution_count": 22,
   "metadata": {},
   "outputs": [
    {
     "data": {
      "image/png": "[encoded data removed]",
      "text/plain": [
       "<Figure size 640x480 with 1 Axes>"
      ]
     },
     "metadata": {},
     "output_type": "display_data"
    }
   ],
   "source": [
    "plot_roc_curve(Y_test, Y_pred, \"STFT Chroma features with Stacking Roc-Curve\")"
   ]
  },
  {
   "cell_type": "code",
   "execution_count": 25,
   "metadata": {},
   "outputs": [],
   "source": [
    "os.chdir(os.path.join(os.getcwd(), 'model'))\n",
    "import pickle\n",
    "\n",
    "# save \n",
    "with open('ChromaFeatureStackingClassifier.pkl', 'wb') as f:\n",
    "    pickle.dump(clf, f)"
   ]
  },
  {
   "cell_type": "code",
   "execution_count": null,
   "metadata": {},
   "outputs": [],
   "source": []
  },
  {
   "cell_type": "code",
   "execution_count": null,
   "metadata": {},
   "outputs": [],
   "source": []
  }
 ],
 "metadata": {
  "kernelspec": {
   "display_name": "Python 3 (ipykernel)",
   "language": "python",
   "name": "python3"
  },
  "language_info": {
   "codemirror_mode": {
    "name": "ipython",
    "version": 3
   },
   "file_extension": ".py",
   "mimetype": "text/x-python",
   "name": "python",
   "nbconvert_exporter": "python",
   "pygments_lexer": "ipython3",
   "version": "3.9.16"
  }
 },
 "nbformat": 4,
 "nbformat_minor": 4
}
