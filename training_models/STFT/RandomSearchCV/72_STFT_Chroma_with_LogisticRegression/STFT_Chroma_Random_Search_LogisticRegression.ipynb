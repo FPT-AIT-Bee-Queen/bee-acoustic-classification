{
 "cells": [
  {
   "cell_type": "code",
   "execution_count": 1,
   "metadata": {},
   "outputs": [],
   "source": [
    "import os\n",
    "import time\n",
    "import librosa\n",
    "import numpy as np\n",
    "import pandas as pd \n",
    "import matplotlib.pyplot as plt\n",
    "import seaborn as sns\n",
    "from tqdm.notebook import trange,tqdm\n",
    "import scipy\n",
    "\n",
    "\n",
    "from sklearn.model_selection import train_test_split\n",
    "from sklearn.preprocessing import LabelEncoder, StandardScaler\n",
    "from sklearn.metrics import *\n",
    "from sklearnex import patch_sklearn, config_context\n",
    "\n",
    "from sklearn.ensemble import RandomForestClassifier\n",
    "from sklearn.neighbors import KNeighborsClassifier\n",
    "from sklearn.svm import SVC\n",
    "from sklearn.neural_network import MLPClassifier\n",
    "from sklearn.linear_model import LogisticRegression\n",
    "from sklearn.naive_bayes import GaussianNB\n",
    "from sklearn.tree import DecisionTreeClassifier\n",
    "from sklearn.ensemble import AdaBoostClassifier, GradientBoostingClassifier, ExtraTreesClassifier, BaggingClassifier\n",
    "from xgboost import XGBClassifier\n",
    "from sklearn.model_selection import RepeatedStratifiedKFold, RandomizedSearchCV\n",
    "\n",
    "\n",
    "import warnings\n",
    "warnings.filterwarnings('ignore')"
   ]
  },
  {
   "cell_type": "code",
   "execution_count": 2,
   "metadata": {},
   "outputs": [
    {
     "data": {
      "text/plain": [
       "'D:\\\\Study\\\\Code\\\\Python\\\\Sound_Classification_Bee_Qeen_Queenless/Chroma_STFT_npy_dataset/'"
      ]
     },
     "execution_count": 2,
     "metadata": {},
     "output_type": "execute_result"
    }
   ],
   "source": [
    "path = os.getcwd() + \"/Chroma_STFT_npy_dataset/\"\n",
    "path"
   ]
  },
  {
   "cell_type": "code",
   "execution_count": 3,
   "metadata": {},
   "outputs": [
    {
     "name": "stdout",
     "output_type": "stream",
     "text": [
      "D:\\Study\\Code\\Python\\Sound_Classification_Bee_Qeen_Queenless/Chroma_STFT_npy_dataset//train\n",
      "D:\\Study\\Code\\Python\\Sound_Classification_Bee_Qeen_Queenless/Chroma_STFT_npy_dataset//val\n",
      "D:\\Study\\Code\\Python\\Sound_Classification_Bee_Qeen_Queenless/Chroma_STFT_npy_dataset//test\n"
     ]
    }
   ],
   "source": [
    "TRAINING_DIR = path+\"/train\"\n",
    "VALIDATION_DIR = path + \"/val\"\n",
    "TEST_DIR = path + \"/test\"\n",
    "\n",
    "print(TRAINING_DIR)\n",
    "print(VALIDATION_DIR)\n",
    "print(TEST_DIR)"
   ]
  },
  {
   "cell_type": "code",
   "execution_count": 4,
   "metadata": {},
   "outputs": [],
   "source": [
    "def data_loader(path):\n",
    "    X = []\n",
    "    Y = []\n",
    "    for folder in os.listdir(path):\n",
    "        for file in os.listdir(os.path.join(path, folder)):\n",
    "            feature = np.load(os.path.join(path, folder, file))\n",
    "            label = folder\n",
    "            X += feature.tolist()\n",
    "            Y += [label]*feature.shape[0]\n",
    "    return X, Y"
   ]
  },
  {
   "cell_type": "code",
   "execution_count": 5,
   "metadata": {},
   "outputs": [],
   "source": [
    "X_train, Y_train = data_loader(TRAINING_DIR)\n",
    "X_val, Y_val = data_loader(VALIDATION_DIR)\n",
    "X_test, Y_test = data_loader(TEST_DIR)"
   ]
  },
  {
   "cell_type": "code",
   "execution_count": 6,
   "metadata": {},
   "outputs": [
    {
     "name": "stdout",
     "output_type": "stream",
     "text": [
      "There are 14000 training samples and 14000 training labels\n",
      "There are 2000 validation samples and 2000 validation labels\n",
      "There are 4000 testing samples and 4000 testing labels\n"
     ]
    }
   ],
   "source": [
    "print(\"There are {} training samples and {} training labels\".format(len(X_train), len(Y_train)))\n",
    "print(\"There are {} validation samples and {} validation labels\".format(len(X_val), len(Y_val)))\n",
    "print(\"There are {} testing samples and {} testing labels\".format(len(X_test), len(Y_test)))"
   ]
  },
  {
   "cell_type": "code",
   "execution_count": 7,
   "metadata": {},
   "outputs": [
    {
     "name": "stdout",
     "output_type": "stream",
     "text": [
      "Shape of X_train: (14000, 72)\n",
      "Shape of X_val: (2000, 72)\n",
      "Shape of X_test: (4000, 72)\n",
      "Shape of Y_train: (14000,)\n",
      "Shape of Y_val: (2000,)\n",
      "Shape of Y_test: (4000,)\n"
     ]
    }
   ],
   "source": [
    "X_train = np.array(X_train)\n",
    "X_val = np.array(X_val)\n",
    "X_test = np.array(X_test)\n",
    "Y_train = np.array(Y_train)\n",
    "Y_val = np.array(Y_val)\n",
    "Y_test = np.array(Y_test)\n",
    "\n",
    "print(\"Shape of X_train: {}\".format(X_train.shape))\n",
    "print(\"Shape of X_val: {}\".format(X_val.shape))\n",
    "print(\"Shape of X_test: {}\".format(X_test.shape))\n",
    "print(\"Shape of Y_train: {}\".format(Y_train.shape))\n",
    "print(\"Shape of Y_val: {}\".format(Y_val.shape))\n",
    "print(\"Shape of Y_test: {}\".format(Y_test.shape))"
   ]
  },
  {
   "cell_type": "code",
   "execution_count": 8,
   "metadata": {},
   "outputs": [
    {
     "name": "stdout",
     "output_type": "stream",
     "text": [
      "Shape of X_train: (14000, 72)\n",
      "Shape of X_test: (6000, 72)\n",
      "Shape of Y_train: (14000, 1)\n",
      "Shape of Y_test: (6000, 1)\n"
     ]
    }
   ],
   "source": [
    "X_test = np.vstack((X_test, X_val))\n",
    "Y_test = np.hstack((Y_test, Y_val))\n",
    "Y_train = Y_train.reshape((Y_train.shape[0], 1))\n",
    "Y_test = Y_test.reshape((Y_test.shape[0], 1))\n",
    "\n",
    "\n",
    "print(\"Shape of X_train: {}\".format(X_train.shape))\n",
    "print(\"Shape of X_test: {}\".format(X_test.shape))\n",
    "print(\"Shape of Y_train: {}\".format(Y_train.shape))\n",
    "print(\"Shape of Y_test: {}\".format(Y_test.shape))"
   ]
  },
  {
   "cell_type": "code",
   "execution_count": 9,
   "metadata": {},
   "outputs": [],
   "source": [
    "X_train = X_train.astype('float')\n",
    "X_test = X_test.astype('float')"
   ]
  },
  {
   "cell_type": "code",
   "execution_count": 10,
   "metadata": {},
   "outputs": [],
   "source": [
    "# shuffle_index = np.random.permutation(len(X_train))\n",
    "# X_train, Y_train = X_train[shuffle_index], Y_train[shuffle_index]\n",
    "# shuffle_index = np.random.permutation(len(X_test))\n",
    "# X_test, Y_test = X_test[shuffle_index], Y_test[shuffle_index]"
   ]
  },
  {
   "cell_type": "code",
   "execution_count": 11,
   "metadata": {},
   "outputs": [
    {
     "data": {
      "text/plain": [
       "array([0, 1])"
      ]
     },
     "execution_count": 11,
     "metadata": {},
     "output_type": "execute_result"
    }
   ],
   "source": [
    "label_encoder = LabelEncoder()\n",
    "Y_train = label_encoder.fit_transform(Y_train)\n",
    "Y_test = label_encoder.transform(Y_test)\n",
    "np.unique(Y_test)"
   ]
  },
  {
   "cell_type": "code",
   "execution_count": 12,
   "metadata": {},
   "outputs": [
    {
     "name": "stdout",
     "output_type": "stream",
     "text": [
      "(14000, 72)\n",
      "[[ 1.48010689e+00  1.11486149e+00  1.55600177e-01 -4.82449517e-01\n",
      "  -4.34043633e-01 -2.68917599e-01 -2.07644892e-02  3.20930202e-01\n",
      "  -2.16787973e-01 -5.82206137e-01 -8.04920506e-01 -2.80087357e-02\n",
      "  -9.04806605e-01 -7.23024717e-01  1.03625140e+00 -2.21267369e-01\n",
      "  -4.23513477e-01  9.51526142e-02  5.00472536e-01  1.32023366e+00\n",
      "   4.33281489e-01  1.56709485e-01 -4.41019514e-01 -2.59860788e-01\n",
      "   1.61357058e+00  1.30587734e-02 -3.92711288e-01 -6.28212497e-01\n",
      "  -4.22281109e-01 -2.13710468e-01 -6.91549572e-01 -8.74528588e-01\n",
      "  -1.00836210e+00 -1.01299844e+00 -4.93383528e-01  6.88012858e-01\n",
      "   1.51750074e-01  1.39066098e-01  1.97981633e-01  3.28316780e-01\n",
      "  -3.15804000e-01 -5.19285781e-01  7.02150262e-01  7.50577954e-01\n",
      "   6.15034727e-01  3.92606268e-01 -3.22630562e-01  1.46489488e-01\n",
      "  -1.45347872e+00 -1.14793713e+00 -3.22352433e-01  3.11814006e-01\n",
      "   1.46093196e-01 -1.58062000e-02 -1.61946318e-01 -2.84783394e-01\n",
      "   8.82496646e-02  7.43361438e-01  8.67038799e-01  2.79469530e-01\n",
      "   1.71466295e+00  1.14339560e+00  1.11384605e-01 -4.82776650e-01\n",
      "  -3.54530388e-01 -3.77089190e-01 -1.06683919e-02  1.41600170e-01\n",
      "  -1.91270683e-01 -6.76483790e-01 -8.17700112e-01 -3.76850977e-02]\n",
      " [ 1.00952375e+00  3.11898106e-01 -1.24057332e+00 -1.46352667e+00\n",
      "  -9.28316258e-01 -4.42016426e-01 -3.61311264e-01 -2.06982794e-01\n",
      "  -3.41348932e-01 -4.52966173e-01 -2.74165186e-01  1.15838727e-01\n",
      "   3.82214732e-01  1.00823905e+00  2.11637599e-01 -1.01531655e+00\n",
      "   8.76136748e-01  1.11638362e+00  1.67909967e-01  3.51914027e-01\n",
      "   2.65094716e-01  2.81625227e-01  1.29595896e+00  7.95592263e-01\n",
      "   7.75068139e-01 -5.00734925e-01 -7.40268005e-01 -5.87496934e-01\n",
      "  -6.40639419e-01 -5.82634543e-01 -2.29064062e-01 -9.40288826e-02\n",
      "  -4.43725728e-01 -7.27731339e-01 -6.38654511e-01 -3.23284546e-01\n",
      "   1.51750074e-01  1.39066098e-01  1.97981633e-01  3.28316780e-01\n",
      "   6.20087227e-01  7.15394038e-01  6.91879447e-01  7.50577954e-01\n",
      "   6.15034727e-01  3.92606268e-01  2.80432481e-01  1.46489488e-01\n",
      "  -1.06354707e+00 -1.72046187e-01  1.30611991e+00  2.14481877e+00\n",
      "   2.12297958e+00  9.99190571e-01  5.65998949e-01  5.91021138e-01\n",
      "   7.95169291e-01  4.66596452e-01  3.11993766e-01 -5.41743109e-02\n",
      "   1.16928089e+00  2.79486212e-01 -1.26046985e+00 -1.35475766e+00\n",
      "  -1.12514180e+00 -6.52478070e-01 -3.89739128e-01 -2.55158378e-01\n",
      "  -3.37042945e-01 -5.29912579e-01 -3.25847739e-01  3.05720342e-02]\n",
      " [ 1.00095189e+00 -5.62801819e-01 -1.31423149e+00 -1.05009186e+00\n",
      "  -4.94932215e-01 -5.92366112e-02  1.82737278e-01  3.50343902e-01\n",
      "   3.71115287e-01  2.17051685e-01  6.36201109e-01  1.46772944e+00\n",
      "  -7.25625399e-01 -8.66616917e-01 -1.31783838e+00 -1.11772674e+00\n",
      "  -4.60832697e-01  2.33945597e-01  8.13853640e-01  9.83759812e-01\n",
      "   6.87992954e-01  2.76070462e-01  5.15786954e-01 -1.49507519e+00\n",
      "   1.35299572e+00 -7.31878292e-01 -7.11582934e-01 -7.88379852e-01\n",
      "  -9.38979605e-01 -8.83036127e-01 -1.94646341e-01 -3.33615611e-01\n",
      "  -1.90402742e-01 -7.30758292e-02 -3.04170832e-01  2.63779172e+00\n",
      "   1.51750074e-01  1.39066098e-01 -1.72430494e+00 -1.09144712e+00\n",
      "  -9.61069978e-01 -1.13442817e-01  7.02150262e-01  7.50577954e-01\n",
      "   6.15034727e-01  3.92606268e-01  2.80432481e-01  1.46489488e-01\n",
      "  -3.12315444e-01  2.95876437e-01  1.07263686e+00  4.05149869e-01\n",
      "  -6.20178446e-01 -7.04355420e-01 -4.87002509e-01 -6.25093365e-01\n",
      "  -6.54177494e-01 -4.87249579e-01 -4.09923639e-01 -1.34292825e+00\n",
      "   8.45204898e-01 -6.16856785e-01 -1.25688348e+00 -9.36737909e-01\n",
      "  -3.73538745e-01 -1.21545165e-02  1.91013312e-01  2.56881656e-01\n",
      "   4.14935035e-01  2.83278929e-01  5.24316187e-01  1.72470942e+00]\n",
      " [-1.53481238e+00  5.81663253e-01  1.07610596e+00 -5.36337500e-01\n",
      "  -9.20359581e-01 -6.64014943e-01 -2.86084126e-01  2.01211896e-01\n",
      "   6.03634253e-01  4.23156077e-01 -4.16598273e-01 -1.21673021e+00\n",
      "  -4.59466127e-01  2.21701360e-01  8.08138173e-01 -9.32521660e-01\n",
      "  -1.21383396e-01  1.82853560e-01  1.12691463e-01  1.03241459e+00\n",
      "   1.59381752e+00  1.79058002e+00  7.57509118e-01  9.86808846e-01\n",
      "  -1.07253391e+00 -5.93602284e-01  6.73772814e-02 -7.33257215e-01\n",
      "  -1.00030682e+00 -9.50920114e-01 -5.40346868e-01 -6.61841764e-01\n",
      "  -6.49399143e-01 -6.71290278e-01 -9.27265042e-01 -1.16614669e+00\n",
      "  -3.62534175e+00  1.39066098e-01  1.97981633e-01  3.28316780e-01\n",
      "   6.20087227e-01  7.15394038e-01  7.02150262e-01  7.50577954e-01\n",
      "   6.15034727e-01  3.92606268e-01  2.80432481e-01  1.46489488e-01\n",
      "   8.23579296e-01 -5.17388608e-01 -1.13896698e+00  5.69931705e-01\n",
      "   1.24832923e+00  1.05858280e+00  2.71117895e-01 -1.47184883e-01\n",
      "  -8.34119489e-01 -6.10578038e-01  1.19020628e-01  1.21362149e+00\n",
      "  -1.32401455e+00  5.17096387e-01  1.39249295e+00 -4.83315219e-01\n",
      "  -9.78184784e-01 -7.39417837e-01 -2.22896947e-01  1.45529939e-01\n",
      "   7.44053090e-01  4.30833195e-01 -4.26489427e-01 -1.33538269e+00]\n",
      " [ 3.98429695e-01  1.18154311e+00  1.82587139e-01 -7.45854181e-01\n",
      "  -9.18193350e-01 -5.21446277e-01 -6.79677712e-02  1.20536548e-01\n",
      "   1.92882242e-01  1.21514731e-01  1.13687539e-01 -2.62868031e-03\n",
      "   2.15656754e-01 -2.96383702e-01  2.22232425e-01 -9.26091991e-01\n",
      "  -1.00968290e+00 -5.41978689e-01  8.81048660e-01  9.41288349e-01\n",
      "   2.73647974e-01  1.98865935e-01  3.83295305e-01  7.96857177e-01\n",
      "  -4.09536996e-01  1.26479467e+00  6.05177515e-01  1.80384382e-02\n",
      "  -6.26675592e-01 -6.84875197e-01 -2.92694806e-01  1.12328698e-01\n",
      "   5.23791451e-01  8.86540860e-01  1.81893288e-01 -1.64870536e-01\n",
      "   1.51750074e-01  1.39066098e-01  1.97981633e-01 -8.56666174e-01\n",
      "  -1.60350850e+00  2.05842171e-01  7.02150262e-01  7.50577954e-01\n",
      "   6.15034727e-01  3.92606268e-01  2.80432481e-01  1.46489488e-01\n",
      "  -5.22376779e-01 -1.01299214e+00  1.52373096e-01  5.18735624e-01\n",
      "   3.59538582e-01  3.10665683e-01  3.47701326e-01  3.47483466e-01\n",
      "   7.11822693e-03  2.97911149e-01  2.11744033e-01  2.92113416e-01\n",
      "   4.39328171e-01  1.52771269e+00  1.47288441e-01 -7.14275333e-01\n",
      "  -8.35282461e-01 -5.06267920e-01 -1.25101989e-01  4.32893806e-02\n",
      "   1.00182371e-01 -4.09843272e-02 -4.97113896e-02 -2.11946256e-01]]\n"
     ]
    }
   ],
   "source": [
    "std_scaler = StandardScaler()\n",
    "X_train = std_scaler.fit_transform(X_train)\n",
    "X_test = std_scaler.transform(X_test)\n",
    "print(X_train.shape)\n",
    "print(X_train[0:5,:])"
   ]
  },
  {
   "cell_type": "code",
   "execution_count": 13,
   "metadata": {},
   "outputs": [],
   "source": [
    "SEED = 1337"
   ]
  },
  {
   "cell_type": "code",
   "execution_count": 14,
   "metadata": {},
   "outputs": [],
   "source": [
    "# global cv\n",
    "# cv = RepeatedStratifiedKFold(n_splits=3, n_repeats=2, random_state=SEED)\n",
    "# global X_train, Y_train, X_test, Y_test"
   ]
  },
  {
   "cell_type": "code",
   "execution_count": 15,
   "metadata": {},
   "outputs": [],
   "source": [
    "def search_for_best_models(model, parameter_search, X_train, Y_train, X_test, Y_test, scoring='accuracy', verbose=3):\n",
    "    search = RandomizedSearchCV(model, parameter_search, n_iter=10, scoring=scoring, verbose = verbose, n_jobs=1, random_state=SEED)\n",
    "    first_time = time.time()\n",
    "    search.fit(X_train, Y_train) \n",
    "    second_time = time.time()\n",
    "    best_model = search.best_estimator_\n",
    "    optimal_params = search.best_params_\n",
    "    Y_pred = best_model.predict(X_test)\n",
    "    accuracy = accuracy_score(Y_test, Y_pred)\n",
    "    time_training = second_time - first_time\n",
    "    \n",
    "\n",
    "    print(\"Model: {}\".format(model.__class__.__name__))\n",
    "    print(\"Best parameters: {}\".format(search.best_params_))\n",
    "    print(\"Best cross-validation score: {:.2f}\".format(search.best_score_))\n",
    "    print(\"Test set score: {:.2f}\".format(accuracy))\n",
    "    print(\"Time training: \", time_training,\"s\")    \n",
    "    print(\"-\"*50)\n",
    "\n",
    "    return best_model, search, accuracy, optimal_params, time_training"
   ]
  },
  {
   "cell_type": "code",
   "execution_count": 16,
   "metadata": {},
   "outputs": [
    {
     "name": "stdout",
     "output_type": "stream",
     "text": [
      "Fitting 5 folds for each of 10 candidates, totalling 50 fits\n"
     ]
    },
    {
     "name": "stderr",
     "output_type": "stream",
     "text": [
      "Intel(R) Extension for Scikit-learn* enabled (https://github.com/intel/scikit-learn-intelex)\n"
     ]
    },
    {
     "name": "stdout",
     "output_type": "stream",
     "text": [
      "[CV 1/5] END ...C=100, penalty=None, solver=sag;, score=0.574 total time=   0.9s\n",
      "[CV 2/5] END ...C=100, penalty=None, solver=sag;, score=0.621 total time=   0.8s\n",
      "[CV 3/5] END ...C=100, penalty=None, solver=sag;, score=0.690 total time=   1.0s\n",
      "[CV 4/5] END ...C=100, penalty=None, solver=sag;, score=0.573 total time=   1.0s\n",
      "[CV 5/5] END ...C=100, penalty=None, solver=sag;, score=0.603 total time=   0.9s\n",
      "[CV 1/5] END C=0.01, penalty=elasticnet, solver=newton-cholesky;, score=nan total time=   0.0s\n",
      "[CV 2/5] END C=0.01, penalty=elasticnet, solver=newton-cholesky;, score=nan total time=   0.0s\n",
      "[CV 3/5] END C=0.01, penalty=elasticnet, solver=newton-cholesky;, score=nan total time=   0.0s\n",
      "[CV 4/5] END C=0.01, penalty=elasticnet, solver=newton-cholesky;, score=nan total time=   0.0s\n",
      "[CV 5/5] END C=0.01, penalty=elasticnet, solver=newton-cholesky;, score=nan total time=   0.0s\n",
      "[CV 1/5] END .C=1, penalty=l2, solver=liblinear;, score=0.574 total time=   0.3s\n",
      "[CV 2/5] END .C=1, penalty=l2, solver=liblinear;, score=0.621 total time=   0.3s\n",
      "[CV 3/5] END .C=1, penalty=l2, solver=liblinear;, score=0.690 total time=   0.3s\n",
      "[CV 4/5] END .C=1, penalty=l2, solver=liblinear;, score=0.573 total time=   0.4s\n",
      "[CV 5/5] END .C=1, penalty=l2, solver=liblinear;, score=0.604 total time=   0.3s\n",
      "[CV 1/5] END ......C=10, penalty=l2, solver=sag;, score=0.574 total time=   0.8s\n",
      "[CV 2/5] END ......C=10, penalty=l2, solver=sag;, score=0.621 total time=   0.8s\n",
      "[CV 3/5] END ......C=10, penalty=l2, solver=sag;, score=0.691 total time=   0.8s\n",
      "[CV 4/5] END ......C=10, penalty=l2, solver=sag;, score=0.573 total time=   0.9s\n",
      "[CV 5/5] END ......C=10, penalty=l2, solver=sag;, score=0.602 total time=   0.9s\n",
      "[CV 1/5] END .....C=100, penalty=l2, solver=sag;, score=0.574 total time=   1.0s\n",
      "[CV 2/5] END .....C=100, penalty=l2, solver=sag;, score=0.621 total time=   1.1s\n",
      "[CV 3/5] END .....C=100, penalty=l2, solver=sag;, score=0.691 total time=   0.8s\n",
      "[CV 4/5] END .....C=100, penalty=l2, solver=sag;, score=0.573 total time=   0.9s\n",
      "[CV 5/5] END .....C=100, penalty=l2, solver=sag;, score=0.603 total time=   0.9s\n",
      "[CV 1/5] END C=0.01, penalty=l1, solver=liblinear;, score=0.575 total time=   0.2s\n",
      "[CV 2/5] END C=0.01, penalty=l1, solver=liblinear;, score=0.615 total time=   0.2s\n",
      "[CV 3/5] END C=0.01, penalty=l1, solver=liblinear;, score=0.682 total time=   0.2s\n",
      "[CV 4/5] END C=0.01, penalty=l1, solver=liblinear;, score=0.546 total time=   0.0s\n",
      "[CV 5/5] END C=0.01, penalty=l1, solver=liblinear;, score=0.560 total time=   0.0s\n",
      "[CV 1/5] END C=100, penalty=elasticnet, solver=saga;, score=nan total time=   0.0s\n",
      "[CV 2/5] END C=100, penalty=elasticnet, solver=saga;, score=nan total time=   0.0s\n",
      "[CV 3/5] END C=100, penalty=elasticnet, solver=saga;, score=nan total time=   0.0s\n",
      "[CV 4/5] END C=100, penalty=elasticnet, solver=saga;, score=nan total time=   0.0s\n",
      "[CV 5/5] END C=100, penalty=elasticnet, solver=saga;, score=nan total time=   0.0s\n",
      "[CV 1/5] END .......C=0.1, penalty=l1, solver=sag;, score=nan total time=   0.0s\n",
      "[CV 2/5] END .......C=0.1, penalty=l1, solver=sag;, score=nan total time=   0.0s\n",
      "[CV 3/5] END .......C=0.1, penalty=l1, solver=sag;, score=nan total time=   0.0s\n",
      "[CV 4/5] END .......C=0.1, penalty=l1, solver=sag;, score=nan total time=   0.0s\n",
      "[CV 5/5] END .......C=0.1, penalty=l1, solver=sag;, score=nan total time=   0.0s\n",
      "[CV 1/5] END ...C=100, penalty=l2, solver=lbfgs;, score=0.577 total time=   0.0s\n",
      "[CV 2/5] END ...C=100, penalty=l2, solver=lbfgs;, score=0.620 total time=   0.0s\n",
      "[CV 3/5] END ...C=100, penalty=l2, solver=lbfgs;, score=0.690 total time=   0.0s\n",
      "[CV 4/5] END ...C=100, penalty=l2, solver=lbfgs;, score=0.573 total time=   0.0s\n",
      "[CV 5/5] END ...C=100, penalty=l2, solver=lbfgs;, score=0.601 total time=   0.0s\n",
      "[CV 1/5] END C=1, penalty=elasticnet, solver=saga;, score=nan total time=   0.0s\n",
      "[CV 2/5] END C=1, penalty=elasticnet, solver=saga;, score=nan total time=   0.0s\n",
      "[CV 3/5] END C=1, penalty=elasticnet, solver=saga;, score=nan total time=   0.0s\n",
      "[CV 4/5] END C=1, penalty=elasticnet, solver=saga;, score=nan total time=   0.0s\n",
      "[CV 5/5] END C=1, penalty=elasticnet, solver=saga;, score=nan total time=   0.0s\n",
      "Model: LogisticRegression\n",
      "Best parameters: {'solver': 'sag', 'penalty': 'l2', 'C': 100}\n",
      "Best cross-validation score: 0.61\n",
      "Test set score: 0.70\n",
      "Time training:  19.778972625732422 s\n",
      "--------------------------------------------------\n"
     ]
    }
   ],
   "source": [
    "patch_sklearn()\n",
    "\n",
    "parameter_search = {'penalty' : ['l1', 'l2', 'elasticnet', None],\n",
    "                   'C': [0.001, 0.01, 0.1, 1, 10, 100, 1000],\n",
    "                   'solver': ['lbfgs', 'liblinear', 'newton-cg', 'newton-cholesky', 'sag', 'saga']\n",
    "                    }\n",
    "original_model = LogisticRegression(random_state = SEED)\n",
    "best_model, search, accuracy, optimal_params, time_training = search_for_best_models(original_model, parameter_search, X_train, Y_train, X_test, Y_test)"
   ]
  },
  {
   "cell_type": "code",
   "execution_count": 17,
   "metadata": {},
   "outputs": [
    {
     "name": "stdout",
     "output_type": "stream",
     "text": [
      "{'solver': 'sag', 'penalty': 'l2', 'C': 100}\n",
      "19.778972625732422\n"
     ]
    }
   ],
   "source": [
    "print(optimal_params)\n",
    "print(time_training)"
   ]
  },
  {
   "cell_type": "code",
   "execution_count": 18,
   "metadata": {
    "tags": []
   },
   "outputs": [],
   "source": [
    "Y_pred = best_model.predict(X_test)"
   ]
  },
  {
   "cell_type": "code",
   "execution_count": 19,
   "metadata": {},
   "outputs": [
    {
     "name": "stdout",
     "output_type": "stream",
     "text": [
      "Accuracy: 69.75%\n",
      "F1 score: 0.70\n",
      "Precision: 0.70\n",
      "Recall: 0.70\n"
     ]
    }
   ],
   "source": [
    "acc = accuracy_score(Y_test, Y_pred)\n",
    "print(\"Accuracy: {:.2f}%\".format(acc * 100))\n",
    "\n",
    "f1 = f1_score(Y_test, Y_pred, average='macro')\n",
    "print(\"F1 score: {:.2f}\".format(f1))\n",
    "\n",
    "precision = precision_score(Y_test, Y_pred, average='macro')\n",
    "print(\"Precision: {:.2f}\".format(precision))\n",
    "\n",
    "recall = recall_score(Y_test, Y_pred, average='macro')\n",
    "print(\"Recall: {:.2f}\".format(recall))"
   ]
  },
  {
   "cell_type": "code",
   "execution_count": 20,
   "metadata": {},
   "outputs": [
    {
     "name": "stdout",
     "output_type": "stream",
     "text": [
      "[[2126  874]\n",
      " [ 941 2059]]\n",
      "              precision    recall  f1-score   support\n",
      "\n",
      "           0       0.69      0.71      0.70      3000\n",
      "           1       0.70      0.69      0.69      3000\n",
      "\n",
      "    accuracy                           0.70      6000\n",
      "   macro avg       0.70      0.70      0.70      6000\n",
      "weighted avg       0.70      0.70      0.70      6000\n",
      "\n"
     ]
    }
   ],
   "source": [
    "cf_matrix = confusion_matrix(Y_test, Y_pred)\n",
    "print(cf_matrix)\n",
    "\n",
    "cl_report = classification_report(Y_test, Y_pred)\n",
    "print(cl_report)"
   ]
  },
  {
   "cell_type": "code",
   "execution_count": 21,
   "metadata": {},
   "outputs": [],
   "source": [
    "def plot_confusion_matrix(cm, title):\n",
    "    df_cm = pd.DataFrame(cm, index = [i for i in ['Queen', 'Queenless']],\n",
    "                    columns = [i for i in ['Queen', 'Queenless']])\n",
    "    df_cm_normed = df_cm/df_cm.sum()\n",
    "    plt.figure(figsize = (10,7))\n",
    "    sns.heatmap(df_cm, annot=True, fmt=\"\", )\n",
    "    plt.title(title)\n",
    "    plt.ylabel('True label')\n",
    "    plt.xlabel('Predicted label')\n",
    "    plt.savefig(title + \"_RandomSearch\" + '.png')\n",
    "    plt.show()\n"
   ]
  },
  {
   "cell_type": "code",
   "execution_count": 22,
   "metadata": {},
   "outputs": [
    {
     "data": {
      "image/png": "[encoded data removed]",
      "text/plain": [
       "<Figure size 1000x700 with 2 Axes>"
      ]
     },
     "metadata": {},
     "output_type": "display_data"
    }
   ],
   "source": [
    "plot_confusion_matrix(cf_matrix, 'STFT Chroma features with LogisticRegression Confusion matrix')"
   ]
  },
  {
   "cell_type": "code",
   "execution_count": 23,
   "metadata": {},
   "outputs": [],
   "source": [
    "def plot_roc_curve(Y_test, Y_pred, title):\n",
    "    fpr, tpr, thresholds = roc_curve(Y_test, Y_pred)\n",
    "\n",
    "    auc = roc_auc_score(Y_test, Y_pred)\n",
    "\n",
    "    plt.plot(fpr, tpr, label=\"ROC curve (area = {0:.2f})\".format(auc))\n",
    "    plt.plot([0, 1], [0, 1], linestyle=\"dashed\")\n",
    "    plt.title(title)\n",
    "    plt.xlabel(\"False Positive Rate\")\n",
    "    plt.ylabel(\"True Positive Rate\")\n",
    "    plt.legend()\n",
    "    plt.savefig(title + \"_RandomSearch\" + '.png')\n",
    "    plt.show()"
   ]
  },
  {
   "cell_type": "code",
   "execution_count": 24,
   "metadata": {
    "tags": []
   },
   "outputs": [
    {
     "data": {
      "text/plain": [
       "(array([0.        , 0.29133333, 1.        ]),\n",
       " array([0.        , 0.68633333, 1.        ]))"
      ]
     },
     "execution_count": 24,
     "metadata": {},
     "output_type": "execute_result"
    }
   ],
   "source": [
    "fpr, tpr, thresholds = roc_curve(Y_test, Y_pred)\n",
    "fpr, tpr"
   ]
  },
  {
   "cell_type": "code",
   "execution_count": 25,
   "metadata": {},
   "outputs": [
    {
     "data": {
      "image/png": "[encoded data removed]",
      "text/plain": [
       "<Figure size 640x480 with 1 Axes>"
      ]
     },
     "metadata": {},
     "output_type": "display_data"
    }
   ],
   "source": [
    "plot_roc_curve(Y_test, Y_pred, \"STFT Chroma features with LogisticRegression Roc-Curve\")"
   ]
  },
  {
   "cell_type": "code",
   "execution_count": 26,
   "metadata": {},
   "outputs": [],
   "source": [
    "import pickle\n",
    "pickle.dump(best_model, open(\"Chroma_Random_search_LogisticRegression.pkl\", \"wb\"))"
   ]
  },
  {
   "cell_type": "code",
   "execution_count": null,
   "metadata": {},
   "outputs": [],
   "source": []
  },
  {
   "cell_type": "code",
   "execution_count": null,
   "metadata": {},
   "outputs": [],
   "source": []
  }
 ],
 "metadata": {
  "kernelspec": {
   "display_name": "Python 3 (ipykernel)",
   "language": "python",
   "name": "python3"
  },
  "language_info": {
   "codemirror_mode": {
    "name": "ipython",
    "version": 3
   },
   "file_extension": ".py",
   "mimetype": "text/x-python",
   "name": "python",
   "nbconvert_exporter": "python",
   "pygments_lexer": "ipython3",
   "version": "3.9.16"
  }
 },
 "nbformat": 4,
 "nbformat_minor": 4
}
