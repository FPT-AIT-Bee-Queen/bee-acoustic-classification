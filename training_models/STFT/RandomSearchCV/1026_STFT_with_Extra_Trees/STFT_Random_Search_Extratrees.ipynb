{
 "cells": [
  {
   "cell_type": "code",
   "execution_count": 1,
   "metadata": {},
   "outputs": [],
   "source": [
    "import os\n",
    "import time\n",
    "import librosa\n",
    "import numpy as np\n",
    "import pandas as pd \n",
    "import matplotlib.pyplot as plt\n",
    "import seaborn as sns\n",
    "from tqdm.notebook import trange,tqdm\n",
    "import scipy\n",
    "\n",
    "\n",
    "from sklearn.model_selection import train_test_split\n",
    "from sklearn.preprocessing import LabelEncoder, StandardScaler\n",
    "from sklearn.metrics import *\n",
    "from sklearnex import patch_sklearn, config_context\n",
    "\n",
    "from sklearn.ensemble import RandomForestClassifier\n",
    "from sklearn.neighbors import KNeighborsClassifier\n",
    "from sklearn.svm import SVC\n",
    "from sklearn.neural_network import MLPClassifier\n",
    "from sklearn.linear_model import LogisticRegression\n",
    "from sklearn.naive_bayes import GaussianNB\n",
    "from sklearn.tree import DecisionTreeClassifier\n",
    "from sklearn.ensemble import AdaBoostClassifier, GradientBoostingClassifier, ExtraTreesClassifier, BaggingClassifier\n",
    "from xgboost import XGBClassifier\n",
    "from sklearn.model_selection import RepeatedStratifiedKFold, RandomizedSearchCV\n",
    "\n",
    "\n",
    "import warnings\n",
    "warnings.filterwarnings('ignore')"
   ]
  },
  {
   "cell_type": "code",
   "execution_count": 2,
   "metadata": {},
   "outputs": [
    {
     "data": {
      "text/plain": [
       "'D:\\\\Study\\\\Code\\\\Python\\\\Sound_Classification_Bee_Qeen_Queenless/STFT_npy_dataset/'"
      ]
     },
     "execution_count": 2,
     "metadata": {},
     "output_type": "execute_result"
    }
   ],
   "source": [
    "path = os.getcwd() + \"/STFT_npy_dataset/\"\n",
    "path"
   ]
  },
  {
   "cell_type": "code",
   "execution_count": 3,
   "metadata": {},
   "outputs": [
    {
     "name": "stdout",
     "output_type": "stream",
     "text": [
      "D:\\Study\\Code\\Python\\Sound_Classification_Bee_Qeen_Queenless/STFT_npy_dataset//train\n",
      "D:\\Study\\Code\\Python\\Sound_Classification_Bee_Qeen_Queenless/STFT_npy_dataset//val\n",
      "D:\\Study\\Code\\Python\\Sound_Classification_Bee_Qeen_Queenless/STFT_npy_dataset//test\n"
     ]
    }
   ],
   "source": [
    "TRAINING_DIR = path+\"/train\"\n",
    "VALIDATION_DIR = path + \"/val\"\n",
    "TEST_DIR = path + \"/test\"\n",
    "\n",
    "print(TRAINING_DIR)\n",
    "print(VALIDATION_DIR)\n",
    "print(TEST_DIR)"
   ]
  },
  {
   "cell_type": "code",
   "execution_count": 4,
   "metadata": {},
   "outputs": [],
   "source": [
    "def data_loader(path):\n",
    "    X = []\n",
    "    Y = []\n",
    "    for folder in os.listdir(path):\n",
    "        for file in os.listdir(os.path.join(path, folder)):\n",
    "            feature = np.load(os.path.join(path, folder, file))\n",
    "            label = folder\n",
    "            X += feature.tolist()\n",
    "            Y += [label]*feature.shape[0]\n",
    "    return X, Y"
   ]
  },
  {
   "cell_type": "code",
   "execution_count": 5,
   "metadata": {},
   "outputs": [],
   "source": [
    "X_train, Y_train = data_loader(TRAINING_DIR)\n",
    "X_val, Y_val = data_loader(VALIDATION_DIR)\n",
    "X_test, Y_test = data_loader(TEST_DIR)"
   ]
  },
  {
   "cell_type": "code",
   "execution_count": 6,
   "metadata": {},
   "outputs": [
    {
     "name": "stdout",
     "output_type": "stream",
     "text": [
      "There are 14000 training samples and 14000 training labels\n",
      "There are 2000 validation samples and 2000 validation labels\n",
      "There are 4000 testing samples and 4000 testing labels\n"
     ]
    }
   ],
   "source": [
    "print(\"There are {} training samples and {} training labels\".format(len(X_train), len(Y_train)))\n",
    "print(\"There are {} validation samples and {} validation labels\".format(len(X_val), len(Y_val)))\n",
    "print(\"There are {} testing samples and {} testing labels\".format(len(X_test), len(Y_test)))"
   ]
  },
  {
   "cell_type": "code",
   "execution_count": 7,
   "metadata": {},
   "outputs": [
    {
     "name": "stdout",
     "output_type": "stream",
     "text": [
      "Shape of X_train: (14000, 1026)\n",
      "Shape of X_val: (2000, 1026)\n",
      "Shape of X_test: (4000, 1026)\n",
      "Shape of Y_train: (14000,)\n",
      "Shape of Y_val: (2000,)\n",
      "Shape of Y_test: (4000,)\n"
     ]
    }
   ],
   "source": [
    "X_train = np.array(X_train)\n",
    "X_val = np.array(X_val)\n",
    "X_test = np.array(X_test)\n",
    "Y_train = np.array(Y_train)\n",
    "Y_val = np.array(Y_val)\n",
    "Y_test = np.array(Y_test)\n",
    "\n",
    "print(\"Shape of X_train: {}\".format(X_train.shape))\n",
    "print(\"Shape of X_val: {}\".format(X_val.shape))\n",
    "print(\"Shape of X_test: {}\".format(X_test.shape))\n",
    "print(\"Shape of Y_train: {}\".format(Y_train.shape))\n",
    "print(\"Shape of Y_val: {}\".format(Y_val.shape))\n",
    "print(\"Shape of Y_test: {}\".format(Y_test.shape))"
   ]
  },
  {
   "cell_type": "code",
   "execution_count": 8,
   "metadata": {},
   "outputs": [
    {
     "name": "stdout",
     "output_type": "stream",
     "text": [
      "Shape of X_train: (14000, 1026)\n",
      "Shape of X_test: (6000, 1026)\n",
      "Shape of Y_train: (14000, 1)\n",
      "Shape of Y_test: (6000, 1)\n"
     ]
    }
   ],
   "source": [
    "X_test = np.vstack((X_test, X_val))\n",
    "Y_test = np.hstack((Y_test, Y_val))\n",
    "Y_train = Y_train.reshape((Y_train.shape[0], 1))\n",
    "Y_test = Y_test.reshape((Y_test.shape[0], 1))\n",
    "\n",
    "\n",
    "print(\"Shape of X_train: {}\".format(X_train.shape))\n",
    "print(\"Shape of X_test: {}\".format(X_test.shape))\n",
    "print(\"Shape of Y_train: {}\".format(Y_train.shape))\n",
    "print(\"Shape of Y_test: {}\".format(Y_test.shape))"
   ]
  },
  {
   "cell_type": "code",
   "execution_count": 9,
   "metadata": {},
   "outputs": [],
   "source": [
    "X_train = X_train.astype('float')\n",
    "X_test = X_test.astype('float')"
   ]
  },
  {
   "cell_type": "code",
   "execution_count": 10,
   "metadata": {},
   "outputs": [],
   "source": [
    "# shuffle_index = np.random.permutation(len(X_train))\n",
    "# X_train, Y_train = X_train[shuffle_index], Y_train[shuffle_index]\n",
    "# shuffle_index = np.random.permutation(len(X_test))\n",
    "# X_test, Y_test = X_test[shuffle_index], Y_test[shuffle_index]"
   ]
  },
  {
   "cell_type": "code",
   "execution_count": 11,
   "metadata": {},
   "outputs": [
    {
     "data": {
      "text/plain": [
       "array([0, 1])"
      ]
     },
     "execution_count": 11,
     "metadata": {},
     "output_type": "execute_result"
    }
   ],
   "source": [
    "label_encoder = LabelEncoder()\n",
    "Y_train = label_encoder.fit_transform(Y_train)\n",
    "Y_test = label_encoder.transform(Y_test)\n",
    "np.unique(Y_test)"
   ]
  },
  {
   "cell_type": "code",
   "execution_count": 12,
   "metadata": {},
   "outputs": [
    {
     "name": "stdout",
     "output_type": "stream",
     "text": [
      "(14000, 1026)\n",
      "[[ 1.97348117e-01  9.77980475e-02  5.57847930e-02 ...  1.15017633e-01\n",
      "   8.38334518e-02  1.02181118e-01]\n",
      " [-3.62935505e-01 -3.75841849e-01 -4.26281223e-01 ... -6.78658549e-02\n",
      "  -1.08136253e-04  1.77375795e-01]\n",
      " [ 1.63248338e-01  3.03584561e-02  5.73737868e-01 ... -4.13452996e-02\n",
      "  -2.17979827e-02  2.99184299e-02]\n",
      " [ 6.87676792e-02 -2.30697766e-01 -4.15565758e-01 ... -1.31236353e-01\n",
      "   1.62681476e-01  1.84707110e-01]\n",
      " [-4.27410644e-01 -4.11749031e-01 -1.79949877e-01 ... -2.50431383e-01\n",
      "  -2.47825836e-01 -2.10453717e-01]]\n"
     ]
    }
   ],
   "source": [
    "std_scaler = StandardScaler()\n",
    "X_train = std_scaler.fit_transform(X_train)\n",
    "X_test = std_scaler.transform(X_test)\n",
    "print(X_train.shape)\n",
    "print(X_train[0:5,:])"
   ]
  },
  {
   "cell_type": "code",
   "execution_count": 13,
   "metadata": {},
   "outputs": [],
   "source": [
    "SEED = 1337"
   ]
  },
  {
   "cell_type": "code",
   "execution_count": 14,
   "metadata": {},
   "outputs": [],
   "source": [
    "# global cv\n",
    "# cv = RepeatedStratifiedKFold(n_splits=3, n_repeats=2, random_state=SEED)\n",
    "# global X_train, Y_train, X_test, Y_test"
   ]
  },
  {
   "cell_type": "code",
   "execution_count": 15,
   "metadata": {},
   "outputs": [],
   "source": [
    "def search_for_best_models(model, parameter_search, X_train, Y_train, X_test, Y_test, scoring='accuracy', verbose=3):\n",
    "    search = RandomizedSearchCV(model, parameter_search, n_iter=10, scoring=scoring, verbose = verbose, n_jobs=1, random_state=SEED)\n",
    "    first_time = time.time()\n",
    "    search.fit(X_train, Y_train) \n",
    "    second_time = time.time()\n",
    "    best_model = search.best_estimator_\n",
    "    optimal_params = search.best_params_\n",
    "    Y_pred = best_model.predict(X_test)\n",
    "    accuracy = accuracy_score(Y_test, Y_pred)\n",
    "    time_training = second_time - first_time\n",
    "    \n",
    "\n",
    "    print(\"Model: {}\".format(model.__class__.__name__))\n",
    "    print(\"Best parameters: {}\".format(search.best_params_))\n",
    "    print(\"Best cross-validation score: {:.2f}\".format(search.best_score_))\n",
    "    print(\"Test set score: {:.2f}\".format(accuracy))\n",
    "    print(\"Time training: \", time_training,\"s\")    \n",
    "    print(\"-\"*50)\n",
    "\n",
    "    return best_model, search, accuracy, optimal_params, time_training"
   ]
  },
  {
   "cell_type": "code",
   "execution_count": 16,
   "metadata": {},
   "outputs": [
    {
     "name": "stderr",
     "output_type": "stream",
     "text": [
      "Intel(R) Extension for Scikit-learn* enabled (https://github.com/intel/scikit-learn-intelex)\n"
     ]
    },
    {
     "name": "stdout",
     "output_type": "stream",
     "text": [
      "Fitting 5 folds for each of 10 candidates, totalling 50 fits\n",
      "[CV 1/5] END max_features=300, min_samples_leaf=45, min_samples_split=20, n_estimators=85;, score=0.588 total time= 1.6min\n",
      "[CV 2/5] END max_features=300, min_samples_leaf=45, min_samples_split=20, n_estimators=85;, score=0.785 total time= 1.7min\n",
      "[CV 3/5] END max_features=300, min_samples_leaf=45, min_samples_split=20, n_estimators=85;, score=0.750 total time= 1.8min\n",
      "[CV 4/5] END max_features=300, min_samples_leaf=45, min_samples_split=20, n_estimators=85;, score=0.629 total time= 1.6min\n",
      "[CV 5/5] END max_features=300, min_samples_leaf=45, min_samples_split=20, n_estimators=85;, score=0.762 total time= 1.4min\n",
      "[CV 1/5] END max_features=50, min_samples_leaf=30, min_samples_split=20, n_estimators=115;, score=0.568 total time=  21.6s\n",
      "[CV 2/5] END max_features=50, min_samples_leaf=30, min_samples_split=20, n_estimators=115;, score=0.777 total time=  21.7s\n",
      "[CV 3/5] END max_features=50, min_samples_leaf=30, min_samples_split=20, n_estimators=115;, score=0.738 total time=  22.2s\n",
      "[CV 4/5] END max_features=50, min_samples_leaf=30, min_samples_split=20, n_estimators=115;, score=0.503 total time=  30.1s\n",
      "[CV 5/5] END max_features=50, min_samples_leaf=30, min_samples_split=20, n_estimators=115;, score=0.752 total time=  26.9s\n",
      "[CV 1/5] END max_features=100, min_samples_leaf=35, min_samples_split=30, n_estimators=110;, score=0.568 total time=  39.8s\n",
      "[CV 2/5] END max_features=100, min_samples_leaf=35, min_samples_split=30, n_estimators=110;, score=0.777 total time=  40.7s\n",
      "[CV 3/5] END max_features=100, min_samples_leaf=35, min_samples_split=30, n_estimators=110;, score=0.733 total time=  40.0s\n",
      "[CV 4/5] END max_features=100, min_samples_leaf=35, min_samples_split=30, n_estimators=110;, score=0.554 total time=  39.6s\n",
      "[CV 5/5] END max_features=100, min_samples_leaf=35, min_samples_split=30, n_estimators=110;, score=0.757 total time=  17.5s\n",
      "[CV 1/5] END max_features=150, min_samples_leaf=25, min_samples_split=30, n_estimators=90;, score=0.581 total time=  19.4s\n",
      "[CV 2/5] END max_features=150, min_samples_leaf=25, min_samples_split=30, n_estimators=90;, score=0.794 total time=  22.6s\n",
      "[CV 3/5] END max_features=150, min_samples_leaf=25, min_samples_split=30, n_estimators=90;, score=0.738 total time=  20.7s\n",
      "[CV 4/5] END max_features=150, min_samples_leaf=25, min_samples_split=30, n_estimators=90;, score=0.620 total time=  23.5s\n",
      "[CV 5/5] END max_features=150, min_samples_leaf=25, min_samples_split=30, n_estimators=90;, score=0.770 total time=  24.7s\n",
      "[CV 1/5] END max_features=300, min_samples_leaf=45, min_samples_split=25, n_estimators=85;, score=0.588 total time=  38.4s\n",
      "[CV 2/5] END max_features=300, min_samples_leaf=45, min_samples_split=25, n_estimators=85;, score=0.785 total time=  44.3s\n",
      "[CV 3/5] END max_features=300, min_samples_leaf=45, min_samples_split=25, n_estimators=85;, score=0.750 total time=  47.6s\n",
      "[CV 4/5] END max_features=300, min_samples_leaf=45, min_samples_split=25, n_estimators=85;, score=0.629 total time=  42.1s\n",
      "[CV 5/5] END max_features=300, min_samples_leaf=45, min_samples_split=25, n_estimators=85;, score=0.762 total time=  42.4s\n",
      "[CV 1/5] END max_features=250, min_samples_leaf=50, min_samples_split=15, n_estimators=85;, score=0.585 total time=  34.8s\n",
      "[CV 2/5] END max_features=250, min_samples_leaf=50, min_samples_split=15, n_estimators=85;, score=0.786 total time=  37.5s\n",
      "[CV 3/5] END max_features=250, min_samples_leaf=50, min_samples_split=15, n_estimators=85;, score=0.743 total time=  42.9s\n",
      "[CV 4/5] END max_features=250, min_samples_leaf=50, min_samples_split=15, n_estimators=85;, score=0.595 total time=  39.6s\n",
      "[CV 5/5] END max_features=250, min_samples_leaf=50, min_samples_split=15, n_estimators=85;, score=0.753 total time=  41.1s\n",
      "[CV 1/5] END max_features=400, min_samples_leaf=35, min_samples_split=20, n_estimators=60;, score=0.624 total time=  40.9s\n",
      "[CV 2/5] END max_features=400, min_samples_leaf=35, min_samples_split=20, n_estimators=60;, score=0.795 total time=  37.4s\n",
      "[CV 3/5] END max_features=400, min_samples_leaf=35, min_samples_split=20, n_estimators=60;, score=0.748 total time=  34.6s\n",
      "[CV 4/5] END max_features=400, min_samples_leaf=35, min_samples_split=20, n_estimators=60;, score=0.640 total time=  31.9s\n",
      "[CV 5/5] END max_features=400, min_samples_leaf=35, min_samples_split=20, n_estimators=60;, score=0.760 total time=  31.8s\n",
      "[CV 1/5] END max_features=100, min_samples_leaf=50, min_samples_split=35, n_estimators=70;, score=0.567 total time=   9.8s\n",
      "[CV 2/5] END max_features=100, min_samples_leaf=50, min_samples_split=35, n_estimators=70;, score=0.756 total time=  10.2s\n",
      "[CV 3/5] END max_features=100, min_samples_leaf=50, min_samples_split=35, n_estimators=70;, score=0.732 total time=   9.8s\n",
      "[CV 4/5] END max_features=100, min_samples_leaf=50, min_samples_split=35, n_estimators=70;, score=0.527 total time=   9.9s\n",
      "[CV 5/5] END max_features=100, min_samples_leaf=50, min_samples_split=35, n_estimators=70;, score=0.749 total time=   9.5s\n",
      "[CV 1/5] END max_features=400, min_samples_leaf=45, min_samples_split=25, n_estimators=95;, score=0.602 total time=  52.0s\n",
      "[CV 2/5] END max_features=400, min_samples_leaf=45, min_samples_split=25, n_estimators=95;, score=0.791 total time=  52.5s\n",
      "[CV 3/5] END max_features=400, min_samples_leaf=45, min_samples_split=25, n_estimators=95;, score=0.742 total time=  47.9s\n",
      "[CV 4/5] END max_features=400, min_samples_leaf=45, min_samples_split=25, n_estimators=95;, score=0.634 total time=  47.6s\n",
      "[CV 5/5] END max_features=400, min_samples_leaf=45, min_samples_split=25, n_estimators=95;, score=0.756 total time=  47.1s\n",
      "[CV 1/5] END max_features=350, min_samples_leaf=20, min_samples_split=30, n_estimators=100;, score=0.632 total time=  44.9s\n",
      "[CV 2/5] END max_features=350, min_samples_leaf=20, min_samples_split=30, n_estimators=100;, score=0.819 total time=  54.4s\n",
      "[CV 3/5] END max_features=350, min_samples_leaf=20, min_samples_split=30, n_estimators=100;, score=0.754 total time=  51.4s\n",
      "[CV 4/5] END max_features=350, min_samples_leaf=20, min_samples_split=30, n_estimators=100;, score=0.678 total time=  53.8s\n",
      "[CV 5/5] END max_features=350, min_samples_leaf=20, min_samples_split=30, n_estimators=100;, score=0.768 total time=  46.2s\n",
      "Model: ExtraTreesClassifier\n",
      "Best parameters: {'n_estimators': 100, 'min_samples_split': 30, 'min_samples_leaf': 20, 'max_features': 350}\n",
      "Best cross-validation score: 0.73\n",
      "Test set score: 0.94\n",
      "Time training:  2087.1540100574493 s\n",
      "--------------------------------------------------\n"
     ]
    }
   ],
   "source": [
    "patch_sklearn()\n",
    "\n",
    "parameter_search = {'n_estimators': [int(x) for x in np.arange(50, 126, 5)],\n",
    "                    'max_features': [int(x) for x in np.arange(50, 401, 50)],\n",
    "                    'min_samples_leaf':  [int(x) for x in np.arange(20, 51, 5)],\n",
    "                    'min_samples_split': [int(x) for x in np.arange(15, 36, 5)],\n",
    "                    }\n",
    "best_model, search, accuracy, optimal_params, time_training = search_for_best_models(ExtraTreesClassifier(random_state = SEED), parameter_search, X_train, Y_train, X_test, Y_test)"
   ]
  },
  {
   "cell_type": "code",
   "execution_count": 17,
   "metadata": {},
   "outputs": [
    {
     "name": "stdout",
     "output_type": "stream",
     "text": [
      "{'n_estimators': 100, 'min_samples_split': 30, 'min_samples_leaf': 20, 'max_features': 350}\n",
      "2087.1540100574493\n"
     ]
    }
   ],
   "source": [
    "print(optimal_params)\n",
    "print(time_training)"
   ]
  },
  {
   "cell_type": "code",
   "execution_count": 18,
   "metadata": {
    "tags": []
   },
   "outputs": [],
   "source": [
    "Y_pred = best_model.predict(X_test)"
   ]
  },
  {
   "cell_type": "code",
   "execution_count": 19,
   "metadata": {},
   "outputs": [
    {
     "name": "stdout",
     "output_type": "stream",
     "text": [
      "Accuracy: 93.50%\n",
      "F1 score: 0.93\n",
      "Precision: 0.94\n",
      "Recall: 0.94\n"
     ]
    }
   ],
   "source": [
    "acc = accuracy_score(Y_test, Y_pred)\n",
    "print(\"Accuracy: {:.2f}%\".format(acc * 100))\n",
    "\n",
    "f1 = f1_score(Y_test, Y_pred, average='macro')\n",
    "print(\"F1 score: {:.2f}\".format(f1))\n",
    "\n",
    "precision = precision_score(Y_test, Y_pred, average='macro')\n",
    "print(\"Precision: {:.2f}\".format(precision))\n",
    "\n",
    "recall = recall_score(Y_test, Y_pred, average='macro')\n",
    "print(\"Recall: {:.2f}\".format(recall))"
   ]
  },
  {
   "cell_type": "code",
   "execution_count": 20,
   "metadata": {},
   "outputs": [
    {
     "name": "stdout",
     "output_type": "stream",
     "text": [
      "[[2838  162]\n",
      " [ 228 2772]]\n",
      "              precision    recall  f1-score   support\n",
      "\n",
      "           0       0.93      0.95      0.94      3000\n",
      "           1       0.94      0.92      0.93      3000\n",
      "\n",
      "    accuracy                           0.94      6000\n",
      "   macro avg       0.94      0.94      0.93      6000\n",
      "weighted avg       0.94      0.94      0.93      6000\n",
      "\n"
     ]
    }
   ],
   "source": [
    "cf_matrix = confusion_matrix(Y_test, Y_pred)\n",
    "print(cf_matrix)\n",
    "\n",
    "cl_report = classification_report(Y_test, Y_pred)\n",
    "print(cl_report)"
   ]
  },
  {
   "cell_type": "code",
   "execution_count": 21,
   "metadata": {},
   "outputs": [],
   "source": [
    "def plot_confusion_matrix(cm, title):\n",
    "    df_cm = pd.DataFrame(cm, index = [i for i in ['Queen', 'Queenless']],\n",
    "                    columns = [i for i in ['Queen', 'Queenless']])\n",
    "    df_cm_normed = df_cm/df_cm.sum()\n",
    "    plt.figure(figsize = (10,7))\n",
    "    sns.heatmap(df_cm, annot=True, fmt=\"\", )\n",
    "    plt.title(title)\n",
    "    plt.ylabel('True label')\n",
    "    plt.xlabel('Predicted label')\n",
    "    plt.savefig(title + \"_RandomSearch\" + '.png')\n",
    "    plt.show()\n"
   ]
  },
  {
   "cell_type": "code",
   "execution_count": 22,
   "metadata": {},
   "outputs": [
    {
     "data": {
      "image/png": "[encoded data removed]",
      "text/plain": [
       "<Figure size 1000x700 with 2 Axes>"
      ]
     },
     "metadata": {},
     "output_type": "display_data"
    }
   ],
   "source": [
    "plot_confusion_matrix(cf_matrix, 'STFT 1D with ExtraTreesClassifier Confusion matrix')"
   ]
  },
  {
   "cell_type": "code",
   "execution_count": 23,
   "metadata": {},
   "outputs": [],
   "source": [
    "def plot_roc_curve(Y_test, Y_pred, title):\n",
    "    fpr, tpr, thresholds = roc_curve(Y_test, Y_pred)\n",
    "\n",
    "    auc = roc_auc_score(Y_test, Y_pred)\n",
    "\n",
    "    plt.plot(fpr, tpr, label=\"ROC curve (area = {0:.2f})\".format(auc))\n",
    "    plt.plot([0, 1], [0, 1], linestyle=\"dashed\")\n",
    "    plt.title(title)\n",
    "    plt.xlabel(\"False Positive Rate\")\n",
    "    plt.ylabel(\"True Positive Rate\")\n",
    "    plt.legend()\n",
    "    plt.savefig(title + \"_RandomSearch\" + '.png')\n",
    "    plt.show()"
   ]
  },
  {
   "cell_type": "code",
   "execution_count": 24,
   "metadata": {},
   "outputs": [
    {
     "data": {
      "image/png": "[encoded data removed]",
      "text/plain": [
       "<Figure size 640x480 with 1 Axes>"
      ]
     },
     "metadata": {},
     "output_type": "display_data"
    }
   ],
   "source": [
    "plot_roc_curve(Y_test, Y_pred, \"STFT 1D with ExtraTreesClassifier Roc-Curve\")"
   ]
  },
  {
   "cell_type": "code",
   "execution_count": 25,
   "metadata": {},
   "outputs": [],
   "source": [
    "import pickle\n",
    "pickle.dump(best_model, open(\"Random_search_ExtraTreesClassifier.pkl\", \"wb\"))"
   ]
  },
  {
   "cell_type": "code",
   "execution_count": null,
   "metadata": {},
   "outputs": [],
   "source": []
  },
  {
   "cell_type": "code",
   "execution_count": null,
   "metadata": {},
   "outputs": [],
   "source": []
  }
 ],
 "metadata": {
  "kernelspec": {
   "display_name": "Python 3 (ipykernel)",
   "language": "python",
   "name": "python3"
  },
  "language_info": {
   "codemirror_mode": {
    "name": "ipython",
    "version": 3
   },
   "file_extension": ".py",
   "mimetype": "text/x-python",
   "name": "python",
   "nbconvert_exporter": "python",
   "pygments_lexer": "ipython3",
   "version": "3.9.16"
  }
 },
 "nbformat": 4,
 "nbformat_minor": 4
}
