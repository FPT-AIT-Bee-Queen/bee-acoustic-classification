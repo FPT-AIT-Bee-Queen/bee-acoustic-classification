{
 "cells": [
  {
   "cell_type": "code",
   "execution_count": 63,
   "metadata": {},
   "outputs": [],
   "source": [
    "import os\n",
    "import time\n",
    "import librosa\n",
    "import numpy as np\n",
    "import pandas as pd \n",
    "import matplotlib.pyplot as plt\n",
    "import seaborn as sns\n",
    "from tqdm.notebook import trange,tqdm\n",
    "\n",
    "\n",
    "from sklearn.model_selection import train_test_split\n",
    "from sklearn.preprocessing import LabelEncoder, StandardScaler\n",
    "from sklearn.metrics import *\n",
    "from sklearnex import patch_sklearn, config_context\n",
    "\n",
    "from sklearn.ensemble import RandomForestClassifier\n",
    "from sklearn.neighbors import KNeighborsClassifier\n",
    "from sklearn.svm import SVC\n",
    "from sklearn.neural_network import MLPClassifier\n",
    "from sklearn.linear_model import LogisticRegression\n",
    "from sklearn.naive_bayes import GaussianNB\n",
    "from sklearn.tree import DecisionTreeClassifier\n",
    "from sklearn.ensemble import AdaBoostClassifier, GradientBoostingClassifier, ExtraTreesClassifier, BaggingClassifier\n",
    "from xgboost import XGBClassifier\n",
    "\n",
    "import warnings\n",
    "warnings.filterwarnings('ignore')"
   ]
  },
  {
   "cell_type": "code",
   "execution_count": 64,
   "metadata": {},
   "outputs": [
    {
     "data": {
      "text/plain": [
       "'d:\\\\Study\\\\Code\\\\Python\\\\Sound_Classification_Bee_Qeen_Queenless/STFT_npy_dataset/'"
      ]
     },
     "execution_count": 64,
     "metadata": {},
     "output_type": "execute_result"
    }
   ],
   "source": [
    "path = os.getcwd() + \"/STFT_npy_dataset/\"\n",
    "path"
   ]
  },
  {
   "cell_type": "code",
   "execution_count": 65,
   "metadata": {},
   "outputs": [
    {
     "name": "stdout",
     "output_type": "stream",
     "text": [
      "d:\\Study\\Code\\Python\\Sound_Classification_Bee_Qeen_Queenless/STFT_npy_dataset//train\n",
      "d:\\Study\\Code\\Python\\Sound_Classification_Bee_Qeen_Queenless/STFT_npy_dataset//val\n",
      "d:\\Study\\Code\\Python\\Sound_Classification_Bee_Qeen_Queenless/STFT_npy_dataset//test\n"
     ]
    }
   ],
   "source": [
    "TRAINING_DIR = path+\"/train\"\n",
    "VALIDATION_DIR = path + \"/val\"\n",
    "TEST_DIR = path + \"/test\"\n",
    "\n",
    "print(TRAINING_DIR)\n",
    "print(VALIDATION_DIR)\n",
    "print(TEST_DIR)"
   ]
  },
  {
   "cell_type": "code",
   "execution_count": 66,
   "metadata": {},
   "outputs": [],
   "source": [
    "def data_loader(path):\n",
    "    X = []\n",
    "    Y = []\n",
    "    for folder in os.listdir(path):\n",
    "        for file in os.listdir(os.path.join(path, folder)):\n",
    "            feature = np.load(os.path.join(path, folder, file))\n",
    "            label = folder\n",
    "            X += feature.tolist()\n",
    "            Y += [label]*feature.shape[0]\n",
    "    return X, Y"
   ]
  },
  {
   "cell_type": "code",
   "execution_count": 67,
   "metadata": {},
   "outputs": [],
   "source": [
    "X_train, Y_train = data_loader(TRAINING_DIR)\n",
    "X_val, Y_val = data_loader(VALIDATION_DIR)\n",
    "X_test, Y_test = data_loader(TEST_DIR)"
   ]
  },
  {
   "cell_type": "code",
   "execution_count": 68,
   "metadata": {},
   "outputs": [
    {
     "name": "stdout",
     "output_type": "stream",
     "text": [
      "There are 14000 training samples and 14000 training labels\n",
      "There are 2000 validation samples and 2000 validation labels\n",
      "There are 4000 testing samples and 4000 testing labels\n"
     ]
    }
   ],
   "source": [
    "print(\"There are {} training samples and {} training labels\".format(len(X_train), len(Y_train)))\n",
    "print(\"There are {} validation samples and {} validation labels\".format(len(X_val), len(Y_val)))\n",
    "print(\"There are {} testing samples and {} testing labels\".format(len(X_test), len(Y_test)))"
   ]
  },
  {
   "cell_type": "code",
   "execution_count": 69,
   "metadata": {},
   "outputs": [
    {
     "name": "stdout",
     "output_type": "stream",
     "text": [
      "Shape of X_train: (14000, 1506)\n",
      "Shape of X_val: (2000, 1506)\n",
      "Shape of X_test: (4000, 1506)\n",
      "Shape of Y_train: (14000,)\n",
      "Shape of Y_val: (2000,)\n",
      "Shape of Y_test: (4000,)\n"
     ]
    }
   ],
   "source": [
    "X_train = np.array(X_train)\n",
    "X_val = np.array(X_val)\n",
    "X_test = np.array(X_test)\n",
    "Y_train = np.array(Y_train)\n",
    "Y_val = np.array(Y_val)\n",
    "Y_test = np.array(Y_test)\n",
    "\n",
    "print(\"Shape of X_train: {}\".format(X_train.shape))\n",
    "print(\"Shape of X_val: {}\".format(X_val.shape))\n",
    "print(\"Shape of X_test: {}\".format(X_test.shape))\n",
    "print(\"Shape of Y_train: {}\".format(Y_train.shape))\n",
    "print(\"Shape of Y_val: {}\".format(Y_val.shape))\n",
    "print(\"Shape of Y_test: {}\".format(Y_test.shape))"
   ]
  },
  {
   "cell_type": "code",
   "execution_count": 70,
   "metadata": {},
   "outputs": [
    {
     "name": "stdout",
     "output_type": "stream",
     "text": [
      "Shape of X_train: (14000, 1506)\n",
      "Shape of X_test: (6000, 1506)\n",
      "Shape of Y_train: (14000, 1)\n",
      "Shape of Y_test: (6000, 1)\n"
     ]
    }
   ],
   "source": [
    "X_test = np.vstack((X_test, X_val))\n",
    "Y_test = np.hstack((Y_test, Y_val))\n",
    "Y_train = Y_train.reshape((Y_train.shape[0], 1))\n",
    "Y_test = Y_test.reshape((Y_test.shape[0], 1))\n",
    "\n",
    "\n",
    "print(\"Shape of X_train: {}\".format(X_train.shape))\n",
    "print(\"Shape of X_test: {}\".format(X_test.shape))\n",
    "print(\"Shape of Y_train: {}\".format(Y_train.shape))\n",
    "print(\"Shape of Y_test: {}\".format(Y_test.shape))"
   ]
  },
  {
   "cell_type": "code",
   "execution_count": 71,
   "metadata": {},
   "outputs": [],
   "source": [
    "X_train = X_train.astype('float')\n",
    "X_test = X_test.astype('float')"
   ]
  },
  {
   "cell_type": "code",
   "execution_count": 72,
   "metadata": {},
   "outputs": [],
   "source": [
    "# shuffle_index = np.random.permutation(len(X_train))\n",
    "# X_train, Y_train = X_train[shuffle_index], Y_train[shuffle_index]\n",
    "# shuffle_index = np.random.permutation(len(X_test))\n",
    "# X_test, Y_test = X_test[shuffle_index], Y_test[shuffle_index]"
   ]
  },
  {
   "cell_type": "code",
   "execution_count": 73,
   "metadata": {},
   "outputs": [
    {
     "data": {
      "text/plain": [
       "array([0, 1])"
      ]
     },
     "execution_count": 73,
     "metadata": {},
     "output_type": "execute_result"
    }
   ],
   "source": [
    "label_encoder = LabelEncoder()\n",
    "Y_train = label_encoder.fit_transform(Y_train)\n",
    "Y_test = label_encoder.transform(Y_test)\n",
    "np.unique(Y_test)"
   ]
  },
  {
   "cell_type": "code",
   "execution_count": 74,
   "metadata": {},
   "outputs": [
    {
     "name": "stdout",
     "output_type": "stream",
     "text": [
      "(14000, 1506)\n",
      "[[-0.30400822 -0.30666171 -0.18840707 ... -0.10915881  0.01779355\n",
      "  -0.19861381]\n",
      " [-0.31615841 -0.34303248 -0.35732082 ... -0.34002899 -0.38492004\n",
      "  -0.35259639]\n",
      " [-0.03307033 -0.09631587 -0.12944842 ... -0.21906953 -0.02559726\n",
      "   0.13583233]\n",
      " [-0.31507581 -0.29338361 -0.28013159 ... -0.34906444 -0.33374036\n",
      "  -0.3014045 ]\n",
      " [-0.38419051 -0.39317615 -0.35307367 ... -0.05273323 -0.16478354\n",
      "  -0.32016134]]\n"
     ]
    }
   ],
   "source": [
    "std_scaler = StandardScaler()\n",
    "X_train = std_scaler.fit_transform(X_train)\n",
    "X_test = std_scaler.transform(X_test)\n",
    "print(X_train.shape)\n",
    "print(X_train[0:5,:])"
   ]
  },
  {
   "cell_type": "code",
   "execution_count": 75,
   "metadata": {},
   "outputs": [],
   "source": [
    "SEED = 1337"
   ]
  },
  {
   "cell_type": "code",
   "execution_count": 76,
   "metadata": {},
   "outputs": [],
   "source": [
    "classifiers = [['SVC',SVC(probability=True, random_state=SEED)],\n",
    "                ['ExtraTreesClassifier', ExtraTreesClassifier(random_state=SEED)],\n",
    "                ['LogisticRegression', LogisticRegression(random_state=SEED)],\n",
    "              ['DecisionTreeClassifier',DecisionTreeClassifier(random_state=SEED)],\n",
    "              ['KNeighborsClassifier', KNeighborsClassifier()],\n",
    "              ['RandomForestClassifier', RandomForestClassifier(random_state=SEED)],\n",
    "                ['XGBClassifier', XGBClassifier(random_state=SEED)]]\n"
   ]
  },
  {
   "cell_type": "code",
   "execution_count": 80,
   "metadata": {},
   "outputs": [
    {
     "name": "stderr",
     "output_type": "stream",
     "text": [
      "Intel(R) Extension for Scikit-learn* enabled (https://github.com/intel/scikit-learn-intelex)\n"
     ]
    }
   ],
   "source": [
    "patch_sklearn()\n",
    "\n",
    "def evaluate_classifiers(classifiers):\n",
    "    models = []\n",
    "    Accuracy_set = pd.DataFrame(index=None, columns=['Model','Accuracy(Train)','Accuracy(Test)','F1(Train)','F1(Test)', 'Precision(Train)','Precision(Test)', 'Recall(Train)','Recall(Test)', 'Log_loss(Train)','Log_loss(Test)', 'Train_Time(s)', 'Confusion_Matrix(Test)'])\n",
    "    for i in tqdm(range(len(classifiers))):\n",
    "        name = classifiers[i][0]\n",
    "        model = classifiers[i][1]\n",
    "        time_start = time.time()\n",
    "        model.fit(X_train,Y_train)\n",
    "        time_end = time.time()\n",
    "\n",
    "        Y_train_predicted = model.predict(X_train)\n",
    "        Y_test_predicited = model.predict(X_test)\n",
    "\n",
    "        accuracy_train = accuracy_score(Y_train, Y_train_predicted)\n",
    "        accuracy_test = accuracy_score(Y_test, Y_test_predicited)\n",
    "\n",
    "        f1_Score_train = f1_score(Y_train, Y_train_predicted,average='micro')\n",
    "        f1_Score_test = f1_score(Y_test, Y_test_predicited,average='micro')\n",
    "\n",
    "        precision_score_train = precision_score(Y_train, Y_train_predicted,average='micro')\n",
    "        precision_score_test = precision_score(Y_test, Y_test_predicited,average='micro')\n",
    "\n",
    "        recall_score_train = recall_score(Y_train, Y_train_predicted,average='micro')\n",
    "        recall_score_test = recall_score(Y_test, Y_test_predicited,average='micro')\n",
    "\n",
    "        log_loss_train = log_loss(Y_train, model.predict_proba(X_train))\n",
    "        log_loss_test = log_loss(Y_test, model.predict_proba(X_test))\n",
    "        \n",
    "        cf_matrix = confusion_matrix(Y_test, Y_test_predicited)\n",
    "\n",
    "        train_time = time_end - time_start\n",
    "        \n",
    "        # store the models\n",
    "        models.append((name,accuracy_test,model))\n",
    "\n",
    "        Accuracy_set = Accuracy_set.append(pd.Series({'Model':name, 'Accuracy(Train)':accuracy_train,'Accuracy(Test)':accuracy_test,'F1(Train)':f1_Score_train,'F1(Test)':f1_Score_test,'Precision(Train)':precision_score_train,'Precision(Test)':precision_score_test,'Recall(Train)':recall_score_train,'Recall(Test)':recall_score_test,'Log_loss(Train)':log_loss_train,'Log_loss(Test)':log_loss_test,'Train_Time(s)':train_time, 'Confusion_Matrix(Test)':cf_matrix}),ignore_index=True)\n",
    "    return Accuracy_set, models"
   ]
  },
  {
   "cell_type": "code",
   "execution_count": 81,
   "metadata": {},
   "outputs": [
    {
     "data": {
      "application/vnd.jupyter.widget-view+json": {
       "model_id": "f5716ac53681497b93505d6383b11aa0",
       "version_major": 2,
       "version_minor": 0
      },
      "text/plain": [
       "  0%|          | 0/7 [00:00<?, ?it/s]"
      ]
     },
     "metadata": {},
     "output_type": "display_data"
    },
    {
     "data": {
      "text/html": [
       "<style type=\"text/css\">\n",
       "#T_66339_row0_col1, #T_66339_row0_col3, #T_66339_row0_col5, #T_66339_row0_col7 {\n",
       "  background-color: #edf4fc;\n",
       "  color: #000000;\n",
       "}\n",
       "#T_66339_row0_col2, #T_66339_row0_col4, #T_66339_row0_col6, #T_66339_row0_col8, #T_66339_row0_col11, #T_66339_row1_col1, #T_66339_row1_col3, #T_66339_row1_col5, #T_66339_row1_col7, #T_66339_row2_col9, #T_66339_row4_col10, #T_66339_row5_col9, #T_66339_row5_col10, #T_66339_row6_col10 {\n",
       "  background-color: #f7fbff;\n",
       "  color: #000000;\n",
       "}\n",
       "#T_66339_row0_col9 {\n",
       "  background-color: #1562a9;\n",
       "  color: #f1f1f1;\n",
       "}\n",
       "#T_66339_row0_col10 {\n",
       "  background-color: #ccdff1;\n",
       "  color: #000000;\n",
       "}\n",
       "#T_66339_row1_col2, #T_66339_row1_col4, #T_66339_row1_col6, #T_66339_row1_col8 {\n",
       "  background-color: #d6e5f4;\n",
       "  color: #000000;\n",
       "}\n",
       "#T_66339_row1_col9 {\n",
       "  background-color: #083776;\n",
       "  color: #f1f1f1;\n",
       "}\n",
       "#T_66339_row1_col10 {\n",
       "  background-color: #f3f8fe;\n",
       "  color: #000000;\n",
       "}\n",
       "#T_66339_row1_col11 {\n",
       "  background-color: #eef5fc;\n",
       "  color: #000000;\n",
       "}\n",
       "#T_66339_row2_col1, #T_66339_row2_col3, #T_66339_row2_col5, #T_66339_row2_col7, #T_66339_row2_col10, #T_66339_row3_col9, #T_66339_row4_col1, #T_66339_row4_col3, #T_66339_row4_col5, #T_66339_row4_col7, #T_66339_row4_col11, #T_66339_row5_col1, #T_66339_row5_col3, #T_66339_row5_col5, #T_66339_row5_col7, #T_66339_row6_col1, #T_66339_row6_col2, #T_66339_row6_col3, #T_66339_row6_col4, #T_66339_row6_col5, #T_66339_row6_col6, #T_66339_row6_col7, #T_66339_row6_col8 {\n",
       "  background-color: #08306b;\n",
       "  color: #f1f1f1;\n",
       "}\n",
       "#T_66339_row2_col2, #T_66339_row2_col4, #T_66339_row2_col6, #T_66339_row2_col8 {\n",
       "  background-color: #bfd8ed;\n",
       "  color: #000000;\n",
       "}\n",
       "#T_66339_row2_col11 {\n",
       "  background-color: #0b559f;\n",
       "  color: #f1f1f1;\n",
       "}\n",
       "#T_66339_row3_col1, #T_66339_row3_col3, #T_66339_row3_col5, #T_66339_row3_col7 {\n",
       "  background-color: #d0e1f2;\n",
       "  color: #000000;\n",
       "}\n",
       "#T_66339_row3_col2, #T_66339_row3_col4, #T_66339_row3_col6, #T_66339_row3_col8 {\n",
       "  background-color: #2575b7;\n",
       "  color: #f1f1f1;\n",
       "}\n",
       "#T_66339_row3_col10 {\n",
       "  background-color: #f6faff;\n",
       "  color: #000000;\n",
       "}\n",
       "#T_66339_row3_col11 {\n",
       "  background-color: #084a91;\n",
       "  color: #f1f1f1;\n",
       "}\n",
       "#T_66339_row4_col2, #T_66339_row4_col4, #T_66339_row4_col6, #T_66339_row4_col8 {\n",
       "  background-color: #08458a;\n",
       "  color: #f1f1f1;\n",
       "}\n",
       "#T_66339_row4_col9 {\n",
       "  background-color: #e3eef9;\n",
       "  color: #000000;\n",
       "}\n",
       "#T_66339_row5_col2, #T_66339_row5_col4, #T_66339_row5_col6, #T_66339_row5_col8 {\n",
       "  background-color: #083674;\n",
       "  color: #f1f1f1;\n",
       "}\n",
       "#T_66339_row5_col11 {\n",
       "  background-color: #c2d9ee;\n",
       "  color: #000000;\n",
       "}\n",
       "#T_66339_row6_col9 {\n",
       "  background-color: #c7dbef;\n",
       "  color: #000000;\n",
       "}\n",
       "#T_66339_row6_col11 {\n",
       "  background-color: #f0f6fd;\n",
       "  color: #000000;\n",
       "}\n",
       "</style>\n",
       "<table id=\"T_66339\">\n",
       "  <thead>\n",
       "    <tr>\n",
       "      <th class=\"blank level0\" >&nbsp;</th>\n",
       "      <th id=\"T_66339_level0_col0\" class=\"col_heading level0 col0\" >Model</th>\n",
       "      <th id=\"T_66339_level0_col1\" class=\"col_heading level0 col1\" >Accuracy(Train)</th>\n",
       "      <th id=\"T_66339_level0_col2\" class=\"col_heading level0 col2\" >Accuracy(Test)</th>\n",
       "      <th id=\"T_66339_level0_col3\" class=\"col_heading level0 col3\" >F1(Train)</th>\n",
       "      <th id=\"T_66339_level0_col4\" class=\"col_heading level0 col4\" >F1(Test)</th>\n",
       "      <th id=\"T_66339_level0_col5\" class=\"col_heading level0 col5\" >Precision(Train)</th>\n",
       "      <th id=\"T_66339_level0_col6\" class=\"col_heading level0 col6\" >Precision(Test)</th>\n",
       "      <th id=\"T_66339_level0_col7\" class=\"col_heading level0 col7\" >Recall(Train)</th>\n",
       "      <th id=\"T_66339_level0_col8\" class=\"col_heading level0 col8\" >Recall(Test)</th>\n",
       "      <th id=\"T_66339_level0_col9\" class=\"col_heading level0 col9\" >Log_loss(Train)</th>\n",
       "      <th id=\"T_66339_level0_col10\" class=\"col_heading level0 col10\" >Log_loss(Test)</th>\n",
       "      <th id=\"T_66339_level0_col11\" class=\"col_heading level0 col11\" >Train_Time(s)</th>\n",
       "      <th id=\"T_66339_level0_col12\" class=\"col_heading level0 col12\" >Confusion_Matrix(Test)</th>\n",
       "    </tr>\n",
       "  </thead>\n",
       "  <tbody>\n",
       "    <tr>\n",
       "      <th id=\"T_66339_level0_row0\" class=\"row_heading level0 row0\" >4</th>\n",
       "      <td id=\"T_66339_row0_col0\" class=\"data row0 col0\" >KNeighborsClassifier</td>\n",
       "      <td id=\"T_66339_row0_col1\" class=\"data row0 col1\" >0.743857</td>\n",
       "      <td id=\"T_66339_row0_col2\" class=\"data row0 col2\" >0.650333</td>\n",
       "      <td id=\"T_66339_row0_col3\" class=\"data row0 col3\" >0.743857</td>\n",
       "      <td id=\"T_66339_row0_col4\" class=\"data row0 col4\" >0.650333</td>\n",
       "      <td id=\"T_66339_row0_col5\" class=\"data row0 col5\" >0.743857</td>\n",
       "      <td id=\"T_66339_row0_col6\" class=\"data row0 col6\" >0.650333</td>\n",
       "      <td id=\"T_66339_row0_col7\" class=\"data row0 col7\" >0.743857</td>\n",
       "      <td id=\"T_66339_row0_col8\" class=\"data row0 col8\" >0.650333</td>\n",
       "      <td id=\"T_66339_row0_col9\" class=\"data row0 col9\" >0.453264</td>\n",
       "      <td id=\"T_66339_row0_col10\" class=\"data row0 col10\" >2.810646</td>\n",
       "      <td id=\"T_66339_row0_col11\" class=\"data row0 col11\" >0.104395</td>\n",
       "      <td id=\"T_66339_row0_col12\" class=\"data row0 col12\" >[[2553  447]\n",
       " [1651 1349]]</td>\n",
       "    </tr>\n",
       "    <tr>\n",
       "      <th id=\"T_66339_level0_row1\" class=\"row_heading level0 row1\" >2</th>\n",
       "      <td id=\"T_66339_row1_col0\" class=\"data row1 col0\" >LogisticRegression</td>\n",
       "      <td id=\"T_66339_row1_col1\" class=\"data row1 col1\" >0.729786</td>\n",
       "      <td id=\"T_66339_row1_col2\" class=\"data row1 col2\" >0.674333</td>\n",
       "      <td id=\"T_66339_row1_col3\" class=\"data row1 col3\" >0.729786</td>\n",
       "      <td id=\"T_66339_row1_col4\" class=\"data row1 col4\" >0.674333</td>\n",
       "      <td id=\"T_66339_row1_col5\" class=\"data row1 col5\" >0.729786</td>\n",
       "      <td id=\"T_66339_row1_col6\" class=\"data row1 col6\" >0.674333</td>\n",
       "      <td id=\"T_66339_row1_col7\" class=\"data row1 col7\" >0.729786</td>\n",
       "      <td id=\"T_66339_row1_col8\" class=\"data row1 col8\" >0.674333</td>\n",
       "      <td id=\"T_66339_row1_col9\" class=\"data row1 col9\" >0.547366</td>\n",
       "      <td id=\"T_66339_row1_col10\" class=\"data row1 col10\" >0.675444</td>\n",
       "      <td id=\"T_66339_row1_col11\" class=\"data row1 col11\" >2.318786</td>\n",
       "      <td id=\"T_66339_row1_col12\" class=\"data row1 col12\" >[[2030  970]\n",
       " [ 984 2016]]</td>\n",
       "    </tr>\n",
       "    <tr>\n",
       "      <th id=\"T_66339_level0_row2\" class=\"row_heading level0 row2\" >3</th>\n",
       "      <td id=\"T_66339_row2_col0\" class=\"data row2 col0\" >DecisionTreeClassifier</td>\n",
       "      <td id=\"T_66339_row2_col1\" class=\"data row2 col1\" >1.000000</td>\n",
       "      <td id=\"T_66339_row2_col2\" class=\"data row2 col2\" >0.689000</td>\n",
       "      <td id=\"T_66339_row2_col3\" class=\"data row2 col3\" >1.000000</td>\n",
       "      <td id=\"T_66339_row2_col4\" class=\"data row2 col4\" >0.689000</td>\n",
       "      <td id=\"T_66339_row2_col5\" class=\"data row2 col5\" >1.000000</td>\n",
       "      <td id=\"T_66339_row2_col6\" class=\"data row2 col6\" >0.689000</td>\n",
       "      <td id=\"T_66339_row2_col7\" class=\"data row2 col7\" >1.000000</td>\n",
       "      <td id=\"T_66339_row2_col8\" class=\"data row2 col8\" >0.689000</td>\n",
       "      <td id=\"T_66339_row2_col9\" class=\"data row2 col9\" >0.000000</td>\n",
       "      <td id=\"T_66339_row2_col10\" class=\"data row2 col10\" >11.209576</td>\n",
       "      <td id=\"T_66339_row2_col11\" class=\"data row2 col11\" >38.513188</td>\n",
       "      <td id=\"T_66339_row2_col12\" class=\"data row2 col12\" >[[2094  906]\n",
       " [ 960 2040]]</td>\n",
       "    </tr>\n",
       "    <tr>\n",
       "      <th id=\"T_66339_level0_row3\" class=\"row_heading level0 row3\" >0</th>\n",
       "      <td id=\"T_66339_row3_col0\" class=\"data row3 col0\" >SVC</td>\n",
       "      <td id=\"T_66339_row3_col1\" class=\"data row3 col1\" >0.783929</td>\n",
       "      <td id=\"T_66339_row3_col2\" class=\"data row3 col2\" >0.754833</td>\n",
       "      <td id=\"T_66339_row3_col3\" class=\"data row3 col3\" >0.783929</td>\n",
       "      <td id=\"T_66339_row3_col4\" class=\"data row3 col4\" >0.754833</td>\n",
       "      <td id=\"T_66339_row3_col5\" class=\"data row3 col5\" >0.783929</td>\n",
       "      <td id=\"T_66339_row3_col6\" class=\"data row3 col6\" >0.754833</td>\n",
       "      <td id=\"T_66339_row3_col7\" class=\"data row3 col7\" >0.783929</td>\n",
       "      <td id=\"T_66339_row3_col8\" class=\"data row3 col8\" >0.754833</td>\n",
       "      <td id=\"T_66339_row3_col9\" class=\"data row3 col9\" >0.563277</td>\n",
       "      <td id=\"T_66339_row3_col10\" class=\"data row3 col10\" >0.513100</td>\n",
       "      <td id=\"T_66339_row3_col11\" class=\"data row3 col11\" >40.392385</td>\n",
       "      <td id=\"T_66339_row3_col12\" class=\"data row3 col12\" >[[2042  958]\n",
       " [ 513 2487]]</td>\n",
       "    </tr>\n",
       "    <tr>\n",
       "      <th id=\"T_66339_level0_row4\" class=\"row_heading level0 row4\" >6</th>\n",
       "      <td id=\"T_66339_row4_col0\" class=\"data row4 col0\" >XGBClassifier</td>\n",
       "      <td id=\"T_66339_row4_col1\" class=\"data row4 col1\" >1.000000</td>\n",
       "      <td id=\"T_66339_row4_col2\" class=\"data row4 col2\" >0.781167</td>\n",
       "      <td id=\"T_66339_row4_col3\" class=\"data row4 col3\" >1.000000</td>\n",
       "      <td id=\"T_66339_row4_col4\" class=\"data row4 col4\" >0.781167</td>\n",
       "      <td id=\"T_66339_row4_col5\" class=\"data row4 col5\" >1.000000</td>\n",
       "      <td id=\"T_66339_row4_col6\" class=\"data row4 col6\" >0.781167</td>\n",
       "      <td id=\"T_66339_row4_col7\" class=\"data row4 col7\" >1.000000</td>\n",
       "      <td id=\"T_66339_row4_col8\" class=\"data row4 col8\" >0.781167</td>\n",
       "      <td id=\"T_66339_row4_col9\" class=\"data row4 col9\" >0.055869</td>\n",
       "      <td id=\"T_66339_row4_col10\" class=\"data row4 col10\" >0.490019</td>\n",
       "      <td id=\"T_66339_row4_col11\" class=\"data row4 col11\" >44.909262</td>\n",
       "      <td id=\"T_66339_row4_col12\" class=\"data row4 col12\" >[[2324  676]\n",
       " [ 637 2363]]</td>\n",
       "    </tr>\n",
       "    <tr>\n",
       "      <th id=\"T_66339_level0_row5\" class=\"row_heading level0 row5\" >1</th>\n",
       "      <td id=\"T_66339_row5_col0\" class=\"data row5 col0\" >ExtraTreesClassifier</td>\n",
       "      <td id=\"T_66339_row5_col1\" class=\"data row5 col1\" >1.000000</td>\n",
       "      <td id=\"T_66339_row5_col2\" class=\"data row5 col2\" >0.788833</td>\n",
       "      <td id=\"T_66339_row5_col3\" class=\"data row5 col3\" >1.000000</td>\n",
       "      <td id=\"T_66339_row5_col4\" class=\"data row5 col4\" >0.788833</td>\n",
       "      <td id=\"T_66339_row5_col5\" class=\"data row5 col5\" >1.000000</td>\n",
       "      <td id=\"T_66339_row5_col6\" class=\"data row5 col6\" >0.788833</td>\n",
       "      <td id=\"T_66339_row5_col7\" class=\"data row5 col7\" >1.000000</td>\n",
       "      <td id=\"T_66339_row5_col8\" class=\"data row5 col8\" >0.788833</td>\n",
       "      <td id=\"T_66339_row5_col9\" class=\"data row5 col9\" >0.000000</td>\n",
       "      <td id=\"T_66339_row5_col10\" class=\"data row5 col10\" >0.453267</td>\n",
       "      <td id=\"T_66339_row5_col11\" class=\"data row5 col11\" >11.985169</td>\n",
       "      <td id=\"T_66339_row5_col12\" class=\"data row5 col12\" >[[2202  798]\n",
       " [ 469 2531]]</td>\n",
       "    </tr>\n",
       "    <tr>\n",
       "      <th id=\"T_66339_level0_row6\" class=\"row_heading level0 row6\" >5</th>\n",
       "      <td id=\"T_66339_row6_col0\" class=\"data row6 col0\" >RandomForestClassifier</td>\n",
       "      <td id=\"T_66339_row6_col1\" class=\"data row6 col1\" >1.000000</td>\n",
       "      <td id=\"T_66339_row6_col2\" class=\"data row6 col2\" >0.792667</td>\n",
       "      <td id=\"T_66339_row6_col3\" class=\"data row6 col3\" >1.000000</td>\n",
       "      <td id=\"T_66339_row6_col4\" class=\"data row6 col4\" >0.792667</td>\n",
       "      <td id=\"T_66339_row6_col5\" class=\"data row6 col5\" >1.000000</td>\n",
       "      <td id=\"T_66339_row6_col6\" class=\"data row6 col6\" >0.792667</td>\n",
       "      <td id=\"T_66339_row6_col7\" class=\"data row6 col7\" >1.000000</td>\n",
       "      <td id=\"T_66339_row6_col8\" class=\"data row6 col8\" >0.792667</td>\n",
       "      <td id=\"T_66339_row6_col9\" class=\"data row6 col9\" >0.139981</td>\n",
       "      <td id=\"T_66339_row6_col10\" class=\"data row6 col10\" >0.462886</td>\n",
       "      <td id=\"T_66339_row6_col11\" class=\"data row6 col11\" >1.684160</td>\n",
       "      <td id=\"T_66339_row6_col12\" class=\"data row6 col12\" >[[2267  733]\n",
       " [ 511 2489]]</td>\n",
       "    </tr>\n",
       "  </tbody>\n",
       "</table>\n"
      ],
      "text/plain": [
       "<pandas.io.formats.style.Styler at 0x294c2863280>"
      ]
     },
     "execution_count": 81,
     "metadata": {},
     "output_type": "execute_result"
    }
   ],
   "source": [
    "Accuracy_set, models = evaluate_classifiers(classifiers)\n",
    "Accuracy_set.sort_values(by='Accuracy(Test)').style.background_gradient(cmap= plt.cm.Blues)"
   ]
  },
  {
   "cell_type": "code",
   "execution_count": 94,
   "metadata": {},
   "outputs": [],
   "source": [
    "os.chdir(os.path.join(os.getcwd()))\n",
    "import pickle\n",
    "for index in range(len(models)):\n",
    "    model_name = models[index][0]\n",
    "    model = models[index][-1]\n",
    "    pickle.dump(model, open(model_name + '.h', 'wb'))"
   ]
  },
  {
   "cell_type": "code",
   "execution_count": null,
   "metadata": {},
   "outputs": [],
   "source": []
  }
 ],
 "metadata": {
  "kernelspec": {
   "display_name": "Python 3 (ipykernel)",
   "language": "python",
   "name": "python3"
  },
  "language_info": {
   "codemirror_mode": {
    "name": "ipython",
    "version": 3
   },
   "file_extension": ".py",
   "mimetype": "text/x-python",
   "name": "python",
   "nbconvert_exporter": "python",
   "pygments_lexer": "ipython3",
   "version": "3.9.16"
  }
 },
 "nbformat": 4,
 "nbformat_minor": 4
}
