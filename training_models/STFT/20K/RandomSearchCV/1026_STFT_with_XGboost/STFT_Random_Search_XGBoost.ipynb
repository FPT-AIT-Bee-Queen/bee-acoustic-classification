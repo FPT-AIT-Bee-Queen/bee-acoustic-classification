{
 "cells": [
  {
   "cell_type": "code",
   "execution_count": 1,
   "metadata": {},
   "outputs": [],
   "source": [
    "import os\n",
    "import time\n",
    "import librosa\n",
    "import numpy as np\n",
    "import pandas as pd \n",
    "import matplotlib.pyplot as plt\n",
    "import seaborn as sns\n",
    "from tqdm.notebook import trange,tqdm\n",
    "import scipy\n",
    "\n",
    "\n",
    "from sklearn.model_selection import train_test_split\n",
    "from sklearn.preprocessing import LabelEncoder, StandardScaler\n",
    "from sklearn.metrics import *\n",
    "from sklearnex import patch_sklearn, config_context\n",
    "\n",
    "from sklearn.ensemble import RandomForestClassifier\n",
    "from sklearn.neighbors import KNeighborsClassifier\n",
    "from sklearn.svm import SVC\n",
    "from sklearn.neural_network import MLPClassifier\n",
    "from sklearn.linear_model import LogisticRegression\n",
    "from sklearn.naive_bayes import GaussianNB\n",
    "from sklearn.tree import DecisionTreeClassifier\n",
    "from sklearn.ensemble import AdaBoostClassifier, GradientBoostingClassifier, ExtraTreesClassifier, BaggingClassifier\n",
    "from xgboost import XGBClassifier\n",
    "from sklearn.model_selection import RepeatedStratifiedKFold, RandomizedSearchCV\n",
    "\n",
    "\n",
    "import warnings\n",
    "warnings.filterwarnings('ignore')"
   ]
  },
  {
   "cell_type": "code",
   "execution_count": 2,
   "metadata": {},
   "outputs": [
    {
     "data": {
      "text/plain": [
       "'D:\\\\Study\\\\Code\\\\Python\\\\Sound_Classification_Bee_Qeen_Queenless/STFT_npy_dataset/'"
      ]
     },
     "execution_count": 2,
     "metadata": {},
     "output_type": "execute_result"
    }
   ],
   "source": [
    "path = os.getcwd() + \"/STFT_npy_dataset/\"\n",
    "path"
   ]
  },
  {
   "cell_type": "code",
   "execution_count": 3,
   "metadata": {},
   "outputs": [
    {
     "name": "stdout",
     "output_type": "stream",
     "text": [
      "D:\\Study\\Code\\Python\\Sound_Classification_Bee_Qeen_Queenless/STFT_npy_dataset//train\n",
      "D:\\Study\\Code\\Python\\Sound_Classification_Bee_Qeen_Queenless/STFT_npy_dataset//val\n",
      "D:\\Study\\Code\\Python\\Sound_Classification_Bee_Qeen_Queenless/STFT_npy_dataset//test\n"
     ]
    }
   ],
   "source": [
    "TRAINING_DIR = path+\"/train\"\n",
    "VALIDATION_DIR = path + \"/val\"\n",
    "TEST_DIR = path + \"/test\"\n",
    "\n",
    "print(TRAINING_DIR)\n",
    "print(VALIDATION_DIR)\n",
    "print(TEST_DIR)"
   ]
  },
  {
   "cell_type": "code",
   "execution_count": 4,
   "metadata": {},
   "outputs": [],
   "source": [
    "def data_loader(path):\n",
    "    X = []\n",
    "    Y = []\n",
    "    for folder in os.listdir(path):\n",
    "        for file in os.listdir(os.path.join(path, folder)):\n",
    "            feature = np.load(os.path.join(path, folder, file))\n",
    "            label = folder\n",
    "            X += feature.tolist()\n",
    "            Y += [label]*feature.shape[0]\n",
    "    return X, Y"
   ]
  },
  {
   "cell_type": "code",
   "execution_count": 5,
   "metadata": {},
   "outputs": [],
   "source": [
    "X_train, Y_train = data_loader(TRAINING_DIR)\n",
    "X_val, Y_val = data_loader(VALIDATION_DIR)\n",
    "X_test, Y_test = data_loader(TEST_DIR)"
   ]
  },
  {
   "cell_type": "code",
   "execution_count": 6,
   "metadata": {},
   "outputs": [
    {
     "name": "stdout",
     "output_type": "stream",
     "text": [
      "There are 14000 training samples and 14000 training labels\n",
      "There are 2000 validation samples and 2000 validation labels\n",
      "There are 4000 testing samples and 4000 testing labels\n"
     ]
    }
   ],
   "source": [
    "print(\"There are {} training samples and {} training labels\".format(len(X_train), len(Y_train)))\n",
    "print(\"There are {} validation samples and {} validation labels\".format(len(X_val), len(Y_val)))\n",
    "print(\"There are {} testing samples and {} testing labels\".format(len(X_test), len(Y_test)))"
   ]
  },
  {
   "cell_type": "code",
   "execution_count": 7,
   "metadata": {},
   "outputs": [
    {
     "name": "stdout",
     "output_type": "stream",
     "text": [
      "Shape of X_train: (14000, 1026)\n",
      "Shape of X_val: (2000, 1026)\n",
      "Shape of X_test: (4000, 1026)\n",
      "Shape of Y_train: (14000,)\n",
      "Shape of Y_val: (2000,)\n",
      "Shape of Y_test: (4000,)\n"
     ]
    }
   ],
   "source": [
    "X_train = np.array(X_train)\n",
    "X_val = np.array(X_val)\n",
    "X_test = np.array(X_test)\n",
    "Y_train = np.array(Y_train)\n",
    "Y_val = np.array(Y_val)\n",
    "Y_test = np.array(Y_test)\n",
    "\n",
    "print(\"Shape of X_train: {}\".format(X_train.shape))\n",
    "print(\"Shape of X_val: {}\".format(X_val.shape))\n",
    "print(\"Shape of X_test: {}\".format(X_test.shape))\n",
    "print(\"Shape of Y_train: {}\".format(Y_train.shape))\n",
    "print(\"Shape of Y_val: {}\".format(Y_val.shape))\n",
    "print(\"Shape of Y_test: {}\".format(Y_test.shape))"
   ]
  },
  {
   "cell_type": "code",
   "execution_count": 8,
   "metadata": {},
   "outputs": [
    {
     "name": "stdout",
     "output_type": "stream",
     "text": [
      "Shape of X_train: (14000, 1026)\n",
      "Shape of X_test: (6000, 1026)\n",
      "Shape of Y_train: (14000, 1)\n",
      "Shape of Y_test: (6000, 1)\n"
     ]
    }
   ],
   "source": [
    "X_test = np.vstack((X_test, X_val))\n",
    "Y_test = np.hstack((Y_test, Y_val))\n",
    "Y_train = Y_train.reshape((Y_train.shape[0], 1))\n",
    "Y_test = Y_test.reshape((Y_test.shape[0], 1))\n",
    "\n",
    "\n",
    "print(\"Shape of X_train: {}\".format(X_train.shape))\n",
    "print(\"Shape of X_test: {}\".format(X_test.shape))\n",
    "print(\"Shape of Y_train: {}\".format(Y_train.shape))\n",
    "print(\"Shape of Y_test: {}\".format(Y_test.shape))"
   ]
  },
  {
   "cell_type": "code",
   "execution_count": 9,
   "metadata": {},
   "outputs": [],
   "source": [
    "X_train = X_train.astype('float')\n",
    "X_test = X_test.astype('float')"
   ]
  },
  {
   "cell_type": "code",
   "execution_count": 10,
   "metadata": {},
   "outputs": [],
   "source": [
    "# shuffle_index = np.random.permutation(len(X_train))\n",
    "# X_train, Y_train = X_train[shuffle_index], Y_train[shuffle_index]\n",
    "# shuffle_index = np.random.permutation(len(X_test))\n",
    "# X_test, Y_test = X_test[shuffle_index], Y_test[shuffle_index]"
   ]
  },
  {
   "cell_type": "code",
   "execution_count": 11,
   "metadata": {},
   "outputs": [
    {
     "data": {
      "text/plain": [
       "array([0, 1])"
      ]
     },
     "execution_count": 11,
     "metadata": {},
     "output_type": "execute_result"
    }
   ],
   "source": [
    "label_encoder = LabelEncoder()\n",
    "Y_train = label_encoder.fit_transform(Y_train)\n",
    "Y_test = label_encoder.transform(Y_test)\n",
    "np.unique(Y_test)"
   ]
  },
  {
   "cell_type": "code",
   "execution_count": 12,
   "metadata": {},
   "outputs": [
    {
     "name": "stdout",
     "output_type": "stream",
     "text": [
      "(14000, 1026)\n",
      "[[ 1.97348117e-01  9.77980475e-02  5.57847930e-02 ...  1.15017633e-01\n",
      "   8.38334518e-02  1.02181118e-01]\n",
      " [-3.62935505e-01 -3.75841849e-01 -4.26281223e-01 ... -6.78658549e-02\n",
      "  -1.08136253e-04  1.77375795e-01]\n",
      " [ 1.63248338e-01  3.03584561e-02  5.73737868e-01 ... -4.13452996e-02\n",
      "  -2.17979827e-02  2.99184299e-02]\n",
      " [ 6.87676792e-02 -2.30697766e-01 -4.15565758e-01 ... -1.31236353e-01\n",
      "   1.62681476e-01  1.84707110e-01]\n",
      " [-4.27410644e-01 -4.11749031e-01 -1.79949877e-01 ... -2.50431383e-01\n",
      "  -2.47825836e-01 -2.10453717e-01]]\n"
     ]
    }
   ],
   "source": [
    "std_scaler = StandardScaler()\n",
    "X_train = std_scaler.fit_transform(X_train)\n",
    "X_test = std_scaler.transform(X_test)\n",
    "print(X_train.shape)\n",
    "print(X_train[0:5,:])"
   ]
  },
  {
   "cell_type": "code",
   "execution_count": 13,
   "metadata": {},
   "outputs": [],
   "source": [
    "SEED = 1337"
   ]
  },
  {
   "cell_type": "code",
   "execution_count": 14,
   "metadata": {},
   "outputs": [],
   "source": [
    "# global cv\n",
    "# cv = RepeatedStratifiedKFold(n_splits=3, n_repeats=2, random_state=SEED)\n",
    "# global X_train, Y_train, X_test, Y_test"
   ]
  },
  {
   "cell_type": "code",
   "execution_count": 15,
   "metadata": {},
   "outputs": [],
   "source": [
    "def search_for_best_models(model, parameter_search, X_train, Y_train, X_test, Y_test, scoring='accuracy', verbose=3):\n",
    "    search = RandomizedSearchCV(model, parameter_search, n_iter=10, scoring=scoring, verbose = verbose, n_jobs=1, random_state=SEED)\n",
    "    first_time = time.time()\n",
    "    search.fit(X_train, Y_train) \n",
    "    second_time = time.time()\n",
    "    best_model = search.best_estimator_\n",
    "    optimal_params = search.best_params_\n",
    "    Y_pred = best_model.predict(X_test)\n",
    "    accuracy = accuracy_score(Y_test, Y_pred)\n",
    "    time_training = second_time - first_time\n",
    "    \n",
    "\n",
    "    print(\"Model: {}\".format(model.__class__.__name__))\n",
    "    print(\"Best parameters: {}\".format(search.best_params_))\n",
    "    print(\"Best cross-validation score: {:.2f}\".format(search.best_score_))\n",
    "    print(\"Test set score: {:.2f}\".format(accuracy))\n",
    "    print(\"Time training: \", time_training,\"s\")    \n",
    "    print(\"-\"*50)\n",
    "\n",
    "    return best_model, search, accuracy, optimal_params, time_training"
   ]
  },
  {
   "cell_type": "code",
   "execution_count": 16,
   "metadata": {},
   "outputs": [
    {
     "name": "stdout",
     "output_type": "stream",
     "text": [
      "Fitting 5 folds for each of 10 candidates, totalling 50 fits\n"
     ]
    },
    {
     "name": "stderr",
     "output_type": "stream",
     "text": [
      "Intel(R) Extension for Scikit-learn* enabled (https://github.com/intel/scikit-learn-intelex)\n"
     ]
    },
    {
     "name": "stdout",
     "output_type": "stream",
     "text": [
      "[CV 1/5] END colsample_bytree=1.0, gamma=0.5, max_depth=3, min_child_weight=5, subsample=1.0;, score=0.711 total time=  17.4s\n",
      "[CV 2/5] END colsample_bytree=1.0, gamma=0.5, max_depth=3, min_child_weight=5, subsample=1.0;, score=0.863 total time=  18.1s\n",
      "[CV 3/5] END colsample_bytree=1.0, gamma=0.5, max_depth=3, min_child_weight=5, subsample=1.0;, score=0.765 total time=  17.5s\n",
      "[CV 4/5] END colsample_bytree=1.0, gamma=0.5, max_depth=3, min_child_weight=5, subsample=1.0;, score=0.785 total time=  17.1s\n",
      "[CV 5/5] END colsample_bytree=1.0, gamma=0.5, max_depth=3, min_child_weight=5, subsample=1.0;, score=0.753 total time=  17.9s\n",
      "[CV 1/5] END colsample_bytree=0.6, gamma=1, max_depth=5, min_child_weight=10, subsample=1.0;, score=0.712 total time=  18.2s\n",
      "[CV 2/5] END colsample_bytree=0.6, gamma=1, max_depth=5, min_child_weight=10, subsample=1.0;, score=0.863 total time=  16.6s\n",
      "[CV 3/5] END colsample_bytree=0.6, gamma=1, max_depth=5, min_child_weight=10, subsample=1.0;, score=0.771 total time=  17.1s\n",
      "[CV 4/5] END colsample_bytree=0.6, gamma=1, max_depth=5, min_child_weight=10, subsample=1.0;, score=0.801 total time=  17.1s\n",
      "[CV 5/5] END colsample_bytree=0.6, gamma=1, max_depth=5, min_child_weight=10, subsample=1.0;, score=0.754 total time=  15.5s\n",
      "[CV 1/5] END colsample_bytree=1.0, gamma=1.5, max_depth=5, min_child_weight=1, subsample=0.8;, score=0.711 total time=  26.0s\n",
      "[CV 2/5] END colsample_bytree=1.0, gamma=1.5, max_depth=5, min_child_weight=1, subsample=0.8;, score=0.890 total time=  25.9s\n",
      "[CV 3/5] END colsample_bytree=1.0, gamma=1.5, max_depth=5, min_child_weight=1, subsample=0.8;, score=0.772 total time=  26.2s\n",
      "[CV 4/5] END colsample_bytree=1.0, gamma=1.5, max_depth=5, min_child_weight=1, subsample=0.8;, score=0.805 total time=  27.2s\n",
      "[CV 5/5] END colsample_bytree=1.0, gamma=1.5, max_depth=5, min_child_weight=1, subsample=0.8;, score=0.757 total time=  27.9s\n",
      "[CV 1/5] END colsample_bytree=0.6, gamma=5, max_depth=4, min_child_weight=5, subsample=0.6;, score=0.709 total time=  10.5s\n",
      "[CV 2/5] END colsample_bytree=0.6, gamma=5, max_depth=4, min_child_weight=5, subsample=0.6;, score=0.878 total time=  11.1s\n",
      "[CV 3/5] END colsample_bytree=0.6, gamma=5, max_depth=4, min_child_weight=5, subsample=0.6;, score=0.766 total time=  11.4s\n",
      "[CV 4/5] END colsample_bytree=0.6, gamma=5, max_depth=4, min_child_weight=5, subsample=0.6;, score=0.772 total time=  10.6s\n",
      "[CV 5/5] END colsample_bytree=0.6, gamma=5, max_depth=4, min_child_weight=5, subsample=0.6;, score=0.756 total time=  11.9s\n",
      "[CV 1/5] END colsample_bytree=0.6, gamma=5, max_depth=3, min_child_weight=5, subsample=1.0;, score=0.714 total time=  12.2s\n",
      "[CV 2/5] END colsample_bytree=0.6, gamma=5, max_depth=3, min_child_weight=5, subsample=1.0;, score=0.884 total time=  12.7s\n",
      "[CV 3/5] END colsample_bytree=0.6, gamma=5, max_depth=3, min_child_weight=5, subsample=1.0;, score=0.762 total time=  12.6s\n",
      "[CV 4/5] END colsample_bytree=0.6, gamma=5, max_depth=3, min_child_weight=5, subsample=1.0;, score=0.756 total time=  11.6s\n",
      "[CV 5/5] END colsample_bytree=0.6, gamma=5, max_depth=3, min_child_weight=5, subsample=1.0;, score=0.752 total time=  14.4s\n",
      "[CV 1/5] END colsample_bytree=0.6, gamma=1, max_depth=5, min_child_weight=1, subsample=1.0;, score=0.714 total time=  18.0s\n",
      "[CV 2/5] END colsample_bytree=0.6, gamma=1, max_depth=5, min_child_weight=1, subsample=1.0;, score=0.878 total time=  18.5s\n",
      "[CV 3/5] END colsample_bytree=0.6, gamma=1, max_depth=5, min_child_weight=1, subsample=1.0;, score=0.764 total time=  18.6s\n",
      "[CV 4/5] END colsample_bytree=0.6, gamma=1, max_depth=5, min_child_weight=1, subsample=1.0;, score=0.787 total time=  18.8s\n",
      "[CV 5/5] END colsample_bytree=0.6, gamma=1, max_depth=5, min_child_weight=1, subsample=1.0;, score=0.765 total time=  16.1s\n",
      "[CV 1/5] END colsample_bytree=0.8, gamma=5, max_depth=5, min_child_weight=10, subsample=1.0;, score=0.711 total time=  19.7s\n",
      "[CV 2/5] END colsample_bytree=0.8, gamma=5, max_depth=5, min_child_weight=10, subsample=1.0;, score=0.885 total time=  20.4s\n",
      "[CV 3/5] END colsample_bytree=0.8, gamma=5, max_depth=5, min_child_weight=10, subsample=1.0;, score=0.774 total time=  20.3s\n",
      "[CV 4/5] END colsample_bytree=0.8, gamma=5, max_depth=5, min_child_weight=10, subsample=1.0;, score=0.811 total time=  19.5s\n",
      "[CV 5/5] END colsample_bytree=0.8, gamma=5, max_depth=5, min_child_weight=10, subsample=1.0;, score=0.750 total time=  26.9s\n",
      "[CV 1/5] END colsample_bytree=1.0, gamma=1.5, max_depth=3, min_child_weight=1, subsample=0.6;, score=0.697 total time=  13.8s\n",
      "[CV 2/5] END colsample_bytree=1.0, gamma=1.5, max_depth=3, min_child_weight=1, subsample=0.6;, score=0.881 total time=  12.7s\n",
      "[CV 3/5] END colsample_bytree=1.0, gamma=1.5, max_depth=3, min_child_weight=1, subsample=0.6;, score=0.761 total time=  13.3s\n",
      "[CV 4/5] END colsample_bytree=1.0, gamma=1.5, max_depth=3, min_child_weight=1, subsample=0.6;, score=0.777 total time=  12.3s\n",
      "[CV 5/5] END colsample_bytree=1.0, gamma=1.5, max_depth=3, min_child_weight=1, subsample=0.6;, score=0.756 total time=  12.9s\n",
      "[CV 1/5] END colsample_bytree=0.6, gamma=1, max_depth=3, min_child_weight=10, subsample=0.8;, score=0.696 total time=   8.3s\n",
      "[CV 2/5] END colsample_bytree=0.6, gamma=1, max_depth=3, min_child_weight=10, subsample=0.8;, score=0.880 total time=   7.9s\n",
      "[CV 3/5] END colsample_bytree=0.6, gamma=1, max_depth=3, min_child_weight=10, subsample=0.8;, score=0.766 total time=   7.8s\n",
      "[CV 4/5] END colsample_bytree=0.6, gamma=1, max_depth=3, min_child_weight=10, subsample=0.8;, score=0.791 total time=   7.8s\n",
      "[CV 5/5] END colsample_bytree=0.6, gamma=1, max_depth=3, min_child_weight=10, subsample=0.8;, score=0.746 total time=   7.7s\n",
      "[CV 1/5] END colsample_bytree=1.0, gamma=1, max_depth=4, min_child_weight=10, subsample=0.6;, score=0.704 total time=  12.4s\n",
      "[CV 2/5] END colsample_bytree=1.0, gamma=1, max_depth=4, min_child_weight=10, subsample=0.6;, score=0.902 total time=  12.8s\n",
      "[CV 3/5] END colsample_bytree=1.0, gamma=1, max_depth=4, min_child_weight=10, subsample=0.6;, score=0.765 total time=  12.7s\n",
      "[CV 4/5] END colsample_bytree=1.0, gamma=1, max_depth=4, min_child_weight=10, subsample=0.6;, score=0.805 total time=  12.9s\n",
      "[CV 5/5] END colsample_bytree=1.0, gamma=1, max_depth=4, min_child_weight=10, subsample=0.6;, score=0.748 total time=  12.3s\n",
      "Model: XGBClassifier\n",
      "Best parameters: {'subsample': 0.8, 'min_child_weight': 1, 'max_depth': 5, 'gamma': 1.5, 'colsample_bytree': 1.0}\n",
      "Best cross-validation score: 0.79\n",
      "Test set score: 0.96\n",
      "Time training:  821.2162029743195 s\n",
      "--------------------------------------------------\n"
     ]
    }
   ],
   "source": [
    "patch_sklearn()\n",
    "\n",
    "parameter_search = {\n",
    "        'min_child_weight': [1, 5, 10],\n",
    "        'gamma': [0.5, 1, 1.5, 2, 5],\n",
    "        'subsample': [0.6, 0.8, 1.0],\n",
    "        'colsample_bytree': [0.6, 0.8, 1.0],\n",
    "        'max_depth': [3, 4, 5]\n",
    "        }\n",
    "original_model = XGBClassifier(random_state = SEED)\n",
    "best_model, search, accuracy, optimal_params, time_training = search_for_best_models(original_model, parameter_search, X_train, Y_train, X_test, Y_test)"
   ]
  },
  {
   "cell_type": "code",
   "execution_count": 17,
   "metadata": {},
   "outputs": [
    {
     "name": "stdout",
     "output_type": "stream",
     "text": [
      "{'subsample': 0.8, 'min_child_weight': 1, 'max_depth': 5, 'gamma': 1.5, 'colsample_bytree': 1.0}\n",
      "821.2162029743195\n"
     ]
    }
   ],
   "source": [
    "print(optimal_params)\n",
    "print(time_training)"
   ]
  },
  {
   "cell_type": "code",
   "execution_count": 18,
   "metadata": {
    "tags": []
   },
   "outputs": [],
   "source": [
    "Y_pred = best_model.predict(X_test)"
   ]
  },
  {
   "cell_type": "code",
   "execution_count": 19,
   "metadata": {},
   "outputs": [
    {
     "name": "stdout",
     "output_type": "stream",
     "text": [
      "Accuracy: 96.03%\n",
      "F1 score: 0.96\n",
      "Precision: 0.96\n",
      "Recall: 0.96\n"
     ]
    }
   ],
   "source": [
    "acc = accuracy_score(Y_test, Y_pred)\n",
    "print(\"Accuracy: {:.2f}%\".format(acc * 100))\n",
    "\n",
    "f1 = f1_score(Y_test, Y_pred, average='macro')\n",
    "print(\"F1 score: {:.2f}\".format(f1))\n",
    "\n",
    "precision = precision_score(Y_test, Y_pred, average='macro')\n",
    "print(\"Precision: {:.2f}\".format(precision))\n",
    "\n",
    "recall = recall_score(Y_test, Y_pred, average='macro')\n",
    "print(\"Recall: {:.2f}\".format(recall))"
   ]
  },
  {
   "cell_type": "code",
   "execution_count": 20,
   "metadata": {},
   "outputs": [
    {
     "name": "stdout",
     "output_type": "stream",
     "text": [
      "[[2910   90]\n",
      " [ 148 2852]]\n",
      "              precision    recall  f1-score   support\n",
      "\n",
      "           0       0.95      0.97      0.96      3000\n",
      "           1       0.97      0.95      0.96      3000\n",
      "\n",
      "    accuracy                           0.96      6000\n",
      "   macro avg       0.96      0.96      0.96      6000\n",
      "weighted avg       0.96      0.96      0.96      6000\n",
      "\n"
     ]
    }
   ],
   "source": [
    "cf_matrix = confusion_matrix(Y_test, Y_pred)\n",
    "print(cf_matrix)\n",
    "\n",
    "cl_report = classification_report(Y_test, Y_pred)\n",
    "print(cl_report)"
   ]
  },
  {
   "cell_type": "code",
   "execution_count": 21,
   "metadata": {},
   "outputs": [],
   "source": [
    "def plot_confusion_matrix(cm, title):\n",
    "    df_cm = pd.DataFrame(cm, index = [i for i in ['Queen', 'Queenless']],\n",
    "                    columns = [i for i in ['Queen', 'Queenless']])\n",
    "    df_cm_normed = df_cm/df_cm.sum()\n",
    "    plt.figure(figsize = (10,7))\n",
    "    sns.heatmap(df_cm, annot=True, fmt=\"\", )\n",
    "    plt.title(title)\n",
    "    plt.ylabel('True label')\n",
    "    plt.xlabel('Predicted label')\n",
    "    plt.savefig(title + \"_RandomSearch\" + '.png')\n",
    "    plt.show()\n"
   ]
  },
  {
   "cell_type": "code",
   "execution_count": 22,
   "metadata": {},
   "outputs": [
    {
     "data": {
      "image/png": "[encoded data removed]",
      "text/plain": [
       "<Figure size 1000x700 with 2 Axes>"
      ]
     },
     "metadata": {},
     "output_type": "display_data"
    }
   ],
   "source": [
    "plot_confusion_matrix(cf_matrix, 'STFT 1D with XGBClassifier Confusion matrix')"
   ]
  },
  {
   "cell_type": "code",
   "execution_count": 23,
   "metadata": {},
   "outputs": [],
   "source": [
    "def plot_roc_curve(Y_test, Y_pred, title):\n",
    "    fpr, tpr, thresholds = roc_curve(Y_test, Y_pred)\n",
    "\n",
    "    auc = roc_auc_score(Y_test, Y_pred)\n",
    "\n",
    "    plt.plot(fpr, tpr, label=\"ROC curve (area = {0:.2f})\".format(auc))\n",
    "    plt.plot([0, 1], [0, 1], linestyle=\"dashed\")\n",
    "    plt.title(title)\n",
    "    plt.xlabel(\"False Positive Rate\")\n",
    "    plt.ylabel(\"True Positive Rate\")\n",
    "    plt.legend()\n",
    "    plt.savefig(title + \"_RandomSearch\" + '.png')\n",
    "    plt.show()"
   ]
  },
  {
   "cell_type": "code",
   "execution_count": 24,
   "metadata": {},
   "outputs": [
    {
     "data": {
      "image/png": "[encoded data removed]",
      "text/plain": [
       "<Figure size 640x480 with 1 Axes>"
      ]
     },
     "metadata": {},
     "output_type": "display_data"
    }
   ],
   "source": [
    "plot_roc_curve(Y_test, Y_pred, \"STFT 1D with XGBClassifier Roc-Curve\")"
   ]
  },
  {
   "cell_type": "code",
   "execution_count": 25,
   "metadata": {},
   "outputs": [],
   "source": [
    "import pickle\n",
    "pickle.dump(best_model, open(\"Random_search_XGBClassifier.pkl\", \"wb\"))"
   ]
  },
  {
   "cell_type": "code",
   "execution_count": null,
   "metadata": {},
   "outputs": [],
   "source": []
  },
  {
   "cell_type": "code",
   "execution_count": null,
   "metadata": {},
   "outputs": [],
   "source": []
  }
 ],
 "metadata": {
  "kernelspec": {
   "display_name": "Python 3 (ipykernel)",
   "language": "python",
   "name": "python3"
  },
  "language_info": {
   "codemirror_mode": {
    "name": "ipython",
    "version": 3
   },
   "file_extension": ".py",
   "mimetype": "text/x-python",
   "name": "python",
   "nbconvert_exporter": "python",
   "pygments_lexer": "ipython3",
   "version": "3.9.16"
  }
 },
 "nbformat": 4,
 "nbformat_minor": 4
}
