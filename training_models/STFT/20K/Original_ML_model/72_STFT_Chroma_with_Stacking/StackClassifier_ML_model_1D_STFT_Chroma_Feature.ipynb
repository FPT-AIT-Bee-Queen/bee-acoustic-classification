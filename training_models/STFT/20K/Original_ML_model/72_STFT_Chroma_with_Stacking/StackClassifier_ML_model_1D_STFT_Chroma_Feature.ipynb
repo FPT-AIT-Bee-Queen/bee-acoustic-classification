{
 "cells": [
  {
   "cell_type": "code",
   "execution_count": 1,
   "metadata": {},
   "outputs": [],
   "source": [
    "import os\n",
    "import time\n",
    "import librosa\n",
    "import numpy as np\n",
    "import pandas as pd \n",
    "import matplotlib.pyplot as plt\n",
    "import seaborn as sns\n",
    "\n",
    "\n",
    "from sklearn.model_selection import train_test_split\n",
    "from sklearn.preprocessing import LabelEncoder, StandardScaler\n",
    "from sklearn.metrics import *\n",
    "from sklearnex import patch_sklearn, config_context\n",
    "\n",
    "from sklearn.ensemble import RandomForestClassifier\n",
    "from sklearn.neighbors import KNeighborsClassifier\n",
    "from sklearn.svm import SVC\n",
    "from sklearn.neural_network import MLPClassifier\n",
    "from sklearn.linear_model import LogisticRegression\n",
    "from sklearn.naive_bayes import GaussianNB\n",
    "from sklearn.tree import DecisionTreeClassifier\n",
    "from sklearn.ensemble import AdaBoostClassifier, GradientBoostingClassifier, ExtraTreesClassifier, BaggingClassifier\n",
    "from xgboost import XGBClassifier\n",
    "from sklearn.ensemble import StackingClassifier\n",
    "\n",
    "import warnings\n",
    "warnings.filterwarnings('ignore')"
   ]
  },
  {
   "cell_type": "code",
   "execution_count": 2,
   "metadata": {},
   "outputs": [
    {
     "data": {
      "text/plain": [
       "'D:\\\\Study\\\\Code\\\\Python\\\\Sound_Classification_Bee_Qeen_Queenless/Chroma_STFT_npy_dataset/'"
      ]
     },
     "execution_count": 2,
     "metadata": {},
     "output_type": "execute_result"
    }
   ],
   "source": [
    "path = os.getcwd() + \"/Chroma_STFT_npy_dataset/\"\n",
    "path"
   ]
  },
  {
   "cell_type": "code",
   "execution_count": 3,
   "metadata": {},
   "outputs": [
    {
     "name": "stdout",
     "output_type": "stream",
     "text": [
      "D:\\Study\\Code\\Python\\Sound_Classification_Bee_Qeen_Queenless/Chroma_STFT_npy_dataset//train\n",
      "D:\\Study\\Code\\Python\\Sound_Classification_Bee_Qeen_Queenless/Chroma_STFT_npy_dataset//val\n",
      "D:\\Study\\Code\\Python\\Sound_Classification_Bee_Qeen_Queenless/Chroma_STFT_npy_dataset//test\n"
     ]
    }
   ],
   "source": [
    "TRAINING_DIR = path+\"/train\"\n",
    "VALIDATION_DIR = path + \"/val\"\n",
    "TEST_DIR = path + \"/test\"\n",
    "\n",
    "print(TRAINING_DIR)\n",
    "print(VALIDATION_DIR)\n",
    "print(TEST_DIR)"
   ]
  },
  {
   "cell_type": "code",
   "execution_count": 4,
   "metadata": {},
   "outputs": [],
   "source": [
    "def data_loader(path):\n",
    "    X = []\n",
    "    Y = []\n",
    "    for folder in os.listdir(path):\n",
    "        for file in os.listdir(os.path.join(path, folder)):\n",
    "            feature = np.load(os.path.join(path, folder, file))\n",
    "            label = folder\n",
    "            X += feature.tolist()\n",
    "            Y += [label]*feature.shape[0]\n",
    "    return X, Y"
   ]
  },
  {
   "cell_type": "code",
   "execution_count": 5,
   "metadata": {},
   "outputs": [],
   "source": [
    "X_train, Y_train = data_loader(TRAINING_DIR)\n",
    "X_val, Y_val = data_loader(VALIDATION_DIR)\n",
    "X_test, Y_test = data_loader(TEST_DIR)"
   ]
  },
  {
   "cell_type": "code",
   "execution_count": 6,
   "metadata": {},
   "outputs": [
    {
     "name": "stdout",
     "output_type": "stream",
     "text": [
      "There are 14000 training samples and 14000 training labels\n",
      "There are 2000 validation samples and 2000 validation labels\n",
      "There are 4000 testing samples and 4000 testing labels\n"
     ]
    }
   ],
   "source": [
    "print(\"There are {} training samples and {} training labels\".format(len(X_train), len(Y_train)))\n",
    "print(\"There are {} validation samples and {} validation labels\".format(len(X_val), len(Y_val)))\n",
    "print(\"There are {} testing samples and {} testing labels\".format(len(X_test), len(Y_test)))"
   ]
  },
  {
   "cell_type": "code",
   "execution_count": 7,
   "metadata": {},
   "outputs": [
    {
     "name": "stdout",
     "output_type": "stream",
     "text": [
      "Shape of X_train: (14000, 72)\n",
      "Shape of X_val: (2000, 72)\n",
      "Shape of X_test: (4000, 72)\n",
      "Shape of Y_train: (14000,)\n",
      "Shape of Y_val: (2000,)\n",
      "Shape of Y_test: (4000,)\n"
     ]
    }
   ],
   "source": [
    "X_train = np.array(X_train)\n",
    "X_val = np.array(X_val)\n",
    "X_test = np.array(X_test)\n",
    "Y_train = np.array(Y_train)\n",
    "Y_val = np.array(Y_val)\n",
    "Y_test = np.array(Y_test)\n",
    "\n",
    "print(\"Shape of X_train: {}\".format(X_train.shape))\n",
    "print(\"Shape of X_val: {}\".format(X_val.shape))\n",
    "print(\"Shape of X_test: {}\".format(X_test.shape))\n",
    "print(\"Shape of Y_train: {}\".format(Y_train.shape))\n",
    "print(\"Shape of Y_val: {}\".format(Y_val.shape))\n",
    "print(\"Shape of Y_test: {}\".format(Y_test.shape))"
   ]
  },
  {
   "cell_type": "code",
   "execution_count": 8,
   "metadata": {},
   "outputs": [
    {
     "name": "stdout",
     "output_type": "stream",
     "text": [
      "Shape of X_train: (14000, 72)\n",
      "Shape of X_test: (6000, 72)\n",
      "Shape of Y_train: (14000, 1)\n",
      "Shape of Y_test: (6000, 1)\n"
     ]
    }
   ],
   "source": [
    "X_test = np.vstack((X_test, X_val))\n",
    "Y_test = np.hstack((Y_test, Y_val))\n",
    "Y_train = Y_train.reshape((Y_train.shape[0], 1))\n",
    "Y_test = Y_test.reshape((Y_test.shape[0], 1))\n",
    "\n",
    "\n",
    "print(\"Shape of X_train: {}\".format(X_train.shape))\n",
    "print(\"Shape of X_test: {}\".format(X_test.shape))\n",
    "print(\"Shape of Y_train: {}\".format(Y_train.shape))\n",
    "print(\"Shape of Y_test: {}\".format(Y_test.shape))"
   ]
  },
  {
   "cell_type": "code",
   "execution_count": 9,
   "metadata": {},
   "outputs": [],
   "source": [
    "X_train = X_train.astype('float')\n",
    "X_test = X_test.astype('float')"
   ]
  },
  {
   "cell_type": "code",
   "execution_count": 10,
   "metadata": {},
   "outputs": [],
   "source": [
    "shuffle_index = np.random.permutation(len(X_train))\n",
    "X_train, Y_train = X_train[shuffle_index], Y_train[shuffle_index]\n",
    "shuffle_index = np.random.permutation(len(X_test))\n",
    "X_test, Y_test = X_test[shuffle_index], Y_test[shuffle_index]"
   ]
  },
  {
   "cell_type": "code",
   "execution_count": 11,
   "metadata": {},
   "outputs": [
    {
     "data": {
      "text/plain": [
       "array([0, 1])"
      ]
     },
     "execution_count": 11,
     "metadata": {},
     "output_type": "execute_result"
    }
   ],
   "source": [
    "label_encoder = LabelEncoder()\n",
    "Y_train = label_encoder.fit_transform(Y_train)\n",
    "Y_test = label_encoder.transform(Y_test)\n",
    "np.unique(Y_test)"
   ]
  },
  {
   "cell_type": "code",
   "execution_count": 12,
   "metadata": {},
   "outputs": [
    {
     "name": "stdout",
     "output_type": "stream",
     "text": [
      "(14000, 72)\n",
      "[[ 6.80097129e-01  3.79287948e-01  1.30410001e-01  1.81251512e-01\n",
      "   2.05896188e-01  4.38817663e-01 -1.21751709e-01 -4.93393342e-01\n",
      "  -1.17228542e-01  2.62131001e-01  4.59690146e-01  8.06958416e-01\n",
      "  -2.82096909e-01  4.58956227e-01  7.76322201e-01  1.72974696e+00\n",
      "   1.20319290e+00  1.61409868e+00  5.46799890e-01 -4.29922860e-01\n",
      "   3.57142407e-01  1.32850175e+00  3.45181252e-01  7.75831047e-01\n",
      "   5.06146220e-01  1.88488500e-01  1.11219724e-01  1.04116331e-01\n",
      "   3.59388840e-03 -1.71706031e-01 -3.51714705e-01 -2.47852354e-01\n",
      "  -3.63530467e-01 -3.40222836e-01 -1.45067625e-01 -3.53297405e-01\n",
      "   1.51750074e-01  1.39066098e-01  1.97981633e-01  3.28316780e-01\n",
      "   4.85748375e-01  7.15394038e-01  7.02150262e-01 -1.21978022e+00\n",
      "  -6.83553658e-01  3.92606268e-01  2.80432481e-01  1.46489488e-01\n",
      "  -8.11911998e-01 -1.91934951e-01 -3.74834882e-01 -4.90484325e-02\n",
      "  -3.71352838e-01 -1.30987126e-01  1.29344818e-01 -3.55505621e-01\n",
      "  -3.67363250e-01 -1.99849720e-01 -7.71138737e-01 -8.21560238e-01\n",
      "   8.00370407e-01  3.81034615e-01  3.52131910e-01  5.57247301e-02\n",
      "   4.14403823e-02  1.60084243e-01 -1.90145335e-01 -5.57248171e-01\n",
      "  -1.60491500e-01  2.57104805e-01  5.10613178e-01  1.07510569e+00]\n",
      " [ 4.81697685e-01 -2.08534427e-01  8.38135334e-01  4.09460000e-01\n",
      "  -8.31041993e-01 -1.04737752e+00 -7.19067067e-01 -9.17759731e-01\n",
      "  -1.10641234e+00 -1.03850887e+00 -4.33243315e-01  8.40639316e-01\n",
      "   7.13195162e-01 -3.00328480e-01  6.39752204e-01  1.03197422e+00\n",
      "  -1.09969739e+00 -1.21578365e+00 -5.27671663e-01 -1.34865753e+00\n",
      "  -1.19834822e+00 -1.16227264e+00 -2.49743367e-01  1.01669619e+00\n",
      "  -1.87919404e-02 -6.82044663e-01  3.04744350e-01  4.15457056e-01\n",
      "  -4.50980632e-01 -5.07397263e-01 -5.61109241e-01 -5.85980455e-01\n",
      "  -7.84365454e-01 -8.42736683e-01 -8.31061461e-01 -3.14451668e-01\n",
      "   1.51750074e-01  1.39066098e-01  1.97981633e-01  3.28316780e-01\n",
      "  -7.51554996e-01 -1.32380367e+00 -4.53579018e-01 -1.50184905e+00\n",
      "  -9.27181409e-01 -7.92631684e-01  8.14169680e-02  1.46489488e-01\n",
      "  -6.78562182e-01  4.98947499e-01 -7.83461719e-01 -2.20663342e-01\n",
      "   3.95766623e-01  9.38583563e-01  7.48968857e-01  4.46639797e-01\n",
      "   1.41356424e+00  1.09522270e+00 -1.29773462e-01 -1.00701845e+00\n",
      "   6.54073801e-01 -3.35972901e-01  9.45448442e-01  2.46290095e-01\n",
      "  -7.52059320e-01 -9.98203695e-01 -7.93815568e-01 -8.22050924e-01\n",
      "  -1.04003449e+00 -9.60379065e-01 -3.28580925e-01  1.14517169e+00]\n",
      " [ 1.00480719e+00  1.51135043e+00  1.90978447e+00  1.38616934e+00\n",
      "   8.76585899e-01  5.45574896e-01  6.13770500e-01  9.19805434e-01\n",
      "   8.84636697e-01  7.31628357e-01  6.28773660e-01  5.74491256e-01\n",
      "  -2.72342735e-01 -2.26134552e+00 -3.27876967e+00 -1.19118960e+00\n",
      "  -3.51372005e-01 -2.96208597e-01 -4.33189847e-02  2.68118748e-01\n",
      "  -2.39970113e-02 -4.53544462e-01 -4.55320694e-01 -4.74205672e-01\n",
      "  -1.51037757e-02  2.60558583e+00  4.32052923e+00  2.66631034e+00\n",
      "   4.27724447e-01 -4.11545125e-02  2.40353119e-01  3.06613133e-01\n",
      "   3.05754234e-01  2.70943283e-01 -5.00714640e-03 -2.02819477e-01\n",
      "   1.51750074e-01  1.39066098e-01  1.97981633e-01  3.28316780e-01\n",
      "  -7.26013996e-03 -1.89088985e-01  2.81534492e-01  1.60425277e-01\n",
      "   2.61648577e-01  3.92606268e-01  2.80432481e-01  1.46489488e-01\n",
      "  -1.45588214e+00 -1.37152236e+00 -1.52765289e+00 -6.95860435e-01\n",
      "  -1.56270014e+00 -1.21254209e+00 -1.05871801e+00 -1.25142172e+00\n",
      "  -1.15238202e+00 -9.97612446e-01 -1.06414271e+00 -8.60634495e-01\n",
      "   1.03918100e+00  1.29205344e+00  1.78414580e+00  1.25924925e+00\n",
      "   9.24760342e-01  6.22332974e-01  6.60300937e-01  9.79305615e-01\n",
      "   9.06496143e-01  7.72299628e-01  5.93448127e-01  5.41156641e-01]\n",
      " [ 6.29716232e-01  9.61420907e-01  1.08894748e+00  1.36731248e+00\n",
      "   8.78778800e-01  3.54848675e-01 -2.22785614e-02 -3.04332609e-01\n",
      "  -1.98393777e-01  8.38277742e-02  6.37114506e-01  5.33700341e-01\n",
      "  -7.68141633e-01 -5.73056733e-01 -5.35172101e-01 -2.43535838e-01\n",
      "  -2.86382832e-01 -2.04215740e-01  3.54401512e-01 -6.49319701e-01\n",
      "  -5.27167962e-01 -4.02366211e-01  1.63606419e-01 -3.34454584e-01\n",
      "   1.02713953e+00  5.67840498e-01  7.85492586e-01  1.19436314e+00\n",
      "   8.56617350e-01  7.41693424e-01  3.83179681e-01  1.36883959e-01\n",
      "   3.71463170e-01  3.43646007e-01  5.26991799e-01  8.35994868e-01\n",
      "   1.51750074e-01  1.39066098e-01  1.97981633e-01  3.28316780e-01\n",
      "   6.20087227e-01  7.15394038e-01  7.02150262e-01 -6.93848398e-01\n",
      "   5.86647953e-01  3.92606268e-01  2.80432481e-01  1.46489488e-01\n",
      "  -5.38112971e-01 -9.20858741e-01 -1.20336697e+00 -1.13371010e+00\n",
      "  -7.07126181e-01  1.58037269e-02  6.72490567e-01  1.86003135e-01\n",
      "   6.37001063e-01  2.41590961e-01 -3.82916780e-01 -2.97499580e-01\n",
      "   5.76752387e-01  1.02328081e+00  1.19686712e+00  1.40527152e+00\n",
      "   8.95035922e-01  3.10554518e-01 -1.35845885e-01 -2.73741322e-01\n",
      "  -1.80219859e-01  1.07116334e-01  6.18233397e-01  4.66130212e-01]\n",
      " [-2.52463389e-02 -3.33702852e-01 -2.01382512e-01  7.06844923e-01\n",
      "   1.15499440e+00  6.01566013e-01 -9.53863163e-02 -5.26443668e-01\n",
      "  -3.49574594e-01 -1.98977640e-01 -1.11785021e-01 -4.04432669e-02\n",
      "   1.41457790e+00  1.38372361e+00  3.97251763e-01  1.07689819e+00\n",
      "   1.86702349e+00  1.31947027e+00  8.14737330e-02 -5.83570555e-01\n",
      "   5.51242187e-01  8.60057552e-01  1.53145295e+00  1.26793218e+00\n",
      "  -7.90994606e-01 -2.13703331e-01 -2.50355424e-01  2.30834379e-01\n",
      "   3.17943184e-01  4.64751073e-01 -4.33234727e-02 -4.67487732e-01\n",
      "  -6.87334926e-01 -3.25942959e-01 -3.26519846e-01 -7.66342765e-01\n",
      "   1.51750074e-01  1.39066098e-01  1.97981633e-01  3.28316780e-01\n",
      "   6.20087227e-01  7.15394038e-01  7.02150262e-01 -1.65029213e-01\n",
      "   6.15034727e-01  3.92606268e-01  2.80432481e-01  1.46489488e-01\n",
      "  -3.10062732e-01  4.54350527e-01  3.38880335e-01 -6.11894480e-01\n",
      "  -9.92777140e-01 -1.65234983e-01 -1.39732866e-02  1.14359641e-01\n",
      "   5.24531645e-01  2.87684684e-01  7.67018149e-02 -9.82033495e-02\n",
      "   1.33666266e-01 -4.78635765e-01 -4.10452936e-01  6.63110632e-01\n",
      "   1.23054877e+00  3.34706513e-01 -4.28131217e-02 -4.42379398e-01\n",
      "  -3.70741543e-01 -2.60695972e-01 -2.21143041e-01  7.14731961e-03]]\n"
     ]
    }
   ],
   "source": [
    "std_scaler = StandardScaler()\n",
    "X_train = std_scaler.fit_transform(X_train)\n",
    "X_test = std_scaler.transform(X_test)\n",
    "print(X_train.shape)\n",
    "print(X_train[0:5,:])"
   ]
  },
  {
   "cell_type": "markdown",
   "metadata": {},
   "source": [
    "ET, RF, and XGB"
   ]
  },
  {
   "cell_type": "code",
   "execution_count": 13,
   "metadata": {},
   "outputs": [
    {
     "name": "stdout",
     "output_type": "stream",
     "text": [
      "Training time:  100.15115690231323 s\n"
     ]
    }
   ],
   "source": [
    "SEED = 1337\n",
    "estimator = [\n",
    "    ('RF', RandomForestClassifier(random_state=SEED)),\n",
    "    ('ET', ExtraTreesClassifier(random_state=SEED)),\n",
    "    ('SVM', SVC(random_state=SEED))\n",
    "    # ('XGB', XGBClassifier(random_state=SEED))\n",
    "]\n",
    "\n",
    "clf = StackingClassifier(estimators=estimator, final_estimator=RandomForestClassifier(random_state=SEED), cv=5)\n",
    "\n",
    "time_start = time.time()\n",
    "clf.fit(X_train, Y_train)\n",
    "time_end = time.time()\n",
    "\n",
    "print('Training time: ', time_end - time_start, 's')"
   ]
  },
  {
   "cell_type": "code",
   "execution_count": 14,
   "metadata": {},
   "outputs": [],
   "source": [
    "Y_pred = clf.predict(X_test)\n",
    "Y_pred_proba = clf.predict_proba(X_test)"
   ]
  },
  {
   "cell_type": "code",
   "execution_count": 15,
   "metadata": {},
   "outputs": [
    {
     "data": {
      "text/plain": [
       "(array([0, 0, 1, 0, 1], dtype=int64), array([0, 1, 1, 0, 0]))"
      ]
     },
     "execution_count": 15,
     "metadata": {},
     "output_type": "execute_result"
    }
   ],
   "source": [
    "Y_pred[:5], Y_test[:5]"
   ]
  },
  {
   "cell_type": "code",
   "execution_count": 16,
   "metadata": {},
   "outputs": [
    {
     "name": "stdout",
     "output_type": "stream",
     "text": [
      "Accuracy: 78.57%\n",
      "F1 score: 0.79\n",
      "Precision: 0.79\n",
      "Recall: 0.79\n"
     ]
    }
   ],
   "source": [
    "acc = accuracy_score(Y_test, Y_pred)\n",
    "print(\"Accuracy: {:.2f}%\".format(acc * 100))\n",
    "\n",
    "f1 = f1_score(Y_test, Y_pred, average='macro')\n",
    "print(\"F1 score: {:.2f}\".format(f1))\n",
    "\n",
    "precision = precision_score(Y_test, Y_pred, average='macro')\n",
    "print(\"Precision: {:.2f}\".format(precision))\n",
    "\n",
    "recall = recall_score(Y_test, Y_pred, average='macro')\n",
    "print(\"Recall: {:.2f}\".format(recall))"
   ]
  },
  {
   "cell_type": "code",
   "execution_count": 17,
   "metadata": {},
   "outputs": [
    {
     "name": "stdout",
     "output_type": "stream",
     "text": [
      "[[2450  550]\n",
      " [ 736 2264]]\n",
      "              precision    recall  f1-score   support\n",
      "\n",
      "           0       0.77      0.82      0.79      3000\n",
      "           1       0.80      0.75      0.78      3000\n",
      "\n",
      "    accuracy                           0.79      6000\n",
      "   macro avg       0.79      0.79      0.79      6000\n",
      "weighted avg       0.79      0.79      0.79      6000\n",
      "\n"
     ]
    }
   ],
   "source": [
    "cf_matrix = confusion_matrix(Y_test, Y_pred)\n",
    "print(cf_matrix)\n",
    "\n",
    "cl_report = classification_report(Y_test, Y_pred)\n",
    "print(cl_report)"
   ]
  },
  {
   "cell_type": "code",
   "execution_count": 18,
   "metadata": {},
   "outputs": [],
   "source": [
    "def plot_confusion_matrix(cm, title):\n",
    "    df_cm = pd.DataFrame(cm, index = [i for i in ['Queen', 'Queenless']],\n",
    "                    columns = [i for i in ['Queen', 'Queenless']])\n",
    "    df_cm_normed = df_cm/df_cm.sum()\n",
    "    plt.figure(figsize = (10,7))\n",
    "    sns.heatmap(df_cm, annot=True, fmt=\"\", )\n",
    "    plt.title(title)\n",
    "    plt.ylabel('True label')\n",
    "    plt.xlabel('Predicted label')\n",
    "    plt.savefig(title + '.png')\n",
    "    plt.show()\n"
   ]
  },
  {
   "cell_type": "code",
   "execution_count": 19,
   "metadata": {},
   "outputs": [
    {
     "data": {
      "image/png": "[encoded data removed]",
      "text/plain": [
       "<Figure size 1000x700 with 2 Axes>"
      ]
     },
     "metadata": {},
     "output_type": "display_data"
    }
   ],
   "source": [
    "plot_confusion_matrix(cf_matrix, 'STFT Chroma features with Stacking Confusion matrix')"
   ]
  },
  {
   "cell_type": "code",
   "execution_count": 22,
   "metadata": {},
   "outputs": [],
   "source": [
    "def plot_roc_curve(Y_test, Y_pred_proba, title):\n",
    "    fpr, tpr, thresholds = roc_curve(Y_test, Y_pred_proba[:,1])\n",
    "\n",
    "    aucc = auc(fpr, tpr)\n",
    "\n",
    "    plt.plot(fpr, tpr, label=\"ROC curve (area = {0:.2f})\".format(aucc))\n",
    "    plt.plot([0, 1], [0, 1], linestyle=\"dashed\")\n",
    "    plt.title(title)\n",
    "    plt.xlabel(\"False Positive Rate\")\n",
    "    plt.ylabel(\"True Positive Rate\")\n",
    "    plt.legend()\n",
    "    plt.savefig(title + \".png\")\n",
    "    # plt.show()"
   ]
  },
  {
   "cell_type": "code",
   "execution_count": 23,
   "metadata": {},
   "outputs": [
    {
     "data": {
      "image/png": "[encoded data removed]",
      "text/plain": [
       "<Figure size 640x480 with 1 Axes>"
      ]
     },
     "metadata": {},
     "output_type": "display_data"
    }
   ],
   "source": [
    "plot_roc_curve(Y_test, Y_pred_proba, \"STFT Chroma features with Stacking Roc-Curve\")"
   ]
  },
  {
   "cell_type": "code",
   "execution_count": 24,
   "metadata": {},
   "outputs": [],
   "source": [
    "os.chdir(os.path.join(os.getcwd(), 'model'))\n",
    "import pickle\n",
    "\n",
    "# save \n",
    "with open('STFT_Chroma_with_StackingClassifier.pkl', 'wb') as f:\n",
    "    pickle.dump(clf, f)"
   ]
  },
  {
   "cell_type": "code",
   "execution_count": null,
   "metadata": {},
   "outputs": [],
   "source": []
  },
  {
   "cell_type": "code",
   "execution_count": null,
   "metadata": {},
   "outputs": [],
   "source": []
  }
 ],
 "metadata": {
  "kernelspec": {
   "display_name": "Python 3 (ipykernel)",
   "language": "python",
   "name": "python3"
  },
  "language_info": {
   "codemirror_mode": {
    "name": "ipython",
    "version": 3
   },
   "file_extension": ".py",
   "mimetype": "text/x-python",
   "name": "python",
   "nbconvert_exporter": "python",
   "pygments_lexer": "ipython3",
   "version": "3.9.16"
  }
 },
 "nbformat": 4,
 "nbformat_minor": 4
}
