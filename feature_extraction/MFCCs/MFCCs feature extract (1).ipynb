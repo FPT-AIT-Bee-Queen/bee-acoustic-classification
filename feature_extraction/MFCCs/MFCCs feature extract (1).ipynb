{
 "cells": [
  {
   "cell_type": "code",
   "execution_count": 4,
   "id": "a98e7a72-b65c-4525-8987-73fc4ae317e0",
   "metadata": {},
   "outputs": [
    {
     "name": "stdout",
     "output_type": "stream",
     "text": [
      "DONE\n",
      "6.513029098510742 s\n"
     ]
    }
   ],
   "source": [
    "'''MFCCs Feature Extract'''\n",
    "import librosa\n",
    "import numpy as np\n",
    "import os\n",
    "import time\n",
    "\n",
    "t1 = time.time()\n",
    "\n",
    "def mfcc_extract(filename, n_mfcc=40):\n",
    "    y, sr = librosa.load(filename)\n",
    "    stft = np.abs(librosa.stft(y))\n",
    "    mfcc = librosa.feature.mfcc(S=librosa.power_to_db(stft), n_mfcc=n_mfcc)\n",
    "    mfcc_mean = mfcc.mean(axis=1)\n",
    "    mfcc_feature = mfcc_mean\n",
    "    return mfcc_feature\n",
    "\n",
    "\n",
    "folder_path = '/Users/quanghuypham/Desktop/20k_audio_splitted_dataset/val/Queen'\n",
    "save_folder = '/Users/quanghuypham/Desktop/MFCC numpy 20k bee dataset/val/Queen'\n",
    "os.makedirs(save_folder, exist_ok=True)\n",
    "\n",
    "\n",
    "wav_files = [f for f in os.listdir(folder_path) if f.endswith('.wav')]\n",
    "\n",
    "for wav_file in wav_files:\n",
    "    filename = os.path.join(folder_path, wav_file)\n",
    "    mfcc_features = mfcc_extract(filename)\n",
    "    save_path = os.path.join(save_folder, os.path.splitext(wav_file)[0] + '_mfcc.npy')\n",
    "    np.save(save_path, mfcc_features)\n",
    "    \n",
    "print('DONE')\n",
    "\n",
    "t2= time.time()\n",
    "print(t2-t1, 's')\n",
    "#test: 137s\n",
    "#train; 38s\n",
    "#val: 16s\n",
    "#sum time: 183s : 3 mins"
   ]
  },
  {
   "cell_type": "code",
   "execution_count": 5,
   "id": "5ba159f9-c6bd-494e-b9e2-4de63b2d14df",
   "metadata": {},
   "outputs": [
    {
     "name": "stdout",
     "output_type": "stream",
     "text": [
      "Shape of MFCC features: (40,)\n"
     ]
    }
   ],
   "source": [
    "chosen_wav_file = wav_files[0]\n",
    "\n",
    "filename = os.path.join(folder_path, chosen_wav_file)\n",
    "mfcc_features = mfcc_extract(filename)\n",
    "\n",
    "print(\"Shape of MFCC features:\", mfcc_features.shape)"
   ]
  },
  {
   "cell_type": "code",
   "execution_count": null,
   "id": "fa4b3559-64a4-48a7-b96e-ce3216082585",
   "metadata": {},
   "outputs": [],
   "source": []
  }
 ],
 "metadata": {
  "kernelspec": {
   "display_name": "Python 3 (ipykernel)",
   "language": "python",
   "name": "python3"
  },
  "language_info": {
   "codemirror_mode": {
    "name": "ipython",
    "version": 3
   },
   "file_extension": ".py",
   "mimetype": "text/x-python",
   "name": "python",
   "nbconvert_exporter": "python",
   "pygments_lexer": "ipython3",
   "version": "3.9.13"
  }
 },
 "nbformat": 4,
 "nbformat_minor": 5
}
