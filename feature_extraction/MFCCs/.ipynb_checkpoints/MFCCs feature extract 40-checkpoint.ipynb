{
 "cells": [
  {
   "cell_type": "code",
   "execution_count": 1,
   "id": "a98e7a72-b65c-4525-8987-73fc4ae317e0",
   "metadata": {},
   "outputs": [],
   "source": [
    "'''MFCCs Feature Extract'''\n",
    "import librosa\n",
    "import numpy as np\n",
    "import os\n",
    "import time\n",
    "\n",
    "t1 = time.time()\n",
    "\n",
    "def mfcc_extract(filename, n_mfcc=40):\n",
    "    y, sr = librosa.load(filename)\n",
    "    stft = np.abs(librosa.stft(y))\n",
    "    mfcc = librosa.feature.mfcc(S=librosa.power_to_db(stft), n_mfcc=n_mfcc)\n",
    "    mfcc_mean = mfcc.mean(axis=1)\n",
    "    mfcc_feature = mfcc_mean\n",
    "    return mfcc_feature\n",
    "\n",
    "categories = ['Queen', 'Queenless']\n"
   ]
  },
  {
   "cell_type": "code",
   "execution_count": 2,
   "id": "6c83909d-f107-4f87-ba85-16494cec1139",
   "metadata": {},
   "outputs": [
    {
     "name": "stdout",
     "output_type": "stream",
     "text": [
      "Processed 7000 files for Queen\n",
      "Processed 7000 files for Queenless\n",
      "Shape of MFCC features: (40,)\n",
      "DONE\n"
     ]
    }
   ],
   "source": [
    "train_path = '/Users/quanghuypham/Desktop/20k_audio_splitted_dataset/train/'\n",
    "train_save_path = '/Users/quanghuypham/Desktop/MFCC numpy 20k bee dataset/train/'\n",
    "os.makedirs(train_save_path, exist_ok=True)\n",
    "\n",
    "\n",
    "for category in categories:\n",
    "    count = 0\n",
    "    train_wav_files = [f for f in os.listdir(os.path.join(train_path, category)) if f.endswith('.wav')]\n",
    "    for train_wav_file in train_wav_files:\n",
    "        filename = os.path.join(train_path, category, train_wav_file)\n",
    "        mfcc_features = mfcc_extract(filename)\n",
    "        save_path = os.path.join(train_save_path, category, os.path.splitext(os.path.join(train_wav_file))[0] + '_mfcc.npy')\n",
    "        os.makedirs(os.path.dirname(save_path), exist_ok=True)\n",
    "        np.save(save_path, mfcc_features)\n",
    "        \n",
    "        count += 1\n",
    "    \n",
    "    print(f\"Processed {count} files for {category}\")\n",
    "    \n",
    "chosen_wav_file = train_wav_files[0]\n",
    "filename = os.path.join(os.path.join(train_path, category), chosen_wav_file)\n",
    "mfcc_features = mfcc_extract(filename)\n",
    "\n",
    "print(\"Shape of MFCC features:\", mfcc_features.shape)\n",
    "print('DONE')\n"
   ]
  },
  {
   "cell_type": "code",
   "execution_count": 3,
   "id": "3f4801f9-d221-4d05-b581-68b84c475320",
   "metadata": {},
   "outputs": [
    {
     "name": "stdout",
     "output_type": "stream",
     "text": [
      "Processed 2000 files for Queen\n",
      "Processed 2000 files for Queenless\n",
      "Shape of MFCC features: (40,)\n",
      "DONE\n"
     ]
    }
   ],
   "source": [
    "test_path = '/Users/quanghuypham/Desktop/20k_audio_splitted_dataset/test/'\n",
    "test_save_path = '/Users/quanghuypham/Desktop/MFCC numpy 20k bee dataset/test/'\n",
    "os.makedirs(test_save_path, exist_ok=True)\n",
    "\n",
    "\n",
    "for category in categories:\n",
    "    count = 0\n",
    "    test_wav_files = [f for f in os.listdir(os.path.join(test_path, category)) if f.endswith('.wav')]\n",
    "    for test_wav_file in test_wav_files:\n",
    "        filename = os.path.join(test_path, category, test_wav_file)\n",
    "        mfcc_features = mfcc_extract(filename)\n",
    "        save_path = os.path.join(test_save_path, category, os.path.splitext(os.path.join(test_wav_file))[0] + '_mfcc.npy')\n",
    "        os.makedirs(os.path.dirname(save_path), exist_ok=True)\n",
    "        np.save(save_path, mfcc_features)\n",
    "        \n",
    "        count += 1\n",
    "    \n",
    "    print(f\"Processed {count} files for {category}\")\n",
    "chosen_wav_file = test_wav_files[0]\n",
    "filename = os.path.join(os.path.join(test_path, category), chosen_wav_file)\n",
    "mfcc_features = mfcc_extract(filename)\n",
    "\n",
    "print(\"Shape of MFCC features:\", mfcc_features.shape)\n",
    "print('DONE')"
   ]
  },
  {
   "cell_type": "code",
   "execution_count": 4,
   "id": "4b1113d3-a30b-4c70-a9c6-7cbe08b388f6",
   "metadata": {},
   "outputs": [
    {
     "name": "stdout",
     "output_type": "stream",
     "text": [
      "Processed 1000 files for Queen\n",
      "Processed 1000 files for Queenless\n",
      "Shape of MFCC features: (40,)\n",
      "DONE\n"
     ]
    }
   ],
   "source": [
    "val_path = '/Users/quanghuypham/Desktop/20k_audio_splitted_dataset/val/'\n",
    "val_save_path = '/Users/quanghuypham/Desktop/MFCC numpy 20k bee dataset/val/'\n",
    "os.makedirs(val_save_path, exist_ok=True)\n",
    "\n",
    "\n",
    "for category in categories:\n",
    "    count = 0\n",
    "    val_wav_files = [f for f in os.listdir(os.path.join(val_path, category)) if f.endswith('.wav')]\n",
    "    for val_wav_file in val_wav_files:\n",
    "        filename = os.path.join(val_path, category, val_wav_file)\n",
    "        mfcc_features = mfcc_extract(filename)\n",
    "        save_path = os.path.join(val_save_path, category, os.path.splitext(os.path.join(val_wav_file))[0] + '_mfcc.npy')\n",
    "        os.makedirs(os.path.dirname(save_path), exist_ok=True)\n",
    "        np.save(save_path, mfcc_features)\n",
    "        \n",
    "        count += 1\n",
    "    \n",
    "    print(f\"Processed {count} files for {category}\")\n",
    "chosen_wav_file = val_wav_files[0]\n",
    "filename = os.path.join(os.path.join(val_path, category), chosen_wav_file)\n",
    "mfcc_features = mfcc_extract(filename)\n",
    "\n",
    "print(\"Shape of MFCC features:\", mfcc_features.shape)\n",
    "print('DONE')\n"
   ]
  },
  {
   "cell_type": "code",
   "execution_count": 5,
   "id": "5ba159f9-c6bd-494e-b9e2-4de63b2d14df",
   "metadata": {},
   "outputs": [
    {
     "name": "stdout",
     "output_type": "stream",
     "text": [
      "164.78718328475952 s\n"
     ]
    }
   ],
   "source": [
    "t2= time.time()\n",
    "print(t2-t1, 's')"
   ]
  },
  {
   "cell_type": "code",
   "execution_count": null,
   "id": "fa4b3559-64a4-48a7-b96e-ce3216082585",
   "metadata": {},
   "outputs": [],
   "source": []
  }
 ],
 "metadata": {
  "kernelspec": {
   "display_name": "Python 3 (ipykernel)",
   "language": "python",
   "name": "python3"
  },
  "language_info": {
   "codemirror_mode": {
    "name": "ipython",
    "version": 3
   },
   "file_extension": ".py",
   "mimetype": "text/x-python",
   "name": "python",
   "nbconvert_exporter": "python",
   "pygments_lexer": "ipython3",
   "version": "3.9.13"
  }
 },
 "nbformat": 4,
 "nbformat_minor": 5
}
