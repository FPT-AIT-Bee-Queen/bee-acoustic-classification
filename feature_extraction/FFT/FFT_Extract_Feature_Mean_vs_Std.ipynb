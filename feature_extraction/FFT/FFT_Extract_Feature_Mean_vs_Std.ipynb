{
 "cells": [
  {
   "cell_type": "code",
   "execution_count": 1,
   "id": "a5182b15",
   "metadata": {
    "tags": []
   },
   "outputs": [],
   "source": [
    "import numpy as np\n",
    "import librosa\n",
    "import os\n",
    "import time"
   ]
  },
  {
   "cell_type": "code",
   "execution_count": 2,
   "id": "ce4faf78",
   "metadata": {
    "tags": []
   },
   "outputs": [],
   "source": [
    "def fft_extract(filename):\n",
    "  y, sr = librosa.load(filename, sr=16000)\n",
    "  fft = np.abs(np.fft.fft(y))\n",
    "  fft_feature = np.ndarray.flatten(fft)\n",
    "  return fft_feature"
   ]
  },
  {
   "cell_type": "code",
   "execution_count": 3,
   "id": "9cde8dc6",
   "metadata": {
    "tags": []
   },
   "outputs": [],
   "source": [
    "def window_slicing(array, window_size, number_of_windows, overlap):\n",
    "  windows = []\n",
    "  for i in range(0, number_of_windows):\n",
    "    start = i * window_size - overlap\n",
    "    end = start + window_size\n",
    "    if end > len(array):\n",
    "      end = len(array)\n",
    "    windows.append(array[start:end])\n",
    "  return windows"
   ]
  },
  {
   "cell_type": "code",
   "execution_count": 70,
   "id": "05048504",
   "metadata": {
    "tags": []
   },
   "outputs": [],
   "source": [
    "def feature_extract(windows):\n",
    "  features = []\n",
    "  for window in windows:\n",
    "    means = []\n",
    "    stds = []\n",
    "    for i in range(0, len(window)):\n",
    "      mean = np.mean(window[i])\n",
    "      std = np.std(window[i])\n",
    "      means.append(mean)\n",
    "      stds.append(std)\n",
    "    features.append(means)\n",
    "    features.append(stds)\n",
    "  return features"
   ]
  },
  {
   "cell_type": "code",
   "execution_count": 71,
   "id": "eb09f255",
   "metadata": {
    "tags": []
   },
   "outputs": [],
   "source": [
    "def get_feature(filename):\n",
    "    fft_npa = fft_extract(filename)\n",
    "    fft_ws = window_slicing(fft_npa, window_size = 500, number_of_windows = 64)\n",
    "    fft_feature = feature_extract(fft_ws)\n",
    "    final_feature = np.array(fft_feature)\n",
    "    final_feature = final_feature.reshape(final_feature.shape[0], final_feature.shape[1] * final_feature.shape[2])\n",
    "    return final_feature"
   ]
  },
  {
   "cell_type": "code",
   "execution_count": 57,
   "id": "fabaa588",
   "metadata": {
    "tags": []
   },
   "outputs": [],
   "source": [
    "def extract_features_from_folder(input_folder, output_folder):\n",
    "    os.makedirs(output_folder, exist_ok=True)\n",
    "\n",
    "    all_fft_features = []\n",
    "\n",
    "    wav_files = [f for f in os.listdir(input_folder) if f.endswith('.wav')]\n",
    "\n",
    "    for wav_file in wav_files:\n",
    "        filename = os.path.join(input_folder, wav_file)\n",
    "        fft_features = get_feature(filename)\n",
    "        all_fft_features.append(fft_features)\n",
    "\n",
    "    combined_save_path = os.path.join(output_folder, f'{os.path.basename(input_folder)}_fft.npy')\n",
    "    np.save(combined_save_path, np.array(all_fft_features))\n",
    "\n",
    "    return combined_save_path, len(all_fft_features)"
   ]
  },
  {
   "cell_type": "code",
   "execution_count": 16,
   "id": "40b95efe",
   "metadata": {},
   "outputs": [],
   "source": [
    "root_folder = 'data'\n",
    "\n",
    "subfolders = ['train', 'test', 'val']\n",
    "categories = ['Queen', 'Queenless']\n",
    "\n",
    "start_time = time.time()\n",
    "\n",
    "output_paths = []\n",
    "total_features = 0\n",
    "\n",
    "for subfolder in subfolders:\n",
    "    for category in categories:\n",
    "        input_folder = os.path.join(root_folder, subfolder, category)\n",
    "        output_folder = os.path.join('new_fft_npa11', subfolder, f'{category}_FFT')\n",
    "        output_path, num_features = extract_features_from_folder(input_folder, output_folder)\n",
    "        output_paths.append(output_path)\n",
    "        total_features += num_features\n",
    "\n",
    "end_time = time.time()\n",
    "total_time = end_time - start_time"
   ]
  },
  {
   "cell_type": "code",
   "execution_count": 17,
   "id": "8377cc90",
   "metadata": {},
   "outputs": [
    {
     "name": "stdout",
     "output_type": "stream",
     "text": [
      "Features saved at: new_fft_npa11\\train\\Queen_FFT\\Queen_fft.npy\n",
      "Features saved at: new_fft_npa11\\train\\Queenless_FFT\\Queenless_fft.npy\n",
      "Features saved at: new_fft_npa11\\test\\Queen_FFT\\Queen_fft.npy\n",
      "Features saved at: new_fft_npa11\\test\\Queenless_FFT\\Queenless_fft.npy\n",
      "Features saved at: new_fft_npa11\\val\\Queen_FFT\\Queen_fft.npy\n",
      "Features saved at: new_fft_npa11\\val\\Queenless_FFT\\Queenless_fft.npy\n",
      "Total features extracted using FFT: 20000\n",
      "Feature extraction completed in 165.66 seconds\n"
     ]
    }
   ],
   "source": [
    "for path in output_paths:\n",
    "    print(f'Features saved at: {path}')\n",
    "\n",
    "print(f'Total features extracted using FFT: {total_features}')\n",
    "print(f'Feature extraction completed in {total_time:.2f} seconds')"
   ]
  }
 ],
 "metadata": {
  "kernelspec": {
   "display_name": "Python 3 (ipykernel)",
   "language": "python",
   "name": "python3"
  },
  "language_info": {
   "codemirror_mode": {
    "name": "ipython",
    "version": 3
   },
   "file_extension": ".py",
   "mimetype": "text/x-python",
   "name": "python",
   "nbconvert_exporter": "python",
   "pygments_lexer": "ipython3",
   "version": "3.10.9"
  }
 },
 "nbformat": 4,
 "nbformat_minor": 5
}
