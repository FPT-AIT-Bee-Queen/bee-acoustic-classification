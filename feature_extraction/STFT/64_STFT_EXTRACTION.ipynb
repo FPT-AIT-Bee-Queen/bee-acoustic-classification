{
 "cells": [
  {
   "cell_type": "code",
   "execution_count": 1,
   "metadata": {},
   "outputs": [],
   "source": [
    "import os\n",
    "import librosa\n",
    "from datetime import datetime\n",
    "import numpy as np\n",
    "import pandas as pd\n",
    "import scipy"
   ]
  },
  {
   "cell_type": "code",
   "execution_count": 2,
   "metadata": {},
   "outputs": [],
   "source": [
    "os.chdir('E:\\Data')"
   ]
  },
  {
   "cell_type": "code",
   "execution_count": 3,
   "metadata": {},
   "outputs": [
    {
     "name": "stdout",
     "output_type": "stream",
     "text": [
      "E:\\Data/60k_audio_splitted_dataset/\n",
      "E:\\Data/mean_60k_64_features/\n"
     ]
    }
   ],
   "source": [
    "PATH = os.getcwd() + '/60k_audio_splitted_dataset/'\n",
    "SAVING_PATH = os.getcwd() + '/mean_60k_64_features/'\n",
    "print(PATH)\n",
    "print(SAVING_PATH)"
   ]
  },
  {
   "cell_type": "code",
   "execution_count": 4,
   "metadata": {},
   "outputs": [],
   "source": [
    "NAV_DIR = [\"train/Queen/\", \"train/Queenless/\", \"test/Queen/\", \"test/Queenless/\", \"val/Queen/\", \"val/Queenless/\"]"
   ]
  },
  {
   "cell_type": "code",
   "execution_count": 5,
   "metadata": {},
   "outputs": [],
   "source": [
    "def read_16k_mono(path):\n",
    "    y, sr = librosa.load(path, sr=16000, mono=True)\n",
    "    return y, sr"
   ]
  },
  {
   "cell_type": "code",
   "execution_count": 6,
   "metadata": {},
   "outputs": [],
   "source": [
    "def stft(y, n_fft, hop_length, win_length, window, center=True):\n",
    "    feature = librosa.stft(y, n_fft=n_fft, hop_length=hop_length, win_length=win_length, window = window, center=center)\n",
    "    # print(feature.shape)\n",
    "    feature_mean = np.mean(np.abs(feature).T,axis=0) \n",
    "    # feature_std=np.std(np.abs(feature).T,axis=0)\n",
    "    # feature_min=np.min(np.abs(feature).T,axis=1)\n",
    "    # feature_max=np.max(np.abs(feature).T,axis=1)\n",
    "    # feature_skew = skew(np.abs(feature).T,axis=1)\n",
    "    # feature_median = np.median(np.abs(feature).T,axis=1)\n",
    "    # feature = np.hstack((feature_mean,feature_std,feature_min,feature_max,feature_skew,feature_median))\n",
    "    feature = np.hstack((feature_mean))\n",
    "    return feature"
   ]
  },
  {
   "cell_type": "code",
   "execution_count": 7,
   "metadata": {},
   "outputs": [
    {
     "name": "stdout",
     "output_type": "stream",
     "text": [
      "STFT feature shape:  (64, 1)\n"
     ]
    }
   ],
   "source": [
    "FILE_PATH = os.listdir(PATH+ NAV_DIR[0])[0]\n",
    "y, sr = read_16k_mono(PATH + NAV_DIR[0] + FILE_PATH)\n",
    "feature = stft(y, n_fft=127, hop_length=None, win_length=None, window = \"hamming\")\n",
    "feature = feature.reshape(feature.shape[0], 1)\n",
    "print(\"STFT feature shape: \", feature.shape)"
   ]
  },
  {
   "cell_type": "markdown",
   "metadata": {},
   "source": [
    "**Why axis = 1 but still keep 126 columns??**"
   ]
  },
  {
   "cell_type": "code",
   "execution_count": 8,
   "metadata": {},
   "outputs": [],
   "source": [
    "def data_extract_stft(path):\n",
    "    data = []\n",
    "    print(\"Extracting data from \" + path)\n",
    "    for file in os.listdir(path):\n",
    "        if file.endswith(\".wav\"):\n",
    "            y, sr = read_16k_mono(path + file)\n",
    "            feature = stft(y, n_fft=127, hop_length=None, win_length=None, window = \"hamming\")\n",
    "            data.append(feature)\n",
    "    print(f\"Extracted {len(data)} files from {path}\")\n",
    "    return data"
   ]
  },
  {
   "cell_type": "code",
   "execution_count": 9,
   "metadata": {},
   "outputs": [
    {
     "name": "stdout",
     "output_type": "stream",
     "text": [
      "Extracting data from E:\\Data/60k_audio_splitted_dataset/train/Queen/\n",
      "Extracted 20000 files from E:\\Data/60k_audio_splitted_dataset/train/Queen/\n",
      "Extracting data from E:\\Data/60k_audio_splitted_dataset/train/Queenless/\n",
      "Extracted 19999 files from E:\\Data/60k_audio_splitted_dataset/train/Queenless/\n",
      "Extracting data from E:\\Data/60k_audio_splitted_dataset/test/Queen/\n",
      "Extracted 5000 files from E:\\Data/60k_audio_splitted_dataset/test/Queen/\n",
      "Extracting data from E:\\Data/60k_audio_splitted_dataset/test/Queenless/\n",
      "Extracted 5000 files from E:\\Data/60k_audio_splitted_dataset/test/Queenless/\n",
      "Extracting data from E:\\Data/60k_audio_splitted_dataset/val/Queen/\n",
      "Extracted 5000 files from E:\\Data/60k_audio_splitted_dataset/val/Queen/\n",
      "Extracting data from E:\\Data/60k_audio_splitted_dataset/val/Queenless/\n",
      "Extracted 5000 files from E:\\Data/60k_audio_splitted_dataset/val/Queenless/\n",
      "Extract time: 14.85 minutes\n"
     ]
    }
   ],
   "source": [
    "DATA = []\n",
    "time0 = datetime.now()\n",
    "for SUB_PATH in NAV_DIR:\n",
    "    sub_data = data_extract_stft(PATH + SUB_PATH)\n",
    "    DATA.append(sub_data)\n",
    "time1 = datetime.now()\n",
    "extract_time = (time1 - time0).seconds / 60\n",
    "print('Extract time: %.2f minutes' % extract_time)"
   ]
  },
  {
   "cell_type": "code",
   "execution_count": 10,
   "metadata": {},
   "outputs": [
    {
     "name": "stdout",
     "output_type": "stream",
     "text": [
      "(20000, 64)\n"
     ]
    }
   ],
   "source": [
    "print(np.array(DATA[0]).shape)"
   ]
  },
  {
   "cell_type": "code",
   "execution_count": 11,
   "metadata": {},
   "outputs": [
    {
     "name": "stdout",
     "output_type": "stream",
     "text": [
      "Saved Queen_STFT.npy\n",
      "Saved Queenless_STFT.npy\n",
      "Saved Queen_STFT.npy\n",
      "Saved Queenless_STFT.npy\n",
      "Saved Queen_STFT.npy\n",
      "Saved Queenless_STFT.npy\n"
     ]
    }
   ],
   "source": [
    "for index in range(len(DATA)):\n",
    "    np.save(SAVING_PATH + NAV_DIR[index] + NAV_DIR[index].split('/')[-2] + '_STFT.npy', np.array(DATA[index]))\n",
    "    print('Saved ' + NAV_DIR[index].split('/')[-2] + '_STFT.npy')"
   ]
  },
  {
   "cell_type": "code",
   "execution_count": null,
   "metadata": {},
   "outputs": [],
   "source": []
  },
  {
   "cell_type": "code",
   "execution_count": null,
   "metadata": {},
   "outputs": [],
   "source": []
  }
 ],
 "metadata": {
  "kernelspec": {
   "display_name": "Python 3 (ipykernel)",
   "language": "python",
   "name": "python3"
  },
  "language_info": {
   "codemirror_mode": {
    "name": "ipython",
    "version": 3
   },
   "file_extension": ".py",
   "mimetype": "text/x-python",
   "name": "python",
   "nbconvert_exporter": "python",
   "pygments_lexer": "ipython3",
   "version": "3.9.16"
  }
 },
 "nbformat": 4,
 "nbformat_minor": 4
}
